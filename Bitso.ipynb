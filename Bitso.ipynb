{
 "cells": [
  {
   "cell_type": "markdown",
   "metadata": {},
   "source": [
    "# Bitso"
   ]
  },
  {
   "cell_type": "code",
   "execution_count": 1,
   "metadata": {},
   "outputs": [],
   "source": [
    "import bitso"
   ]
  },
  {
   "cell_type": "code",
   "execution_count": 21,
   "metadata": {},
   "outputs": [],
   "source": [
    "# Reading Bitso Token\n",
    "# Use a .txt file in your path named token. In the first line place\n",
    "# your API_SECRET provided by Bitso and in the second line your \n",
    "# API_KEY provided by Bitso too\n",
    "path = 'token.txt'\n",
    "token = open(path,'r+')\n",
    "lines=token.readlines()\n",
    "API_SECRET=lines[0].replace('\\n','')\n",
    "API_KEY=lines[1].replace('\\n','')"
   ]
  },
  {
   "cell_type": "code",
   "execution_count": 92,
   "metadata": {},
   "outputs": [],
   "source": [
    "api = bitso.Api(API_KEY, API_SECRET)"
   ]
  },
  {
   "cell_type": "markdown",
   "metadata": {},
   "source": [
    "## Public Information"
   ]
  },
  {
   "cell_type": "code",
   "execution_count": 4,
   "metadata": {},
   "outputs": [
    {
     "data": {
      "text/plain": [
       "AvilableBooks(books=btc_mxn,eth_btc,eth_mxn,xrp_btc,xrp_mxn,ltc_btc,ltc_mxn,bch_btc,bch_mxn,tusd_btc,tusd_mxn,mana_btc,mana_mxn,gnt_btc,gnt_mxn,bat_btc,bat_mxn,btc_ars,btc_dai,dai_mxn,btc_usd)"
      ]
     },
     "execution_count": 4,
     "metadata": {},
     "output_type": "execute_result"
    }
   ],
   "source": [
    "books = api.available_books()\n",
    "books"
   ]
  },
  {
   "cell_type": "markdown",
   "metadata": {},
   "source": [
    "### Ticker"
   ]
  },
  {
   "cell_type": "code",
   "execution_count": 5,
   "metadata": {},
   "outputs": [
    {
     "data": {
      "text/plain": [
       "Ticker(book=btc_mxn,ask=209983.76,bid=209970.00, high=210899.82, last=209983.76, low=207710.19, volume=130.74836668, created_at=2020-07-13 22:48:59+00:00, vwap=209222.1229831473)"
      ]
     },
     "execution_count": 5,
     "metadata": {},
     "output_type": "execute_result"
    }
   ],
   "source": [
    "tick = api.ticker('btc_mxn')\n",
    "tick"
   ]
  },
  {
   "cell_type": "markdown",
   "metadata": {},
   "source": [
    "### Order Book"
   ]
  },
  {
   "cell_type": "code",
   "execution_count": 6,
   "metadata": {},
   "outputs": [
    {
     "data": {
      "text/plain": [
       "OrderBook(50 asks, 50 bids, updated_at=2020-07-13 22:49:41+00:00)"
      ]
     },
     "execution_count": 6,
     "metadata": {},
     "output_type": "execute_result"
    }
   ],
   "source": [
    "ob = api.order_book('btc_mxn')\n",
    "ob"
   ]
  },
  {
   "cell_type": "code",
   "execution_count": 7,
   "metadata": {},
   "outputs": [
    {
     "data": {
      "text/plain": [
       "[PublicOrder(book=btc_mxn,price=209970.00, amount=0.00254546),\n",
       " PublicOrder(book=btc_mxn,price=209465.27, amount=0.87370587),\n",
       " PublicOrder(book=btc_mxn,price=209465.06, amount=1.00000000),\n",
       " PublicOrder(book=btc_mxn,price=209413.03, amount=0.03103452),\n",
       " PublicOrder(book=btc_mxn,price=209386.80, amount=0.00008997),\n",
       " PublicOrder(book=btc_mxn,price=209369.00, amount=0.00071644),\n",
       " PublicOrder(book=btc_mxn,price=209365.27, amount=10.00000000),\n",
       " PublicOrder(book=btc_mxn,price=209168.03, amount=20.00000000),\n",
       " PublicOrder(book=btc_mxn,price=209165.42, amount=1.04690000),\n",
       " PublicOrder(book=btc_mxn,price=209000.00, amount=0.00500000)]"
      ]
     },
     "execution_count": 7,
     "metadata": {},
     "output_type": "execute_result"
    }
   ],
   "source": [
    "ob.bids[:10]"
   ]
  },
  {
   "cell_type": "markdown",
   "metadata": {},
   "source": [
    "### Trades"
   ]
  },
  {
   "cell_type": "code",
   "execution_count": 8,
   "metadata": {},
   "outputs": [
    {
     "data": {
      "text/plain": [
       "[Trade(tid=16476857, price=209983.76, amount=0.01853477, maker_side=sell, created_at=2020-07-13 22:48:37+00:00),\n",
       " Trade(tid=16476856, price=209983.76, amount=0.00018768, maker_side=sell, created_at=2020-07-13 22:48:35+00:00),\n",
       " Trade(tid=16476853, price=209983.76, amount=0.00195253, maker_side=sell, created_at=2020-07-13 22:48:28+00:00),\n",
       " Trade(tid=16476852, price=209983.76, amount=0.01619649, maker_side=sell, created_at=2020-07-13 22:48:26+00:00),\n",
       " Trade(tid=16476850, price=209983.76, amount=0.00948062, maker_side=sell, created_at=2020-07-13 22:48:13+00:00),\n",
       " Trade(tid=16476844, price=209970.00, amount=0.00269262, maker_side=buy, created_at=2020-07-13 22:47:48+00:00),\n",
       " Trade(tid=16476841, price=209983.76, amount=0.01952532, maker_side=sell, created_at=2020-07-13 22:47:39+00:00),\n",
       " Trade(tid=16476840, price=209970.00, amount=0.00020614, maker_side=buy, created_at=2020-07-13 22:47:35+00:00),\n",
       " Trade(tid=16476830, price=209983.76, amount=0.00571473, maker_side=sell, created_at=2020-07-13 22:47:18+00:00),\n",
       " Trade(tid=16476824, price=209983.76, amount=0.00238114, maker_side=sell, created_at=2020-07-13 22:47:01+00:00)]"
      ]
     },
     "execution_count": 8,
     "metadata": {},
     "output_type": "execute_result"
    }
   ],
   "source": [
    "trades = api.trades('btc_mxn')\n",
    "trades[:10]"
   ]
  },
  {
   "cell_type": "markdown",
   "metadata": {},
   "source": [
    "## Private"
   ]
  },
  {
   "cell_type": "markdown",
   "metadata": {},
   "source": [
    "### Account Status"
   ]
  },
  {
   "cell_type": "code",
   "execution_count": null,
   "metadata": {},
   "outputs": [],
   "source": [
    "status = api.account_status()\n",
    "status"
   ]
  },
  {
   "cell_type": "code",
   "execution_count": null,
   "metadata": {},
   "outputs": [],
   "source": [
    "status.daily_limit"
   ]
  },
  {
   "cell_type": "code",
   "execution_count": null,
   "metadata": {},
   "outputs": [],
   "source": [
    "status.daily_remaining"
   ]
  },
  {
   "cell_type": "markdown",
   "metadata": {},
   "source": [
    "### Balances"
   ]
  },
  {
   "cell_type": "code",
   "execution_count": 27,
   "metadata": {},
   "outputs": [
    {
     "data": {
      "text/plain": [
       "Balances(currencies=bat,bch,btc,dai,eth,gnt,ltc,mana,tusd,xrp,ars,mxn,usd)"
      ]
     },
     "execution_count": 27,
     "metadata": {},
     "output_type": "execute_result"
    }
   ],
   "source": [
    "balances = api.balances()\n",
    "balances"
   ]
  },
  {
   "cell_type": "code",
   "execution_count": 28,
   "metadata": {},
   "outputs": [
    {
     "data": {
      "text/plain": [
       "Balance(name=xrp, total=3.9E-7)"
      ]
     },
     "execution_count": 28,
     "metadata": {},
     "output_type": "execute_result"
    }
   ],
   "source": [
    "balances.xrp"
   ]
  },
  {
   "cell_type": "code",
   "execution_count": 29,
   "metadata": {},
   "outputs": [
    {
     "data": {
      "text/plain": [
       "'xrp'"
      ]
     },
     "execution_count": 29,
     "metadata": {},
     "output_type": "execute_result"
    }
   ],
   "source": [
    "balances.xrp.name"
   ]
  },
  {
   "cell_type": "code",
   "execution_count": null,
   "metadata": {},
   "outputs": [],
   "source": [
    "balances.mxn.available"
   ]
  },
  {
   "cell_type": "code",
   "execution_count": null,
   "metadata": {},
   "outputs": [],
   "source": [
    "balances.mxn.total"
   ]
  },
  {
   "cell_type": "markdown",
   "metadata": {},
   "source": [
    "### Fees"
   ]
  },
  {
   "cell_type": "code",
   "execution_count": 32,
   "metadata": {},
   "outputs": [
    {
     "data": {
      "text/plain": [
       "Fees(books=btc_mxn,eth_btc,eth_mxn,xrp_btc,xrp_mxn,ltc_btc,ltc_mxn,bch_btc,bch_mxn,tusd_btc,tusd_mxn,mana_btc,mana_mxn,gnt_btc,gnt_mxn,bat_btc,bat_mxn,btc_ars,btc_dai,dai_mxn,btc_usd,withdrawal_fees=dai,eth,bat,gnt,mana,xrp,btc,ltc,tusd,mxn,ars,bch)"
      ]
     },
     "execution_count": 32,
     "metadata": {},
     "output_type": "execute_result"
    }
   ],
   "source": [
    "fees = api.fees()\n",
    "fees"
   ]
  },
  {
   "cell_type": "code",
   "execution_count": 33,
   "metadata": {},
   "outputs": [
    {
     "data": {
      "text/plain": [
       "Fee(book=xrp_mxn, fee_percent=0.6500)"
      ]
     },
     "execution_count": 33,
     "metadata": {},
     "output_type": "execute_result"
    }
   ],
   "source": [
    "fees.xrp_mxn"
   ]
  },
  {
   "cell_type": "code",
   "execution_count": 34,
   "metadata": {},
   "outputs": [
    {
     "data": {
      "text/plain": [
       "Decimal('0.6500')"
      ]
     },
     "execution_count": 34,
     "metadata": {},
     "output_type": "execute_result"
    }
   ],
   "source": [
    "fees.xrp_mxn.fee_percent"
   ]
  },
  {
   "cell_type": "markdown",
   "metadata": {},
   "source": [
    "### Ledger (Operations)"
   ]
  },
  {
   "cell_type": "code",
   "execution_count": 35,
   "metadata": {},
   "outputs": [],
   "source": [
    "ledger = api.ledger(limit=100)"
   ]
  },
  {
   "cell_type": "code",
   "execution_count": 36,
   "metadata": {},
   "outputs": [
    {
     "data": {
      "text/plain": [
       "100"
      ]
     },
     "execution_count": 36,
     "metadata": {},
     "output_type": "execute_result"
    }
   ],
   "source": [
    "len(ledger)"
   ]
  },
  {
   "cell_type": "code",
   "execution_count": 37,
   "metadata": {},
   "outputs": [
    {
     "data": {
      "text/plain": [
       "[BalanceUpdate(currency=mxn, amount=1000.00000000,\n",
       " BalanceUpdate(currency=btc, amount=-0.00473934]"
      ]
     },
     "execution_count": 37,
     "metadata": {},
     "output_type": "execute_result"
    }
   ],
   "source": [
    "ledger[99].balance_updates"
   ]
  },
  {
   "cell_type": "markdown",
   "metadata": {},
   "source": [
    "### Withdrawals"
   ]
  },
  {
   "cell_type": "code",
   "execution_count": 38,
   "metadata": {},
   "outputs": [],
   "source": [
    "withdrawals = api.withdrawals()"
   ]
  },
  {
   "cell_type": "code",
   "execution_count": null,
   "metadata": {},
   "outputs": [],
   "source": [
    "withdrawals"
   ]
  },
  {
   "cell_type": "markdown",
   "metadata": {},
   "source": [
    "### Fundings"
   ]
  },
  {
   "cell_type": "code",
   "execution_count": 51,
   "metadata": {},
   "outputs": [],
   "source": [
    "fundings = api.fundings()"
   ]
  },
  {
   "cell_type": "code",
   "execution_count": null,
   "metadata": {},
   "outputs": [],
   "source": [
    "fundings"
   ]
  },
  {
   "cell_type": "markdown",
   "metadata": {},
   "source": [
    "### User Trades"
   ]
  },
  {
   "cell_type": "code",
   "execution_count": 63,
   "metadata": {},
   "outputs": [],
   "source": [
    "utx = api.user_trades()"
   ]
  },
  {
   "cell_type": "code",
   "execution_count": null,
   "metadata": {},
   "outputs": [],
   "source": [
    "utx"
   ]
  },
  {
   "cell_type": "markdown",
   "metadata": {},
   "source": [
    "### Open Orders"
   ]
  },
  {
   "cell_type": "code",
   "execution_count": 66,
   "metadata": {},
   "outputs": [],
   "source": [
    "oo = api.open_orders('btc_mxn')"
   ]
  },
  {
   "cell_type": "code",
   "execution_count": null,
   "metadata": {},
   "outputs": [],
   "source": [
    "len(oo)"
   ]
  },
  {
   "cell_type": "code",
   "execution_count": null,
   "metadata": {},
   "outputs": [],
   "source": [
    "oo[0].oid"
   ]
  },
  {
   "cell_type": "markdown",
   "metadata": {},
   "source": [
    "### Lookup Order"
   ]
  },
  {
   "cell_type": "code",
   "execution_count": null,
   "metadata": {},
   "outputs": [],
   "source": [
    "ORDER_ID1\n",
    "ORDER_ID2\n",
    "orders = api.lookup_order([ORDER_ID1, ORDER_ID2])"
   ]
  },
  {
   "cell_type": "markdown",
   "metadata": {},
   "source": [
    "### Cancel Order"
   ]
  },
  {
   "cell_type": "code",
   "execution_count": null,
   "metadata": {},
   "outputs": [],
   "source": [
    "#api.cancel_order(ORDER_ID)\n",
    "api.cancel_order()"
   ]
  },
  {
   "cell_type": "markdown",
   "metadata": {},
   "source": [
    "### Place Order\n",
    "Caution !!!\n",
    "Look twice the market prices if you are trying. the order is place inmediatly if you are properly connected"
   ]
  },
  {
   "cell_type": "code",
   "execution_count": null,
   "metadata": {},
   "outputs": [],
   "source": [
    "# Buying with major: means setting the mxn (price) of btc I want and how many btc do I want(major) for that money\n",
    "order = api.place_order(book='btc_mxn', side='buy', order_type='limit', major='.01', price='86000.00')"
   ]
  },
  {
   "cell_type": "markdown",
   "metadata": {},
   "source": [
    "## Own functions"
   ]
  },
  {
   "cell_type": "markdown",
   "metadata": {},
   "source": [
    "### Erasing all orders"
   ]
  },
  {
   "cell_type": "code",
   "execution_count": 70,
   "metadata": {},
   "outputs": [],
   "source": [
    "books={'Bitcoin':'btc_mxn',\n",
    "       'Ethereum':'eth_mxn',\n",
    "       'Ripple':'xrp_mxn',\n",
    "       'LTC':'ltc_mxn',\n",
    "       'Bitcoin Cash':'bch_mxn',\n",
    "       'True Dollar':'tusd_mxn',\n",
    "       'Mana':'mana_mxn',\n",
    "       'Golem':'gnt_mxn',\n",
    "       'BAT':'bat_mxn',\n",
    "       'DAI':'dai_mxn'}"
   ]
  },
  {
   "cell_type": "code",
   "execution_count": null,
   "metadata": {},
   "outputs": [],
   "source": [
    "for book in list(books):\n",
    "    oo = api.open_orders(books[book])\n",
    "    for i in range(len(oo)):\n",
    "        api.cancel_order(oo[i].oid)\n",
    "    print(len(oo), book, 'orders cancelled')"
   ]
  },
  {
   "cell_type": "markdown",
   "metadata": {},
   "source": [
    "## Look all orders"
   ]
  },
  {
   "cell_type": "code",
   "execution_count": 95,
   "metadata": {},
   "outputs": [],
   "source": [
    "def look_all_orders(verbose=False, number=True):\n",
    "    nOrd=0\n",
    "    orders=[]\n",
    "    for i in books:\n",
    "        oo = api.open_orders(books[i])\n",
    "        nOrd+=len(oo)\n",
    "        if len(oo)>0:\n",
    "            orders.append(oo)\n",
    "        \n",
    "        if verbose == True:\n",
    "            print(oo)\n",
    "    \n",
    "    if number == True:\n",
    "        print('Number of open orders:', nOrd)\n",
    "    \n",
    "    return orders"
   ]
  },
  {
   "cell_type": "code",
   "execution_count": null,
   "metadata": {},
   "outputs": [],
   "source": [
    "look_all_orders()"
   ]
  },
  {
   "cell_type": "code",
   "execution_count": 104,
   "metadata": {},
   "outputs": [],
   "source": [
    " oo = api.open_orders(books['BAT'])"
   ]
  },
  {
   "cell_type": "code",
   "execution_count": null,
   "metadata": {},
   "outputs": [],
   "source": [
    "oo"
   ]
  },
  {
   "cell_type": "markdown",
   "metadata": {},
   "source": [
    "### Possible Usefull functions:\n",
    "    Erase All Buy Orders\n",
    "    Erase All Sell Orders\n",
    "    Erase Some Buy Orders\n",
    "    Erase Some Sell Orders"
   ]
  }
 ],
 "metadata": {
  "kernelspec": {
   "display_name": "Python 3",
   "language": "python",
   "name": "python3"
  },
  "language_info": {
   "codemirror_mode": {
    "name": "ipython",
    "version": 3
   },
   "file_extension": ".py",
   "mimetype": "text/x-python",
   "name": "python",
   "nbconvert_exporter": "python",
   "pygments_lexer": "ipython3",
   "version": "3.7.7"
  }
 },
 "nbformat": 4,
 "nbformat_minor": 4
}
