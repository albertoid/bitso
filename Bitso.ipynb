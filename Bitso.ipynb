{
 "cells": [
  {
   "cell_type": "markdown",
   "metadata": {},
   "source": [
    "# Bitso"
   ]
  },
  {
   "cell_type": "code",
   "execution_count": 2,
   "metadata": {},
   "outputs": [],
   "source": [
    "import bitso"
   ]
  },
  {
   "cell_type": "code",
   "execution_count": 20,
   "metadata": {},
   "outputs": [],
   "source": [
    "# Reading Bitso Token\n",
    "# Use a .txt file in your path named token. In the first line place\n",
    "# your API_SECRET provided by Bitso and in the second line your \n",
    "# API_KEY provided by Bitso too\n",
    "path = 'token.txt'\n",
    "token = open(path,'r+')\n",
    "lines=token.readlines()\n",
    "API_SECRET=lines[0].replace('\\n','')\n",
    "API_KEY=lines[1]"
   ]
  },
  {
   "cell_type": "code",
   "execution_count": 21,
   "metadata": {},
   "outputs": [],
   "source": [
    "api = bitso.Api(API_KEY, API_SECRET)"
   ]
  },
  {
   "cell_type": "markdown",
   "metadata": {},
   "source": [
    "## Public Information"
   ]
  },
  {
   "cell_type": "code",
   "execution_count": 22,
   "metadata": {},
   "outputs": [
    {
     "data": {
      "text/plain": [
       "AvilableBooks(books=btc_mxn,eth_btc,eth_mxn,xrp_btc,xrp_mxn,ltc_btc,ltc_mxn,bch_btc,bch_mxn,tusd_btc,tusd_mxn,mana_btc,mana_mxn,gnt_btc,gnt_mxn,bat_btc,bat_mxn,btc_ars,btc_dai,dai_mxn,btc_usd)"
      ]
     },
     "execution_count": 22,
     "metadata": {},
     "output_type": "execute_result"
    }
   ],
   "source": [
    "books = api.available_books()\n",
    "books"
   ]
  },
  {
   "cell_type": "markdown",
   "metadata": {},
   "source": [
    "### Ticker"
   ]
  },
  {
   "cell_type": "code",
   "execution_count": 162,
   "metadata": {},
   "outputs": [
    {
     "data": {
      "text/plain": [
       "Ticker(book=btc_mxn,ask=233532.96,bid=233027.82, high=239000.00, last=233102.56, low=224500.01, volume=569.57933925, created_at=2020-05-15 01:22:31+00:00, vwap=232646.4944874337)"
      ]
     },
     "execution_count": 162,
     "metadata": {},
     "output_type": "execute_result"
    }
   ],
   "source": [
    "tick = api.ticker('btc_mxn')\n",
    "tick"
   ]
  },
  {
   "cell_type": "markdown",
   "metadata": {},
   "source": [
    "### Order Book"
   ]
  },
  {
   "cell_type": "code",
   "execution_count": 168,
   "metadata": {},
   "outputs": [
    {
     "data": {
      "text/plain": [
       "OrderBook(50 asks, 50 bids, updated_at=2020-05-15 01:28:17+00:00)"
      ]
     },
     "execution_count": 168,
     "metadata": {},
     "output_type": "execute_result"
    }
   ],
   "source": [
    "ob = api.order_book('btc_mxn')\n",
    "ob"
   ]
  },
  {
   "cell_type": "code",
   "execution_count": 170,
   "metadata": {},
   "outputs": [
    {
     "data": {
      "text/plain": [
       "[PublicOrder(book=btc_mxn,price=233400.00, amount=0.00053959),\n",
       " PublicOrder(book=btc_mxn,price=233349.42, amount=0.00021428),\n",
       " PublicOrder(book=btc_mxn,price=233263.56, amount=0.78201285),\n",
       " PublicOrder(book=btc_mxn,price=233263.55, amount=1.00000000),\n",
       " PublicOrder(book=btc_mxn,price=233261.03, amount=10.00000000),\n",
       " PublicOrder(book=btc_mxn,price=233102.00, amount=0.00021450),\n",
       " PublicOrder(book=btc_mxn,price=233000.02, amount=0.12446346),\n",
       " PublicOrder(book=btc_mxn,price=233000.01, amount=0.01171034),\n",
       " PublicOrder(book=btc_mxn,price=233000.00, amount=0.00124464),\n",
       " PublicOrder(book=btc_mxn,price=232994.45, amount=30.00000000)]"
      ]
     },
     "execution_count": 170,
     "metadata": {},
     "output_type": "execute_result"
    }
   ],
   "source": [
    "ob.bids[:10]"
   ]
  },
  {
   "cell_type": "markdown",
   "metadata": {},
   "source": [
    "### Trades"
   ]
  },
  {
   "cell_type": "code",
   "execution_count": 173,
   "metadata": {},
   "outputs": [
    {
     "data": {
      "text/plain": [
       "[Trade(tid=15604116, price=233333.63, amount=0.02047001, maker_side=buy, created_at=2020-05-15 01:29:21+00:00),\n",
       " Trade(tid=15604115, price=233529.96, amount=0.00021411, maker_side=sell, created_at=2020-05-15 01:28:50+00:00),\n",
       " Trade(tid=15604114, price=233529.96, amount=0.00021411, maker_side=sell, created_at=2020-05-15 01:28:48+00:00),\n",
       " Trade(tid=15604113, price=233333.63, amount=0.02140569, maker_side=buy, created_at=2020-05-15 01:28:36+00:00),\n",
       " Trade(tid=15604112, price=233349.42, amount=0.00016304, maker_side=buy, created_at=2020-05-15 01:28:36+00:00),\n",
       " Trade(tid=15604111, price=233529.96, amount=0.00045610, maker_side=sell, created_at=2020-05-15 01:28:29+00:00),\n",
       " Trade(tid=15604109, price=233349.42, amount=0.00005124, maker_side=buy, created_at=2020-05-15 01:28:20+00:00),\n",
       " Trade(tid=15604108, price=233400.00, amount=0.00053959, maker_side=buy, created_at=2020-05-15 01:28:20+00:00),\n",
       " Trade(tid=15604106, price=233529.96, amount=0.04068001, maker_side=sell, created_at=2020-05-15 01:28:17+00:00),\n",
       " Trade(tid=15604104, price=233400.00, amount=0.00004313, maker_side=buy, created_at=2020-05-15 01:28:16+00:00)]"
      ]
     },
     "execution_count": 173,
     "metadata": {},
     "output_type": "execute_result"
    }
   ],
   "source": [
    "trades = api.trades('btc_mxn')\n",
    "trades[:10]"
   ]
  },
  {
   "cell_type": "markdown",
   "metadata": {},
   "source": [
    "## Private"
   ]
  },
  {
   "cell_type": "markdown",
   "metadata": {},
   "source": [
    "### Account Status"
   ]
  },
  {
   "cell_type": "code",
   "execution_count": null,
   "metadata": {},
   "outputs": [],
   "source": [
    "status = api.account_status()\n",
    "status"
   ]
  },
  {
   "cell_type": "code",
   "execution_count": null,
   "metadata": {},
   "outputs": [],
   "source": [
    "status.daily_limit"
   ]
  },
  {
   "cell_type": "code",
   "execution_count": null,
   "metadata": {},
   "outputs": [],
   "source": [
    "status.daily_remaining"
   ]
  },
  {
   "cell_type": "markdown",
   "metadata": {},
   "source": [
    "### Balances"
   ]
  },
  {
   "cell_type": "code",
   "execution_count": 32,
   "metadata": {},
   "outputs": [
    {
     "data": {
      "text/plain": [
       "Balances(currencies=bat,bch,btc,dai,eth,gnt,ltc,mana,tusd,xrp,ars,mxn,usd)"
      ]
     },
     "execution_count": 32,
     "metadata": {},
     "output_type": "execute_result"
    }
   ],
   "source": [
    "balances = api.balances()\n",
    "balances"
   ]
  },
  {
   "cell_type": "code",
   "execution_count": 33,
   "metadata": {},
   "outputs": [
    {
     "data": {
      "text/plain": [
       "Balance(name=xrp, total=20.00000090)"
      ]
     },
     "execution_count": 33,
     "metadata": {},
     "output_type": "execute_result"
    }
   ],
   "source": [
    "balances.xrp"
   ]
  },
  {
   "cell_type": "code",
   "execution_count": 46,
   "metadata": {},
   "outputs": [
    {
     "data": {
      "text/plain": [
       "'xrp'"
      ]
     },
     "execution_count": 46,
     "metadata": {},
     "output_type": "execute_result"
    }
   ],
   "source": [
    "balances.xrp.name"
   ]
  },
  {
   "cell_type": "code",
   "execution_count": 111,
   "metadata": {},
   "outputs": [
    {
     "data": {
      "text/plain": [
       "Decimal('48579.14622216')"
      ]
     },
     "execution_count": 111,
     "metadata": {},
     "output_type": "execute_result"
    }
   ],
   "source": [
    "balances.mxn.available"
   ]
  },
  {
   "cell_type": "code",
   "execution_count": 112,
   "metadata": {},
   "outputs": [
    {
     "data": {
      "text/plain": [
       "Decimal('48579.14622216')"
      ]
     },
     "execution_count": 112,
     "metadata": {},
     "output_type": "execute_result"
    }
   ],
   "source": [
    "balances.mxn.total"
   ]
  },
  {
   "cell_type": "markdown",
   "metadata": {},
   "source": [
    "### Fees"
   ]
  },
  {
   "cell_type": "code",
   "execution_count": 51,
   "metadata": {},
   "outputs": [
    {
     "data": {
      "text/plain": [
       "Fees(books=btc_mxn,eth_btc,eth_mxn,xrp_btc,xrp_mxn,ltc_btc,ltc_mxn,bch_btc,bch_mxn,tusd_btc,tusd_mxn,mana_btc,mana_mxn,gnt_btc,gnt_mxn,bat_btc,bat_mxn,btc_ars,btc_dai,dai_mxn,btc_usd,withdrawal_fees=bat,btc,ltc,tusd,mxn,bch,mana,dai,eth,gnt,xrp,ars)"
      ]
     },
     "execution_count": 51,
     "metadata": {},
     "output_type": "execute_result"
    }
   ],
   "source": [
    "fees = api.fees()\n",
    "fees"
   ]
  },
  {
   "cell_type": "code",
   "execution_count": 58,
   "metadata": {},
   "outputs": [
    {
     "data": {
      "text/plain": [
       "Fee(book=xrp_mxn, fee_percent=0.6500)"
      ]
     },
     "execution_count": 58,
     "metadata": {},
     "output_type": "execute_result"
    }
   ],
   "source": [
    "fees.xrp_mxn"
   ]
  },
  {
   "cell_type": "code",
   "execution_count": 59,
   "metadata": {},
   "outputs": [
    {
     "data": {
      "text/plain": [
       "Decimal('0.6500')"
      ]
     },
     "execution_count": 59,
     "metadata": {},
     "output_type": "execute_result"
    }
   ],
   "source": [
    "fees.xrp_mxn.fee_percent"
   ]
  },
  {
   "cell_type": "markdown",
   "metadata": {},
   "source": [
    "### Ledger (Operations)"
   ]
  },
  {
   "cell_type": "code",
   "execution_count": 76,
   "metadata": {},
   "outputs": [],
   "source": [
    "ledger = api.ledger(limit=100)"
   ]
  },
  {
   "cell_type": "code",
   "execution_count": 77,
   "metadata": {},
   "outputs": [
    {
     "data": {
      "text/plain": [
       "100"
      ]
     },
     "execution_count": 77,
     "metadata": {},
     "output_type": "execute_result"
    }
   ],
   "source": [
    "len(ledger)"
   ]
  },
  {
   "cell_type": "code",
   "execution_count": null,
   "metadata": {},
   "outputs": [],
   "source": [
    "ledger[99].balance_updates"
   ]
  },
  {
   "cell_type": "markdown",
   "metadata": {},
   "source": [
    "### Withdrawals"
   ]
  },
  {
   "cell_type": "code",
   "execution_count": 92,
   "metadata": {},
   "outputs": [],
   "source": [
    "withdrawals = api.withdrawals()"
   ]
  },
  {
   "cell_type": "code",
   "execution_count": 102,
   "metadata": {},
   "outputs": [
    {
     "data": {
      "text/plain": [
       "'btc'"
      ]
     },
     "execution_count": 102,
     "metadata": {},
     "output_type": "execute_result"
    }
   ],
   "source": [
    "withdrawals[0].currency"
   ]
  },
  {
   "cell_type": "markdown",
   "metadata": {},
   "source": [
    "### Fundings"
   ]
  },
  {
   "cell_type": "code",
   "execution_count": 100,
   "metadata": {},
   "outputs": [],
   "source": [
    "fundings = api.fundings()"
   ]
  },
  {
   "cell_type": "code",
   "execution_count": 103,
   "metadata": {},
   "outputs": [
    {
     "data": {
      "text/plain": [
       "'mxn'"
      ]
     },
     "execution_count": 103,
     "metadata": {},
     "output_type": "execute_result"
    }
   ],
   "source": [
    "fundings[0].currency"
   ]
  },
  {
   "cell_type": "markdown",
   "metadata": {},
   "source": [
    "### User Trades"
   ]
  },
  {
   "cell_type": "code",
   "execution_count": 104,
   "metadata": {},
   "outputs": [],
   "source": [
    "utx = api.user_trades()"
   ]
  },
  {
   "cell_type": "code",
   "execution_count": 106,
   "metadata": {},
   "outputs": [
    {
     "data": {
      "text/plain": [
       "UserTrade(tid=15053150, book=btc_mxn, price=186480.00, major=-0.00254766, minor=475.08763680)"
      ]
     },
     "execution_count": 106,
     "metadata": {},
     "output_type": "execute_result"
    }
   ],
   "source": [
    "utx[0]"
   ]
  },
  {
   "cell_type": "markdown",
   "metadata": {},
   "source": [
    "### Open Orders"
   ]
  },
  {
   "cell_type": "code",
   "execution_count": 131,
   "metadata": {},
   "outputs": [],
   "source": [
    "oo = api.open_orders('btc_mxn')"
   ]
  },
  {
   "cell_type": "code",
   "execution_count": 133,
   "metadata": {},
   "outputs": [
    {
     "data": {
      "text/plain": [
       "7"
      ]
     },
     "execution_count": 133,
     "metadata": {},
     "output_type": "execute_result"
    }
   ],
   "source": [
    "len(oo)"
   ]
  },
  {
   "cell_type": "code",
   "execution_count": null,
   "metadata": {},
   "outputs": [],
   "source": [
    "oo[0].oid"
   ]
  },
  {
   "cell_type": "markdown",
   "metadata": {},
   "source": [
    "### Lookup Order"
   ]
  },
  {
   "cell_type": "code",
   "execution_count": null,
   "metadata": {},
   "outputs": [],
   "source": [
    "ORDER_ID1\n",
    "ORDER_ID2\n",
    "orders = api.lookup_order([ORDER_ID1, ORDER_ID2])"
   ]
  },
  {
   "cell_type": "markdown",
   "metadata": {},
   "source": [
    "### Cancel Order"
   ]
  },
  {
   "cell_type": "code",
   "execution_count": null,
   "metadata": {},
   "outputs": [],
   "source": [
    "#api.cancel_order(ORDER_ID)\n",
    "api.cancel_order()"
   ]
  },
  {
   "cell_type": "markdown",
   "metadata": {},
   "source": [
    "### Place Order\n",
    "Caution !!!\n",
    "Look twice the market prices if you are trying. the order is place inmediatly if you are properly connected"
   ]
  },
  {
   "cell_type": "code",
   "execution_count": 142,
   "metadata": {},
   "outputs": [],
   "source": [
    "# Buying with major: means setting the mxn (price) of btc I want and how many btc do I want(major) for thar money\n",
    "order = api.place_order(book='btc_mxn', side='buy', order_type='limit', major='.01', price='86000.00')"
   ]
  },
  {
   "cell_type": "markdown",
   "metadata": {},
   "source": [
    "## Own functions"
   ]
  },
  {
   "cell_type": "markdown",
   "metadata": {},
   "source": [
    "### Erasing all orders"
   ]
  },
  {
   "cell_type": "code",
   "execution_count": 156,
   "metadata": {},
   "outputs": [],
   "source": [
    "books={'Bitcoin':'btc_mxn',\n",
    "       'Ethereum':'eth_mxn',\n",
    "       'Ripple':'xrp_mxn',\n",
    "       'LTC':'ltc_mxn',\n",
    "       'Bitcoin Cash':'bch_mxn',\n",
    "       'True Dollar':'tusd_mxn',\n",
    "       'Mana':'mana_mxn',\n",
    "       'Golem':'gnt_mxn',\n",
    "       'BAT':'bat_mxn',\n",
    "       'DAI':'dai_mxn'}"
   ]
  },
  {
   "cell_type": "code",
   "execution_count": 158,
   "metadata": {},
   "outputs": [
    {
     "name": "stdout",
     "output_type": "stream",
     "text": [
      "0 Bitcoin orders cancelled\n",
      "0 Ethereum orders cancelled\n",
      "0 Ripple orders cancelled\n",
      "0 LTC orders cancelled\n",
      "0 Bitcoin Cash orders cancelled\n",
      "0 True Dollar orders cancelled\n",
      "0 Mana orders cancelled\n",
      "0 Golem orders cancelled\n",
      "0 BAT orders cancelled\n",
      "0 DAI orders cancelled\n"
     ]
    }
   ],
   "source": [
    "for book in list(books):\n",
    "    oo = api.open_orders(books[book])\n",
    "    for i in range(len(oo)):\n",
    "        api.cancel_order(oo[i].oid)\n",
    "    print(len(oo), book, 'orders cancelled')"
   ]
  },
  {
   "cell_type": "code",
   "execution_count": 155,
   "metadata": {},
   "outputs": [
    {
     "data": {
      "text/plain": [
       "'btc_mxn'"
      ]
     },
     "execution_count": 155,
     "metadata": {},
     "output_type": "execute_result"
    }
   ],
   "source": [
    "booksd['Bitcoin']"
   ]
  },
  {
   "cell_type": "markdown",
   "metadata": {},
   "source": [
    "### Possible Usefull functions:\n",
    "    Erase All Buy Orders\n",
    "    Erase All Sell Orders\n",
    "    Erase Some Buy Orders\n",
    "    Erase Some Sell Orders"
   ]
  },
  {
   "cell_type": "code",
   "execution_count": null,
   "metadata": {},
   "outputs": [],
   "source": []
  },
  {
   "cell_type": "code",
   "execution_count": null,
   "metadata": {},
   "outputs": [],
   "source": []
  },
  {
   "cell_type": "code",
   "execution_count": null,
   "metadata": {},
   "outputs": [],
   "source": []
  }
 ],
 "metadata": {
  "kernelspec": {
   "display_name": "Python 3",
   "language": "python",
   "name": "python3"
  },
  "language_info": {
   "codemirror_mode": {
    "name": "ipython",
    "version": 3
   },
   "file_extension": ".py",
   "mimetype": "text/x-python",
   "name": "python",
   "nbconvert_exporter": "python",
   "pygments_lexer": "ipython3",
   "version": "3.7.7"
  }
 },
 "nbformat": 4,
 "nbformat_minor": 4
}
