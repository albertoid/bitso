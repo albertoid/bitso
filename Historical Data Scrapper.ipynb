{
 "cells": [
  {
   "cell_type": "code",
   "execution_count": 1,
   "metadata": {},
   "outputs": [],
   "source": [
    "#!pip3 install selenium\n",
    "#!pip3 install tqdm\n",
    "#!pip3 install ipywidgets\n",
    "#!jupyter nbextension enable --py widgetsnbextension"
   ]
  },
  {
   "cell_type": "code",
   "execution_count": 1,
   "metadata": {},
   "outputs": [],
   "source": [
    "import pandas as pd\n",
    "from datetime import datetime\n",
    "from datetime import date \n",
    "\n",
    "from time import sleep\n",
    "from tqdm.notebook import tqdm, trange\n",
    "\n",
    "from selenium import webdriver\n",
    "from selenium.webdriver.common.action_chains import ActionChains"
   ]
  },
  {
   "cell_type": "markdown",
   "metadata": {},
   "source": [
    "## Bitso Historical Live Scraping"
   ]
  },
  {
   "cell_type": "code",
   "execution_count": 3,
   "metadata": {},
   "outputs": [],
   "source": [
    "coins=['btc','eth','xrp','ltc','bch','tusd','mana','gnt','bat','dai']\n",
    "URLs={}\n",
    "for i in coins:\n",
    "    URLs.update({i:'https://bitso.com/trade/market/'+i+'/mxn'})"
   ]
  },
  {
   "cell_type": "code",
   "execution_count": 18,
   "metadata": {},
   "outputs": [],
   "source": [
    "def readscreen(test=False, verbose=False, database=[],order='asc',limitedStop=False, stopLimit=0):\n",
    "    try:\n",
    "        # Getting candels tags\n",
    "        tagsPath = driver.find_elements_by_tag_name('g')\n",
    "        candels=[]\n",
    "        for i in range(len(tagsPath)):\n",
    "            if tagsPath[i].get_attribute(\"aria-label\") != None and tagsPath[i].get_attribute(\"aria-label\").find('Price')==0:\n",
    "                #print(tagsPath[i].get_attribute(\"transform\"), tagsPath[i].get_attribute(\"aria-label\"))\n",
    "                candels.append(tagsPath[i])\n",
    "        print(\"\\n\",len(candels), 'Candels detected')\n",
    "\n",
    "        #Checking every candel by moving arround\n",
    "        nCandels = len(candels)\n",
    "        \n",
    "        if limitedStop==False:\n",
    "            steps=nCandels\n",
    "        else:\n",
    "            steps=stopLimit\n",
    "        \n",
    "        for i in trange(steps):\n",
    "            try:\n",
    "                action=ActionChains(driver)\n",
    "                if order == 'asc':\n",
    "                    action.move_to_element(candels[i])\n",
    "                elif order == 'des':\n",
    "                    action.move_to_element(candels[nCandels-i-1])\n",
    "                else:\n",
    "                    print('ERROR: Non order detected, use asc or des')\n",
    "                \n",
    "                action.perform()\n",
    "                #print(i, candels[i].get_attribute('aria-label'))\n",
    "                \n",
    "                #Getting info of every candel\n",
    "\n",
    "                voltag=driver.find_element_by_xpath('/html/body/div[1]/div/div[3]/div/div[1]/div/div/div[2]/div[2]/div/div/div/div')\n",
    "                volume=voltag.text\n",
    "\n",
    "                boxtags = driver.find_elements_by_tag_name('b')\n",
    "                i_open=boxtags[0].text\n",
    "                i_low=boxtags[1].text\n",
    "                i_high=boxtags[2].text\n",
    "                i_close=boxtags[3].text\n",
    "\n",
    "                datetag=driver.find_element_by_xpath('/html/body/div[1]/div/div[3]/div/div[1]/div/div/div[2]/div[1]/div/div/div[2]/div')\n",
    "                date_str=datetag.text\n",
    "                i_date=datetime.strptime(date_str,'%b %d, %Y')\n",
    "\n",
    "                day=[i_date,i_open,i_low,i_high,i_close,volume] #Register integration\n",
    "                \n",
    "                if test == False:\n",
    "                    database.append(day)\n",
    "\n",
    "                if verbose == True:\n",
    "                    print(day)\n",
    "            except:\n",
    "                print('The Candel',i,'Fails when was tried to read it')\n",
    "        return day[0].date() #Control date to finish the scanning of windows dates\n",
    "    except:\n",
    "            print('ERROR: Mayor Fail - Check the driver is initialized correctly')\n",
    "   "
   ]
  },
  {
   "cell_type": "code",
   "execution_count": 19,
   "metadata": {},
   "outputs": [],
   "source": [
    "def getScrollerPosition(si,sf):\n",
    "    xi,yi=int(si[si.find('(')+1:si.find(',')]),int(si[si.find(',')+1:si.find(')')])\n",
    "    xf,yf=int(sf[sf.find('(')+1:sf.find(',')]),int(sf[sf.find(',')+1:sf.find(')')])\n",
    "    return xi,yi,xf,yf"
   ]
  },
  {
   "cell_type": "code",
   "execution_count": 20,
   "metadata": {},
   "outputs": [],
   "source": [
    "def getScrollers():\n",
    "    #Getting the tags of the  scrollers for time periods\n",
    "    loaded=False\n",
    "    while loaded == False:\n",
    "        try:\n",
    "            scroll_tags = driver.find_elements_by_tag_name('g') #The scrollers are over the tag 'g'\n",
    "            scrollers=[]\n",
    "\n",
    "            for i in range(len(scroll_tags)):\n",
    "                role = scroll_tags[i].get_attribute(\"role\") # Scrollers has the exlusive attribute 'role'\n",
    "                if role != None:\n",
    "                    #print(scrollers[i].get_attribute(\"role\"), scrollers[i].get_attribute(\"transform\"))\n",
    "                    scrollers.append(scroll_tags[i])\n",
    "            loaded=True\n",
    "            if len(scrollers) == 2:\n",
    "                print('Scroller elements load successfully')\n",
    "            else:\n",
    "                print('Something went wrong with the scrollers')\n",
    "        except:\n",
    "            print('Loading scrollers...')\n",
    "    return scrollers"
   ]
  },
  {
   "cell_type": "code",
   "execution_count": 158,
   "metadata": {},
   "outputs": [],
   "source": [
    "def scrap(zeroi=-17, zerof=38, max_tries=3,offseti=1 ,offsetf=1,driver=0, wait_loading_time=0,verbose_rs=False, database_rs=[]):\n",
    "    \n",
    "    sleep(wait_loading_time)\n",
    "    #Checking where are the scrollers\n",
    "    si=scrollers[0].get_attribute(\"transform\")\n",
    "    sf=scrollers[1].get_attribute(\"transform\")\n",
    "\n",
    "    xi,yi,xf,yf=getScrollerPosition(si,sf)\n",
    "\n",
    "    step=zerof-zeroi\n",
    "\n",
    "    it=0\n",
    "    tries=0\n",
    "    loaded= False\n",
    "    \n",
    "    # Movig the scrollers for time periods\n",
    "    \n",
    "    try:\n",
    "        while loaded == False:\n",
    "            print('Fitting the area to scan', end=\"\")\n",
    "            while (xi != zeroi+step*it or xf != zerof+step*it) and tries < max_tries:\n",
    "                action=ActionChains(driver)\n",
    "                action.drag_and_drop_by_offset(scrollers[0],zeroi+step*it-xi-offseti,0)\n",
    "                action.drag_and_drop_by_offset(scrollers[1],zerof+step*it-xf+offsetf,0)\n",
    "                action.perform()\n",
    "                \n",
    "\n",
    "                si=scrollers[0].get_attribute(\"transform\")\n",
    "                sf=scrollers[1].get_attribute(\"transform\")\n",
    "                xi,yi,xf,yf=getScrollerPosition(si,sf)\n",
    "                sleep(1)\n",
    "                tries+=1\n",
    "                print('.',end=\"\")\n",
    "            \n",
    "            print(\"\")\n",
    "            sleep(1)\n",
    "            last_day=readscreen(database = database_rs, verbose=verbose_rs) ## Getting info function\n",
    "            it+=1\n",
    "            tries=0\n",
    "            print('Iteracion: ',it)\n",
    "            if last_day == date.today():\n",
    "                print('Space completed in ',it,'iterations')\n",
    "                loaded=True\n",
    "    except:\n",
    "        print('Space completed in ',it,'iterations [except]')\n",
    "    print('Scrap function completed')\n",
    "    "
   ]
  },
  {
   "cell_type": "code",
   "execution_count": 22,
   "metadata": {},
   "outputs": [],
   "source": [
    "def save(name,database=[]):\n",
    "    df=pd.DataFrame(database)\n",
    "    df=df.drop_duplicates()\n",
    "    df=df.reset_index()\n",
    "    df.rename(columns={0:'date',1:'open',2:'low',3:'high',4:'close',5:'volume'},inplace=True)\n",
    "    df=df.drop(columns='index')\n",
    "    df.to_csv('./'+name+'-mxn.csv',index=False)"
   ]
  },
  {
   "cell_type": "code",
   "execution_count": 23,
   "metadata": {},
   "outputs": [],
   "source": [
    "def loadWebpage(URL=''):\n",
    "    print('Opening browser...')\n",
    "    driver = webdriver.Firefox()\n",
    "    print('Opening ',URL)\n",
    "    driver.get(URL)\n",
    "    print('Maximizing window...')\n",
    "    driver.maximize_window()\n",
    "    print('Scrolling into graph...')\n",
    "    driver.execute_script(\"window.scrollTo(0, 200)\")\n",
    "    return driver"
   ]
  },
  {
   "cell_type": "markdown",
   "metadata": {},
   "source": [
    "## Scrapper"
   ]
  },
  {
   "cell_type": "code",
   "execution_count": 159,
   "metadata": {},
   "outputs": [
    {
     "name": "stdout",
     "output_type": "stream",
     "text": [
      "Opening browser...\n",
      "Opening  https://bitso.com/trade/market/dai/mxn\n",
      "Maximizing window...\n",
      "Scrolling into graph...\n",
      "Scroller elements load successfully\n",
      "Fitting the area to scan...\n",
      "\n",
      " 4 Candels detected\n"
     ]
    },
    {
     "data": {
      "application/vnd.jupyter.widget-view+json": {
       "model_id": "adc7ad276a8341ff8c1e1001f748ef7f",
       "version_major": 2,
       "version_minor": 0
      },
      "text/plain": [
       "HBox(children=(FloatProgress(value=0.0, max=4.0), HTML(value='')))"
      ]
     },
     "metadata": {},
     "output_type": "display_data"
    },
    {
     "name": "stdout",
     "output_type": "stream",
     "text": [
      "\n",
      "Iteracion:  1\n",
      "Fitting the area to scan...\n",
      "\n",
      " 8 Candels detected\n"
     ]
    },
    {
     "data": {
      "application/vnd.jupyter.widget-view+json": {
       "model_id": "97fd994873c24c658dbf3d4f42750e26",
       "version_major": 2,
       "version_minor": 0
      },
      "text/plain": [
       "HBox(children=(FloatProgress(value=0.0, max=8.0), HTML(value='')))"
      ]
     },
     "metadata": {},
     "output_type": "display_data"
    },
    {
     "name": "stdout",
     "output_type": "stream",
     "text": [
      "\n",
      "Iteracion:  2\n",
      "Fitting the area to scan...\n",
      "\n",
      " 13 Candels detected\n"
     ]
    },
    {
     "data": {
      "application/vnd.jupyter.widget-view+json": {
       "model_id": "1f77f4231f614cfa97e04e2db4c3af98",
       "version_major": 2,
       "version_minor": 0
      },
      "text/plain": [
       "HBox(children=(FloatProgress(value=0.0, max=13.0), HTML(value='')))"
      ]
     },
     "metadata": {},
     "output_type": "display_data"
    },
    {
     "name": "stdout",
     "output_type": "stream",
     "text": [
      "The Candel 6 Fails when was tried to read it\n",
      "The Candel 7 Fails when was tried to read it\n",
      "\n",
      "Iteracion:  3\n",
      "Fitting the area to scan.Space completed in  3 iterations [except]\n",
      "Scrap function completed\n",
      "dai  Scrapped succesfully\n"
     ]
    },
    {
     "ename": "NoSuchWindowException",
     "evalue": "Message: Browsing context has been discarded\n",
     "output_type": "error",
     "traceback": [
      "\u001b[0;31m---------------------------------------------------------------------------\u001b[0m",
      "\u001b[0;31mNoSuchWindowException\u001b[0m                     Traceback (most recent call last)",
      "\u001b[0;32m<ipython-input-159-3c993fdedf5f>\u001b[0m in \u001b[0;36m<module>\u001b[0;34m\u001b[0m\n\u001b[1;32m      7\u001b[0m     \u001b[0msave\u001b[0m\u001b[0;34m(\u001b[0m\u001b[0mi\u001b[0m\u001b[0;34m,\u001b[0m\u001b[0mdatabase\u001b[0m\u001b[0;34m)\u001b[0m\u001b[0;34m\u001b[0m\u001b[0;34m\u001b[0m\u001b[0m\n\u001b[1;32m      8\u001b[0m     \u001b[0mprint\u001b[0m\u001b[0;34m(\u001b[0m\u001b[0mi\u001b[0m\u001b[0;34m,\u001b[0m \u001b[0;34m' Scrapped succesfully'\u001b[0m\u001b[0;34m)\u001b[0m\u001b[0;34m\u001b[0m\u001b[0;34m\u001b[0m\u001b[0m\n\u001b[0;32m----> 9\u001b[0;31m     \u001b[0mdriver\u001b[0m\u001b[0;34m.\u001b[0m\u001b[0mclose\u001b[0m\u001b[0;34m(\u001b[0m\u001b[0;34m)\u001b[0m\u001b[0;34m\u001b[0m\u001b[0;34m\u001b[0m\u001b[0m\n\u001b[0m",
      "\u001b[0;32m/usr/local/lib/python3.7/site-packages/selenium/webdriver/remote/webdriver.py\u001b[0m in \u001b[0;36mclose\u001b[0;34m(self)\u001b[0m\n\u001b[1;32m    686\u001b[0m             \u001b[0mdriver\u001b[0m\u001b[0;34m.\u001b[0m\u001b[0mclose\u001b[0m\u001b[0;34m(\u001b[0m\u001b[0;34m)\u001b[0m\u001b[0;34m\u001b[0m\u001b[0;34m\u001b[0m\u001b[0m\n\u001b[1;32m    687\u001b[0m         \"\"\"\n\u001b[0;32m--> 688\u001b[0;31m         \u001b[0mself\u001b[0m\u001b[0;34m.\u001b[0m\u001b[0mexecute\u001b[0m\u001b[0;34m(\u001b[0m\u001b[0mCommand\u001b[0m\u001b[0;34m.\u001b[0m\u001b[0mCLOSE\u001b[0m\u001b[0;34m)\u001b[0m\u001b[0;34m\u001b[0m\u001b[0;34m\u001b[0m\u001b[0m\n\u001b[0m\u001b[1;32m    689\u001b[0m \u001b[0;34m\u001b[0m\u001b[0m\n\u001b[1;32m    690\u001b[0m     \u001b[0;32mdef\u001b[0m \u001b[0mquit\u001b[0m\u001b[0;34m(\u001b[0m\u001b[0mself\u001b[0m\u001b[0;34m)\u001b[0m\u001b[0;34m:\u001b[0m\u001b[0;34m\u001b[0m\u001b[0;34m\u001b[0m\u001b[0m\n",
      "\u001b[0;32m/usr/local/lib/python3.7/site-packages/selenium/webdriver/remote/webdriver.py\u001b[0m in \u001b[0;36mexecute\u001b[0;34m(self, driver_command, params)\u001b[0m\n\u001b[1;32m    319\u001b[0m         \u001b[0mresponse\u001b[0m \u001b[0;34m=\u001b[0m \u001b[0mself\u001b[0m\u001b[0;34m.\u001b[0m\u001b[0mcommand_executor\u001b[0m\u001b[0;34m.\u001b[0m\u001b[0mexecute\u001b[0m\u001b[0;34m(\u001b[0m\u001b[0mdriver_command\u001b[0m\u001b[0;34m,\u001b[0m \u001b[0mparams\u001b[0m\u001b[0;34m)\u001b[0m\u001b[0;34m\u001b[0m\u001b[0;34m\u001b[0m\u001b[0m\n\u001b[1;32m    320\u001b[0m         \u001b[0;32mif\u001b[0m \u001b[0mresponse\u001b[0m\u001b[0;34m:\u001b[0m\u001b[0;34m\u001b[0m\u001b[0;34m\u001b[0m\u001b[0m\n\u001b[0;32m--> 321\u001b[0;31m             \u001b[0mself\u001b[0m\u001b[0;34m.\u001b[0m\u001b[0merror_handler\u001b[0m\u001b[0;34m.\u001b[0m\u001b[0mcheck_response\u001b[0m\u001b[0;34m(\u001b[0m\u001b[0mresponse\u001b[0m\u001b[0;34m)\u001b[0m\u001b[0;34m\u001b[0m\u001b[0;34m\u001b[0m\u001b[0m\n\u001b[0m\u001b[1;32m    322\u001b[0m             response['value'] = self._unwrap_value(\n\u001b[1;32m    323\u001b[0m                 response.get('value', None))\n",
      "\u001b[0;32m/usr/local/lib/python3.7/site-packages/selenium/webdriver/remote/errorhandler.py\u001b[0m in \u001b[0;36mcheck_response\u001b[0;34m(self, response)\u001b[0m\n\u001b[1;32m    240\u001b[0m                 \u001b[0malert_text\u001b[0m \u001b[0;34m=\u001b[0m \u001b[0mvalue\u001b[0m\u001b[0;34m[\u001b[0m\u001b[0;34m'alert'\u001b[0m\u001b[0;34m]\u001b[0m\u001b[0;34m.\u001b[0m\u001b[0mget\u001b[0m\u001b[0;34m(\u001b[0m\u001b[0;34m'text'\u001b[0m\u001b[0;34m)\u001b[0m\u001b[0;34m\u001b[0m\u001b[0;34m\u001b[0m\u001b[0m\n\u001b[1;32m    241\u001b[0m             \u001b[0;32mraise\u001b[0m \u001b[0mexception_class\u001b[0m\u001b[0;34m(\u001b[0m\u001b[0mmessage\u001b[0m\u001b[0;34m,\u001b[0m \u001b[0mscreen\u001b[0m\u001b[0;34m,\u001b[0m \u001b[0mstacktrace\u001b[0m\u001b[0;34m,\u001b[0m \u001b[0malert_text\u001b[0m\u001b[0;34m)\u001b[0m\u001b[0;34m\u001b[0m\u001b[0;34m\u001b[0m\u001b[0m\n\u001b[0;32m--> 242\u001b[0;31m         \u001b[0;32mraise\u001b[0m \u001b[0mexception_class\u001b[0m\u001b[0;34m(\u001b[0m\u001b[0mmessage\u001b[0m\u001b[0;34m,\u001b[0m \u001b[0mscreen\u001b[0m\u001b[0;34m,\u001b[0m \u001b[0mstacktrace\u001b[0m\u001b[0;34m)\u001b[0m\u001b[0;34m\u001b[0m\u001b[0;34m\u001b[0m\u001b[0m\n\u001b[0m\u001b[1;32m    243\u001b[0m \u001b[0;34m\u001b[0m\u001b[0m\n\u001b[1;32m    244\u001b[0m     \u001b[0;32mdef\u001b[0m \u001b[0m_value_or_default\u001b[0m\u001b[0;34m(\u001b[0m\u001b[0mself\u001b[0m\u001b[0;34m,\u001b[0m \u001b[0mobj\u001b[0m\u001b[0;34m,\u001b[0m \u001b[0mkey\u001b[0m\u001b[0;34m,\u001b[0m \u001b[0mdefault\u001b[0m\u001b[0;34m)\u001b[0m\u001b[0;34m:\u001b[0m\u001b[0;34m\u001b[0m\u001b[0;34m\u001b[0m\u001b[0m\n",
      "\u001b[0;31mNoSuchWindowException\u001b[0m: Message: Browsing context has been discarded\n"
     ]
    }
   ],
   "source": [
    "coins=['dai']\n",
    "for i in coins:\n",
    "    database=[]\n",
    "    driver = loadWebpage(URLs[i])\n",
    "    scrollers = getScrollers()\n",
    "    scrap(driver=driver,database_rs=database)\n",
    "    save(i,database)\n",
    "    print(i, ' Scrapped succesfully')\n",
    "    driver.close()"
   ]
  },
  {
   "cell_type": "markdown",
   "metadata": {},
   "source": [
    "## Daily Scraper"
   ]
  },
  {
   "cell_type": "code",
   "execution_count": 160,
   "metadata": {},
   "outputs": [
    {
     "name": "stdout",
     "output_type": "stream",
     "text": [
      "Opening browser...\n",
      "Opening  https://bitso.com/trade/market/dai/mxn\n",
      "Maximizing window...\n",
      "Scrolling into graph...\n",
      "Scroller elements load successfully\n",
      "\n",
      " 84 Candels detected\n"
     ]
    },
    {
     "data": {
      "application/vnd.jupyter.widget-view+json": {
       "model_id": "ece4c8a44860472a9528386d15545366",
       "version_major": 2,
       "version_minor": 0
      },
      "text/plain": [
       "HBox(children=(FloatProgress(value=0.0, max=73.0), HTML(value='')))"
      ]
     },
     "metadata": {},
     "output_type": "display_data"
    },
    {
     "name": "stdout",
     "output_type": "stream",
     "text": [
      "\n",
      "Base de datos de  dai -mxn actualizada correctamente\n"
     ]
    }
   ],
   "source": [
    "for i in coins:\n",
    "    # Revisar csv y obtener ultima fecha\n",
    "    try:\n",
    "        file=i+'-mxn.csv'\n",
    "        data=pd.read_csv(file)\n",
    "        lastdate=data.date[len(data)-1]\n",
    "\n",
    "        #Sacar la diferencia entre el último registro y el día actual\n",
    "        delta=(datetime.now()-datetime.strptime(lastdate,'%Y-%m-%d')).days +1\n",
    "\n",
    "        updates=[]\n",
    "\n",
    "        #Scraping Bitso\n",
    "        driver = loadWebpage(URLs[i])\n",
    "        scrollers = getScrollers()\n",
    "        readscreen(database=updates,order='des',limitedStop=True, stopLimit=delta)\n",
    "        driver.close()\n",
    "\n",
    "        #Pasando las actualizaciones a un Data Frame de pandas\n",
    "        ud=pd.DataFrame(updates)\n",
    "        #Ordenando las actualizaciones\n",
    "        ud=ud.sort_values(by=[0])\n",
    "        ud=ud.reset_index(drop=True)\n",
    "        #Colacando nombres a las columnas\n",
    "        ud.rename(columns={0:'date',1:'open',2:'low',3:'high',4:'close',5:'volume'},inplace=True)\n",
    "        #Pasando la fecha str para homogenizar\n",
    "        ud.date=ud.date.apply(lambda x: x.date().strftime('%Y-%m-%d'))\n",
    "\n",
    "        #Agregando las actualizaciones a la base de datos guardada\n",
    "        data=data.append(ud)\n",
    "        #Actualizando índices\n",
    "        data=data.reset_index(drop=True)\n",
    "        #Eliminando duplicados\n",
    "        data.date=data.date.drop_duplicates(keep='last')\n",
    "        data=data.dropna()\n",
    "        #Actualizando índices\n",
    "        data=data.reset_index(drop=True)\n",
    "        #Guarando base actualizada\n",
    "        save(i,data)\n",
    "        print('Base de datos de ', i, '-mxn actualizada correctamente')\n",
    "    except:\n",
    "        print('No se actualizó ', i, '-mxn')"
   ]
  },
  {
   "cell_type": "code",
   "execution_count": 144,
   "metadata": {},
   "outputs": [],
   "source": []
  },
  {
   "cell_type": "code",
   "execution_count": 119,
   "metadata": {},
   "outputs": [],
   "source": [
    "\n"
   ]
  },
  {
   "cell_type": "code",
   "execution_count": 139,
   "metadata": {},
   "outputs": [],
   "source": []
  },
  {
   "cell_type": "code",
   "execution_count": 142,
   "metadata": {},
   "outputs": [],
   "source": []
  },
  {
   "cell_type": "code",
   "execution_count": 134,
   "metadata": {},
   "outputs": [],
   "source": []
  },
  {
   "cell_type": "code",
   "execution_count": 137,
   "metadata": {},
   "outputs": [],
   "source": []
  },
  {
   "cell_type": "code",
   "execution_count": 143,
   "metadata": {},
   "outputs": [
    {
     "data": {
      "text/html": [
       "<div>\n",
       "<style scoped>\n",
       "    .dataframe tbody tr th:only-of-type {\n",
       "        vertical-align: middle;\n",
       "    }\n",
       "\n",
       "    .dataframe tbody tr th {\n",
       "        vertical-align: top;\n",
       "    }\n",
       "\n",
       "    .dataframe thead th {\n",
       "        text-align: right;\n",
       "    }\n",
       "</style>\n",
       "<table border=\"1\" class=\"dataframe\">\n",
       "  <thead>\n",
       "    <tr style=\"text-align: right;\">\n",
       "      <th></th>\n",
       "      <th>date</th>\n",
       "      <th>open</th>\n",
       "      <th>low</th>\n",
       "      <th>high</th>\n",
       "      <th>close</th>\n",
       "      <th>volume</th>\n",
       "    </tr>\n",
       "  </thead>\n",
       "  <tbody>\n",
       "    <tr>\n",
       "      <th>2245</th>\n",
       "      <td>2020-05-30</td>\n",
       "      <td>211,000</td>\n",
       "      <td>208,398.06</td>\n",
       "      <td>215,522.01</td>\n",
       "      <td>211,394.21</td>\n",
       "      <td>132.83518807</td>\n",
       "    </tr>\n",
       "    <tr>\n",
       "      <th>2246</th>\n",
       "      <td>2020-05-31</td>\n",
       "      <td>211,847.01</td>\n",
       "      <td>208,550</td>\n",
       "      <td>213,445.25</td>\n",
       "      <td>210,249.7</td>\n",
       "      <td>84.02252169</td>\n",
       "    </tr>\n",
       "    <tr>\n",
       "      <th>2247</th>\n",
       "      <td>2020-06-01</td>\n",
       "      <td>210,861.46</td>\n",
       "      <td>208,753.02</td>\n",
       "      <td>227,599.97</td>\n",
       "      <td>221,250</td>\n",
       "      <td>447.91268677</td>\n",
       "    </tr>\n",
       "    <tr>\n",
       "      <th>2248</th>\n",
       "      <td>2020-06-02</td>\n",
       "      <td>221,250.01</td>\n",
       "      <td>201,000</td>\n",
       "      <td>222,495.75</td>\n",
       "      <td>205,750.01</td>\n",
       "      <td>418.80262443</td>\n",
       "    </tr>\n",
       "    <tr>\n",
       "      <th>2249</th>\n",
       "      <td>2020-06-03</td>\n",
       "      <td>205,750.01</td>\n",
       "      <td>203,421.99</td>\n",
       "      <td>211,369.46</td>\n",
       "      <td>210,056.83</td>\n",
       "      <td>202.5265325</td>\n",
       "    </tr>\n",
       "    <tr>\n",
       "      <th>2250</th>\n",
       "      <td>2020-06-04</td>\n",
       "      <td>210,596.39</td>\n",
       "      <td>207,000</td>\n",
       "      <td>216,083.95</td>\n",
       "      <td>213,499.96</td>\n",
       "      <td>258.96446909</td>\n",
       "    </tr>\n",
       "    <tr>\n",
       "      <th>2251</th>\n",
       "      <td>2020-06-05</td>\n",
       "      <td>213,499.81</td>\n",
       "      <td>205,862.92</td>\n",
       "      <td>214,310.27</td>\n",
       "      <td>207,635</td>\n",
       "      <td>218.87402006</td>\n",
       "    </tr>\n",
       "    <tr>\n",
       "      <th>2252</th>\n",
       "      <td>2020-06-06</td>\n",
       "      <td>207,274.49</td>\n",
       "      <td>206,507.32</td>\n",
       "      <td>210,000</td>\n",
       "      <td>208,655.42</td>\n",
       "      <td>95.39676799</td>\n",
       "    </tr>\n",
       "    <tr>\n",
       "      <th>2253</th>\n",
       "      <td>2020-06-07</td>\n",
       "      <td>209,217.3</td>\n",
       "      <td>203,388</td>\n",
       "      <td>212,000</td>\n",
       "      <td>210,099.99</td>\n",
       "      <td>137.1433641</td>\n",
       "    </tr>\n",
       "    <tr>\n",
       "      <th>2254</th>\n",
       "      <td>2020-06-08</td>\n",
       "      <td>209,800</td>\n",
       "      <td>206,000</td>\n",
       "      <td>212,250</td>\n",
       "      <td>209,472.64</td>\n",
       "      <td>245.6492503</td>\n",
       "    </tr>\n",
       "    <tr>\n",
       "      <th>2255</th>\n",
       "      <td>2020-06-09</td>\n",
       "      <td>208,950</td>\n",
       "      <td>208,950</td>\n",
       "      <td>215,283.41</td>\n",
       "      <td>212,029.94</td>\n",
       "      <td>266.60587885</td>\n",
       "    </tr>\n",
       "    <tr>\n",
       "      <th>2256</th>\n",
       "      <td>2020-06-10</td>\n",
       "      <td>212,530</td>\n",
       "      <td>211,500.87</td>\n",
       "      <td>218,500.69</td>\n",
       "      <td>218,500.69</td>\n",
       "      <td>232.666569</td>\n",
       "    </tr>\n",
       "    <tr>\n",
       "      <th>2257</th>\n",
       "      <td>2020-06-11</td>\n",
       "      <td>218,304.73</td>\n",
       "      <td>204,160.95</td>\n",
       "      <td>219,500</td>\n",
       "      <td>212,512.06</td>\n",
       "      <td>437.23359777</td>\n",
       "    </tr>\n",
       "    <tr>\n",
       "      <th>2258</th>\n",
       "      <td>2020-06-12</td>\n",
       "      <td>212,450</td>\n",
       "      <td>208,512</td>\n",
       "      <td>214,313</td>\n",
       "      <td>209,283.59</td>\n",
       "      <td>257.9616284</td>\n",
       "    </tr>\n",
       "    <tr>\n",
       "      <th>2259</th>\n",
       "      <td>2020-06-13</td>\n",
       "      <td>209,283.59</td>\n",
       "      <td>208,600.02</td>\n",
       "      <td>211,015.99</td>\n",
       "      <td>209,640.12</td>\n",
       "      <td>116.15976385</td>\n",
       "    </tr>\n",
       "    <tr>\n",
       "      <th>2260</th>\n",
       "      <td>2020-06-14</td>\n",
       "      <td>209,639.61</td>\n",
       "      <td>205,510</td>\n",
       "      <td>210,500</td>\n",
       "      <td>207,896.32</td>\n",
       "      <td>114.38671927</td>\n",
       "    </tr>\n",
       "    <tr>\n",
       "      <th>2261</th>\n",
       "      <td>2020-06-15</td>\n",
       "      <td>207,913.66</td>\n",
       "      <td>201,770.51</td>\n",
       "      <td>211,500</td>\n",
       "      <td>210,971.02</td>\n",
       "      <td>359.05970736</td>\n",
       "    </tr>\n",
       "    <tr>\n",
       "      <th>2262</th>\n",
       "      <td>2020-06-16</td>\n",
       "      <td>210,972.39</td>\n",
       "      <td>208,675.93</td>\n",
       "      <td>213,000</td>\n",
       "      <td>211,641.9</td>\n",
       "      <td>165.50458544</td>\n",
       "    </tr>\n",
       "    <tr>\n",
       "      <th>2263</th>\n",
       "      <td>2020-06-17</td>\n",
       "      <td>212,130.45</td>\n",
       "      <td>206,551</td>\n",
       "      <td>212,579.69</td>\n",
       "      <td>209,850</td>\n",
       "      <td>160.52420617</td>\n",
       "    </tr>\n",
       "    <tr>\n",
       "      <th>2264</th>\n",
       "      <td>2020-06-18</td>\n",
       "      <td>209,856.3</td>\n",
       "      <td>209,176.62</td>\n",
       "      <td>214,346.33</td>\n",
       "      <td>211,574.72</td>\n",
       "      <td>155.82858637</td>\n",
       "    </tr>\n",
       "    <tr>\n",
       "      <th>2265</th>\n",
       "      <td>2020-06-19</td>\n",
       "      <td>211,618.94</td>\n",
       "      <td>209,000</td>\n",
       "      <td>213,000.77</td>\n",
       "      <td>210,610</td>\n",
       "      <td>155.73865812</td>\n",
       "    </tr>\n",
       "    <tr>\n",
       "      <th>2266</th>\n",
       "      <td>2020-06-20</td>\n",
       "      <td>211,162.73</td>\n",
       "      <td>207,600</td>\n",
       "      <td>212,500</td>\n",
       "      <td>212,426.88</td>\n",
       "      <td>70.47650027</td>\n",
       "    </tr>\n",
       "    <tr>\n",
       "      <th>2267</th>\n",
       "      <td>2020-06-21</td>\n",
       "      <td>212,426.88</td>\n",
       "      <td>210,077.9</td>\n",
       "      <td>212,994.98</td>\n",
       "      <td>211,950.5</td>\n",
       "      <td>72.03245636</td>\n",
       "    </tr>\n",
       "    <tr>\n",
       "      <th>2268</th>\n",
       "      <td>2020-06-22</td>\n",
       "      <td>211,656.98</td>\n",
       "      <td>211,117.04</td>\n",
       "      <td>219,701.48</td>\n",
       "      <td>215,853.65</td>\n",
       "      <td>300.68374011</td>\n",
       "    </tr>\n",
       "    <tr>\n",
       "      <th>2269</th>\n",
       "      <td>2020-06-23</td>\n",
       "      <td>215,799.05</td>\n",
       "      <td>213,909</td>\n",
       "      <td>217,399</td>\n",
       "      <td>215,553.87</td>\n",
       "      <td>151.33028993</td>\n",
       "    </tr>\n",
       "    <tr>\n",
       "      <th>2270</th>\n",
       "      <td>2020-06-24</td>\n",
       "      <td>216,153.12</td>\n",
       "      <td>205,747</td>\n",
       "      <td>216,498</td>\n",
       "      <td>208,552.51</td>\n",
       "      <td>314.40165255</td>\n",
       "    </tr>\n",
       "    <tr>\n",
       "      <th>2271</th>\n",
       "      <td>2020-06-25</td>\n",
       "      <td>208,552.51</td>\n",
       "      <td>208,000</td>\n",
       "      <td>213,397.12</td>\n",
       "      <td>211,394.76</td>\n",
       "      <td>59.58298977</td>\n",
       "    </tr>\n",
       "  </tbody>\n",
       "</table>\n",
       "</div>"
      ],
      "text/plain": [
       "            date        open         low        high       close        volume\n",
       "2245  2020-05-30     211,000  208,398.06  215,522.01  211,394.21  132.83518807\n",
       "2246  2020-05-31  211,847.01     208,550  213,445.25   210,249.7   84.02252169\n",
       "2247  2020-06-01  210,861.46  208,753.02  227,599.97     221,250  447.91268677\n",
       "2248  2020-06-02  221,250.01     201,000  222,495.75  205,750.01  418.80262443\n",
       "2249  2020-06-03  205,750.01  203,421.99  211,369.46  210,056.83   202.5265325\n",
       "2250  2020-06-04  210,596.39     207,000  216,083.95  213,499.96  258.96446909\n",
       "2251  2020-06-05  213,499.81  205,862.92  214,310.27     207,635  218.87402006\n",
       "2252  2020-06-06  207,274.49  206,507.32     210,000  208,655.42   95.39676799\n",
       "2253  2020-06-07   209,217.3     203,388     212,000  210,099.99   137.1433641\n",
       "2254  2020-06-08     209,800     206,000     212,250  209,472.64   245.6492503\n",
       "2255  2020-06-09     208,950     208,950  215,283.41  212,029.94  266.60587885\n",
       "2256  2020-06-10     212,530  211,500.87  218,500.69  218,500.69    232.666569\n",
       "2257  2020-06-11  218,304.73  204,160.95     219,500  212,512.06  437.23359777\n",
       "2258  2020-06-12     212,450     208,512     214,313  209,283.59   257.9616284\n",
       "2259  2020-06-13  209,283.59  208,600.02  211,015.99  209,640.12  116.15976385\n",
       "2260  2020-06-14  209,639.61     205,510     210,500  207,896.32  114.38671927\n",
       "2261  2020-06-15  207,913.66  201,770.51     211,500  210,971.02  359.05970736\n",
       "2262  2020-06-16  210,972.39  208,675.93     213,000   211,641.9  165.50458544\n",
       "2263  2020-06-17  212,130.45     206,551  212,579.69     209,850  160.52420617\n",
       "2264  2020-06-18   209,856.3  209,176.62  214,346.33  211,574.72  155.82858637\n",
       "2265  2020-06-19  211,618.94     209,000  213,000.77     210,610  155.73865812\n",
       "2266  2020-06-20  211,162.73     207,600     212,500  212,426.88   70.47650027\n",
       "2267  2020-06-21  212,426.88   210,077.9  212,994.98   211,950.5   72.03245636\n",
       "2268  2020-06-22  211,656.98  211,117.04  219,701.48  215,853.65  300.68374011\n",
       "2269  2020-06-23  215,799.05     213,909     217,399  215,553.87  151.33028993\n",
       "2270  2020-06-24  216,153.12     205,747     216,498  208,552.51  314.40165255\n",
       "2271  2020-06-25  208,552.51     208,000  213,397.12  211,394.76   59.58298977"
      ]
     },
     "execution_count": 143,
     "metadata": {},
     "output_type": "execute_result"
    }
   ],
   "source": [
    "data.tail(27)"
   ]
  },
  {
   "cell_type": "code",
   "execution_count": null,
   "metadata": {},
   "outputs": [],
   "source": []
  },
  {
   "cell_type": "code",
   "execution_count": null,
   "metadata": {},
   "outputs": [],
   "source": [
    "#Get Value\n",
    "#Open Historical\n",
    "#Add new values (Day after today)\n",
    "#"
   ]
  },
  {
   "cell_type": "code",
   "execution_count": null,
   "metadata": {},
   "outputs": [],
   "source": [
    "updates"
   ]
  },
  {
   "cell_type": "code",
   "execution_count": 58,
   "metadata": {},
   "outputs": [],
   "source": [
    "driver.close()"
   ]
  },
  {
   "cell_type": "markdown",
   "metadata": {},
   "source": [
    "## Other Sources"
   ]
  },
  {
   "cell_type": "code",
   "execution_count": null,
   "metadata": {},
   "outputs": [],
   "source": [
    "import requests\n",
    "from datetime import date"
   ]
  },
  {
   "cell_type": "code",
   "execution_count": null,
   "metadata": {},
   "outputs": [],
   "source": [
    "books={'Bitcoin':'btc_mxn',\n",
    "       'Ethereum':'eth_mxn',\n",
    "       'Ripple':'xrp_mxn',\n",
    "       'LTC':'ltc_mxn',\n",
    "       'Bitcoin Cash':'bch_mxn',\n",
    "       'True Dollar':'tusd_mxn',\n",
    "       'Mana':'mana_mxn',\n",
    "       'Golem':'gnt_mxn',\n",
    "       'BAT':'bat_mxn',\n",
    "       'DAI':'dai_mxn'}\n",
    "\n",
    "coins=['bitcoin','ethereum','xrp','litecoin','bitcoin-cash','trueusd','decentraland','golem-network-tokens',\n",
    "       'basic-attention-token','multi-collateral-dai']\n",
    "start='20120428'\n",
    "\n",
    "end= date.today()\n",
    "end= end.strftime(\"%Y%m%d\")\n",
    "\n",
    "url=[]\n",
    "for coin in coins:\n",
    "    url.append('https://coinmarketcap.com/currencies/'+coin+'/historical-data/?start='+start+'&end='+end)"
   ]
  },
  {
   "cell_type": "code",
   "execution_count": null,
   "metadata": {},
   "outputs": [],
   "source": [
    "url[0]"
   ]
  }
 ],
 "metadata": {
  "kernelspec": {
   "display_name": "Python 3",
   "language": "python",
   "name": "python3"
  },
  "language_info": {
   "codemirror_mode": {
    "name": "ipython",
    "version": 3
   },
   "file_extension": ".py",
   "mimetype": "text/x-python",
   "name": "python",
   "nbconvert_exporter": "python",
   "pygments_lexer": "ipython3",
   "version": "3.7.7"
  }
 },
 "nbformat": 4,
 "nbformat_minor": 4
}
