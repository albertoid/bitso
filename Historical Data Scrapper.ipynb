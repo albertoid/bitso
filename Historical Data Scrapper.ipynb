{
 "cells": [
  {
   "cell_type": "code",
   "execution_count": null,
   "metadata": {},
   "outputs": [],
   "source": [
    "#!pip3 install selenium\n",
    "#!pip3 install tqdm\n",
    "#!pip3 install ipywidgets\n",
    "#!jupyter nbextension enable --py widgetsnbextension"
   ]
  },
  {
   "cell_type": "code",
   "execution_count": 1,
   "metadata": {},
   "outputs": [],
   "source": [
    "import pandas as pd\n",
    "from time import sleep\n",
    "from tqdm.notebook import tqdm, trange\n",
    "\n",
    "from selenium import webdriver\n",
    "from selenium.webdriver.common.keys import Keys\n",
    "from selenium.webdriver.common.action_chains import ActionChains"
   ]
  },
  {
   "cell_type": "markdown",
   "metadata": {},
   "source": [
    "## Bitso Historical Live Scraping"
   ]
  },
  {
   "cell_type": "code",
   "execution_count": 2,
   "metadata": {},
   "outputs": [],
   "source": [
    "coins=['btc','eth','xrp','ltc','bch','tusd','mana','gnt','bat','dai']\n",
    "URLs={}\n",
    "for i in coins:\n",
    "    URLs.update({i:'https://bitso.com/trade/market/'+i+'/mxn'})"
   ]
  },
  {
   "cell_type": "code",
   "execution_count": 3,
   "metadata": {},
   "outputs": [],
   "source": [
    "database=[]"
   ]
  },
  {
   "cell_type": "code",
   "execution_count": 4,
   "metadata": {},
   "outputs": [],
   "source": [
    "def readscreen(test=False, verbose=False, database=database):\n",
    "    try:\n",
    "        # Getting candels tags\n",
    "        tagsPath = driver.find_elements_by_tag_name('g')\n",
    "        candels=[]\n",
    "        for i in range(len(tagsPath)):\n",
    "            if tagsPath[i].get_attribute(\"aria-label\") != None and tagsPath[i].get_attribute(\"aria-label\").find('Price')==0:\n",
    "                #print(tagsPath[i].get_attribute(\"transform\"), tagsPath[i].get_attribute(\"aria-label\"))\n",
    "                candels.append(tagsPath[i])\n",
    "        print(len(candels), 'Candels')\n",
    "\n",
    "        #Checking every candel by moving arround\n",
    "        \n",
    "        for i in trange(len(candels)):\n",
    "            try:\n",
    "                action=ActionChains(driver)\n",
    "                action.move_to_element(candels[i])\n",
    "                action.perform()\n",
    "                #print(i, candels[i].get_attribute('aria-label'))\n",
    "                \n",
    "                #Getting info of every candel\n",
    "\n",
    "                voltag=driver.find_element_by_xpath('/html/body/div[1]/div/div[3]/div/div[1]/div/div/div[2]/div[2]/div/div/div/div')\n",
    "                volume=voltag.text\n",
    "\n",
    "                boxtags = driver.find_elements_by_tag_name('b')\n",
    "                i_open=boxtags[0].text\n",
    "                i_low=boxtags[1].text\n",
    "                i_high=boxtags[2].text\n",
    "                i_close=boxtags[3].text\n",
    "\n",
    "                datetag=driver.find_element_by_xpath('/html/body/div[1]/div/div[3]/div/div[1]/div/div/div[2]/div[1]/div/div/div[2]/div')\n",
    "                date=datetag.text\n",
    "\n",
    "                day=[date,i_open,i_low,i_high,i_close,volume]\n",
    "                \n",
    "                if test == False:\n",
    "                    database.append(day)\n",
    "\n",
    "                if verbose == True:\n",
    "                    print(day)\n",
    "            except:\n",
    "                print('Candel',i,'Fails')\n",
    "    except:\n",
    "            print('ERROR: Mayor Fail - Check the driver is initialized correctly')"
   ]
  },
  {
   "cell_type": "code",
   "execution_count": 5,
   "metadata": {},
   "outputs": [],
   "source": [
    "def getScrollerPosition(si,sf):\n",
    "    xi,yi=int(si[si.find('(')+1:si.find(',')]),int(si[si.find(',')+1:si.find(')')])\n",
    "    xf,yf=int(sf[sf.find('(')+1:sf.find(',')]),int(sf[sf.find(',')+1:sf.find(')')])\n",
    "    return xi,yi,xf,yf"
   ]
  },
  {
   "cell_type": "code",
   "execution_count": 13,
   "metadata": {},
   "outputs": [],
   "source": [
    "def getScrollers():\n",
    "    #Getting the tags of the  scrollers for time periods\n",
    "    loaded=False\n",
    "    while loaded == False:\n",
    "        try:\n",
    "            scrollers = driver.find_elements_by_tag_name('g') #The scrollers are over the tag 'g'\n",
    "            scroll=[]\n",
    "\n",
    "            for i in range(len(scrollers)):\n",
    "                role = scrollers[i].get_attribute(\"role\") # Scrollers has the exlusive attribute 'role'\n",
    "                if role != None:\n",
    "                    #print(scrollers[i].get_attribute(\"role\"), scrollers[i].get_attribute(\"transform\"))\n",
    "                    scroll.append(scrollers[i])\n",
    "            loaded=True\n",
    "            if len(scroll) == 2:\n",
    "                print('Scroller elements load successfully')\n",
    "            else:\n",
    "                print('Something went wrong with the scrollers')\n",
    "        except:\n",
    "            print('Loading...')"
   ]
  },
  {
   "cell_type": "code",
   "execution_count": 19,
   "metadata": {},
   "outputs": [],
   "source": [
    "def scrap(zeroi=-17, zerof=38, max_tries=3, scroll=scroll):\n",
    "    \n",
    "    #Checking where are the scrollers\n",
    "    si=scroll[0].get_attribute(\"transform\")\n",
    "    sf=scroll[1].get_attribute(\"transform\")\n",
    "\n",
    "    xi,yi,xf,yf=getScrollerPosition(si,sf)\n",
    "\n",
    "    step=zerof-zeroi\n",
    "\n",
    "    it=0\n",
    "    tries=0\n",
    "    \n",
    "    # Movig the scrollers for time periods\n",
    "    \n",
    "    try:\n",
    "        while 1:\n",
    "            while (xi != zeroi+step*it or xf != zerof+step*it) and tries < max_tries:\n",
    "                action=ActionChains(driver)\n",
    "                action.drag_and_drop_by_offset(scroll[0],zeroi+step*it-xi,0)\n",
    "                action.drag_and_drop_by_offset(scroll[1],zerof+step*it-xf,0)\n",
    "                action.perform()\n",
    "\n",
    "                si=scroll[0].get_attribute(\"transform\")\n",
    "                sf=scroll[1].get_attribute(\"transform\")\n",
    "                xi,yi,xf,yf=getScrollerPosition(si,sf)\n",
    "                sleep(1)\n",
    "                tries+=1\n",
    "                print('Fitting the area to scan.','.'*tries)#xi,xf,'-',zeroi+step*it,zerof+step*it,'try:',tries)\n",
    "\n",
    "            sleep(1)\n",
    "            readscreen() ## Getting info function\n",
    "            it+=1\n",
    "            tries=0\n",
    "            print('Iteracion: ',it)\n",
    "    except:\n",
    "        print('Espacio completado en ',it,'iteraciones')"
   ]
  },
  {
   "cell_type": "code",
   "execution_count": 20,
   "metadata": {},
   "outputs": [],
   "source": [
    "def save(name,database=database):\n",
    "    df=pd.DataFrame(database)\n",
    "    df=df.drop_duplicates()\n",
    "    df=df.reset_index()\n",
    "    df.rename(columns={0:'date',1:'open',2:'low',3:'high',4:'close',5:'volume'},inplace=True)\n",
    "    df=df.drop(columns='index')\n",
    "    df['date']=pd.to_datetime(df['date'],format='%b %d, %Y')\n",
    "    df.to_csv('./'+name+'-MXN.csv',index=False)"
   ]
  },
  {
   "cell_type": "markdown",
   "metadata": {},
   "source": [
    "## Scrapper"
   ]
  },
  {
   "cell_type": "code",
   "execution_count": 32,
   "metadata": {},
   "outputs": [
    {
     "name": "stdout",
     "output_type": "stream",
     "text": [
      "Scroller elements load successfully\n"
     ]
    },
    {
     "ename": "TypeError",
     "evalue": "'NoneType' object is not subscriptable",
     "output_type": "error",
     "traceback": [
      "\u001b[0;31m---------------------------------------------------------------------------\u001b[0m",
      "\u001b[0;31mTypeError\u001b[0m                                 Traceback (most recent call last)",
      "\u001b[0;32m<ipython-input-32-022558dd619e>\u001b[0m in \u001b[0;36m<module>\u001b[0;34m\u001b[0m\n\u001b[1;32m      6\u001b[0m     \u001b[0mdriver\u001b[0m\u001b[0;34m.\u001b[0m\u001b[0mexecute_script\u001b[0m\u001b[0;34m(\u001b[0m\u001b[0;34m\"window.scrollTo(0, 200)\"\u001b[0m\u001b[0;34m)\u001b[0m\u001b[0;34m\u001b[0m\u001b[0;34m\u001b[0m\u001b[0m\n\u001b[1;32m      7\u001b[0m     \u001b[0mscroll\u001b[0m \u001b[0;34m=\u001b[0m \u001b[0mgetScrollers\u001b[0m\u001b[0;34m(\u001b[0m\u001b[0;34m)\u001b[0m\u001b[0;34m\u001b[0m\u001b[0;34m\u001b[0m\u001b[0m\n\u001b[0;32m----> 8\u001b[0;31m     \u001b[0mscrap\u001b[0m\u001b[0;34m(\u001b[0m\u001b[0;34m)\u001b[0m\u001b[0;34m\u001b[0m\u001b[0;34m\u001b[0m\u001b[0m\n\u001b[0m\u001b[1;32m      9\u001b[0m     \u001b[0msave\u001b[0m\u001b[0;34m(\u001b[0m\u001b[0mi\u001b[0m\u001b[0;34m)\u001b[0m\u001b[0;34m\u001b[0m\u001b[0;34m\u001b[0m\u001b[0m\n\u001b[1;32m     10\u001b[0m     \u001b[0mprint\u001b[0m\u001b[0;34m(\u001b[0m\u001b[0mi\u001b[0m\u001b[0;34m,\u001b[0m \u001b[0;34m' Scrapped succesfully'\u001b[0m\u001b[0;34m)\u001b[0m\u001b[0;34m\u001b[0m\u001b[0;34m\u001b[0m\u001b[0m\n",
      "\u001b[0;32m<ipython-input-19-dd6edcc50d39>\u001b[0m in \u001b[0;36mscrap\u001b[0;34m(zeroi, zerof, max_tries, scroll)\u001b[0m\n\u001b[1;32m      2\u001b[0m \u001b[0;34m\u001b[0m\u001b[0m\n\u001b[1;32m      3\u001b[0m     \u001b[0;31m#Checking where are the scrollers\u001b[0m\u001b[0;34m\u001b[0m\u001b[0;34m\u001b[0m\u001b[0;34m\u001b[0m\u001b[0m\n\u001b[0;32m----> 4\u001b[0;31m     \u001b[0msi\u001b[0m\u001b[0;34m=\u001b[0m\u001b[0mscroll\u001b[0m\u001b[0;34m[\u001b[0m\u001b[0;36m0\u001b[0m\u001b[0;34m]\u001b[0m\u001b[0;34m.\u001b[0m\u001b[0mget_attribute\u001b[0m\u001b[0;34m(\u001b[0m\u001b[0;34m\"transform\"\u001b[0m\u001b[0;34m)\u001b[0m\u001b[0;34m\u001b[0m\u001b[0;34m\u001b[0m\u001b[0m\n\u001b[0m\u001b[1;32m      5\u001b[0m     \u001b[0msf\u001b[0m\u001b[0;34m=\u001b[0m\u001b[0mscroll\u001b[0m\u001b[0;34m[\u001b[0m\u001b[0;36m1\u001b[0m\u001b[0;34m]\u001b[0m\u001b[0;34m.\u001b[0m\u001b[0mget_attribute\u001b[0m\u001b[0;34m(\u001b[0m\u001b[0;34m\"transform\"\u001b[0m\u001b[0;34m)\u001b[0m\u001b[0;34m\u001b[0m\u001b[0;34m\u001b[0m\u001b[0m\n\u001b[1;32m      6\u001b[0m \u001b[0;34m\u001b[0m\u001b[0m\n",
      "\u001b[0;31mTypeError\u001b[0m: 'NoneType' object is not subscriptable"
     ]
    }
   ],
   "source": [
    "for i in coins:\n",
    "    database=[]\n",
    "    driver = webdriver.Firefox()\n",
    "    driver.get(URLs[i])\n",
    "    driver.maximize_window()\n",
    "    driver.execute_script(\"window.scrollTo(0, 200)\") \n",
    "    scroll = getScrollers()\n",
    "    scrap()\n",
    "    save(i)\n",
    "    print(i, ' Scrapped succesfully')\n",
    "    driver.close()"
   ]
  },
  {
   "cell_type": "code",
   "execution_count": 30,
   "metadata": {},
   "outputs": [],
   "source": []
  },
  {
   "cell_type": "markdown",
   "metadata": {},
   "source": [
    "## Other Sources"
   ]
  },
  {
   "cell_type": "code",
   "execution_count": null,
   "metadata": {},
   "outputs": [],
   "source": [
    "import requests\n",
    "from datetime import date"
   ]
  },
  {
   "cell_type": "code",
   "execution_count": 2,
   "metadata": {},
   "outputs": [],
   "source": [
    "books={'Bitcoin':'btc_mxn',\n",
    "       'Ethereum':'eth_mxn',\n",
    "       'Ripple':'xrp_mxn',\n",
    "       'LTC':'ltc_mxn',\n",
    "       'Bitcoin Cash':'bch_mxn',\n",
    "       'True Dollar':'tusd_mxn',\n",
    "       'Mana':'mana_mxn',\n",
    "       'Golem':'gnt_mxn',\n",
    "       'BAT':'bat_mxn',\n",
    "       'DAI':'dai_mxn'}\n",
    "\n",
    "coins=['bitcoin','ethereum','xrp','litecoin','bitcoin-cash','trueusd','decentraland','golem-network-tokens',\n",
    "       'basic-attention-token','multi-collateral-dai']\n",
    "start='20120428'\n",
    "\n",
    "end= date.today()\n",
    "end= end.strftime(\"%Y%m%d\")\n",
    "\n",
    "url=[]\n",
    "for coin in coins:\n",
    "    url.append('https://coinmarketcap.com/currencies/'+coin+'/historical-data/?start='+start+'&end='+end)"
   ]
  },
  {
   "cell_type": "code",
   "execution_count": 199,
   "metadata": {},
   "outputs": [
    {
     "data": {
      "text/plain": [
       "'https://coinmarketcap.com/currencies/bitcoin/historical-data/?start=20120428&end=20200529'"
      ]
     },
     "execution_count": 199,
     "metadata": {},
     "output_type": "execute_result"
    }
   ],
   "source": [
    "url[0]"
   ]
  }
 ],
 "metadata": {
  "kernelspec": {
   "display_name": "Python 3",
   "language": "python",
   "name": "python3"
  },
  "language_info": {
   "codemirror_mode": {
    "name": "ipython",
    "version": 3
   },
   "file_extension": ".py",
   "mimetype": "text/x-python",
   "name": "python",
   "nbconvert_exporter": "python",
   "pygments_lexer": "ipython3",
   "version": "3.7.7"
  }
 },
 "nbformat": 4,
 "nbformat_minor": 4
}
