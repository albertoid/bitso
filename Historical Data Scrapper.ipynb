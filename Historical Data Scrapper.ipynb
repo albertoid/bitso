{
 "cells": [
  {
   "cell_type": "code",
   "execution_count": 178,
   "metadata": {},
   "outputs": [],
   "source": [
    "#!pip3 install selenium\n",
    "#!pip3 install tqdm\n",
    "#!pip3 install ipywidgets\n",
    "#!jupyter nbextension enable --py widgetsnbextension\n",
    "#!pip3 install pyvirtualdisplay"
   ]
  },
  {
   "cell_type": "code",
   "execution_count": 179,
   "metadata": {},
   "outputs": [],
   "source": [
    "import pandas as pd\n",
    "from datetime import datetime\n",
    "from datetime import date \n",
    "\n",
    "from time import sleep\n",
    "from tqdm.notebook import tqdm, trange\n",
    "\n",
    "from selenium import webdriver\n",
    "from selenium.webdriver.common.action_chains import ActionChains\n",
    "\n",
    "from pyvirtualdisplay import Display"
   ]
  },
  {
   "cell_type": "markdown",
   "metadata": {},
   "source": [
    "## Bitso Historical Live Scraping"
   ]
  },
  {
   "cell_type": "code",
   "execution_count": 161,
   "metadata": {},
   "outputs": [],
   "source": [
    "coins=['btc','eth','xrp','ltc','bch','tusd','mana','gnt','bat','dai']\n",
    "URLs={}\n",
    "for i in coins:\n",
    "    URLs.update({i:'https://bitso.com/trade/market/'+i+'/mxn'})"
   ]
  },
  {
   "cell_type": "code",
   "execution_count": 18,
   "metadata": {},
   "outputs": [],
   "source": [
    "def readscreen(test=False, verbose=False, database=[],order='asc',limitedStop=False, stopLimit=0):\n",
    "    try:\n",
    "        # Getting candels tags\n",
    "        tagsPath = driver.find_elements_by_tag_name('g')\n",
    "        candels=[]\n",
    "        for i in range(len(tagsPath)):\n",
    "            if tagsPath[i].get_attribute(\"aria-label\") != None and tagsPath[i].get_attribute(\"aria-label\").find('Price')==0:\n",
    "                #print(tagsPath[i].get_attribute(\"transform\"), tagsPath[i].get_attribute(\"aria-label\"))\n",
    "                candels.append(tagsPath[i])\n",
    "        print(\"\\n\",len(candels), 'Candels detected')\n",
    "\n",
    "        #Checking every candel by moving arround\n",
    "        nCandels = len(candels)\n",
    "        \n",
    "        if limitedStop==False:\n",
    "            steps=nCandels\n",
    "        else:\n",
    "            steps=stopLimit\n",
    "        \n",
    "        for i in trange(steps):\n",
    "            try:\n",
    "                action=ActionChains(driver)\n",
    "                if order == 'asc':\n",
    "                    action.move_to_element(candels[i])\n",
    "                elif order == 'des':\n",
    "                    action.move_to_element(candels[nCandels-i-1])\n",
    "                else:\n",
    "                    print('ERROR: Non order detected, use asc or des')\n",
    "                \n",
    "                action.perform()\n",
    "                #print(i, candels[i].get_attribute('aria-label'))\n",
    "                \n",
    "                #Getting info of every candel\n",
    "\n",
    "                voltag=driver.find_element_by_xpath('/html/body/div[1]/div/div[3]/div/div[1]/div/div/div[2]/div[2]/div/div/div/div')\n",
    "                volume=voltag.text\n",
    "\n",
    "                boxtags = driver.find_elements_by_tag_name('b')\n",
    "                i_open=boxtags[0].text\n",
    "                i_low=boxtags[1].text\n",
    "                i_high=boxtags[2].text\n",
    "                i_close=boxtags[3].text\n",
    "\n",
    "                datetag=driver.find_element_by_xpath('/html/body/div[1]/div/div[3]/div/div[1]/div/div/div[2]/div[1]/div/div/div[2]/div')\n",
    "                date_str=datetag.text\n",
    "                i_date=datetime.strptime(date_str,'%b %d, %Y')\n",
    "\n",
    "                day=[i_date,i_open,i_low,i_high,i_close,volume] #Register integration\n",
    "                \n",
    "                if test == False:\n",
    "                    database.append(day)\n",
    "\n",
    "                if verbose == True:\n",
    "                    print(day)\n",
    "            except:\n",
    "                print('The Candel',i,'Fails when was tried to read it')\n",
    "        return day[0].date() #Control date to finish the scanning of windows dates\n",
    "    except:\n",
    "            print('ERROR: Mayor Fail - Check the driver is initialized correctly')\n",
    "   "
   ]
  },
  {
   "cell_type": "code",
   "execution_count": 19,
   "metadata": {},
   "outputs": [],
   "source": [
    "def getScrollerPosition(si,sf):\n",
    "    xi,yi=int(si[si.find('(')+1:si.find(',')]),int(si[si.find(',')+1:si.find(')')])\n",
    "    xf,yf=int(sf[sf.find('(')+1:sf.find(',')]),int(sf[sf.find(',')+1:sf.find(')')])\n",
    "    return xi,yi,xf,yf"
   ]
  },
  {
   "cell_type": "code",
   "execution_count": 20,
   "metadata": {},
   "outputs": [],
   "source": [
    "def getScrollers():\n",
    "    #Getting the tags of the  scrollers for time periods\n",
    "    loaded=False\n",
    "    while loaded == False:\n",
    "        try:\n",
    "            scroll_tags = driver.find_elements_by_tag_name('g') #The scrollers are over the tag 'g'\n",
    "            scrollers=[]\n",
    "\n",
    "            for i in range(len(scroll_tags)):\n",
    "                role = scroll_tags[i].get_attribute(\"role\") # Scrollers has the exlusive attribute 'role'\n",
    "                if role != None:\n",
    "                    #print(scrollers[i].get_attribute(\"role\"), scrollers[i].get_attribute(\"transform\"))\n",
    "                    scrollers.append(scroll_tags[i])\n",
    "            loaded=True\n",
    "            if len(scrollers) == 2:\n",
    "                print('Scroller elements load successfully')\n",
    "            else:\n",
    "                print('Something went wrong with the scrollers')\n",
    "        except:\n",
    "            print('Loading scrollers...')\n",
    "    return scrollers"
   ]
  },
  {
   "cell_type": "code",
   "execution_count": 158,
   "metadata": {},
   "outputs": [],
   "source": [
    "def scrap(zeroi=-17, zerof=38, max_tries=3,offseti=1 ,offsetf=1,driver=0, wait_loading_time=0,verbose_rs=False, database_rs=[]):\n",
    "    \n",
    "    sleep(wait_loading_time)\n",
    "    #Checking where are the scrollers\n",
    "    si=scrollers[0].get_attribute(\"transform\")\n",
    "    sf=scrollers[1].get_attribute(\"transform\")\n",
    "\n",
    "    xi,yi,xf,yf=getScrollerPosition(si,sf)\n",
    "\n",
    "    step=zerof-zeroi\n",
    "\n",
    "    it=0\n",
    "    tries=0\n",
    "    loaded= False\n",
    "    \n",
    "    # Movig the scrollers for time periods\n",
    "    \n",
    "    try:\n",
    "        while loaded == False:\n",
    "            print('Fitting the area to scan', end=\"\")\n",
    "            while (xi != zeroi+step*it or xf != zerof+step*it) and tries < max_tries:\n",
    "                action=ActionChains(driver)\n",
    "                action.drag_and_drop_by_offset(scrollers[0],zeroi+step*it-xi-offseti,0)\n",
    "                action.drag_and_drop_by_offset(scrollers[1],zerof+step*it-xf+offsetf,0)\n",
    "                action.perform()\n",
    "                \n",
    "\n",
    "                si=scrollers[0].get_attribute(\"transform\")\n",
    "                sf=scrollers[1].get_attribute(\"transform\")\n",
    "                xi,yi,xf,yf=getScrollerPosition(si,sf)\n",
    "                sleep(1)\n",
    "                tries+=1\n",
    "                print('.',end=\"\")\n",
    "            \n",
    "            print(\"\")\n",
    "            sleep(1)\n",
    "            last_day=readscreen(database = database_rs, verbose=verbose_rs) ## Getting info function\n",
    "            it+=1\n",
    "            tries=0\n",
    "            print('Iteracion: ',it)\n",
    "            if last_day == date.today():\n",
    "                print('Space completed in ',it,'iterations')\n",
    "                loaded=True\n",
    "    except:\n",
    "        print('Space completed in ',it,'iterations [except]')\n",
    "    print('Scrap function completed')\n",
    "    "
   ]
  },
  {
   "cell_type": "code",
   "execution_count": 22,
   "metadata": {},
   "outputs": [],
   "source": [
    "def save(name,database=[]):\n",
    "    df=pd.DataFrame(database)\n",
    "    df=df.drop_duplicates()\n",
    "    df=df.reset_index()\n",
    "    df.rename(columns={0:'date',1:'open',2:'low',3:'high',4:'close',5:'volume'},inplace=True)\n",
    "    df=df.drop(columns='index')\n",
    "    df.to_csv('./'+name+'-mxn.csv',index=False)"
   ]
  },
  {
   "cell_type": "code",
   "execution_count": 185,
   "metadata": {},
   "outputs": [],
   "source": [
    "def loadWebpage(URL=''):\n",
    "    print('Opening browser...')\n",
    "    driver = webdriver.Firefox()\n",
    "    print('Opening ',URL)\n",
    "    driver.get(URL)\n",
    "    sleep(10)\n",
    "    print('Maximizing window...')\n",
    "    driver.maximize_window()\n",
    "    print('Scrolling into graph...')\n",
    "    driver.execute_script(\"window.scrollTo(0, 200)\")\n",
    "    return driver"
   ]
  },
  {
   "cell_type": "markdown",
   "metadata": {},
   "source": [
    "## Scrapper"
   ]
  },
  {
   "cell_type": "code",
   "execution_count": null,
   "metadata": {},
   "outputs": [],
   "source": [
    "#coins=['dai']\n",
    "for i in coins:\n",
    "    database=[]\n",
    "    driver = loadWebpage(URLs[i])\n",
    "    scrollers = getScrollers()\n",
    "    scrap(driver=driver,database_rs=database)\n",
    "    save(i,database)\n",
    "    print(i, ' Scrapped succesfully')\n",
    "    driver.close()"
   ]
  },
  {
   "cell_type": "markdown",
   "metadata": {},
   "source": [
    "## Daily Scraper"
   ]
  },
  {
   "cell_type": "code",
   "execution_count": 186,
   "metadata": {},
   "outputs": [
    {
     "name": "stdout",
     "output_type": "stream",
     "text": [
      "No se actualizó  btc -mxn\n",
      "No se actualizó  eth -mxn\n",
      "No se actualizó  xrp -mxn\n",
      "No se actualizó  ltc -mxn\n",
      "No se actualizó  bch -mxn\n",
      "No se actualizó  tusd -mxn\n",
      "No se actualizó  mana -mxn\n",
      "No se actualizó  gnt -mxn\n",
      "No se actualizó  bat -mxn\n",
      "No se actualizó  dai -mxn\n"
     ]
    }
   ],
   "source": [
    "coins=['bat']\n",
    "coins=['btc','eth','xrp','ltc','bch','tusd','mana','gnt','bat','dai']\n",
    "for i in coins:\n",
    "    # Revisar csv y obtener ultima fecha\n",
    "    try:\n",
    "        file=i+'-mxn.csv'\n",
    "        data=pd.read_csv(file)\n",
    "        lastdate=data.date[len(data)-1]\n",
    "\n",
    "        #Sacar la diferencia entre el último registro y el día actual\n",
    "        delta=(datetime.now()-datetime.strptime(lastdate,'%Y-%m-%d')).days +1\n",
    "\n",
    "        updates=[]\n",
    "\n",
    "        #Scraping Bitso\n",
    "        driver = loadWebpage(URLs[i])\n",
    "        scrollers = getScrollers()\n",
    "        readscreen(database=updates,order='des',limitedStop=True, stopLimit=delta)\n",
    "        driver.close()\n",
    "\n",
    "        #Pasando las actualizaciones a un Data Frame de pandas\n",
    "        ud=pd.DataFrame(updates)\n",
    "        #Ordenando las actualizaciones\n",
    "        ud=ud.sort_values(by=[0])\n",
    "        ud=ud.reset_index(drop=True)\n",
    "        #Colacando nombres a las columnas\n",
    "        ud.rename(columns={0:'date',1:'open',2:'low',3:'high',4:'close',5:'volume'},inplace=True)\n",
    "        #Pasando la fecha str para homogenizar\n",
    "        ud.date=ud.date.apply(lambda x: x.date().strftime('%Y-%m-%d'))\n",
    "\n",
    "        #Agregando las actualizaciones a la base de datos guardada\n",
    "        data=data.append(ud)\n",
    "        #Actualizando índices\n",
    "        data=data.reset_index(drop=True)\n",
    "        #Eliminando duplicados\n",
    "        data.date=data.date.drop_duplicates(keep='last')\n",
    "        data=data.dropna()\n",
    "        #Actualizando índices\n",
    "        data=data.reset_index(drop=True)\n",
    "        #Guarando base actualizada\n",
    "        save(i,data)\n",
    "        print('Base de datos de ', i, '-mxn actualizada correctamente')\n",
    "    except:\n",
    "        print('No se actualizó ', i, '-mxn')"
   ]
  },
  {
   "cell_type": "markdown",
   "metadata": {},
   "source": [
    "## Other Sources"
   ]
  },
  {
   "cell_type": "code",
   "execution_count": null,
   "metadata": {},
   "outputs": [],
   "source": [
    "import requests\n",
    "from datetime import date"
   ]
  },
  {
   "cell_type": "code",
   "execution_count": null,
   "metadata": {},
   "outputs": [],
   "source": [
    "books={'Bitcoin':'btc_mxn',\n",
    "       'Ethereum':'eth_mxn',\n",
    "       'Ripple':'xrp_mxn',\n",
    "       'LTC':'ltc_mxn',\n",
    "       'Bitcoin Cash':'bch_mxn',\n",
    "       'True Dollar':'tusd_mxn',\n",
    "       'Mana':'mana_mxn',\n",
    "       'Golem':'gnt_mxn',\n",
    "       'BAT':'bat_mxn',\n",
    "       'DAI':'dai_mxn'}\n",
    "\n",
    "coins=['bitcoin','ethereum','xrp','litecoin','bitcoin-cash','trueusd','decentraland','golem-network-tokens',\n",
    "       'basic-attention-token','multi-collateral-dai']\n",
    "start='20120428'\n",
    "\n",
    "end= date.today()\n",
    "end= end.strftime(\"%Y%m%d\")\n",
    "\n",
    "url=[]\n",
    "for coin in coins:\n",
    "    url.append('https://coinmarketcap.com/currencies/'+coin+'/historical-data/?start='+start+'&end='+end)"
   ]
  },
  {
   "cell_type": "code",
   "execution_count": null,
   "metadata": {},
   "outputs": [],
   "source": [
    "url[0]"
   ]
  },
  {
   "cell_type": "code",
   "execution_count": 171,
   "metadata": {},
   "outputs": [],
   "source": [
    "driver = webdriver.Firefox()"
   ]
  },
  {
   "cell_type": "code",
   "execution_count": 174,
   "metadata": {},
   "outputs": [],
   "source": [
    "URL='https://www.google.com'\n",
    "driver.get(URL)"
   ]
  },
  {
   "cell_type": "code",
   "execution_count": 175,
   "metadata": {},
   "outputs": [],
   "source": [
    "driver.close()"
   ]
  },
  {
   "cell_type": "code",
   "execution_count": null,
   "metadata": {},
   "outputs": [],
   "source": []
  },
  {
   "cell_type": "code",
   "execution_count": null,
   "metadata": {},
   "outputs": [],
   "source": []
  },
  {
   "cell_type": "code",
   "execution_count": null,
   "metadata": {},
   "outputs": [],
   "source": []
  },
  {
   "cell_type": "code",
   "execution_count": null,
   "metadata": {},
   "outputs": [],
   "source": []
  },
  {
   "cell_type": "code",
   "execution_count": null,
   "metadata": {},
   "outputs": [],
   "source": []
  },
  {
   "cell_type": "code",
   "execution_count": null,
   "metadata": {},
   "outputs": [],
   "source": []
  }
 ],
 "metadata": {
  "kernelspec": {
   "display_name": "Python 3",
   "language": "python",
   "name": "python3"
  },
  "language_info": {
   "codemirror_mode": {
    "name": "ipython",
    "version": 3
   },
   "file_extension": ".py",
   "mimetype": "text/x-python",
   "name": "python",
   "nbconvert_exporter": "python",
   "pygments_lexer": "ipython3",
   "version": "3.7.7"
  }
 },
 "nbformat": 4,
 "nbformat_minor": 4
}
