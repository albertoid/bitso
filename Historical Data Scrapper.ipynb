{
 "cells": [
  {
   "cell_type": "code",
   "execution_count": 1,
   "metadata": {},
   "outputs": [],
   "source": [
    "#!pip3 install selenium\n",
    "#!pip3 install tqdm\n",
    "#!pip3 install ipywidgets\n",
    "#!jupyter nbextension enable --py widgetsnbextension"
   ]
  },
  {
   "cell_type": "code",
   "execution_count": 2,
   "metadata": {},
   "outputs": [],
   "source": [
    "import pandas as pd\n",
    "from datetime import datetime\n",
    "from datetime import date \n",
    "\n",
    "from time import sleep\n",
    "from tqdm.notebook import tqdm, trange\n",
    "\n",
    "from selenium import webdriver\n",
    "from selenium.webdriver.common.action_chains import ActionChains"
   ]
  },
  {
   "cell_type": "markdown",
   "metadata": {},
   "source": [
    "## Bitso Historical Live Scraping"
   ]
  },
  {
   "cell_type": "code",
   "execution_count": 3,
   "metadata": {},
   "outputs": [],
   "source": [
    "coins=['btc','eth','xrp','ltc','bch','tusd','mana','gnt','bat','dai']\n",
    "URLs={}\n",
    "for i in coins:\n",
    "    URLs.update({i:'https://bitso.com/trade/market/'+i+'/mxn'})"
   ]
  },
  {
   "cell_type": "code",
   "execution_count": 53,
   "metadata": {},
   "outputs": [],
   "source": [
    "def readscreen(test=False, verbose=False, database=[],order='asc',limitedStop=False, stopLimit=0):\n",
    "    try:\n",
    "        # Getting candels tags\n",
    "        tagsPath = driver.find_elements_by_tag_name('g')\n",
    "        candels=[]\n",
    "        for i in range(len(tagsPath)):\n",
    "            if tagsPath[i].get_attribute(\"aria-label\") != None and tagsPath[i].get_attribute(\"aria-label\").find('Price')==0:\n",
    "                #print(tagsPath[i].get_attribute(\"transform\"), tagsPath[i].get_attribute(\"aria-label\"))\n",
    "                candels.append(tagsPath[i])\n",
    "        print(\"\\n\",len(candels), 'Candels detected')\n",
    "\n",
    "        #Checking every candel by moving arround\n",
    "        nCandels = len(candels)\n",
    "        \n",
    "        if limitedStop==False:\n",
    "            steps=nCandels\n",
    "        else:\n",
    "            steps=stopLimit\n",
    "        \n",
    "        for i in trange(steps):\n",
    "            try:\n",
    "                action=ActionChains(driver)\n",
    "                if order == 'asc':\n",
    "                    action.move_to_element(candels[i])\n",
    "                elif order == 'des':\n",
    "                    action.move_to_element(candels[nCandels-i-1])\n",
    "                else:\n",
    "                    print('ERROR: Non order detected, use asc or des')\n",
    "                \n",
    "                action.perform()\n",
    "                #print(i, candels[i].get_attribute('aria-label'))\n",
    "                \n",
    "                #Getting info of every candel\n",
    "\n",
    "                voltag=driver.find_element_by_xpath('/html/body/div[1]/div/div[3]/div/div[1]/div/div/div[2]/div[2]/div/div/div/div')\n",
    "                volume=voltag.text\n",
    "\n",
    "                boxtags = driver.find_elements_by_tag_name('b')\n",
    "                i_open=boxtags[0].text\n",
    "                i_low=boxtags[1].text\n",
    "                i_high=boxtags[2].text\n",
    "                i_close=boxtags[3].text\n",
    "\n",
    "                datetag=driver.find_element_by_xpath('/html/body/div[1]/div/div[3]/div/div[1]/div/div/div[2]/div[1]/div/div/div[2]/div')\n",
    "                date_str=datetag.text\n",
    "                i_date=datetime.strptime(date_str,'%b %d, %Y')\n",
    "\n",
    "                day=[i_date,i_open,i_low,i_high,i_close,volume] #Register integration\n",
    "                \n",
    "                if test == False:\n",
    "                    database.append(day)\n",
    "\n",
    "                if verbose == True:\n",
    "                    print(day)\n",
    "            except:\n",
    "                print('The Candel',i,'Fails when was tried to read it')\n",
    "        return day[0].date() #Control date to finish the scanning of windows dates\n",
    "    except:\n",
    "            print('ERROR: Mayor Fail - Check the driver is initialized correctly')\n",
    "   "
   ]
  },
  {
   "cell_type": "code",
   "execution_count": 27,
   "metadata": {},
   "outputs": [],
   "source": [
    "def getScrollerPosition(si,sf):\n",
    "    xi,yi=int(si[si.find('(')+1:si.find(',')]),int(si[si.find(',')+1:si.find(')')])\n",
    "    xf,yf=int(sf[sf.find('(')+1:sf.find(',')]),int(sf[sf.find(',')+1:sf.find(')')])\n",
    "    return xi,yi,xf,yf"
   ]
  },
  {
   "cell_type": "code",
   "execution_count": 6,
   "metadata": {},
   "outputs": [],
   "source": [
    "def getScrollers():\n",
    "    #Getting the tags of the  scrollers for time periods\n",
    "    loaded=False\n",
    "    while loaded == False:\n",
    "        try:\n",
    "            scroll_tags = driver.find_elements_by_tag_name('g') #The scrollers are over the tag 'g'\n",
    "            scrollers=[]\n",
    "\n",
    "            for i in range(len(scroll_tags)):\n",
    "                role = scroll_tags[i].get_attribute(\"role\") # Scrollers has the exlusive attribute 'role'\n",
    "                if role != None:\n",
    "                    #print(scrollers[i].get_attribute(\"role\"), scrollers[i].get_attribute(\"transform\"))\n",
    "                    scrollers.append(scroll_tags[i])\n",
    "            loaded=True\n",
    "            if len(scrollers) == 2:\n",
    "                print('Scroller elements load successfully')\n",
    "            else:\n",
    "                print('Something went wrong with the scrollers')\n",
    "        except:\n",
    "            print('Loading scrollers...')\n",
    "    return scrollers"
   ]
  },
  {
   "cell_type": "code",
   "execution_count": 63,
   "metadata": {},
   "outputs": [],
   "source": [
    "def scrap(zeroi=-17, zerof=38, max_tries=3,offseti=1 ,offsetf=1,driver=0, wait_loading_time=0,verbose_rs=False, database_rs=[]):\n",
    "    \n",
    "    sleep(wait_loading_time)\n",
    "    #Checking where are the scrollers\n",
    "    si=scrollers[0].get_attribute(\"transform\")\n",
    "    sf=scrollers[1].get_attribute(\"transform\")\n",
    "\n",
    "    xi,yi,xf,yf=getScrollerPosition(si,sf)\n",
    "\n",
    "    step=zerof-zeroi\n",
    "\n",
    "    it=0\n",
    "    tries=0\n",
    "    loaded= False\n",
    "    \n",
    "    # Movig the scrollers for time periods\n",
    "    \n",
    "    try:\n",
    "        while loaded == False:\n",
    "            print('Fitting the area to scan', end=\"\")\n",
    "            while (xi != zeroi+step*it or xf != zerof+step*it) and tries < max_tries:\n",
    "                action=ActionChains(driver)\n",
    "                action.drag_and_drop_by_offset(scrollers[0],zeroi+step*it-xi-offseti,0)\n",
    "                action.drag_and_drop_by_offset(scrollers[1],zerof+step*it-xf+offsetf,0)\n",
    "                action.perform()\n",
    "\n",
    "                si=scrollers[0].get_attribute(\"transform\")\n",
    "                sf=scrollers[1].get_attribute(\"transform\")\n",
    "                xi,yi,xf,yf=getScrollerPosition(si,sf)\n",
    "                sleep(1)\n",
    "                tries+=1\n",
    "                print('.',end=\"\")\n",
    "            \n",
    "            print(\"\")\n",
    "            sleep(1)\n",
    "            last_day=readscreen(database = database_rs, verbose=verbose_rs) ## Getting info function\n",
    "            it+=1\n",
    "            tries=0\n",
    "            print('Iteracion: ',it)\n",
    "            if last_day == date.today():\n",
    "                print('Space completed in ',it,'iterations')\n",
    "                loaded=True\n",
    "    except:\n",
    "        print('Space completed in ',it,'iterations [except]')\n",
    "    print('Scrap function completed')\n",
    "    "
   ]
  },
  {
   "cell_type": "code",
   "execution_count": 8,
   "metadata": {},
   "outputs": [],
   "source": [
    "def save(name,database=[]):\n",
    "    df=pd.DataFrame(database)\n",
    "    df=df.drop_duplicates()\n",
    "    df=df.reset_index()\n",
    "    df.rename(columns={0:'date',1:'open',2:'low',3:'high',4:'close',5:'volume'},inplace=True)\n",
    "    df=df.drop(columns='index')\n",
    "    df.to_csv('./'+name+'-mxn.csv',index=False)"
   ]
  },
  {
   "cell_type": "code",
   "execution_count": 76,
   "metadata": {},
   "outputs": [],
   "source": [
    "def loadWebpage(URL=''):\n",
    "    print('Opening browser...')\n",
    "    driver = webdriver.Firefox()\n",
    "    print('Opening ',URL)\n",
    "    driver.get(URL)\n",
    "    print('Maximizing window...')\n",
    "    driver.maximize_window()\n",
    "    print('Scrolling into graph...')\n",
    "    driver.execute_script(\"window.scrollTo(0, 200)\")\n",
    "    return driver"
   ]
  },
  {
   "cell_type": "markdown",
   "metadata": {},
   "source": [
    "## Scrapper"
   ]
  },
  {
   "cell_type": "code",
   "execution_count": 10,
   "metadata": {},
   "outputs": [
    {
     "name": "stdout",
     "output_type": "stream",
     "text": [
      "Opening browser...\n",
      "Maximizing window...\n",
      "Scrolling into graph...\n",
      "Loading scrollers...\n",
      "Scroller elements load successfully\n",
      "Fitting the area to scan...\n",
      "\n",
      " 111 Candels detected\n"
     ]
    },
    {
     "data": {
      "application/vnd.jupyter.widget-view+json": {
       "model_id": "b23c088561af4d66b6921dc209d16938",
       "version_major": 2,
       "version_minor": 0
      },
      "text/plain": [
       "HBox(children=(FloatProgress(value=0.0, max=111.0), HTML(value='')))"
      ]
     },
     "metadata": {},
     "output_type": "display_data"
    },
    {
     "name": "stdout",
     "output_type": "stream",
     "text": [
      "\n",
      "Iteracion:  1\n",
      "Fitting the area to scan...\n",
      "\n",
      " 114 Candels detected\n"
     ]
    },
    {
     "data": {
      "application/vnd.jupyter.widget-view+json": {
       "model_id": "911489cd3dbe4a1a9f2801d9d59bfebf",
       "version_major": 2,
       "version_minor": 0
      },
      "text/plain": [
       "HBox(children=(FloatProgress(value=0.0, max=114.0), HTML(value='')))"
      ]
     },
     "metadata": {},
     "output_type": "display_data"
    },
    {
     "name": "stdout",
     "output_type": "stream",
     "text": [
      "The Candel 113 Fails when was tried to read it\n",
      "\n",
      "Iteracion:  2\n",
      "Fitting the area to scan...\n",
      "\n",
      " 113 Candels detected\n"
     ]
    },
    {
     "data": {
      "application/vnd.jupyter.widget-view+json": {
       "model_id": "8959eeea71c1409789239be0b069632f",
       "version_major": 2,
       "version_minor": 0
      },
      "text/plain": [
       "HBox(children=(FloatProgress(value=0.0, max=113.0), HTML(value='')))"
      ]
     },
     "metadata": {},
     "output_type": "display_data"
    },
    {
     "name": "stdout",
     "output_type": "stream",
     "text": [
      "\n",
      "Iteracion:  3\n",
      "Fitting the area to scan...\n",
      "\n",
      " 114 Candels detected\n"
     ]
    },
    {
     "data": {
      "application/vnd.jupyter.widget-view+json": {
       "model_id": "1ca73352ecf64e5fa2afd4f9a0edabfb",
       "version_major": 2,
       "version_minor": 0
      },
      "text/plain": [
       "HBox(children=(FloatProgress(value=0.0, max=114.0), HTML(value='')))"
      ]
     },
     "metadata": {},
     "output_type": "display_data"
    },
    {
     "name": "stdout",
     "output_type": "stream",
     "text": [
      "The Candel 113 Fails when was tried to read it\n",
      "\n",
      "Iteracion:  4\n",
      "Fitting the area to scan...\n",
      "\n",
      " 113 Candels detected\n"
     ]
    },
    {
     "data": {
      "application/vnd.jupyter.widget-view+json": {
       "model_id": "3af10f4e90bc4da49d9d28a0bc8383e7",
       "version_major": 2,
       "version_minor": 0
      },
      "text/plain": [
       "HBox(children=(FloatProgress(value=0.0, max=113.0), HTML(value='')))"
      ]
     },
     "metadata": {},
     "output_type": "display_data"
    },
    {
     "name": "stdout",
     "output_type": "stream",
     "text": [
      "\n",
      "Iteracion:  5\n",
      "Fitting the area to scan...\n",
      "\n",
      " 114 Candels detected\n"
     ]
    },
    {
     "data": {
      "application/vnd.jupyter.widget-view+json": {
       "model_id": "0ca37c0024854553a51390326c5832a8",
       "version_major": 2,
       "version_minor": 0
      },
      "text/plain": [
       "HBox(children=(FloatProgress(value=0.0, max=114.0), HTML(value='')))"
      ]
     },
     "metadata": {},
     "output_type": "display_data"
    },
    {
     "name": "stdout",
     "output_type": "stream",
     "text": [
      "\n",
      "Iteracion:  6\n",
      "Fitting the area to scan...\n",
      "\n",
      " 113 Candels detected\n"
     ]
    },
    {
     "data": {
      "application/vnd.jupyter.widget-view+json": {
       "model_id": "ca2e79b84fe243c285d86811f58acdce",
       "version_major": 2,
       "version_minor": 0
      },
      "text/plain": [
       "HBox(children=(FloatProgress(value=0.0, max=113.0), HTML(value='')))"
      ]
     },
     "metadata": {},
     "output_type": "display_data"
    },
    {
     "name": "stdout",
     "output_type": "stream",
     "text": [
      "The Candel 0 Fails when was tried to read it\n",
      "\n",
      "Iteracion:  7\n",
      "Fitting the area to scan...\n",
      "\n",
      " 114 Candels detected\n"
     ]
    },
    {
     "data": {
      "application/vnd.jupyter.widget-view+json": {
       "model_id": "af90010eeb224adf91c864f249907a66",
       "version_major": 2,
       "version_minor": 0
      },
      "text/plain": [
       "HBox(children=(FloatProgress(value=0.0, max=114.0), HTML(value='')))"
      ]
     },
     "metadata": {},
     "output_type": "display_data"
    },
    {
     "name": "stdout",
     "output_type": "stream",
     "text": [
      "The Candel 0 Fails when was tried to read it\n",
      "\n",
      "Iteracion:  8\n",
      "Fitting the area to scan...\n",
      "\n",
      " 113 Candels detected\n"
     ]
    },
    {
     "data": {
      "application/vnd.jupyter.widget-view+json": {
       "model_id": "d7d1a6a6f99f41828b419db4f8dd6d72",
       "version_major": 2,
       "version_minor": 0
      },
      "text/plain": [
       "HBox(children=(FloatProgress(value=0.0, max=113.0), HTML(value='')))"
      ]
     },
     "metadata": {},
     "output_type": "display_data"
    },
    {
     "name": "stdout",
     "output_type": "stream",
     "text": [
      "\n",
      "Iteracion:  9\n",
      "Fitting the area to scan...\n",
      "\n",
      " 113 Candels detected\n"
     ]
    },
    {
     "data": {
      "application/vnd.jupyter.widget-view+json": {
       "model_id": "bf237e7364184552b9e334c3db5c6640",
       "version_major": 2,
       "version_minor": 0
      },
      "text/plain": [
       "HBox(children=(FloatProgress(value=0.0, max=113.0), HTML(value='')))"
      ]
     },
     "metadata": {},
     "output_type": "display_data"
    },
    {
     "name": "stdout",
     "output_type": "stream",
     "text": [
      "The Candel 0 Fails when was tried to read it\n",
      "\n",
      "Iteracion:  10\n",
      "Fitting the area to scan...\n",
      "\n",
      " 114 Candels detected\n"
     ]
    },
    {
     "data": {
      "application/vnd.jupyter.widget-view+json": {
       "model_id": "db80753315954088bfd914b470b4ac3f",
       "version_major": 2,
       "version_minor": 0
      },
      "text/plain": [
       "HBox(children=(FloatProgress(value=0.0, max=114.0), HTML(value='')))"
      ]
     },
     "metadata": {},
     "output_type": "display_data"
    },
    {
     "name": "stdout",
     "output_type": "stream",
     "text": [
      "The Candel 113 Fails when was tried to read it\n",
      "\n",
      "Iteracion:  11\n",
      "Fitting the area to scan...\n",
      "\n",
      " 113 Candels detected\n"
     ]
    },
    {
     "data": {
      "application/vnd.jupyter.widget-view+json": {
       "model_id": "e3543b5cb9ca4bbda5cd03d089a4747f",
       "version_major": 2,
       "version_minor": 0
      },
      "text/plain": [
       "HBox(children=(FloatProgress(value=0.0, max=113.0), HTML(value='')))"
      ]
     },
     "metadata": {},
     "output_type": "display_data"
    },
    {
     "name": "stdout",
     "output_type": "stream",
     "text": [
      "\n",
      "Iteracion:  12\n",
      "Fitting the area to scan...\n",
      "\n",
      " 114 Candels detected\n"
     ]
    },
    {
     "data": {
      "application/vnd.jupyter.widget-view+json": {
       "model_id": "ca743ecc27444ca0afae4b7dda829c7d",
       "version_major": 2,
       "version_minor": 0
      },
      "text/plain": [
       "HBox(children=(FloatProgress(value=0.0, max=114.0), HTML(value='')))"
      ]
     },
     "metadata": {},
     "output_type": "display_data"
    },
    {
     "name": "stdout",
     "output_type": "stream",
     "text": [
      "The Candel 113 Fails when was tried to read it\n",
      "\n",
      "Iteracion:  13\n",
      "Fitting the area to scan...\n",
      "\n",
      " 113 Candels detected\n"
     ]
    },
    {
     "data": {
      "application/vnd.jupyter.widget-view+json": {
       "model_id": "e1de7208e1b246c2aa21518a98e90564",
       "version_major": 2,
       "version_minor": 0
      },
      "text/plain": [
       "HBox(children=(FloatProgress(value=0.0, max=113.0), HTML(value='')))"
      ]
     },
     "metadata": {},
     "output_type": "display_data"
    },
    {
     "name": "stdout",
     "output_type": "stream",
     "text": [
      "\n",
      "Iteracion:  14\n",
      "Fitting the area to scan...\n",
      "\n",
      " 114 Candels detected\n"
     ]
    },
    {
     "data": {
      "application/vnd.jupyter.widget-view+json": {
       "model_id": "30b5a727020145cdac89b11f348d14fb",
       "version_major": 2,
       "version_minor": 0
      },
      "text/plain": [
       "HBox(children=(FloatProgress(value=0.0, max=114.0), HTML(value='')))"
      ]
     },
     "metadata": {},
     "output_type": "display_data"
    },
    {
     "name": "stdout",
     "output_type": "stream",
     "text": [
      "\n",
      "Iteracion:  15\n",
      "Fitting the area to scan...\n",
      "\n",
      " 113 Candels detected\n"
     ]
    },
    {
     "data": {
      "application/vnd.jupyter.widget-view+json": {
       "model_id": "32444bb86b164f3097f04ee00a1b7271",
       "version_major": 2,
       "version_minor": 0
      },
      "text/plain": [
       "HBox(children=(FloatProgress(value=0.0, max=113.0), HTML(value='')))"
      ]
     },
     "metadata": {},
     "output_type": "display_data"
    },
    {
     "name": "stdout",
     "output_type": "stream",
     "text": [
      "\n",
      "Iteracion:  16\n",
      "Fitting the area to scan...\n",
      "\n",
      " 114 Candels detected\n"
     ]
    },
    {
     "data": {
      "application/vnd.jupyter.widget-view+json": {
       "model_id": "3e112a752c9945499083c1f2b13bd0ea",
       "version_major": 2,
       "version_minor": 0
      },
      "text/plain": [
       "HBox(children=(FloatProgress(value=0.0, max=114.0), HTML(value='')))"
      ]
     },
     "metadata": {},
     "output_type": "display_data"
    },
    {
     "name": "stdout",
     "output_type": "stream",
     "text": [
      "The Candel 0 Fails when was tried to read it\n",
      "\n",
      "Iteracion:  17\n",
      "Fitting the area to scan...\n",
      "\n",
      " 113 Candels detected\n"
     ]
    },
    {
     "data": {
      "application/vnd.jupyter.widget-view+json": {
       "model_id": "5fccf6fff85b4044b87b8346070898f7",
       "version_major": 2,
       "version_minor": 0
      },
      "text/plain": [
       "HBox(children=(FloatProgress(value=0.0, max=113.0), HTML(value='')))"
      ]
     },
     "metadata": {},
     "output_type": "display_data"
    },
    {
     "name": "stdout",
     "output_type": "stream",
     "text": [
      "\n",
      "Iteracion:  18\n",
      "Fitting the area to scan...\n",
      "\n",
      " 113 Candels detected\n"
     ]
    },
    {
     "data": {
      "application/vnd.jupyter.widget-view+json": {
       "model_id": "f8e9e15cc1f0448e8c70723a519a4df8",
       "version_major": 2,
       "version_minor": 0
      },
      "text/plain": [
       "HBox(children=(FloatProgress(value=0.0, max=113.0), HTML(value='')))"
      ]
     },
     "metadata": {},
     "output_type": "display_data"
    },
    {
     "name": "stdout",
     "output_type": "stream",
     "text": [
      "The Candel 0 Fails when was tried to read it\n",
      "\n",
      "Iteracion:  19\n",
      "Fitting the area to scan...\n",
      "\n",
      " 113 Candels detected\n"
     ]
    },
    {
     "data": {
      "application/vnd.jupyter.widget-view+json": {
       "model_id": "896d9997accd4b7c9f44669ef09085b6",
       "version_major": 2,
       "version_minor": 0
      },
      "text/plain": [
       "HBox(children=(FloatProgress(value=0.0, max=113.0), HTML(value='')))"
      ]
     },
     "metadata": {},
     "output_type": "display_data"
    },
    {
     "name": "stdout",
     "output_type": "stream",
     "text": [
      "\n",
      "Iteracion:  20\n",
      "Fitting the area to scan...\n",
      "\n",
      " 81 Candels detected\n"
     ]
    },
    {
     "data": {
      "application/vnd.jupyter.widget-view+json": {
       "model_id": "48d2267921aa4f4d833d45cfc2840b65",
       "version_major": 2,
       "version_minor": 0
      },
      "text/plain": [
       "HBox(children=(FloatProgress(value=0.0, max=81.0), HTML(value='')))"
      ]
     },
     "metadata": {},
     "output_type": "display_data"
    },
    {
     "name": "stdout",
     "output_type": "stream",
     "text": [
      "\n",
      "Iteracion:  21\n",
      "Space completed in  21 iterations\n",
      "Scrap function completed\n",
      "btc  Scrapped succesfully\n",
      "Opening browser...\n",
      "Maximizing window...\n",
      "Scrolling into graph...\n",
      "Scroller elements load successfully\n",
      "Fitting the area to scan...\n",
      "\n",
      " 76 Candels detected\n"
     ]
    },
    {
     "data": {
      "application/vnd.jupyter.widget-view+json": {
       "model_id": "69928c0ef469476091266e06f663e307",
       "version_major": 2,
       "version_minor": 0
      },
      "text/plain": [
       "HBox(children=(FloatProgress(value=0.0, max=76.0), HTML(value='')))"
      ]
     },
     "metadata": {},
     "output_type": "display_data"
    },
    {
     "name": "stdout",
     "output_type": "stream",
     "text": [
      "The Candel 75 Fails when was tried to read it\n",
      "\n",
      "Iteracion:  1\n",
      "Fitting the area to scan...\n",
      "\n",
      " 77 Candels detected\n"
     ]
    },
    {
     "data": {
      "application/vnd.jupyter.widget-view+json": {
       "model_id": "43b4975ecf754fdbae0aae7ec2f336b9",
       "version_major": 2,
       "version_minor": 0
      },
      "text/plain": [
       "HBox(children=(FloatProgress(value=0.0, max=77.0), HTML(value='')))"
      ]
     },
     "metadata": {},
     "output_type": "display_data"
    },
    {
     "name": "stdout",
     "output_type": "stream",
     "text": [
      "\n",
      "Iteracion:  2\n",
      "Fitting the area to scan...\n",
      "\n",
      " 78 Candels detected\n"
     ]
    },
    {
     "data": {
      "application/vnd.jupyter.widget-view+json": {
       "model_id": "4acc6f71b5904c30b90158d35c3be58f",
       "version_major": 2,
       "version_minor": 0
      },
      "text/plain": [
       "HBox(children=(FloatProgress(value=0.0, max=78.0), HTML(value='')))"
      ]
     },
     "metadata": {},
     "output_type": "display_data"
    },
    {
     "name": "stdout",
     "output_type": "stream",
     "text": [
      "\n",
      "Iteracion:  3\n",
      "Fitting the area to scan...\n",
      "\n",
      " 77 Candels detected\n"
     ]
    },
    {
     "data": {
      "application/vnd.jupyter.widget-view+json": {
       "model_id": "2542bec5143649e28a674a5b0329f0a7",
       "version_major": 2,
       "version_minor": 0
      },
      "text/plain": [
       "HBox(children=(FloatProgress(value=0.0, max=77.0), HTML(value='')))"
      ]
     },
     "metadata": {},
     "output_type": "display_data"
    },
    {
     "name": "stdout",
     "output_type": "stream",
     "text": [
      "\n",
      "Iteracion:  4\n",
      "Fitting the area to scan...\n",
      "\n",
      " 77 Candels detected\n"
     ]
    },
    {
     "data": {
      "application/vnd.jupyter.widget-view+json": {
       "model_id": "0d101a2b853e4e61a2324b3618c3f6fe",
       "version_major": 2,
       "version_minor": 0
      },
      "text/plain": [
       "HBox(children=(FloatProgress(value=0.0, max=77.0), HTML(value='')))"
      ]
     },
     "metadata": {},
     "output_type": "display_data"
    },
    {
     "name": "stdout",
     "output_type": "stream",
     "text": [
      "The Candel 0 Fails when was tried to read it\n",
      "\n",
      "Iteracion:  5\n",
      "Fitting the area to scan...\n",
      "\n",
      " 77 Candels detected\n"
     ]
    },
    {
     "data": {
      "application/vnd.jupyter.widget-view+json": {
       "model_id": "1d2f77715e604c82a7b5b42e90586135",
       "version_major": 2,
       "version_minor": 0
      },
      "text/plain": [
       "HBox(children=(FloatProgress(value=0.0, max=77.0), HTML(value='')))"
      ]
     },
     "metadata": {},
     "output_type": "display_data"
    },
    {
     "name": "stdout",
     "output_type": "stream",
     "text": [
      "\n",
      "Iteracion:  6\n",
      "Fitting the area to scan...\n",
      "\n",
      " 78 Candels detected\n"
     ]
    },
    {
     "data": {
      "application/vnd.jupyter.widget-view+json": {
       "model_id": "1f16deee0e0e4a42953eec86a2ea37ba",
       "version_major": 2,
       "version_minor": 0
      },
      "text/plain": [
       "HBox(children=(FloatProgress(value=0.0, max=78.0), HTML(value='')))"
      ]
     },
     "metadata": {},
     "output_type": "display_data"
    },
    {
     "name": "stdout",
     "output_type": "stream",
     "text": [
      "The Candel 77 Fails when was tried to read it\n",
      "\n",
      "Iteracion:  7\n",
      "Fitting the area to scan...\n",
      "\n",
      " 77 Candels detected\n"
     ]
    },
    {
     "data": {
      "application/vnd.jupyter.widget-view+json": {
       "model_id": "0495a6daf4de4a6781a0ccfe8c90d229",
       "version_major": 2,
       "version_minor": 0
      },
      "text/plain": [
       "HBox(children=(FloatProgress(value=0.0, max=77.0), HTML(value='')))"
      ]
     },
     "metadata": {},
     "output_type": "display_data"
    },
    {
     "name": "stdout",
     "output_type": "stream",
     "text": [
      "\n",
      "Iteracion:  8\n",
      "Fitting the area to scan...\n",
      "\n",
      " 77 Candels detected\n"
     ]
    },
    {
     "data": {
      "application/vnd.jupyter.widget-view+json": {
       "model_id": "ef5e9ae207ac485695a48740567e47cc",
       "version_major": 2,
       "version_minor": 0
      },
      "text/plain": [
       "HBox(children=(FloatProgress(value=0.0, max=77.0), HTML(value='')))"
      ]
     },
     "metadata": {},
     "output_type": "display_data"
    },
    {
     "name": "stdout",
     "output_type": "stream",
     "text": [
      "\n",
      "Iteracion:  9\n",
      "Fitting the area to scan...\n",
      "\n",
      " 77 Candels detected\n"
     ]
    },
    {
     "data": {
      "application/vnd.jupyter.widget-view+json": {
       "model_id": "578505267f1c427aad7d4144226215e3",
       "version_major": 2,
       "version_minor": 0
      },
      "text/plain": [
       "HBox(children=(FloatProgress(value=0.0, max=77.0), HTML(value='')))"
      ]
     },
     "metadata": {},
     "output_type": "display_data"
    },
    {
     "name": "stdout",
     "output_type": "stream",
     "text": [
      "\n",
      "Iteracion:  10\n",
      "Fitting the area to scan...\n",
      "\n",
      " 77 Candels detected\n"
     ]
    },
    {
     "data": {
      "application/vnd.jupyter.widget-view+json": {
       "model_id": "f1b5e4a9539840fb8072ac45d22039cd",
       "version_major": 2,
       "version_minor": 0
      },
      "text/plain": [
       "HBox(children=(FloatProgress(value=0.0, max=77.0), HTML(value='')))"
      ]
     },
     "metadata": {},
     "output_type": "display_data"
    },
    {
     "name": "stdout",
     "output_type": "stream",
     "text": [
      "\n",
      "Iteracion:  11\n",
      "Fitting the area to scan...\n",
      "\n",
      " 77 Candels detected\n"
     ]
    },
    {
     "data": {
      "application/vnd.jupyter.widget-view+json": {
       "model_id": "f6ec5c27f6c84be0ae9d06d7ca0011b7",
       "version_major": 2,
       "version_minor": 0
      },
      "text/plain": [
       "HBox(children=(FloatProgress(value=0.0, max=77.0), HTML(value='')))"
      ]
     },
     "metadata": {},
     "output_type": "display_data"
    },
    {
     "name": "stdout",
     "output_type": "stream",
     "text": [
      "\n",
      "Iteracion:  12\n",
      "Fitting the area to scan...\n",
      "\n",
      " 77 Candels detected\n"
     ]
    },
    {
     "data": {
      "application/vnd.jupyter.widget-view+json": {
       "model_id": "f676587a19f7483d920bfe113aaf1750",
       "version_major": 2,
       "version_minor": 0
      },
      "text/plain": [
       "HBox(children=(FloatProgress(value=0.0, max=77.0), HTML(value='')))"
      ]
     },
     "metadata": {},
     "output_type": "display_data"
    },
    {
     "name": "stdout",
     "output_type": "stream",
     "text": [
      "\n",
      "Iteracion:  13\n",
      "Fitting the area to scan...\n",
      "\n",
      " 77 Candels detected\n"
     ]
    },
    {
     "data": {
      "application/vnd.jupyter.widget-view+json": {
       "model_id": "f3236d67ec01468b805fa6d0de937883",
       "version_major": 2,
       "version_minor": 0
      },
      "text/plain": [
       "HBox(children=(FloatProgress(value=0.0, max=77.0), HTML(value='')))"
      ]
     },
     "metadata": {},
     "output_type": "display_data"
    },
    {
     "name": "stdout",
     "output_type": "stream",
     "text": [
      "\n",
      "Iteracion:  14\n",
      "Fitting the area to scan...\n",
      "\n",
      " 77 Candels detected\n"
     ]
    },
    {
     "data": {
      "application/vnd.jupyter.widget-view+json": {
       "model_id": "efdfca83865640e69b5fec079136a772",
       "version_major": 2,
       "version_minor": 0
      },
      "text/plain": [
       "HBox(children=(FloatProgress(value=0.0, max=77.0), HTML(value='')))"
      ]
     },
     "metadata": {},
     "output_type": "display_data"
    },
    {
     "name": "stdout",
     "output_type": "stream",
     "text": [
      "The Candel 0 Fails when was tried to read it\n",
      "\n",
      "Iteracion:  15\n",
      "Fitting the area to scan...\n",
      "\n",
      " 77 Candels detected\n"
     ]
    },
    {
     "data": {
      "application/vnd.jupyter.widget-view+json": {
       "model_id": "e16e8db2dd8f4e4f90d93072f32017a0",
       "version_major": 2,
       "version_minor": 0
      },
      "text/plain": [
       "HBox(children=(FloatProgress(value=0.0, max=77.0), HTML(value='')))"
      ]
     },
     "metadata": {},
     "output_type": "display_data"
    },
    {
     "name": "stdout",
     "output_type": "stream",
     "text": [
      "\n",
      "Iteracion:  16\n",
      "Fitting the area to scan...\n",
      "\n",
      " 77 Candels detected\n"
     ]
    },
    {
     "data": {
      "application/vnd.jupyter.widget-view+json": {
       "model_id": "df9ce61e36a54e0aa643faae80e9b1e6",
       "version_major": 2,
       "version_minor": 0
      },
      "text/plain": [
       "HBox(children=(FloatProgress(value=0.0, max=77.0), HTML(value='')))"
      ]
     },
     "metadata": {},
     "output_type": "display_data"
    },
    {
     "name": "stdout",
     "output_type": "stream",
     "text": [
      "The Candel 0 Fails when was tried to read it\n",
      "\n",
      "Iteracion:  17\n",
      "Fitting the area to scan...\n",
      "\n",
      " 78 Candels detected\n"
     ]
    },
    {
     "data": {
      "application/vnd.jupyter.widget-view+json": {
       "model_id": "25f1d6dd08d74adc9b13270d96d85fd5",
       "version_major": 2,
       "version_minor": 0
      },
      "text/plain": [
       "HBox(children=(FloatProgress(value=0.0, max=78.0), HTML(value='')))"
      ]
     },
     "metadata": {},
     "output_type": "display_data"
    },
    {
     "name": "stdout",
     "output_type": "stream",
     "text": [
      "\n",
      "Iteracion:  18\n",
      "Fitting the area to scan...\n",
      "\n",
      " 77 Candels detected\n"
     ]
    },
    {
     "data": {
      "application/vnd.jupyter.widget-view+json": {
       "model_id": "ce481258c7974ddab977224ca2d8bef6",
       "version_major": 2,
       "version_minor": 0
      },
      "text/plain": [
       "HBox(children=(FloatProgress(value=0.0, max=77.0), HTML(value='')))"
      ]
     },
     "metadata": {},
     "output_type": "display_data"
    },
    {
     "name": "stdout",
     "output_type": "stream",
     "text": [
      "\n",
      "Iteracion:  19\n",
      "Fitting the area to scan...\n",
      "\n",
      " 77 Candels detected\n"
     ]
    },
    {
     "data": {
      "application/vnd.jupyter.widget-view+json": {
       "model_id": "86c84e44b9914d039aeb7fb8ef17730d",
       "version_major": 2,
       "version_minor": 0
      },
      "text/plain": [
       "HBox(children=(FloatProgress(value=0.0, max=77.0), HTML(value='')))"
      ]
     },
     "metadata": {},
     "output_type": "display_data"
    },
    {
     "name": "stdout",
     "output_type": "stream",
     "text": [
      "\n",
      "Iteracion:  20\n",
      "Fitting the area to scan...\n",
      "\n",
      " 55 Candels detected\n"
     ]
    },
    {
     "data": {
      "application/vnd.jupyter.widget-view+json": {
       "model_id": "cdeb00f425ec412481fdc4f8fea5c93b",
       "version_major": 2,
       "version_minor": 0
      },
      "text/plain": [
       "HBox(children=(FloatProgress(value=0.0, max=55.0), HTML(value='')))"
      ]
     },
     "metadata": {},
     "output_type": "display_data"
    },
    {
     "name": "stdout",
     "output_type": "stream",
     "text": [
      "\n",
      "Iteracion:  21\n",
      "Space completed in  21 iterations\n",
      "Scrap function completed\n",
      "eth  Scrapped succesfully\n",
      "Opening browser...\n",
      "Maximizing window...\n",
      "Scrolling into graph...\n",
      "Scroller elements load successfully\n",
      "Fitting the area to scan...\n",
      "\n",
      " 55 Candels detected\n"
     ]
    },
    {
     "data": {
      "application/vnd.jupyter.widget-view+json": {
       "model_id": "9a44a963356c4b63ab48fbc34ee5bbbc",
       "version_major": 2,
       "version_minor": 0
      },
      "text/plain": [
       "HBox(children=(FloatProgress(value=0.0, max=55.0), HTML(value='')))"
      ]
     },
     "metadata": {},
     "output_type": "display_data"
    },
    {
     "name": "stdout",
     "output_type": "stream",
     "text": [
      "The Candel 0 Fails when was tried to read it\n",
      "\n",
      "Iteracion:  1\n",
      "Fitting the area to scan...\n",
      "\n",
      " 57 Candels detected\n"
     ]
    },
    {
     "data": {
      "application/vnd.jupyter.widget-view+json": {
       "model_id": "e85b6250c97644559095b8e7be6b1f6a",
       "version_major": 2,
       "version_minor": 0
      },
      "text/plain": [
       "HBox(children=(FloatProgress(value=0.0, max=57.0), HTML(value='')))"
      ]
     },
     "metadata": {},
     "output_type": "display_data"
    },
    {
     "name": "stdout",
     "output_type": "stream",
     "text": [
      "\n",
      "Iteracion:  2\n",
      "Fitting the area to scan...\n",
      "\n",
      " 57 Candels detected\n"
     ]
    },
    {
     "data": {
      "application/vnd.jupyter.widget-view+json": {
       "model_id": "12a7094cd23d43bd8018b6b9fc27c905",
       "version_major": 2,
       "version_minor": 0
      },
      "text/plain": [
       "HBox(children=(FloatProgress(value=0.0, max=57.0), HTML(value='')))"
      ]
     },
     "metadata": {},
     "output_type": "display_data"
    },
    {
     "name": "stdout",
     "output_type": "stream",
     "text": [
      "The Candel 56 Fails when was tried to read it\n",
      "\n",
      "Iteracion:  3\n",
      "Fitting the area to scan...\n",
      "\n",
      " 56 Candels detected\n"
     ]
    },
    {
     "data": {
      "application/vnd.jupyter.widget-view+json": {
       "model_id": "19214833056045a685fadef4cf08faaf",
       "version_major": 2,
       "version_minor": 0
      },
      "text/plain": [
       "HBox(children=(FloatProgress(value=0.0, max=56.0), HTML(value='')))"
      ]
     },
     "metadata": {},
     "output_type": "display_data"
    },
    {
     "name": "stdout",
     "output_type": "stream",
     "text": [
      "The Candel 0 Fails when was tried to read it\n",
      "\n",
      "Iteracion:  4\n",
      "Fitting the area to scan...\n",
      "\n",
      " 57 Candels detected\n"
     ]
    },
    {
     "data": {
      "application/vnd.jupyter.widget-view+json": {
       "model_id": "3ee27aafc5ab48eb8d44f4d5b243a25b",
       "version_major": 2,
       "version_minor": 0
      },
      "text/plain": [
       "HBox(children=(FloatProgress(value=0.0, max=57.0), HTML(value='')))"
      ]
     },
     "metadata": {},
     "output_type": "display_data"
    },
    {
     "name": "stdout",
     "output_type": "stream",
     "text": [
      "\n",
      "Iteracion:  5\n",
      "Fitting the area to scan...\n",
      "\n",
      " 57 Candels detected\n"
     ]
    },
    {
     "data": {
      "application/vnd.jupyter.widget-view+json": {
       "model_id": "a4ad6a2f64ba4b239802eaf5c30070ce",
       "version_major": 2,
       "version_minor": 0
      },
      "text/plain": [
       "HBox(children=(FloatProgress(value=0.0, max=57.0), HTML(value='')))"
      ]
     },
     "metadata": {},
     "output_type": "display_data"
    },
    {
     "name": "stdout",
     "output_type": "stream",
     "text": [
      "The Candel 56 Fails when was tried to read it\n",
      "\n",
      "Iteracion:  6\n",
      "Fitting the area to scan...\n",
      "\n",
      " 56 Candels detected\n"
     ]
    },
    {
     "data": {
      "application/vnd.jupyter.widget-view+json": {
       "model_id": "6d2b04c24999455eb98abebeaf1c77c7",
       "version_major": 2,
       "version_minor": 0
      },
      "text/plain": [
       "HBox(children=(FloatProgress(value=0.0, max=56.0), HTML(value='')))"
      ]
     },
     "metadata": {},
     "output_type": "display_data"
    },
    {
     "name": "stdout",
     "output_type": "stream",
     "text": [
      "\n",
      "Iteracion:  7\n",
      "Fitting the area to scan...\n",
      "\n",
      " 56 Candels detected\n"
     ]
    },
    {
     "data": {
      "application/vnd.jupyter.widget-view+json": {
       "model_id": "cce726752df44944b67162415a2b24c9",
       "version_major": 2,
       "version_minor": 0
      },
      "text/plain": [
       "HBox(children=(FloatProgress(value=0.0, max=56.0), HTML(value='')))"
      ]
     },
     "metadata": {},
     "output_type": "display_data"
    },
    {
     "name": "stdout",
     "output_type": "stream",
     "text": [
      "\n",
      "Iteracion:  8\n",
      "Fitting the area to scan...\n",
      "\n",
      " 57 Candels detected\n"
     ]
    },
    {
     "data": {
      "application/vnd.jupyter.widget-view+json": {
       "model_id": "26a7f0329a0a4936b6ab3852f2d73ae0",
       "version_major": 2,
       "version_minor": 0
      },
      "text/plain": [
       "HBox(children=(FloatProgress(value=0.0, max=57.0), HTML(value='')))"
      ]
     },
     "metadata": {},
     "output_type": "display_data"
    },
    {
     "name": "stdout",
     "output_type": "stream",
     "text": [
      "\n",
      "Iteracion:  9\n",
      "Fitting the area to scan...\n",
      "\n",
      " 56 Candels detected\n"
     ]
    },
    {
     "data": {
      "application/vnd.jupyter.widget-view+json": {
       "model_id": "314ab799e5c5439cb9cce61b6fb759a2",
       "version_major": 2,
       "version_minor": 0
      },
      "text/plain": [
       "HBox(children=(FloatProgress(value=0.0, max=56.0), HTML(value='')))"
      ]
     },
     "metadata": {},
     "output_type": "display_data"
    },
    {
     "name": "stdout",
     "output_type": "stream",
     "text": [
      "\n",
      "Iteracion:  10\n",
      "Fitting the area to scan...\n",
      "\n",
      " 56 Candels detected\n"
     ]
    },
    {
     "data": {
      "application/vnd.jupyter.widget-view+json": {
       "model_id": "dad341a09cdd40be8d90e10ab25172a5",
       "version_major": 2,
       "version_minor": 0
      },
      "text/plain": [
       "HBox(children=(FloatProgress(value=0.0, max=56.0), HTML(value='')))"
      ]
     },
     "metadata": {},
     "output_type": "display_data"
    },
    {
     "name": "stdout",
     "output_type": "stream",
     "text": [
      "\n",
      "Iteracion:  11\n",
      "Fitting the area to scan...\n",
      "\n",
      " 57 Candels detected\n"
     ]
    },
    {
     "data": {
      "application/vnd.jupyter.widget-view+json": {
       "model_id": "e990c1c1d02044afa614b7e65d3ad1ba",
       "version_major": 2,
       "version_minor": 0
      },
      "text/plain": [
       "HBox(children=(FloatProgress(value=0.0, max=57.0), HTML(value='')))"
      ]
     },
     "metadata": {},
     "output_type": "display_data"
    },
    {
     "name": "stdout",
     "output_type": "stream",
     "text": [
      "\n",
      "Iteracion:  12\n",
      "Fitting the area to scan...\n",
      "\n",
      " 56 Candels detected\n"
     ]
    },
    {
     "data": {
      "application/vnd.jupyter.widget-view+json": {
       "model_id": "5c7578f14df64234b5f151fa78691dfd",
       "version_major": 2,
       "version_minor": 0
      },
      "text/plain": [
       "HBox(children=(FloatProgress(value=0.0, max=56.0), HTML(value='')))"
      ]
     },
     "metadata": {},
     "output_type": "display_data"
    },
    {
     "name": "stdout",
     "output_type": "stream",
     "text": [
      "\n",
      "Iteracion:  13\n",
      "Fitting the area to scan...\n",
      "\n",
      " 56 Candels detected\n"
     ]
    },
    {
     "data": {
      "application/vnd.jupyter.widget-view+json": {
       "model_id": "9fdc35ae6f224e089fc9d64e22ac971d",
       "version_major": 2,
       "version_minor": 0
      },
      "text/plain": [
       "HBox(children=(FloatProgress(value=0.0, max=56.0), HTML(value='')))"
      ]
     },
     "metadata": {},
     "output_type": "display_data"
    },
    {
     "name": "stdout",
     "output_type": "stream",
     "text": [
      "The Candel 0 Fails when was tried to read it\n",
      "\n",
      "Iteracion:  14\n",
      "Fitting the area to scan...\n",
      "\n",
      " 57 Candels detected\n"
     ]
    },
    {
     "data": {
      "application/vnd.jupyter.widget-view+json": {
       "model_id": "a7f75c77c9f44fd38e4ddf99c2b6b252",
       "version_major": 2,
       "version_minor": 0
      },
      "text/plain": [
       "HBox(children=(FloatProgress(value=0.0, max=57.0), HTML(value='')))"
      ]
     },
     "metadata": {},
     "output_type": "display_data"
    },
    {
     "name": "stdout",
     "output_type": "stream",
     "text": [
      "The Candel 0 Fails when was tried to read it\n",
      "\n",
      "Iteracion:  15\n",
      "Fitting the area to scan...\n",
      "\n",
      " 57 Candels detected\n"
     ]
    },
    {
     "data": {
      "application/vnd.jupyter.widget-view+json": {
       "model_id": "8617e2bc5e884b359a9d10ff9a0b6bd0",
       "version_major": 2,
       "version_minor": 0
      },
      "text/plain": [
       "HBox(children=(FloatProgress(value=0.0, max=57.0), HTML(value='')))"
      ]
     },
     "metadata": {},
     "output_type": "display_data"
    },
    {
     "name": "stdout",
     "output_type": "stream",
     "text": [
      "The Candel 56 Fails when was tried to read it\n",
      "\n",
      "Iteracion:  16\n",
      "Fitting the area to scan...\n",
      "\n",
      " 56 Candels detected\n"
     ]
    },
    {
     "data": {
      "application/vnd.jupyter.widget-view+json": {
       "model_id": "9d0a90aed72444f2853176e498a5439b",
       "version_major": 2,
       "version_minor": 0
      },
      "text/plain": [
       "HBox(children=(FloatProgress(value=0.0, max=56.0), HTML(value='')))"
      ]
     },
     "metadata": {},
     "output_type": "display_data"
    },
    {
     "name": "stdout",
     "output_type": "stream",
     "text": [
      "\n",
      "Iteracion:  17\n",
      "Fitting the area to scan...\n",
      "\n",
      " 57 Candels detected\n"
     ]
    },
    {
     "data": {
      "application/vnd.jupyter.widget-view+json": {
       "model_id": "db29dbdd054c4e26b6ffeec6fd366a9b",
       "version_major": 2,
       "version_minor": 0
      },
      "text/plain": [
       "HBox(children=(FloatProgress(value=0.0, max=57.0), HTML(value='')))"
      ]
     },
     "metadata": {},
     "output_type": "display_data"
    },
    {
     "name": "stdout",
     "output_type": "stream",
     "text": [
      "The Candel 0 Fails when was tried to read it\n",
      "\n",
      "Iteracion:  18\n",
      "Fitting the area to scan...\n",
      "\n",
      " 57 Candels detected\n"
     ]
    },
    {
     "data": {
      "application/vnd.jupyter.widget-view+json": {
       "model_id": "826afd199291418ab36dcad742642a50",
       "version_major": 2,
       "version_minor": 0
      },
      "text/plain": [
       "HBox(children=(FloatProgress(value=0.0, max=57.0), HTML(value='')))"
      ]
     },
     "metadata": {},
     "output_type": "display_data"
    },
    {
     "name": "stdout",
     "output_type": "stream",
     "text": [
      "The Candel 0 Fails when was tried to read it\n",
      "\n",
      "Iteracion:  19\n",
      "Fitting the area to scan...\n",
      "\n",
      " 56 Candels detected\n"
     ]
    },
    {
     "data": {
      "application/vnd.jupyter.widget-view+json": {
       "model_id": "de258f716abc4721aa96b96c3911c7b8",
       "version_major": 2,
       "version_minor": 0
      },
      "text/plain": [
       "HBox(children=(FloatProgress(value=0.0, max=56.0), HTML(value='')))"
      ]
     },
     "metadata": {},
     "output_type": "display_data"
    },
    {
     "name": "stdout",
     "output_type": "stream",
     "text": [
      "\n",
      "Iteracion:  20\n",
      "Fitting the area to scan...\n",
      "\n",
      " 40 Candels detected\n"
     ]
    },
    {
     "data": {
      "application/vnd.jupyter.widget-view+json": {
       "model_id": "a9fabdd8c40f423eacb2b96d26d2e909",
       "version_major": 2,
       "version_minor": 0
      },
      "text/plain": [
       "HBox(children=(FloatProgress(value=0.0, max=40.0), HTML(value='')))"
      ]
     },
     "metadata": {},
     "output_type": "display_data"
    },
    {
     "name": "stdout",
     "output_type": "stream",
     "text": [
      "\n",
      "Iteracion:  21\n",
      "Space completed in  21 iterations\n",
      "Scrap function completed\n",
      "xrp  Scrapped succesfully\n",
      "Opening browser...\n",
      "Maximizing window...\n",
      "Scrolling into graph...\n",
      "Scroller elements load successfully\n",
      "Fitting the area to scan...\n",
      "\n",
      " 44 Candels detected\n"
     ]
    },
    {
     "data": {
      "application/vnd.jupyter.widget-view+json": {
       "model_id": "f769cc773ad2487db8a36200cadc8a23",
       "version_major": 2,
       "version_minor": 0
      },
      "text/plain": [
       "HBox(children=(FloatProgress(value=0.0, max=44.0), HTML(value='')))"
      ]
     },
     "metadata": {},
     "output_type": "display_data"
    },
    {
     "name": "stdout",
     "output_type": "stream",
     "text": [
      "\n",
      "Iteracion:  1\n",
      "Fitting the area to scan...\n",
      "\n",
      " 45 Candels detected\n"
     ]
    },
    {
     "data": {
      "application/vnd.jupyter.widget-view+json": {
       "model_id": "8528f056a54e49ac978986139aeb79da",
       "version_major": 2,
       "version_minor": 0
      },
      "text/plain": [
       "HBox(children=(FloatProgress(value=0.0, max=45.0), HTML(value='')))"
      ]
     },
     "metadata": {},
     "output_type": "display_data"
    },
    {
     "name": "stdout",
     "output_type": "stream",
     "text": [
      "\n",
      "Iteracion:  2\n",
      "Fitting the area to scan...\n",
      "\n",
      " 45 Candels detected\n"
     ]
    },
    {
     "data": {
      "application/vnd.jupyter.widget-view+json": {
       "model_id": "866b67364be84ca88b9d167318824d72",
       "version_major": 2,
       "version_minor": 0
      },
      "text/plain": [
       "HBox(children=(FloatProgress(value=0.0, max=45.0), HTML(value='')))"
      ]
     },
     "metadata": {},
     "output_type": "display_data"
    },
    {
     "name": "stdout",
     "output_type": "stream",
     "text": [
      "\n",
      "Iteracion:  3\n",
      "Fitting the area to scan...\n",
      "\n",
      " 46 Candels detected\n"
     ]
    },
    {
     "data": {
      "application/vnd.jupyter.widget-view+json": {
       "model_id": "a1d053b60786407eb5ba60adf01b43e4",
       "version_major": 2,
       "version_minor": 0
      },
      "text/plain": [
       "HBox(children=(FloatProgress(value=0.0, max=46.0), HTML(value='')))"
      ]
     },
     "metadata": {},
     "output_type": "display_data"
    },
    {
     "name": "stdout",
     "output_type": "stream",
     "text": [
      "The Candel 45 Fails when was tried to read it\n",
      "\n",
      "Iteracion:  4\n",
      "Fitting the area to scan...\n",
      "\n",
      " 46 Candels detected\n"
     ]
    },
    {
     "data": {
      "application/vnd.jupyter.widget-view+json": {
       "model_id": "964ff860ebb7482fa75f57174cdd08c4",
       "version_major": 2,
       "version_minor": 0
      },
      "text/plain": [
       "HBox(children=(FloatProgress(value=0.0, max=46.0), HTML(value='')))"
      ]
     },
     "metadata": {},
     "output_type": "display_data"
    },
    {
     "name": "stdout",
     "output_type": "stream",
     "text": [
      "The Candel 45 Fails when was tried to read it\n",
      "\n",
      "Iteracion:  5\n",
      "Fitting the area to scan...\n",
      "\n",
      " 46 Candels detected\n"
     ]
    },
    {
     "data": {
      "application/vnd.jupyter.widget-view+json": {
       "model_id": "9edb9d6b47c14f74aecbcd98f4cd761c",
       "version_major": 2,
       "version_minor": 0
      },
      "text/plain": [
       "HBox(children=(FloatProgress(value=0.0, max=46.0), HTML(value='')))"
      ]
     },
     "metadata": {},
     "output_type": "display_data"
    },
    {
     "name": "stdout",
     "output_type": "stream",
     "text": [
      "The Candel 45 Fails when was tried to read it\n",
      "\n",
      "Iteracion:  6\n",
      "Fitting the area to scan...\n",
      "\n",
      " 46 Candels detected\n"
     ]
    },
    {
     "data": {
      "application/vnd.jupyter.widget-view+json": {
       "model_id": "e1b002cc118a4ab89df8bf27b4a00c43",
       "version_major": 2,
       "version_minor": 0
      },
      "text/plain": [
       "HBox(children=(FloatProgress(value=0.0, max=46.0), HTML(value='')))"
      ]
     },
     "metadata": {},
     "output_type": "display_data"
    },
    {
     "name": "stdout",
     "output_type": "stream",
     "text": [
      "\n",
      "Iteracion:  7\n",
      "Fitting the area to scan...\n",
      "\n",
      " 46 Candels detected\n"
     ]
    },
    {
     "data": {
      "application/vnd.jupyter.widget-view+json": {
       "model_id": "e2cffd292edb44a284d9fb970913f23b",
       "version_major": 2,
       "version_minor": 0
      },
      "text/plain": [
       "HBox(children=(FloatProgress(value=0.0, max=46.0), HTML(value='')))"
      ]
     },
     "metadata": {},
     "output_type": "display_data"
    },
    {
     "name": "stdout",
     "output_type": "stream",
     "text": [
      "\n",
      "Iteracion:  8\n",
      "Fitting the area to scan...\n",
      "\n",
      " 46 Candels detected\n"
     ]
    },
    {
     "data": {
      "application/vnd.jupyter.widget-view+json": {
       "model_id": "870253c0d3f244e99e9a7d1c8a4fbf9b",
       "version_major": 2,
       "version_minor": 0
      },
      "text/plain": [
       "HBox(children=(FloatProgress(value=0.0, max=46.0), HTML(value='')))"
      ]
     },
     "metadata": {},
     "output_type": "display_data"
    },
    {
     "name": "stdout",
     "output_type": "stream",
     "text": [
      "\n",
      "Iteracion:  9\n",
      "Fitting the area to scan...\n",
      "\n",
      " 46 Candels detected\n"
     ]
    },
    {
     "data": {
      "application/vnd.jupyter.widget-view+json": {
       "model_id": "6a9e942c0bd14b2d99b00f1ce198e5d7",
       "version_major": 2,
       "version_minor": 0
      },
      "text/plain": [
       "HBox(children=(FloatProgress(value=0.0, max=46.0), HTML(value='')))"
      ]
     },
     "metadata": {},
     "output_type": "display_data"
    },
    {
     "name": "stdout",
     "output_type": "stream",
     "text": [
      "\n",
      "Iteracion:  10\n",
      "Fitting the area to scan...\n",
      "\n",
      " 46 Candels detected\n"
     ]
    },
    {
     "data": {
      "application/vnd.jupyter.widget-view+json": {
       "model_id": "28c6a505fd9c490586b87d851c02d6d0",
       "version_major": 2,
       "version_minor": 0
      },
      "text/plain": [
       "HBox(children=(FloatProgress(value=0.0, max=46.0), HTML(value='')))"
      ]
     },
     "metadata": {},
     "output_type": "display_data"
    },
    {
     "name": "stdout",
     "output_type": "stream",
     "text": [
      "\n",
      "Iteracion:  11\n",
      "Fitting the area to scan...\n",
      "\n",
      " 46 Candels detected\n"
     ]
    },
    {
     "data": {
      "application/vnd.jupyter.widget-view+json": {
       "model_id": "ea9ac3fbec2f43cbb5b0e528aff92907",
       "version_major": 2,
       "version_minor": 0
      },
      "text/plain": [
       "HBox(children=(FloatProgress(value=0.0, max=46.0), HTML(value='')))"
      ]
     },
     "metadata": {},
     "output_type": "display_data"
    },
    {
     "name": "stdout",
     "output_type": "stream",
     "text": [
      "The Candel 0 Fails when was tried to read it\n",
      "\n",
      "Iteracion:  12\n",
      "Fitting the area to scan...\n",
      "\n",
      " 46 Candels detected\n"
     ]
    },
    {
     "data": {
      "application/vnd.jupyter.widget-view+json": {
       "model_id": "94128051502b488aad7d1b7ec2924c84",
       "version_major": 2,
       "version_minor": 0
      },
      "text/plain": [
       "HBox(children=(FloatProgress(value=0.0, max=46.0), HTML(value='')))"
      ]
     },
     "metadata": {},
     "output_type": "display_data"
    },
    {
     "name": "stdout",
     "output_type": "stream",
     "text": [
      "\n",
      "Iteracion:  13\n",
      "Fitting the area to scan...\n",
      "\n",
      " 46 Candels detected\n"
     ]
    },
    {
     "data": {
      "application/vnd.jupyter.widget-view+json": {
       "model_id": "fda144fefc854896bf25c25b252b2f4d",
       "version_major": 2,
       "version_minor": 0
      },
      "text/plain": [
       "HBox(children=(FloatProgress(value=0.0, max=46.0), HTML(value='')))"
      ]
     },
     "metadata": {},
     "output_type": "display_data"
    },
    {
     "name": "stdout",
     "output_type": "stream",
     "text": [
      "\n",
      "Iteracion:  14\n",
      "Fitting the area to scan...\n",
      "\n",
      " 46 Candels detected\n"
     ]
    },
    {
     "data": {
      "application/vnd.jupyter.widget-view+json": {
       "model_id": "a1ea107735264314aff8b96f54aefffb",
       "version_major": 2,
       "version_minor": 0
      },
      "text/plain": [
       "HBox(children=(FloatProgress(value=0.0, max=46.0), HTML(value='')))"
      ]
     },
     "metadata": {},
     "output_type": "display_data"
    },
    {
     "name": "stdout",
     "output_type": "stream",
     "text": [
      "\n",
      "Iteracion:  15\n",
      "Fitting the area to scan...\n",
      "\n",
      " 46 Candels detected\n"
     ]
    },
    {
     "data": {
      "application/vnd.jupyter.widget-view+json": {
       "model_id": "bd6245704a79450f9a51b6c381a7404e",
       "version_major": 2,
       "version_minor": 0
      },
      "text/plain": [
       "HBox(children=(FloatProgress(value=0.0, max=46.0), HTML(value='')))"
      ]
     },
     "metadata": {},
     "output_type": "display_data"
    },
    {
     "name": "stdout",
     "output_type": "stream",
     "text": [
      "\n",
      "Iteracion:  16\n",
      "Fitting the area to scan...\n",
      "\n",
      " 46 Candels detected\n"
     ]
    },
    {
     "data": {
      "application/vnd.jupyter.widget-view+json": {
       "model_id": "31526fc149564ba28ffe9309acc30be4",
       "version_major": 2,
       "version_minor": 0
      },
      "text/plain": [
       "HBox(children=(FloatProgress(value=0.0, max=46.0), HTML(value='')))"
      ]
     },
     "metadata": {},
     "output_type": "display_data"
    },
    {
     "name": "stdout",
     "output_type": "stream",
     "text": [
      "\n",
      "Iteracion:  17\n",
      "Fitting the area to scan...\n",
      "\n",
      " 46 Candels detected\n"
     ]
    },
    {
     "data": {
      "application/vnd.jupyter.widget-view+json": {
       "model_id": "0ac7cb2062ca41e8926642f19d9152a7",
       "version_major": 2,
       "version_minor": 0
      },
      "text/plain": [
       "HBox(children=(FloatProgress(value=0.0, max=46.0), HTML(value='')))"
      ]
     },
     "metadata": {},
     "output_type": "display_data"
    },
    {
     "name": "stdout",
     "output_type": "stream",
     "text": [
      "\n",
      "Iteracion:  18\n",
      "Fitting the area to scan...\n",
      "\n",
      " 46 Candels detected\n"
     ]
    },
    {
     "data": {
      "application/vnd.jupyter.widget-view+json": {
       "model_id": "c5e16111d0874890bcdc3a5a33dbf9bd",
       "version_major": 2,
       "version_minor": 0
      },
      "text/plain": [
       "HBox(children=(FloatProgress(value=0.0, max=46.0), HTML(value='')))"
      ]
     },
     "metadata": {},
     "output_type": "display_data"
    },
    {
     "name": "stdout",
     "output_type": "stream",
     "text": [
      "The Candel 0 Fails when was tried to read it\n",
      "\n",
      "Iteracion:  19\n",
      "Fitting the area to scan...\n",
      "\n",
      " 46 Candels detected\n"
     ]
    },
    {
     "data": {
      "application/vnd.jupyter.widget-view+json": {
       "model_id": "cdac0c31b0d74b6da2b62c1b156f081e",
       "version_major": 2,
       "version_minor": 0
      },
      "text/plain": [
       "HBox(children=(FloatProgress(value=0.0, max=46.0), HTML(value='')))"
      ]
     },
     "metadata": {},
     "output_type": "display_data"
    },
    {
     "name": "stdout",
     "output_type": "stream",
     "text": [
      "The Candel 0 Fails when was tried to read it\n",
      "\n",
      "Iteracion:  20\n",
      "Fitting the area to scan...\n",
      "\n",
      " 32 Candels detected\n"
     ]
    },
    {
     "data": {
      "application/vnd.jupyter.widget-view+json": {
       "model_id": "6e77ea27f6424401b4d64c423047aab8",
       "version_major": 2,
       "version_minor": 0
      },
      "text/plain": [
       "HBox(children=(FloatProgress(value=0.0, max=32.0), HTML(value='')))"
      ]
     },
     "metadata": {},
     "output_type": "display_data"
    },
    {
     "name": "stdout",
     "output_type": "stream",
     "text": [
      "The Candel 0 Fails when was tried to read it\n",
      "\n",
      "Iteracion:  21\n",
      "Space completed in  21 iterations\n",
      "Scrap function completed\n",
      "ltc  Scrapped succesfully\n",
      "Opening browser...\n",
      "Maximizing window...\n",
      "Scrolling into graph...\n",
      "Scroller elements load successfully\n",
      "Fitting the area to scan...\n",
      "\n",
      " 39 Candels detected\n"
     ]
    },
    {
     "data": {
      "application/vnd.jupyter.widget-view+json": {
       "model_id": "863be9614dd04d8bb5d9430f29a21bd2",
       "version_major": 2,
       "version_minor": 0
      },
      "text/plain": [
       "HBox(children=(FloatProgress(value=0.0, max=39.0), HTML(value='')))"
      ]
     },
     "metadata": {},
     "output_type": "display_data"
    },
    {
     "name": "stdout",
     "output_type": "stream",
     "text": [
      "\n",
      "Iteracion:  1\n",
      "Fitting the area to scan...\n",
      "\n",
      " 41 Candels detected\n"
     ]
    },
    {
     "data": {
      "application/vnd.jupyter.widget-view+json": {
       "model_id": "60ce13978b3444a8b73d8144cde609ba",
       "version_major": 2,
       "version_minor": 0
      },
      "text/plain": [
       "HBox(children=(FloatProgress(value=0.0, max=41.0), HTML(value='')))"
      ]
     },
     "metadata": {},
     "output_type": "display_data"
    },
    {
     "name": "stdout",
     "output_type": "stream",
     "text": [
      "\n",
      "Iteracion:  2\n",
      "Fitting the area to scan...\n",
      "\n",
      " 40 Candels detected\n"
     ]
    },
    {
     "data": {
      "application/vnd.jupyter.widget-view+json": {
       "model_id": "f191de8797ba4236b83b9f16a448c707",
       "version_major": 2,
       "version_minor": 0
      },
      "text/plain": [
       "HBox(children=(FloatProgress(value=0.0, max=40.0), HTML(value='')))"
      ]
     },
     "metadata": {},
     "output_type": "display_data"
    },
    {
     "name": "stdout",
     "output_type": "stream",
     "text": [
      "\n",
      "Iteracion:  3\n",
      "Fitting the area to scan...\n",
      "\n",
      " 41 Candels detected\n"
     ]
    },
    {
     "data": {
      "application/vnd.jupyter.widget-view+json": {
       "model_id": "3bf6d7fdd8944a6e9282783f3c10ae30",
       "version_major": 2,
       "version_minor": 0
      },
      "text/plain": [
       "HBox(children=(FloatProgress(value=0.0, max=41.0), HTML(value='')))"
      ]
     },
     "metadata": {},
     "output_type": "display_data"
    },
    {
     "name": "stdout",
     "output_type": "stream",
     "text": [
      "\n",
      "Iteracion:  4\n",
      "Fitting the area to scan...\n",
      "\n",
      " 41 Candels detected\n"
     ]
    },
    {
     "data": {
      "application/vnd.jupyter.widget-view+json": {
       "model_id": "ddcca126179340d3ae7cbb7fc600c501",
       "version_major": 2,
       "version_minor": 0
      },
      "text/plain": [
       "HBox(children=(FloatProgress(value=0.0, max=41.0), HTML(value='')))"
      ]
     },
     "metadata": {},
     "output_type": "display_data"
    },
    {
     "name": "stdout",
     "output_type": "stream",
     "text": [
      "\n",
      "Iteracion:  5\n",
      "Fitting the area to scan...\n",
      "\n",
      " 40 Candels detected\n"
     ]
    },
    {
     "data": {
      "application/vnd.jupyter.widget-view+json": {
       "model_id": "c421e9fe7ba44e43a195c85cc05c1b63",
       "version_major": 2,
       "version_minor": 0
      },
      "text/plain": [
       "HBox(children=(FloatProgress(value=0.0, max=40.0), HTML(value='')))"
      ]
     },
     "metadata": {},
     "output_type": "display_data"
    },
    {
     "name": "stdout",
     "output_type": "stream",
     "text": [
      "\n",
      "Iteracion:  6\n",
      "Fitting the area to scan...\n",
      "\n",
      " 41 Candels detected\n"
     ]
    },
    {
     "data": {
      "application/vnd.jupyter.widget-view+json": {
       "model_id": "563b262f57954036bbd92f334330dcdc",
       "version_major": 2,
       "version_minor": 0
      },
      "text/plain": [
       "HBox(children=(FloatProgress(value=0.0, max=41.0), HTML(value='')))"
      ]
     },
     "metadata": {},
     "output_type": "display_data"
    },
    {
     "name": "stdout",
     "output_type": "stream",
     "text": [
      "\n",
      "Iteracion:  7\n",
      "Fitting the area to scan...\n",
      "\n",
      " 41 Candels detected\n"
     ]
    },
    {
     "data": {
      "application/vnd.jupyter.widget-view+json": {
       "model_id": "5042505034ba45b2b8e16c057a90e0ac",
       "version_major": 2,
       "version_minor": 0
      },
      "text/plain": [
       "HBox(children=(FloatProgress(value=0.0, max=41.0), HTML(value='')))"
      ]
     },
     "metadata": {},
     "output_type": "display_data"
    },
    {
     "name": "stdout",
     "output_type": "stream",
     "text": [
      "\n",
      "Iteracion:  8\n",
      "Fitting the area to scan...\n",
      "\n",
      " 41 Candels detected\n"
     ]
    },
    {
     "data": {
      "application/vnd.jupyter.widget-view+json": {
       "model_id": "25b7e86a02c94658a14ca83a5d2b2678",
       "version_major": 2,
       "version_minor": 0
      },
      "text/plain": [
       "HBox(children=(FloatProgress(value=0.0, max=41.0), HTML(value='')))"
      ]
     },
     "metadata": {},
     "output_type": "display_data"
    },
    {
     "name": "stdout",
     "output_type": "stream",
     "text": [
      "The Candel 40 Fails when was tried to read it\n",
      "\n",
      "Iteracion:  9\n",
      "Fitting the area to scan...\n",
      "\n",
      " 41 Candels detected\n"
     ]
    },
    {
     "data": {
      "application/vnd.jupyter.widget-view+json": {
       "model_id": "4dc3e45a1a5b4c01873c58b34429fbce",
       "version_major": 2,
       "version_minor": 0
      },
      "text/plain": [
       "HBox(children=(FloatProgress(value=0.0, max=41.0), HTML(value='')))"
      ]
     },
     "metadata": {},
     "output_type": "display_data"
    },
    {
     "name": "stdout",
     "output_type": "stream",
     "text": [
      "\n",
      "Iteracion:  10\n",
      "Fitting the area to scan...\n",
      "\n",
      " 41 Candels detected\n"
     ]
    },
    {
     "data": {
      "application/vnd.jupyter.widget-view+json": {
       "model_id": "85802743c4794fdb8deefbaa95252905",
       "version_major": 2,
       "version_minor": 0
      },
      "text/plain": [
       "HBox(children=(FloatProgress(value=0.0, max=41.0), HTML(value='')))"
      ]
     },
     "metadata": {},
     "output_type": "display_data"
    },
    {
     "name": "stdout",
     "output_type": "stream",
     "text": [
      "The Candel 0 Fails when was tried to read it\n",
      "\n",
      "Iteracion:  11\n",
      "Fitting the area to scan...\n",
      "\n",
      " 41 Candels detected\n"
     ]
    },
    {
     "data": {
      "application/vnd.jupyter.widget-view+json": {
       "model_id": "798ea95d788e4d718405e34a3784441a",
       "version_major": 2,
       "version_minor": 0
      },
      "text/plain": [
       "HBox(children=(FloatProgress(value=0.0, max=41.0), HTML(value='')))"
      ]
     },
     "metadata": {},
     "output_type": "display_data"
    },
    {
     "name": "stdout",
     "output_type": "stream",
     "text": [
      "The Candel 0 Fails when was tried to read it\n",
      "The Candel 40 Fails when was tried to read it\n",
      "\n",
      "Iteracion:  12\n",
      "Fitting the area to scan...\n",
      "\n",
      " 41 Candels detected\n"
     ]
    },
    {
     "data": {
      "application/vnd.jupyter.widget-view+json": {
       "model_id": "9fe64739bc46413398b20098dfc06733",
       "version_major": 2,
       "version_minor": 0
      },
      "text/plain": [
       "HBox(children=(FloatProgress(value=0.0, max=41.0), HTML(value='')))"
      ]
     },
     "metadata": {},
     "output_type": "display_data"
    },
    {
     "name": "stdout",
     "output_type": "stream",
     "text": [
      "\n",
      "Iteracion:  13\n",
      "Fitting the area to scan...\n",
      "\n",
      " 41 Candels detected\n"
     ]
    },
    {
     "data": {
      "application/vnd.jupyter.widget-view+json": {
       "model_id": "221e4f2f1c3e4727991ad568c41847d5",
       "version_major": 2,
       "version_minor": 0
      },
      "text/plain": [
       "HBox(children=(FloatProgress(value=0.0, max=41.0), HTML(value='')))"
      ]
     },
     "metadata": {},
     "output_type": "display_data"
    },
    {
     "name": "stdout",
     "output_type": "stream",
     "text": [
      "\n",
      "Iteracion:  14\n",
      "Fitting the area to scan...\n",
      "\n",
      " 41 Candels detected\n"
     ]
    },
    {
     "data": {
      "application/vnd.jupyter.widget-view+json": {
       "model_id": "41fbaf3673154f6cafcb4273ba3af123",
       "version_major": 2,
       "version_minor": 0
      },
      "text/plain": [
       "HBox(children=(FloatProgress(value=0.0, max=41.0), HTML(value='')))"
      ]
     },
     "metadata": {},
     "output_type": "display_data"
    },
    {
     "name": "stdout",
     "output_type": "stream",
     "text": [
      "\n",
      "Iteracion:  15\n",
      "Fitting the area to scan...\n",
      "\n",
      " 41 Candels detected\n"
     ]
    },
    {
     "data": {
      "application/vnd.jupyter.widget-view+json": {
       "model_id": "9f026b4cad92413ebab8b54a8096d39e",
       "version_major": 2,
       "version_minor": 0
      },
      "text/plain": [
       "HBox(children=(FloatProgress(value=0.0, max=41.0), HTML(value='')))"
      ]
     },
     "metadata": {},
     "output_type": "display_data"
    },
    {
     "name": "stdout",
     "output_type": "stream",
     "text": [
      "\n",
      "Iteracion:  16\n",
      "Fitting the area to scan...\n",
      "\n",
      " 41 Candels detected\n"
     ]
    },
    {
     "data": {
      "application/vnd.jupyter.widget-view+json": {
       "model_id": "4a6a3aa41a3749e9bae20ed7a0462938",
       "version_major": 2,
       "version_minor": 0
      },
      "text/plain": [
       "HBox(children=(FloatProgress(value=0.0, max=41.0), HTML(value='')))"
      ]
     },
     "metadata": {},
     "output_type": "display_data"
    },
    {
     "name": "stdout",
     "output_type": "stream",
     "text": [
      "\n",
      "Iteracion:  17\n",
      "Fitting the area to scan...\n",
      "\n",
      " 41 Candels detected\n"
     ]
    },
    {
     "data": {
      "application/vnd.jupyter.widget-view+json": {
       "model_id": "f8cecddf16134e9a81e0676ab08af603",
       "version_major": 2,
       "version_minor": 0
      },
      "text/plain": [
       "HBox(children=(FloatProgress(value=0.0, max=41.0), HTML(value='')))"
      ]
     },
     "metadata": {},
     "output_type": "display_data"
    },
    {
     "name": "stdout",
     "output_type": "stream",
     "text": [
      "\n",
      "Iteracion:  18\n",
      "Fitting the area to scan...\n",
      "\n",
      " 41 Candels detected\n"
     ]
    },
    {
     "data": {
      "application/vnd.jupyter.widget-view+json": {
       "model_id": "a4d97b26b55e4d159595009b8ef6ffc6",
       "version_major": 2,
       "version_minor": 0
      },
      "text/plain": [
       "HBox(children=(FloatProgress(value=0.0, max=41.0), HTML(value='')))"
      ]
     },
     "metadata": {},
     "output_type": "display_data"
    },
    {
     "name": "stdout",
     "output_type": "stream",
     "text": [
      "\n",
      "Iteracion:  19\n",
      "Fitting the area to scan...\n",
      "\n",
      " 41 Candels detected\n"
     ]
    },
    {
     "data": {
      "application/vnd.jupyter.widget-view+json": {
       "model_id": "c370abaa8c5b4d5ba28f69fd15f4a639",
       "version_major": 2,
       "version_minor": 0
      },
      "text/plain": [
       "HBox(children=(FloatProgress(value=0.0, max=41.0), HTML(value='')))"
      ]
     },
     "metadata": {},
     "output_type": "display_data"
    },
    {
     "name": "stdout",
     "output_type": "stream",
     "text": [
      "\n",
      "Iteracion:  20\n",
      "Fitting the area to scan...\n",
      "\n",
      " 29 Candels detected\n"
     ]
    },
    {
     "data": {
      "application/vnd.jupyter.widget-view+json": {
       "model_id": "eb3f0c3c48bd46bea1fc42a4d5f76cd4",
       "version_major": 2,
       "version_minor": 0
      },
      "text/plain": [
       "HBox(children=(FloatProgress(value=0.0, max=29.0), HTML(value='')))"
      ]
     },
     "metadata": {},
     "output_type": "display_data"
    },
    {
     "name": "stdout",
     "output_type": "stream",
     "text": [
      "\n",
      "Iteracion:  21\n",
      "Space completed in  21 iterations\n",
      "Scrap function completed\n",
      "bch  Scrapped succesfully\n",
      "Opening browser...\n",
      "Maximizing window...\n",
      "Scrolling into graph...\n",
      "Scroller elements load successfully\n",
      "Fitting the area to scan...\n",
      "\n",
      " 36 Candels detected\n"
     ]
    },
    {
     "data": {
      "application/vnd.jupyter.widget-view+json": {
       "model_id": "90075402563d4d16bbb12b3c2a401c46",
       "version_major": 2,
       "version_minor": 0
      },
      "text/plain": [
       "HBox(children=(FloatProgress(value=0.0, max=36.0), HTML(value='')))"
      ]
     },
     "metadata": {},
     "output_type": "display_data"
    },
    {
     "name": "stdout",
     "output_type": "stream",
     "text": [
      "\n",
      "Iteracion:  1\n",
      "Fitting the area to scan...\n",
      "\n",
      " 37 Candels detected\n"
     ]
    },
    {
     "data": {
      "application/vnd.jupyter.widget-view+json": {
       "model_id": "569e0592cea64c3bbf2d364cd097c2a9",
       "version_major": 2,
       "version_minor": 0
      },
      "text/plain": [
       "HBox(children=(FloatProgress(value=0.0, max=37.0), HTML(value='')))"
      ]
     },
     "metadata": {},
     "output_type": "display_data"
    },
    {
     "name": "stdout",
     "output_type": "stream",
     "text": [
      "\n",
      "Iteracion:  2\n",
      "Fitting the area to scan...\n",
      "\n",
      " 36 Candels detected\n"
     ]
    },
    {
     "data": {
      "application/vnd.jupyter.widget-view+json": {
       "model_id": "b3e8c309bce649349f653153a5951754",
       "version_major": 2,
       "version_minor": 0
      },
      "text/plain": [
       "HBox(children=(FloatProgress(value=0.0, max=36.0), HTML(value='')))"
      ]
     },
     "metadata": {},
     "output_type": "display_data"
    },
    {
     "name": "stdout",
     "output_type": "stream",
     "text": [
      "\n",
      "Iteracion:  3\n",
      "Fitting the area to scan...\n",
      "\n",
      " 37 Candels detected\n"
     ]
    },
    {
     "data": {
      "application/vnd.jupyter.widget-view+json": {
       "model_id": "ba40cd6796f5480981297210929533b0",
       "version_major": 2,
       "version_minor": 0
      },
      "text/plain": [
       "HBox(children=(FloatProgress(value=0.0, max=37.0), HTML(value='')))"
      ]
     },
     "metadata": {},
     "output_type": "display_data"
    },
    {
     "name": "stdout",
     "output_type": "stream",
     "text": [
      "\n",
      "Iteracion:  4\n",
      "Fitting the area to scan...\n",
      "\n",
      " 37 Candels detected\n"
     ]
    },
    {
     "data": {
      "application/vnd.jupyter.widget-view+json": {
       "model_id": "bb90dc66d6894a9f974b26ea1511d8d3",
       "version_major": 2,
       "version_minor": 0
      },
      "text/plain": [
       "HBox(children=(FloatProgress(value=0.0, max=37.0), HTML(value='')))"
      ]
     },
     "metadata": {},
     "output_type": "display_data"
    },
    {
     "name": "stdout",
     "output_type": "stream",
     "text": [
      "\n",
      "Iteracion:  5\n",
      "Fitting the area to scan...\n",
      "\n",
      " 36 Candels detected\n"
     ]
    },
    {
     "data": {
      "application/vnd.jupyter.widget-view+json": {
       "model_id": "20dec35aaa5b41a3ba0cc5e6a2fb248a",
       "version_major": 2,
       "version_minor": 0
      },
      "text/plain": [
       "HBox(children=(FloatProgress(value=0.0, max=36.0), HTML(value='')))"
      ]
     },
     "metadata": {},
     "output_type": "display_data"
    },
    {
     "name": "stdout",
     "output_type": "stream",
     "text": [
      "\n",
      "Iteracion:  6\n",
      "Fitting the area to scan...\n",
      "\n",
      " 37 Candels detected\n"
     ]
    },
    {
     "data": {
      "application/vnd.jupyter.widget-view+json": {
       "model_id": "897de9f894ee4f4dac21c42be6d76a3a",
       "version_major": 2,
       "version_minor": 0
      },
      "text/plain": [
       "HBox(children=(FloatProgress(value=0.0, max=37.0), HTML(value='')))"
      ]
     },
     "metadata": {},
     "output_type": "display_data"
    },
    {
     "name": "stdout",
     "output_type": "stream",
     "text": [
      "\n",
      "Iteracion:  7\n",
      "Fitting the area to scan...\n",
      "\n",
      " 37 Candels detected\n"
     ]
    },
    {
     "data": {
      "application/vnd.jupyter.widget-view+json": {
       "model_id": "f2a711d80b9b462ca4184c1466f04348",
       "version_major": 2,
       "version_minor": 0
      },
      "text/plain": [
       "HBox(children=(FloatProgress(value=0.0, max=37.0), HTML(value='')))"
      ]
     },
     "metadata": {},
     "output_type": "display_data"
    },
    {
     "name": "stdout",
     "output_type": "stream",
     "text": [
      "\n",
      "Iteracion:  8\n",
      "Fitting the area to scan...\n",
      "\n",
      " 36 Candels detected\n"
     ]
    },
    {
     "data": {
      "application/vnd.jupyter.widget-view+json": {
       "model_id": "ce123544a96e46c48bf079d20576df47",
       "version_major": 2,
       "version_minor": 0
      },
      "text/plain": [
       "HBox(children=(FloatProgress(value=0.0, max=36.0), HTML(value='')))"
      ]
     },
     "metadata": {},
     "output_type": "display_data"
    },
    {
     "name": "stdout",
     "output_type": "stream",
     "text": [
      "\n",
      "Iteracion:  9\n",
      "Fitting the area to scan...\n",
      "\n",
      " 37 Candels detected\n"
     ]
    },
    {
     "data": {
      "application/vnd.jupyter.widget-view+json": {
       "model_id": "1baa1d387923447e9fae1f476ebbc23f",
       "version_major": 2,
       "version_minor": 0
      },
      "text/plain": [
       "HBox(children=(FloatProgress(value=0.0, max=37.0), HTML(value='')))"
      ]
     },
     "metadata": {},
     "output_type": "display_data"
    },
    {
     "name": "stdout",
     "output_type": "stream",
     "text": [
      "\n",
      "Iteracion:  10\n",
      "Fitting the area to scan...\n",
      "\n",
      " 37 Candels detected\n"
     ]
    },
    {
     "data": {
      "application/vnd.jupyter.widget-view+json": {
       "model_id": "035fe871d1ae45758f1da513799c9544",
       "version_major": 2,
       "version_minor": 0
      },
      "text/plain": [
       "HBox(children=(FloatProgress(value=0.0, max=37.0), HTML(value='')))"
      ]
     },
     "metadata": {},
     "output_type": "display_data"
    },
    {
     "name": "stdout",
     "output_type": "stream",
     "text": [
      "\n",
      "Iteracion:  11\n",
      "Fitting the area to scan...\n",
      "\n",
      " 36 Candels detected\n"
     ]
    },
    {
     "data": {
      "application/vnd.jupyter.widget-view+json": {
       "model_id": "adf26957279148ff8074d2763850b409",
       "version_major": 2,
       "version_minor": 0
      },
      "text/plain": [
       "HBox(children=(FloatProgress(value=0.0, max=36.0), HTML(value='')))"
      ]
     },
     "metadata": {},
     "output_type": "display_data"
    },
    {
     "name": "stdout",
     "output_type": "stream",
     "text": [
      "The Candel 0 Fails when was tried to read it\n",
      "\n",
      "Iteracion:  12\n",
      "Fitting the area to scan...\n",
      "\n",
      " 37 Candels detected\n"
     ]
    },
    {
     "data": {
      "application/vnd.jupyter.widget-view+json": {
       "model_id": "72ceced5576146c6bab91b476f01bd90",
       "version_major": 2,
       "version_minor": 0
      },
      "text/plain": [
       "HBox(children=(FloatProgress(value=0.0, max=37.0), HTML(value='')))"
      ]
     },
     "metadata": {},
     "output_type": "display_data"
    },
    {
     "name": "stdout",
     "output_type": "stream",
     "text": [
      "\n",
      "Iteracion:  13\n",
      "Fitting the area to scan...\n",
      "\n",
      " 37 Candels detected\n"
     ]
    },
    {
     "data": {
      "application/vnd.jupyter.widget-view+json": {
       "model_id": "f4849b4ba4e24f3fa41327de21a04adb",
       "version_major": 2,
       "version_minor": 0
      },
      "text/plain": [
       "HBox(children=(FloatProgress(value=0.0, max=37.0), HTML(value='')))"
      ]
     },
     "metadata": {},
     "output_type": "display_data"
    },
    {
     "name": "stdout",
     "output_type": "stream",
     "text": [
      "The Candel 0 Fails when was tried to read it\n",
      "\n",
      "Iteracion:  14\n",
      "Fitting the area to scan...\n",
      "\n",
      " 36 Candels detected\n"
     ]
    },
    {
     "data": {
      "application/vnd.jupyter.widget-view+json": {
       "model_id": "4cd717ae9335409289e58f1525f0fb6b",
       "version_major": 2,
       "version_minor": 0
      },
      "text/plain": [
       "HBox(children=(FloatProgress(value=0.0, max=36.0), HTML(value='')))"
      ]
     },
     "metadata": {},
     "output_type": "display_data"
    },
    {
     "name": "stdout",
     "output_type": "stream",
     "text": [
      "The Candel 0 Fails when was tried to read it\n",
      "\n",
      "Iteracion:  15\n",
      "Fitting the area to scan...\n",
      "\n",
      " 37 Candels detected\n"
     ]
    },
    {
     "data": {
      "application/vnd.jupyter.widget-view+json": {
       "model_id": "ec3b3c51d35b49af81a4768371612ae3",
       "version_major": 2,
       "version_minor": 0
      },
      "text/plain": [
       "HBox(children=(FloatProgress(value=0.0, max=37.0), HTML(value='')))"
      ]
     },
     "metadata": {},
     "output_type": "display_data"
    },
    {
     "name": "stdout",
     "output_type": "stream",
     "text": [
      "The Candel 0 Fails when was tried to read it\n",
      "\n",
      "Iteracion:  16\n",
      "Fitting the area to scan...\n",
      "\n",
      " 37 Candels detected\n"
     ]
    },
    {
     "data": {
      "application/vnd.jupyter.widget-view+json": {
       "model_id": "454ccbc708b842bd886f5fbc6472e659",
       "version_major": 2,
       "version_minor": 0
      },
      "text/plain": [
       "HBox(children=(FloatProgress(value=0.0, max=37.0), HTML(value='')))"
      ]
     },
     "metadata": {},
     "output_type": "display_data"
    },
    {
     "name": "stdout",
     "output_type": "stream",
     "text": [
      "The Candel 0 Fails when was tried to read it\n",
      "\n",
      "Iteracion:  17\n",
      "Fitting the area to scan...\n",
      "\n",
      " 36 Candels detected\n"
     ]
    },
    {
     "data": {
      "application/vnd.jupyter.widget-view+json": {
       "model_id": "a951f6a4134b49658ec55d9d63dd9516",
       "version_major": 2,
       "version_minor": 0
      },
      "text/plain": [
       "HBox(children=(FloatProgress(value=0.0, max=36.0), HTML(value='')))"
      ]
     },
     "metadata": {},
     "output_type": "display_data"
    },
    {
     "name": "stdout",
     "output_type": "stream",
     "text": [
      "\n",
      "Iteracion:  18\n",
      "Fitting the area to scan...\n",
      "\n",
      " 37 Candels detected\n"
     ]
    },
    {
     "data": {
      "application/vnd.jupyter.widget-view+json": {
       "model_id": "4e069312592f4f35a73739bfd1bb79d5",
       "version_major": 2,
       "version_minor": 0
      },
      "text/plain": [
       "HBox(children=(FloatProgress(value=0.0, max=37.0), HTML(value='')))"
      ]
     },
     "metadata": {},
     "output_type": "display_data"
    },
    {
     "name": "stdout",
     "output_type": "stream",
     "text": [
      "\n",
      "Iteracion:  19\n",
      "Fitting the area to scan...\n",
      "\n",
      " 37 Candels detected\n"
     ]
    },
    {
     "data": {
      "application/vnd.jupyter.widget-view+json": {
       "model_id": "a0178c09336c453f996b2ddf11fc250e",
       "version_major": 2,
       "version_minor": 0
      },
      "text/plain": [
       "HBox(children=(FloatProgress(value=0.0, max=37.0), HTML(value='')))"
      ]
     },
     "metadata": {},
     "output_type": "display_data"
    },
    {
     "name": "stdout",
     "output_type": "stream",
     "text": [
      "\n",
      "Iteracion:  20\n",
      "Fitting the area to scan...\n",
      "\n",
      " 26 Candels detected\n"
     ]
    },
    {
     "data": {
      "application/vnd.jupyter.widget-view+json": {
       "model_id": "bce590f8031c45e9be6c5cd056c63754",
       "version_major": 2,
       "version_minor": 0
      },
      "text/plain": [
       "HBox(children=(FloatProgress(value=0.0, max=26.0), HTML(value='')))"
      ]
     },
     "metadata": {},
     "output_type": "display_data"
    },
    {
     "name": "stdout",
     "output_type": "stream",
     "text": [
      "\n",
      "Iteracion:  21\n",
      "Space completed in  21 iterations\n",
      "Scrap function completed\n",
      "tusd  Scrapped succesfully\n",
      "Opening browser...\n",
      "Maximizing window...\n",
      "Scrolling into graph...\n",
      "Loading scrollers...\n",
      "Scroller elements load successfully\n",
      "Fitting the area to scan...\n",
      "\n",
      " 29 Candels detected\n"
     ]
    },
    {
     "data": {
      "application/vnd.jupyter.widget-view+json": {
       "model_id": "2102181b14354df088c676dcfb9ad70e",
       "version_major": 2,
       "version_minor": 0
      },
      "text/plain": [
       "HBox(children=(FloatProgress(value=0.0, max=29.0), HTML(value='')))"
      ]
     },
     "metadata": {},
     "output_type": "display_data"
    },
    {
     "name": "stdout",
     "output_type": "stream",
     "text": [
      "\n",
      "Iteracion:  1\n",
      "Fitting the area to scan...\n",
      "\n",
      " 30 Candels detected\n"
     ]
    },
    {
     "data": {
      "application/vnd.jupyter.widget-view+json": {
       "model_id": "ff47f4bb43964a59a998b6ca714478ec",
       "version_major": 2,
       "version_minor": 0
      },
      "text/plain": [
       "HBox(children=(FloatProgress(value=0.0, max=30.0), HTML(value='')))"
      ]
     },
     "metadata": {},
     "output_type": "display_data"
    },
    {
     "name": "stdout",
     "output_type": "stream",
     "text": [
      "\n",
      "Iteracion:  2\n",
      "Fitting the area to scan...\n",
      "\n",
      " 31 Candels detected\n"
     ]
    },
    {
     "data": {
      "application/vnd.jupyter.widget-view+json": {
       "model_id": "8e2c18a8f9d9423f90bf62c7b68ab667",
       "version_major": 2,
       "version_minor": 0
      },
      "text/plain": [
       "HBox(children=(FloatProgress(value=0.0, max=31.0), HTML(value='')))"
      ]
     },
     "metadata": {},
     "output_type": "display_data"
    },
    {
     "name": "stdout",
     "output_type": "stream",
     "text": [
      "\n",
      "Iteracion:  3\n",
      "Fitting the area to scan...\n",
      "\n",
      " 30 Candels detected\n"
     ]
    },
    {
     "data": {
      "application/vnd.jupyter.widget-view+json": {
       "model_id": "d83b501a5b004f01b8e9394be46fd9ef",
       "version_major": 2,
       "version_minor": 0
      },
      "text/plain": [
       "HBox(children=(FloatProgress(value=0.0, max=30.0), HTML(value='')))"
      ]
     },
     "metadata": {},
     "output_type": "display_data"
    },
    {
     "name": "stdout",
     "output_type": "stream",
     "text": [
      "\n",
      "Iteracion:  4\n",
      "Fitting the area to scan...\n",
      "\n",
      " 31 Candels detected\n"
     ]
    },
    {
     "data": {
      "application/vnd.jupyter.widget-view+json": {
       "model_id": "2b60ac78d90e4ba889e2beae1a280a00",
       "version_major": 2,
       "version_minor": 0
      },
      "text/plain": [
       "HBox(children=(FloatProgress(value=0.0, max=31.0), HTML(value='')))"
      ]
     },
     "metadata": {},
     "output_type": "display_data"
    },
    {
     "name": "stdout",
     "output_type": "stream",
     "text": [
      "\n",
      "Iteracion:  5\n",
      "Fitting the area to scan...\n",
      "\n",
      " 30 Candels detected\n"
     ]
    },
    {
     "data": {
      "application/vnd.jupyter.widget-view+json": {
       "model_id": "6a512671669c4656ab7ea63c0a8b6c7d",
       "version_major": 2,
       "version_minor": 0
      },
      "text/plain": [
       "HBox(children=(FloatProgress(value=0.0, max=30.0), HTML(value='')))"
      ]
     },
     "metadata": {},
     "output_type": "display_data"
    },
    {
     "name": "stdout",
     "output_type": "stream",
     "text": [
      "\n",
      "Iteracion:  6\n",
      "Fitting the area to scan...\n",
      "\n",
      " 30 Candels detected\n"
     ]
    },
    {
     "data": {
      "application/vnd.jupyter.widget-view+json": {
       "model_id": "6292c3c8638144a78d60655fd361526d",
       "version_major": 2,
       "version_minor": 0
      },
      "text/plain": [
       "HBox(children=(FloatProgress(value=0.0, max=30.0), HTML(value='')))"
      ]
     },
     "metadata": {},
     "output_type": "display_data"
    },
    {
     "name": "stdout",
     "output_type": "stream",
     "text": [
      "\n",
      "Iteracion:  7\n",
      "Fitting the area to scan...\n",
      "\n",
      " 30 Candels detected\n"
     ]
    },
    {
     "data": {
      "application/vnd.jupyter.widget-view+json": {
       "model_id": "257b8d3be62144fa8fe68cf70676a943",
       "version_major": 2,
       "version_minor": 0
      },
      "text/plain": [
       "HBox(children=(FloatProgress(value=0.0, max=30.0), HTML(value='')))"
      ]
     },
     "metadata": {},
     "output_type": "display_data"
    },
    {
     "name": "stdout",
     "output_type": "stream",
     "text": [
      "\n",
      "Iteracion:  8\n",
      "Fitting the area to scan...\n",
      "\n",
      " 30 Candels detected\n"
     ]
    },
    {
     "data": {
      "application/vnd.jupyter.widget-view+json": {
       "model_id": "a8b81b6cb4184d5d9af75d4ea465422a",
       "version_major": 2,
       "version_minor": 0
      },
      "text/plain": [
       "HBox(children=(FloatProgress(value=0.0, max=30.0), HTML(value='')))"
      ]
     },
     "metadata": {},
     "output_type": "display_data"
    },
    {
     "name": "stdout",
     "output_type": "stream",
     "text": [
      "\n",
      "Iteracion:  9\n",
      "Fitting the area to scan...\n",
      "\n",
      " 30 Candels detected\n"
     ]
    },
    {
     "data": {
      "application/vnd.jupyter.widget-view+json": {
       "model_id": "35adb344de0840df81d52751486f415e",
       "version_major": 2,
       "version_minor": 0
      },
      "text/plain": [
       "HBox(children=(FloatProgress(value=0.0, max=30.0), HTML(value='')))"
      ]
     },
     "metadata": {},
     "output_type": "display_data"
    },
    {
     "name": "stdout",
     "output_type": "stream",
     "text": [
      "\n",
      "Iteracion:  10\n",
      "Fitting the area to scan...\n",
      "\n",
      " 30 Candels detected\n"
     ]
    },
    {
     "data": {
      "application/vnd.jupyter.widget-view+json": {
       "model_id": "619c1c85d6d942e7807ef6275c382492",
       "version_major": 2,
       "version_minor": 0
      },
      "text/plain": [
       "HBox(children=(FloatProgress(value=0.0, max=30.0), HTML(value='')))"
      ]
     },
     "metadata": {},
     "output_type": "display_data"
    },
    {
     "name": "stdout",
     "output_type": "stream",
     "text": [
      "\n",
      "Iteracion:  11\n",
      "Fitting the area to scan...\n",
      "\n",
      " 31 Candels detected\n"
     ]
    },
    {
     "data": {
      "application/vnd.jupyter.widget-view+json": {
       "model_id": "020ad5dcf30e4d469fd6f6aac5d5fccc",
       "version_major": 2,
       "version_minor": 0
      },
      "text/plain": [
       "HBox(children=(FloatProgress(value=0.0, max=31.0), HTML(value='')))"
      ]
     },
     "metadata": {},
     "output_type": "display_data"
    },
    {
     "name": "stdout",
     "output_type": "stream",
     "text": [
      "\n",
      "Iteracion:  12\n",
      "Fitting the area to scan...\n",
      "\n",
      " 30 Candels detected\n"
     ]
    },
    {
     "data": {
      "application/vnd.jupyter.widget-view+json": {
       "model_id": "1da57b42a90e48d0be96917d560f6055",
       "version_major": 2,
       "version_minor": 0
      },
      "text/plain": [
       "HBox(children=(FloatProgress(value=0.0, max=30.0), HTML(value='')))"
      ]
     },
     "metadata": {},
     "output_type": "display_data"
    },
    {
     "name": "stdout",
     "output_type": "stream",
     "text": [
      "\n",
      "Iteracion:  13\n",
      "Fitting the area to scan...\n",
      "\n",
      " 31 Candels detected\n"
     ]
    },
    {
     "data": {
      "application/vnd.jupyter.widget-view+json": {
       "model_id": "262cf70029e4422dae419360258c1095",
       "version_major": 2,
       "version_minor": 0
      },
      "text/plain": [
       "HBox(children=(FloatProgress(value=0.0, max=31.0), HTML(value='')))"
      ]
     },
     "metadata": {},
     "output_type": "display_data"
    },
    {
     "name": "stdout",
     "output_type": "stream",
     "text": [
      "\n",
      "Iteracion:  14\n",
      "Fitting the area to scan...\n",
      "\n",
      " 30 Candels detected\n"
     ]
    },
    {
     "data": {
      "application/vnd.jupyter.widget-view+json": {
       "model_id": "ce513ae0415f49de8e194f98c86124ef",
       "version_major": 2,
       "version_minor": 0
      },
      "text/plain": [
       "HBox(children=(FloatProgress(value=0.0, max=30.0), HTML(value='')))"
      ]
     },
     "metadata": {},
     "output_type": "display_data"
    },
    {
     "name": "stdout",
     "output_type": "stream",
     "text": [
      "\n",
      "Iteracion:  15\n",
      "Fitting the area to scan...\n",
      "\n",
      " 30 Candels detected\n"
     ]
    },
    {
     "data": {
      "application/vnd.jupyter.widget-view+json": {
       "model_id": "f1fde6f011dc4d3886baa611739781df",
       "version_major": 2,
       "version_minor": 0
      },
      "text/plain": [
       "HBox(children=(FloatProgress(value=0.0, max=30.0), HTML(value='')))"
      ]
     },
     "metadata": {},
     "output_type": "display_data"
    },
    {
     "name": "stdout",
     "output_type": "stream",
     "text": [
      "\n",
      "Iteracion:  16\n",
      "Fitting the area to scan...\n",
      "\n",
      " 30 Candels detected\n"
     ]
    },
    {
     "data": {
      "application/vnd.jupyter.widget-view+json": {
       "model_id": "7c5dc470627b40ef82eb5af6d4742599",
       "version_major": 2,
       "version_minor": 0
      },
      "text/plain": [
       "HBox(children=(FloatProgress(value=0.0, max=30.0), HTML(value='')))"
      ]
     },
     "metadata": {},
     "output_type": "display_data"
    },
    {
     "name": "stdout",
     "output_type": "stream",
     "text": [
      "\n",
      "Iteracion:  17\n",
      "Fitting the area to scan...\n",
      "\n",
      " 30 Candels detected\n"
     ]
    },
    {
     "data": {
      "application/vnd.jupyter.widget-view+json": {
       "model_id": "ef63c90299b048bebf801e0aa6a5c643",
       "version_major": 2,
       "version_minor": 0
      },
      "text/plain": [
       "HBox(children=(FloatProgress(value=0.0, max=30.0), HTML(value='')))"
      ]
     },
     "metadata": {},
     "output_type": "display_data"
    },
    {
     "name": "stdout",
     "output_type": "stream",
     "text": [
      "The Candel 0 Fails when was tried to read it\n",
      "\n",
      "Iteracion:  18\n",
      "Fitting the area to scan...\n",
      "\n",
      " 30 Candels detected\n"
     ]
    },
    {
     "data": {
      "application/vnd.jupyter.widget-view+json": {
       "model_id": "f5c690a549c94ee38f3a2a21ff698516",
       "version_major": 2,
       "version_minor": 0
      },
      "text/plain": [
       "HBox(children=(FloatProgress(value=0.0, max=30.0), HTML(value='')))"
      ]
     },
     "metadata": {},
     "output_type": "display_data"
    },
    {
     "name": "stdout",
     "output_type": "stream",
     "text": [
      "\n",
      "Iteracion:  19\n",
      "Fitting the area to scan...\n",
      "\n",
      " 30 Candels detected\n"
     ]
    },
    {
     "data": {
      "application/vnd.jupyter.widget-view+json": {
       "model_id": "0bf406681095411f9b11204c67dffa12",
       "version_major": 2,
       "version_minor": 0
      },
      "text/plain": [
       "HBox(children=(FloatProgress(value=0.0, max=30.0), HTML(value='')))"
      ]
     },
     "metadata": {},
     "output_type": "display_data"
    },
    {
     "name": "stdout",
     "output_type": "stream",
     "text": [
      "\n",
      "Iteracion:  20\n",
      "Fitting the area to scan...\n",
      "\n",
      " 22 Candels detected\n"
     ]
    },
    {
     "data": {
      "application/vnd.jupyter.widget-view+json": {
       "model_id": "f55e3cde8e984c1d94194b7d7afc089d",
       "version_major": 2,
       "version_minor": 0
      },
      "text/plain": [
       "HBox(children=(FloatProgress(value=0.0, max=22.0), HTML(value='')))"
      ]
     },
     "metadata": {},
     "output_type": "display_data"
    },
    {
     "name": "stdout",
     "output_type": "stream",
     "text": [
      "\n",
      "Iteracion:  21\n",
      "Space completed in  21 iterations\n",
      "Scrap function completed\n",
      "mana  Scrapped succesfully\n",
      "Opening browser...\n",
      "Maximizing window...\n",
      "Scrolling into graph...\n",
      "Scroller elements load successfully\n",
      "Fitting the area to scan...\n",
      "\n",
      " 1 Candels detected\n"
     ]
    },
    {
     "data": {
      "application/vnd.jupyter.widget-view+json": {
       "model_id": "c20cb816026c40bf8a8b7ea9aadeaf0c",
       "version_major": 2,
       "version_minor": 0
      },
      "text/plain": [
       "HBox(children=(FloatProgress(value=0.0, max=1.0), HTML(value='')))"
      ]
     },
     "metadata": {},
     "output_type": "display_data"
    },
    {
     "name": "stdout",
     "output_type": "stream",
     "text": [
      "\n",
      "Iteracion:  1\n",
      "Fitting the area to scan...\n",
      "\n",
      " 30 Candels detected\n"
     ]
    },
    {
     "data": {
      "application/vnd.jupyter.widget-view+json": {
       "model_id": "96113937e8a44782969f20df7fa36f71",
       "version_major": 2,
       "version_minor": 0
      },
      "text/plain": [
       "HBox(children=(FloatProgress(value=0.0, max=30.0), HTML(value='')))"
      ]
     },
     "metadata": {},
     "output_type": "display_data"
    },
    {
     "name": "stdout",
     "output_type": "stream",
     "text": [
      "\n",
      "Iteracion:  2\n",
      "Fitting the area to scan...\n",
      "\n",
      " 31 Candels detected\n"
     ]
    },
    {
     "data": {
      "application/vnd.jupyter.widget-view+json": {
       "model_id": "be2435b832ac4ea1b63ff2c00914d940",
       "version_major": 2,
       "version_minor": 0
      },
      "text/plain": [
       "HBox(children=(FloatProgress(value=0.0, max=31.0), HTML(value='')))"
      ]
     },
     "metadata": {},
     "output_type": "display_data"
    },
    {
     "name": "stdout",
     "output_type": "stream",
     "text": [
      "\n",
      "Iteracion:  3\n",
      "Fitting the area to scan...\n",
      "\n",
      " 30 Candels detected\n"
     ]
    },
    {
     "data": {
      "application/vnd.jupyter.widget-view+json": {
       "model_id": "9a507b0e6f8d451f85aa2ccf904c8865",
       "version_major": 2,
       "version_minor": 0
      },
      "text/plain": [
       "HBox(children=(FloatProgress(value=0.0, max=30.0), HTML(value='')))"
      ]
     },
     "metadata": {},
     "output_type": "display_data"
    },
    {
     "name": "stdout",
     "output_type": "stream",
     "text": [
      "\n",
      "Iteracion:  4\n",
      "Fitting the area to scan...\n",
      "\n",
      " 31 Candels detected\n"
     ]
    },
    {
     "data": {
      "application/vnd.jupyter.widget-view+json": {
       "model_id": "7acdd80be7534ffcb90b526b315a632e",
       "version_major": 2,
       "version_minor": 0
      },
      "text/plain": [
       "HBox(children=(FloatProgress(value=0.0, max=31.0), HTML(value='')))"
      ]
     },
     "metadata": {},
     "output_type": "display_data"
    },
    {
     "name": "stdout",
     "output_type": "stream",
     "text": [
      "\n",
      "Iteracion:  5\n",
      "Fitting the area to scan...\n",
      "\n",
      " 30 Candels detected\n"
     ]
    },
    {
     "data": {
      "application/vnd.jupyter.widget-view+json": {
       "model_id": "40509bf3b3204865ba9682c47681cb01",
       "version_major": 2,
       "version_minor": 0
      },
      "text/plain": [
       "HBox(children=(FloatProgress(value=0.0, max=30.0), HTML(value='')))"
      ]
     },
     "metadata": {},
     "output_type": "display_data"
    },
    {
     "name": "stdout",
     "output_type": "stream",
     "text": [
      "\n",
      "Iteracion:  6\n",
      "Fitting the area to scan...\n",
      "\n",
      " 30 Candels detected\n"
     ]
    },
    {
     "data": {
      "application/vnd.jupyter.widget-view+json": {
       "model_id": "fcad80b1d54e4fb19fe06a8f619e3a0c",
       "version_major": 2,
       "version_minor": 0
      },
      "text/plain": [
       "HBox(children=(FloatProgress(value=0.0, max=30.0), HTML(value='')))"
      ]
     },
     "metadata": {},
     "output_type": "display_data"
    },
    {
     "name": "stdout",
     "output_type": "stream",
     "text": [
      "\n",
      "Iteracion:  7\n",
      "Fitting the area to scan...\n",
      "\n",
      " 30 Candels detected\n"
     ]
    },
    {
     "data": {
      "application/vnd.jupyter.widget-view+json": {
       "model_id": "dd6c28dc598048518e8682cbbe09e91e",
       "version_major": 2,
       "version_minor": 0
      },
      "text/plain": [
       "HBox(children=(FloatProgress(value=0.0, max=30.0), HTML(value='')))"
      ]
     },
     "metadata": {},
     "output_type": "display_data"
    },
    {
     "name": "stdout",
     "output_type": "stream",
     "text": [
      "The Candel 0 Fails when was tried to read it\n",
      "\n",
      "Iteracion:  8\n",
      "Fitting the area to scan...\n",
      "\n",
      " 30 Candels detected\n"
     ]
    },
    {
     "data": {
      "application/vnd.jupyter.widget-view+json": {
       "model_id": "7e0fa544d7764cd697331de005e250ee",
       "version_major": 2,
       "version_minor": 0
      },
      "text/plain": [
       "HBox(children=(FloatProgress(value=0.0, max=30.0), HTML(value='')))"
      ]
     },
     "metadata": {},
     "output_type": "display_data"
    },
    {
     "name": "stdout",
     "output_type": "stream",
     "text": [
      "\n",
      "Iteracion:  9\n",
      "Fitting the area to scan...\n",
      "\n",
      " 30 Candels detected\n"
     ]
    },
    {
     "data": {
      "application/vnd.jupyter.widget-view+json": {
       "model_id": "df3cef638db74d6e87316f3ce1ed353e",
       "version_major": 2,
       "version_minor": 0
      },
      "text/plain": [
       "HBox(children=(FloatProgress(value=0.0, max=30.0), HTML(value='')))"
      ]
     },
     "metadata": {},
     "output_type": "display_data"
    },
    {
     "name": "stdout",
     "output_type": "stream",
     "text": [
      "\n",
      "Iteracion:  10\n",
      "Fitting the area to scan...\n",
      "\n",
      " 30 Candels detected\n"
     ]
    },
    {
     "data": {
      "application/vnd.jupyter.widget-view+json": {
       "model_id": "e6457dc138a642218dd12d488c94be24",
       "version_major": 2,
       "version_minor": 0
      },
      "text/plain": [
       "HBox(children=(FloatProgress(value=0.0, max=30.0), HTML(value='')))"
      ]
     },
     "metadata": {},
     "output_type": "display_data"
    },
    {
     "name": "stdout",
     "output_type": "stream",
     "text": [
      "The Candel 0 Fails when was tried to read it\n",
      "\n",
      "Iteracion:  11\n",
      "Fitting the area to scan...\n",
      "\n",
      " 31 Candels detected\n"
     ]
    },
    {
     "data": {
      "application/vnd.jupyter.widget-view+json": {
       "model_id": "293663a62c8345eaaf569f61b243da93",
       "version_major": 2,
       "version_minor": 0
      },
      "text/plain": [
       "HBox(children=(FloatProgress(value=0.0, max=31.0), HTML(value='')))"
      ]
     },
     "metadata": {},
     "output_type": "display_data"
    },
    {
     "name": "stdout",
     "output_type": "stream",
     "text": [
      "\n",
      "Iteracion:  12\n",
      "Fitting the area to scan...\n",
      "\n",
      " 30 Candels detected\n"
     ]
    },
    {
     "data": {
      "application/vnd.jupyter.widget-view+json": {
       "model_id": "bee898cb48524bc58e5138b0d6e3a9ab",
       "version_major": 2,
       "version_minor": 0
      },
      "text/plain": [
       "HBox(children=(FloatProgress(value=0.0, max=30.0), HTML(value='')))"
      ]
     },
     "metadata": {},
     "output_type": "display_data"
    },
    {
     "name": "stdout",
     "output_type": "stream",
     "text": [
      "\n",
      "Iteracion:  13\n",
      "Fitting the area to scan...\n",
      "\n",
      " 31 Candels detected\n"
     ]
    },
    {
     "data": {
      "application/vnd.jupyter.widget-view+json": {
       "model_id": "fb114e66d6b14bf494ef3d09b656b26d",
       "version_major": 2,
       "version_minor": 0
      },
      "text/plain": [
       "HBox(children=(FloatProgress(value=0.0, max=31.0), HTML(value='')))"
      ]
     },
     "metadata": {},
     "output_type": "display_data"
    },
    {
     "name": "stdout",
     "output_type": "stream",
     "text": [
      "\n",
      "Iteracion:  14\n",
      "Fitting the area to scan...\n",
      "\n",
      " 31 Candels detected\n"
     ]
    },
    {
     "data": {
      "application/vnd.jupyter.widget-view+json": {
       "model_id": "d979978d28d743d89b66e54aeaada1b7",
       "version_major": 2,
       "version_minor": 0
      },
      "text/plain": [
       "HBox(children=(FloatProgress(value=0.0, max=31.0), HTML(value='')))"
      ]
     },
     "metadata": {},
     "output_type": "display_data"
    },
    {
     "name": "stdout",
     "output_type": "stream",
     "text": [
      "The Candel 0 Fails when was tried to read it\n",
      "The Candel 1 Fails when was tried to read it\n",
      "The Candel 2 Fails when was tried to read it\n",
      "The Candel 3 Fails when was tried to read it\n",
      "The Candel 4 Fails when was tried to read it\n",
      "The Candel 5 Fails when was tried to read it\n",
      "The Candel 6 Fails when was tried to read it\n",
      "The Candel 7 Fails when was tried to read it\n",
      "The Candel 8 Fails when was tried to read it\n",
      "The Candel 9 Fails when was tried to read it\n",
      "The Candel 10 Fails when was tried to read it\n",
      "The Candel 11 Fails when was tried to read it\n",
      "The Candel 12 Fails when was tried to read it\n",
      "The Candel 13 Fails when was tried to read it\n",
      "The Candel 14 Fails when was tried to read it\n",
      "The Candel 15 Fails when was tried to read it\n",
      "The Candel 16 Fails when was tried to read it\n",
      "The Candel 17 Fails when was tried to read it\n",
      "The Candel 18 Fails when was tried to read it\n",
      "The Candel 19 Fails when was tried to read it\n",
      "The Candel 20 Fails when was tried to read it\n",
      "The Candel 21 Fails when was tried to read it\n",
      "The Candel 22 Fails when was tried to read it\n",
      "The Candel 23 Fails when was tried to read it\n",
      "The Candel 24 Fails when was tried to read it\n",
      "The Candel 25 Fails when was tried to read it\n",
      "The Candel 26 Fails when was tried to read it\n",
      "The Candel 27 Fails when was tried to read it\n",
      "The Candel 28 Fails when was tried to read it\n",
      "The Candel 29 Fails when was tried to read it\n",
      "The Candel 30 Fails when was tried to read it\n",
      "\n",
      "ERROR: Mayor Fail - Check the driver is initialized correctly\n",
      "Iteracion:  15\n",
      "Fitting the area to scan...\n",
      "\n",
      " 31 Candels detected\n"
     ]
    },
    {
     "data": {
      "application/vnd.jupyter.widget-view+json": {
       "model_id": "652d8a3175ad4f9ca5a7cf60bf1037bb",
       "version_major": 2,
       "version_minor": 0
      },
      "text/plain": [
       "HBox(children=(FloatProgress(value=0.0, max=31.0), HTML(value='')))"
      ]
     },
     "metadata": {},
     "output_type": "display_data"
    },
    {
     "name": "stdout",
     "output_type": "stream",
     "text": [
      "The Candel 0 Fails when was tried to read it\n",
      "The Candel 1 Fails when was tried to read it\n",
      "The Candel 2 Fails when was tried to read it\n",
      "The Candel 3 Fails when was tried to read it\n",
      "The Candel 4 Fails when was tried to read it\n",
      "The Candel 5 Fails when was tried to read it\n",
      "The Candel 6 Fails when was tried to read it\n",
      "The Candel 7 Fails when was tried to read it\n",
      "The Candel 8 Fails when was tried to read it\n",
      "The Candel 9 Fails when was tried to read it\n",
      "The Candel 10 Fails when was tried to read it\n",
      "The Candel 11 Fails when was tried to read it\n",
      "The Candel 12 Fails when was tried to read it\n",
      "The Candel 13 Fails when was tried to read it\n",
      "The Candel 14 Fails when was tried to read it\n",
      "The Candel 15 Fails when was tried to read it\n",
      "The Candel 16 Fails when was tried to read it\n",
      "The Candel 17 Fails when was tried to read it\n",
      "The Candel 18 Fails when was tried to read it\n",
      "The Candel 19 Fails when was tried to read it\n",
      "The Candel 20 Fails when was tried to read it\n",
      "The Candel 21 Fails when was tried to read it\n",
      "The Candel 22 Fails when was tried to read it\n",
      "The Candel 23 Fails when was tried to read it\n",
      "The Candel 24 Fails when was tried to read it\n",
      "The Candel 25 Fails when was tried to read it\n",
      "The Candel 26 Fails when was tried to read it\n",
      "The Candel 27 Fails when was tried to read it\n",
      "The Candel 28 Fails when was tried to read it\n",
      "The Candel 29 Fails when was tried to read it\n",
      "The Candel 30 Fails when was tried to read it\n",
      "\n",
      "ERROR: Mayor Fail - Check the driver is initialized correctly\n",
      "Iteracion:  16\n",
      "Fitting the area to scan...\n",
      "\n",
      " 31 Candels detected\n"
     ]
    },
    {
     "data": {
      "application/vnd.jupyter.widget-view+json": {
       "model_id": "fc908e55e0384908bb7b3d00afad1f03",
       "version_major": 2,
       "version_minor": 0
      },
      "text/plain": [
       "HBox(children=(FloatProgress(value=0.0, max=31.0), HTML(value='')))"
      ]
     },
     "metadata": {},
     "output_type": "display_data"
    },
    {
     "name": "stdout",
     "output_type": "stream",
     "text": [
      "The Candel 0 Fails when was tried to read it\n",
      "The Candel 1 Fails when was tried to read it\n",
      "The Candel 2 Fails when was tried to read it\n",
      "The Candel 3 Fails when was tried to read it\n",
      "The Candel 4 Fails when was tried to read it\n",
      "The Candel 5 Fails when was tried to read it\n",
      "The Candel 6 Fails when was tried to read it\n",
      "The Candel 7 Fails when was tried to read it\n",
      "The Candel 8 Fails when was tried to read it\n",
      "The Candel 9 Fails when was tried to read it\n",
      "The Candel 10 Fails when was tried to read it\n",
      "The Candel 11 Fails when was tried to read it\n",
      "The Candel 12 Fails when was tried to read it\n",
      "The Candel 13 Fails when was tried to read it\n",
      "The Candel 14 Fails when was tried to read it\n",
      "The Candel 15 Fails when was tried to read it\n",
      "The Candel 16 Fails when was tried to read it\n",
      "The Candel 17 Fails when was tried to read it\n",
      "The Candel 18 Fails when was tried to read it\n",
      "The Candel 19 Fails when was tried to read it\n",
      "The Candel 20 Fails when was tried to read it\n",
      "The Candel 21 Fails when was tried to read it\n",
      "The Candel 22 Fails when was tried to read it\n",
      "The Candel 23 Fails when was tried to read it\n",
      "The Candel 24 Fails when was tried to read it\n",
      "The Candel 25 Fails when was tried to read it\n",
      "The Candel 26 Fails when was tried to read it\n",
      "The Candel 27 Fails when was tried to read it\n",
      "The Candel 28 Fails when was tried to read it\n",
      "The Candel 29 Fails when was tried to read it\n",
      "The Candel 30 Fails when was tried to read it\n",
      "\n",
      "ERROR: Mayor Fail - Check the driver is initialized correctly\n",
      "Iteracion:  17\n",
      "Fitting the area to scan...\n",
      "\n",
      " 31 Candels detected\n"
     ]
    },
    {
     "data": {
      "application/vnd.jupyter.widget-view+json": {
       "model_id": "7586c09a968a4101bf9cf3ac1c34092f",
       "version_major": 2,
       "version_minor": 0
      },
      "text/plain": [
       "HBox(children=(FloatProgress(value=0.0, max=31.0), HTML(value='')))"
      ]
     },
     "metadata": {},
     "output_type": "display_data"
    },
    {
     "name": "stdout",
     "output_type": "stream",
     "text": [
      "The Candel 0 Fails when was tried to read it\n",
      "The Candel 1 Fails when was tried to read it\n",
      "The Candel 2 Fails when was tried to read it\n",
      "The Candel 3 Fails when was tried to read it\n",
      "The Candel 4 Fails when was tried to read it\n",
      "The Candel 5 Fails when was tried to read it\n",
      "The Candel 6 Fails when was tried to read it\n",
      "The Candel 7 Fails when was tried to read it\n",
      "The Candel 8 Fails when was tried to read it\n",
      "The Candel 9 Fails when was tried to read it\n",
      "The Candel 10 Fails when was tried to read it\n",
      "The Candel 11 Fails when was tried to read it\n",
      "The Candel 12 Fails when was tried to read it\n",
      "The Candel 13 Fails when was tried to read it\n",
      "The Candel 14 Fails when was tried to read it\n",
      "The Candel 15 Fails when was tried to read it\n",
      "The Candel 16 Fails when was tried to read it\n",
      "The Candel 17 Fails when was tried to read it\n",
      "The Candel 18 Fails when was tried to read it\n",
      "The Candel 19 Fails when was tried to read it\n",
      "The Candel 20 Fails when was tried to read it\n",
      "The Candel 21 Fails when was tried to read it\n",
      "The Candel 22 Fails when was tried to read it\n",
      "The Candel 23 Fails when was tried to read it\n",
      "The Candel 24 Fails when was tried to read it\n",
      "The Candel 25 Fails when was tried to read it\n",
      "The Candel 26 Fails when was tried to read it\n",
      "The Candel 27 Fails when was tried to read it\n",
      "The Candel 28 Fails when was tried to read it\n",
      "The Candel 29 Fails when was tried to read it\n",
      "The Candel 30 Fails when was tried to read it\n",
      "\n",
      "ERROR: Mayor Fail - Check the driver is initialized correctly\n",
      "Iteracion:  18\n",
      "Fitting the area to scan...\n",
      "\n",
      " 31 Candels detected\n"
     ]
    },
    {
     "data": {
      "application/vnd.jupyter.widget-view+json": {
       "model_id": "29e17316c8f34d63bc9f43b0106e77fe",
       "version_major": 2,
       "version_minor": 0
      },
      "text/plain": [
       "HBox(children=(FloatProgress(value=0.0, max=31.0), HTML(value='')))"
      ]
     },
     "metadata": {},
     "output_type": "display_data"
    },
    {
     "name": "stdout",
     "output_type": "stream",
     "text": [
      "The Candel 0 Fails when was tried to read it\n",
      "The Candel 1 Fails when was tried to read it\n",
      "The Candel 2 Fails when was tried to read it\n",
      "The Candel 3 Fails when was tried to read it\n",
      "The Candel 4 Fails when was tried to read it\n",
      "The Candel 5 Fails when was tried to read it\n",
      "The Candel 6 Fails when was tried to read it\n",
      "The Candel 7 Fails when was tried to read it\n",
      "The Candel 8 Fails when was tried to read it\n",
      "The Candel 9 Fails when was tried to read it\n",
      "The Candel 10 Fails when was tried to read it\n",
      "The Candel 11 Fails when was tried to read it\n",
      "The Candel 12 Fails when was tried to read it\n",
      "The Candel 13 Fails when was tried to read it\n",
      "The Candel 14 Fails when was tried to read it\n",
      "The Candel 15 Fails when was tried to read it\n",
      "The Candel 16 Fails when was tried to read it\n",
      "The Candel 17 Fails when was tried to read it\n",
      "The Candel 18 Fails when was tried to read it\n",
      "The Candel 19 Fails when was tried to read it\n",
      "The Candel 20 Fails when was tried to read it\n",
      "The Candel 21 Fails when was tried to read it\n",
      "The Candel 22 Fails when was tried to read it\n",
      "The Candel 23 Fails when was tried to read it\n",
      "The Candel 24 Fails when was tried to read it\n",
      "The Candel 25 Fails when was tried to read it\n",
      "The Candel 26 Fails when was tried to read it\n",
      "The Candel 27 Fails when was tried to read it\n",
      "The Candel 28 Fails when was tried to read it\n",
      "The Candel 29 Fails when was tried to read it\n",
      "The Candel 30 Fails when was tried to read it\n",
      "\n",
      "ERROR: Mayor Fail - Check the driver is initialized correctly\n",
      "Iteracion:  19\n",
      "Fitting the area to scan...\n",
      "\n",
      " 31 Candels detected\n"
     ]
    },
    {
     "data": {
      "application/vnd.jupyter.widget-view+json": {
       "model_id": "36234ec945344b6c9f78df919c8389d8",
       "version_major": 2,
       "version_minor": 0
      },
      "text/plain": [
       "HBox(children=(FloatProgress(value=0.0, max=31.0), HTML(value='')))"
      ]
     },
     "metadata": {},
     "output_type": "display_data"
    },
    {
     "name": "stdout",
     "output_type": "stream",
     "text": [
      "The Candel 0 Fails when was tried to read it\n",
      "The Candel 1 Fails when was tried to read it\n",
      "The Candel 2 Fails when was tried to read it\n",
      "The Candel 3 Fails when was tried to read it\n",
      "The Candel 4 Fails when was tried to read it\n",
      "The Candel 5 Fails when was tried to read it\n",
      "The Candel 6 Fails when was tried to read it\n",
      "The Candel 7 Fails when was tried to read it\n",
      "The Candel 8 Fails when was tried to read it\n",
      "The Candel 9 Fails when was tried to read it\n",
      "The Candel 10 Fails when was tried to read it\n",
      "The Candel 11 Fails when was tried to read it\n",
      "The Candel 12 Fails when was tried to read it\n",
      "The Candel 13 Fails when was tried to read it\n",
      "The Candel 14 Fails when was tried to read it\n",
      "The Candel 15 Fails when was tried to read it\n",
      "The Candel 16 Fails when was tried to read it\n",
      "The Candel 17 Fails when was tried to read it\n",
      "The Candel 18 Fails when was tried to read it\n",
      "The Candel 19 Fails when was tried to read it\n",
      "The Candel 20 Fails when was tried to read it\n",
      "The Candel 21 Fails when was tried to read it\n",
      "The Candel 22 Fails when was tried to read it\n",
      "The Candel 23 Fails when was tried to read it\n",
      "The Candel 24 Fails when was tried to read it\n",
      "The Candel 25 Fails when was tried to read it\n",
      "The Candel 26 Fails when was tried to read it\n",
      "The Candel 27 Fails when was tried to read it\n",
      "The Candel 28 Fails when was tried to read it\n",
      "The Candel 29 Fails when was tried to read it\n",
      "The Candel 30 Fails when was tried to read it\n",
      "\n",
      "ERROR: Mayor Fail - Check the driver is initialized correctly\n",
      "Iteracion:  20\n",
      "Fitting the area to scan...\n",
      "\n",
      " 31 Candels detected\n"
     ]
    },
    {
     "data": {
      "application/vnd.jupyter.widget-view+json": {
       "model_id": "7643d74b723e47d48afb04081784a4db",
       "version_major": 2,
       "version_minor": 0
      },
      "text/plain": [
       "HBox(children=(FloatProgress(value=0.0, max=31.0), HTML(value='')))"
      ]
     },
     "metadata": {},
     "output_type": "display_data"
    },
    {
     "name": "stdout",
     "output_type": "stream",
     "text": [
      "The Candel 0 Fails when was tried to read it\n",
      "The Candel 1 Fails when was tried to read it\n",
      "The Candel 2 Fails when was tried to read it\n",
      "The Candel 3 Fails when was tried to read it\n",
      "The Candel 4 Fails when was tried to read it\n",
      "The Candel 5 Fails when was tried to read it\n",
      "The Candel 6 Fails when was tried to read it\n",
      "The Candel 7 Fails when was tried to read it\n",
      "The Candel 8 Fails when was tried to read it\n",
      "The Candel 9 Fails when was tried to read it\n",
      "The Candel 10 Fails when was tried to read it\n",
      "The Candel 11 Fails when was tried to read it\n",
      "The Candel 12 Fails when was tried to read it\n",
      "The Candel 13 Fails when was tried to read it\n",
      "The Candel 14 Fails when was tried to read it\n",
      "The Candel 15 Fails when was tried to read it\n",
      "The Candel 16 Fails when was tried to read it\n",
      "The Candel 17 Fails when was tried to read it\n",
      "The Candel 18 Fails when was tried to read it\n",
      "The Candel 19 Fails when was tried to read it\n",
      "The Candel 20 Fails when was tried to read it\n",
      "The Candel 21 Fails when was tried to read it\n",
      "The Candel 22 Fails when was tried to read it\n",
      "The Candel 23 Fails when was tried to read it\n",
      "The Candel 24 Fails when was tried to read it\n",
      "The Candel 25 Fails when was tried to read it\n",
      "The Candel 26 Fails when was tried to read it\n",
      "The Candel 27 Fails when was tried to read it\n",
      "The Candel 28 Fails when was tried to read it\n",
      "The Candel 29 Fails when was tried to read it\n",
      "The Candel 30 Fails when was tried to read it\n",
      "\n",
      "ERROR: Mayor Fail - Check the driver is initialized correctly\n",
      "Iteracion:  21\n",
      "Fitting the area to scan...\n",
      "\n",
      " 31 Candels detected\n"
     ]
    },
    {
     "data": {
      "application/vnd.jupyter.widget-view+json": {
       "model_id": "8d8fd883b6a2478a8543c8f6d55cfce4",
       "version_major": 2,
       "version_minor": 0
      },
      "text/plain": [
       "HBox(children=(FloatProgress(value=0.0, max=31.0), HTML(value='')))"
      ]
     },
     "metadata": {},
     "output_type": "display_data"
    },
    {
     "name": "stdout",
     "output_type": "stream",
     "text": [
      "The Candel 0 Fails when was tried to read it\n",
      "The Candel 1 Fails when was tried to read it\n",
      "The Candel 2 Fails when was tried to read it\n",
      "The Candel 3 Fails when was tried to read it\n",
      "The Candel 4 Fails when was tried to read it\n",
      "The Candel 5 Fails when was tried to read it\n",
      "The Candel 6 Fails when was tried to read it\n",
      "The Candel 7 Fails when was tried to read it\n",
      "The Candel 8 Fails when was tried to read it\n",
      "The Candel 9 Fails when was tried to read it\n",
      "The Candel 10 Fails when was tried to read it\n",
      "The Candel 11 Fails when was tried to read it\n",
      "The Candel 12 Fails when was tried to read it\n",
      "The Candel 13 Fails when was tried to read it\n",
      "The Candel 14 Fails when was tried to read it\n",
      "The Candel 15 Fails when was tried to read it\n",
      "The Candel 16 Fails when was tried to read it\n",
      "The Candel 17 Fails when was tried to read it\n",
      "The Candel 18 Fails when was tried to read it\n",
      "The Candel 19 Fails when was tried to read it\n",
      "The Candel 20 Fails when was tried to read it\n",
      "The Candel 21 Fails when was tried to read it\n",
      "The Candel 22 Fails when was tried to read it\n",
      "The Candel 23 Fails when was tried to read it\n",
      "The Candel 24 Fails when was tried to read it\n",
      "The Candel 25 Fails when was tried to read it\n",
      "The Candel 26 Fails when was tried to read it\n",
      "The Candel 27 Fails when was tried to read it\n",
      "The Candel 28 Fails when was tried to read it\n",
      "The Candel 29 Fails when was tried to read it\n",
      "The Candel 30 Fails when was tried to read it\n",
      "\n",
      "ERROR: Mayor Fail - Check the driver is initialized correctly\n",
      "Iteracion:  22\n",
      "Fitting the area to scan...\n",
      "\n",
      " 31 Candels detected\n"
     ]
    },
    {
     "data": {
      "application/vnd.jupyter.widget-view+json": {
       "model_id": "3ed94fe82b004340b214d88e9d4c60c9",
       "version_major": 2,
       "version_minor": 0
      },
      "text/plain": [
       "HBox(children=(FloatProgress(value=0.0, max=31.0), HTML(value='')))"
      ]
     },
     "metadata": {},
     "output_type": "display_data"
    },
    {
     "name": "stdout",
     "output_type": "stream",
     "text": [
      "The Candel 0 Fails when was tried to read it\n",
      "The Candel 1 Fails when was tried to read it\n",
      "The Candel 2 Fails when was tried to read it\n",
      "The Candel 3 Fails when was tried to read it\n",
      "The Candel 4 Fails when was tried to read it\n",
      "The Candel 5 Fails when was tried to read it\n",
      "The Candel 6 Fails when was tried to read it\n",
      "The Candel 7 Fails when was tried to read it\n",
      "The Candel 8 Fails when was tried to read it\n",
      "The Candel 9 Fails when was tried to read it\n",
      "The Candel 10 Fails when was tried to read it\n",
      "The Candel 11 Fails when was tried to read it\n",
      "The Candel 12 Fails when was tried to read it\n",
      "The Candel 13 Fails when was tried to read it\n",
      "The Candel 14 Fails when was tried to read it\n",
      "The Candel 15 Fails when was tried to read it\n",
      "The Candel 16 Fails when was tried to read it\n",
      "The Candel 17 Fails when was tried to read it\n",
      "The Candel 18 Fails when was tried to read it\n",
      "The Candel 19 Fails when was tried to read it\n",
      "The Candel 20 Fails when was tried to read it\n",
      "The Candel 21 Fails when was tried to read it\n",
      "The Candel 22 Fails when was tried to read it\n",
      "The Candel 23 Fails when was tried to read it\n",
      "The Candel 24 Fails when was tried to read it\n",
      "The Candel 25 Fails when was tried to read it\n",
      "The Candel 26 Fails when was tried to read it\n",
      "The Candel 27 Fails when was tried to read it\n",
      "The Candel 28 Fails when was tried to read it\n",
      "The Candel 29 Fails when was tried to read it\n",
      "The Candel 30 Fails when was tried to read it\n",
      "\n",
      "ERROR: Mayor Fail - Check the driver is initialized correctly\n",
      "Iteracion:  23\n",
      "Fitting the area to scanSpace completed in  23 iterations [except]\n",
      "Scrap function completed\n",
      "gnt  Scrapped succesfully\n",
      "Opening browser...\n",
      "Maximizing window...\n",
      "Scrolling into graph...\n",
      "Scroller elements load successfully\n",
      "Fitting the area to scan...\n",
      "\n",
      " 29 Candels detected\n"
     ]
    },
    {
     "data": {
      "application/vnd.jupyter.widget-view+json": {
       "model_id": "bae33287e7c346ed8180f9d8ab12d4ba",
       "version_major": 2,
       "version_minor": 0
      },
      "text/plain": [
       "HBox(children=(FloatProgress(value=0.0, max=29.0), HTML(value='')))"
      ]
     },
     "metadata": {},
     "output_type": "display_data"
    },
    {
     "name": "stdout",
     "output_type": "stream",
     "text": [
      "\n",
      "Iteracion:  1\n",
      "Fitting the area to scan...\n",
      "\n",
      " 30 Candels detected\n"
     ]
    },
    {
     "data": {
      "application/vnd.jupyter.widget-view+json": {
       "model_id": "2047d9e1abef4393b476dcd4394b8c50",
       "version_major": 2,
       "version_minor": 0
      },
      "text/plain": [
       "HBox(children=(FloatProgress(value=0.0, max=30.0), HTML(value='')))"
      ]
     },
     "metadata": {},
     "output_type": "display_data"
    },
    {
     "name": "stdout",
     "output_type": "stream",
     "text": [
      "\n",
      "Iteracion:  2\n",
      "Fitting the area to scan...\n",
      "\n",
      " 31 Candels detected\n"
     ]
    },
    {
     "data": {
      "application/vnd.jupyter.widget-view+json": {
       "model_id": "b96ea549873c49628dda35103c24ec7f",
       "version_major": 2,
       "version_minor": 0
      },
      "text/plain": [
       "HBox(children=(FloatProgress(value=0.0, max=31.0), HTML(value='')))"
      ]
     },
     "metadata": {},
     "output_type": "display_data"
    },
    {
     "name": "stdout",
     "output_type": "stream",
     "text": [
      "\n",
      "Iteracion:  3\n",
      "Fitting the area to scan...\n",
      "\n",
      " 30 Candels detected\n"
     ]
    },
    {
     "data": {
      "application/vnd.jupyter.widget-view+json": {
       "model_id": "00c15467899b4935a0eb10e0ef4c0551",
       "version_major": 2,
       "version_minor": 0
      },
      "text/plain": [
       "HBox(children=(FloatProgress(value=0.0, max=30.0), HTML(value='')))"
      ]
     },
     "metadata": {},
     "output_type": "display_data"
    },
    {
     "name": "stdout",
     "output_type": "stream",
     "text": [
      "\n",
      "Iteracion:  4\n",
      "Fitting the area to scan...\n",
      "\n",
      " 31 Candels detected\n"
     ]
    },
    {
     "data": {
      "application/vnd.jupyter.widget-view+json": {
       "model_id": "80378f78c290446b848107165393738e",
       "version_major": 2,
       "version_minor": 0
      },
      "text/plain": [
       "HBox(children=(FloatProgress(value=0.0, max=31.0), HTML(value='')))"
      ]
     },
     "metadata": {},
     "output_type": "display_data"
    },
    {
     "name": "stdout",
     "output_type": "stream",
     "text": [
      "\n",
      "Iteracion:  5\n",
      "Fitting the area to scan...\n",
      "\n",
      " 30 Candels detected\n"
     ]
    },
    {
     "data": {
      "application/vnd.jupyter.widget-view+json": {
       "model_id": "1ad3ab39fef54d928b38a439422b3091",
       "version_major": 2,
       "version_minor": 0
      },
      "text/plain": [
       "HBox(children=(FloatProgress(value=0.0, max=30.0), HTML(value='')))"
      ]
     },
     "metadata": {},
     "output_type": "display_data"
    },
    {
     "name": "stdout",
     "output_type": "stream",
     "text": [
      "The Candel 0 Fails when was tried to read it\n",
      "\n",
      "Iteracion:  6\n",
      "Fitting the area to scan...\n",
      "\n",
      " 30 Candels detected\n"
     ]
    },
    {
     "data": {
      "application/vnd.jupyter.widget-view+json": {
       "model_id": "d2a5f1efee584da2a28f155d32286f1b",
       "version_major": 2,
       "version_minor": 0
      },
      "text/plain": [
       "HBox(children=(FloatProgress(value=0.0, max=30.0), HTML(value='')))"
      ]
     },
     "metadata": {},
     "output_type": "display_data"
    },
    {
     "name": "stdout",
     "output_type": "stream",
     "text": [
      "\n",
      "Iteracion:  7\n",
      "Fitting the area to scan...\n",
      "\n",
      " 30 Candels detected\n"
     ]
    },
    {
     "data": {
      "application/vnd.jupyter.widget-view+json": {
       "model_id": "bd22da4fc3994ba2b2d929886c9219e1",
       "version_major": 2,
       "version_minor": 0
      },
      "text/plain": [
       "HBox(children=(FloatProgress(value=0.0, max=30.0), HTML(value='')))"
      ]
     },
     "metadata": {},
     "output_type": "display_data"
    },
    {
     "name": "stdout",
     "output_type": "stream",
     "text": [
      "The Candel 0 Fails when was tried to read it\n",
      "\n",
      "Iteracion:  8\n",
      "Fitting the area to scan...\n",
      "\n",
      " 30 Candels detected\n"
     ]
    },
    {
     "data": {
      "application/vnd.jupyter.widget-view+json": {
       "model_id": "2f121099d57b4a8bbdc6ea31891e93c2",
       "version_major": 2,
       "version_minor": 0
      },
      "text/plain": [
       "HBox(children=(FloatProgress(value=0.0, max=30.0), HTML(value='')))"
      ]
     },
     "metadata": {},
     "output_type": "display_data"
    },
    {
     "name": "stdout",
     "output_type": "stream",
     "text": [
      "\n",
      "Iteracion:  9\n",
      "Fitting the area to scan...\n",
      "\n",
      " 30 Candels detected\n"
     ]
    },
    {
     "data": {
      "application/vnd.jupyter.widget-view+json": {
       "model_id": "6aeccc7f009646b4b470f56dbe6d73a7",
       "version_major": 2,
       "version_minor": 0
      },
      "text/plain": [
       "HBox(children=(FloatProgress(value=0.0, max=30.0), HTML(value='')))"
      ]
     },
     "metadata": {},
     "output_type": "display_data"
    },
    {
     "name": "stdout",
     "output_type": "stream",
     "text": [
      "\n",
      "Iteracion:  10\n",
      "Fitting the area to scan...\n",
      "\n",
      " 30 Candels detected\n"
     ]
    },
    {
     "data": {
      "application/vnd.jupyter.widget-view+json": {
       "model_id": "026d6bc372584685ad715974c9ac18ee",
       "version_major": 2,
       "version_minor": 0
      },
      "text/plain": [
       "HBox(children=(FloatProgress(value=0.0, max=30.0), HTML(value='')))"
      ]
     },
     "metadata": {},
     "output_type": "display_data"
    },
    {
     "name": "stdout",
     "output_type": "stream",
     "text": [
      "\n",
      "Iteracion:  11\n",
      "Fitting the area to scan...\n",
      "\n",
      " 31 Candels detected\n"
     ]
    },
    {
     "data": {
      "application/vnd.jupyter.widget-view+json": {
       "model_id": "f9cbea4ad5db47e7b2dadd1c0f4e21c9",
       "version_major": 2,
       "version_minor": 0
      },
      "text/plain": [
       "HBox(children=(FloatProgress(value=0.0, max=31.0), HTML(value='')))"
      ]
     },
     "metadata": {},
     "output_type": "display_data"
    },
    {
     "name": "stdout",
     "output_type": "stream",
     "text": [
      "\n",
      "Iteracion:  12\n",
      "Fitting the area to scan...\n",
      "\n",
      " 30 Candels detected\n"
     ]
    },
    {
     "data": {
      "application/vnd.jupyter.widget-view+json": {
       "model_id": "2d04b953597a4d4e8c0f1d43f032c8d9",
       "version_major": 2,
       "version_minor": 0
      },
      "text/plain": [
       "HBox(children=(FloatProgress(value=0.0, max=30.0), HTML(value='')))"
      ]
     },
     "metadata": {},
     "output_type": "display_data"
    },
    {
     "name": "stdout",
     "output_type": "stream",
     "text": [
      "The Candel 0 Fails when was tried to read it\n",
      "\n",
      "Iteracion:  13\n",
      "Fitting the area to scan...\n",
      "\n",
      " 31 Candels detected\n"
     ]
    },
    {
     "data": {
      "application/vnd.jupyter.widget-view+json": {
       "model_id": "d98ce0f122054ab7b9953e0e8647ff95",
       "version_major": 2,
       "version_minor": 0
      },
      "text/plain": [
       "HBox(children=(FloatProgress(value=0.0, max=31.0), HTML(value='')))"
      ]
     },
     "metadata": {},
     "output_type": "display_data"
    },
    {
     "name": "stdout",
     "output_type": "stream",
     "text": [
      "The Candel 0 Fails when was tried to read it\n",
      "\n",
      "Iteracion:  14\n",
      "Fitting the area to scan...\n",
      "\n",
      " 30 Candels detected\n"
     ]
    },
    {
     "data": {
      "application/vnd.jupyter.widget-view+json": {
       "model_id": "2c8c65f149cd4003b3a1fb79e7d23d2e",
       "version_major": 2,
       "version_minor": 0
      },
      "text/plain": [
       "HBox(children=(FloatProgress(value=0.0, max=30.0), HTML(value='')))"
      ]
     },
     "metadata": {},
     "output_type": "display_data"
    },
    {
     "name": "stdout",
     "output_type": "stream",
     "text": [
      "\n",
      "Iteracion:  15\n",
      "Fitting the area to scan...\n",
      "\n",
      " 30 Candels detected\n"
     ]
    },
    {
     "data": {
      "application/vnd.jupyter.widget-view+json": {
       "model_id": "e16521acf6224ee4b4c89f48fb5736cb",
       "version_major": 2,
       "version_minor": 0
      },
      "text/plain": [
       "HBox(children=(FloatProgress(value=0.0, max=30.0), HTML(value='')))"
      ]
     },
     "metadata": {},
     "output_type": "display_data"
    },
    {
     "name": "stdout",
     "output_type": "stream",
     "text": [
      "The Candel 0 Fails when was tried to read it\n",
      "\n",
      "Iteracion:  16\n",
      "Fitting the area to scan...\n",
      "\n",
      " 30 Candels detected\n"
     ]
    },
    {
     "data": {
      "application/vnd.jupyter.widget-view+json": {
       "model_id": "5c4272b4bc8c4cc18136917f2773b1ba",
       "version_major": 2,
       "version_minor": 0
      },
      "text/plain": [
       "HBox(children=(FloatProgress(value=0.0, max=30.0), HTML(value='')))"
      ]
     },
     "metadata": {},
     "output_type": "display_data"
    },
    {
     "name": "stdout",
     "output_type": "stream",
     "text": [
      "\n",
      "Iteracion:  17\n",
      "Fitting the area to scan...\n",
      "\n",
      " 30 Candels detected\n"
     ]
    },
    {
     "data": {
      "application/vnd.jupyter.widget-view+json": {
       "model_id": "7e09109608634758af8d9a81ff0e88bf",
       "version_major": 2,
       "version_minor": 0
      },
      "text/plain": [
       "HBox(children=(FloatProgress(value=0.0, max=30.0), HTML(value='')))"
      ]
     },
     "metadata": {},
     "output_type": "display_data"
    },
    {
     "name": "stdout",
     "output_type": "stream",
     "text": [
      "\n",
      "Iteracion:  18\n",
      "Fitting the area to scan...\n",
      "\n",
      " 30 Candels detected\n"
     ]
    },
    {
     "data": {
      "application/vnd.jupyter.widget-view+json": {
       "model_id": "12c9dccf898c4b78893736b3496f20c3",
       "version_major": 2,
       "version_minor": 0
      },
      "text/plain": [
       "HBox(children=(FloatProgress(value=0.0, max=30.0), HTML(value='')))"
      ]
     },
     "metadata": {},
     "output_type": "display_data"
    },
    {
     "name": "stdout",
     "output_type": "stream",
     "text": [
      "\n",
      "Iteracion:  19\n",
      "Fitting the area to scan...\n",
      "\n",
      " 30 Candels detected\n"
     ]
    },
    {
     "data": {
      "application/vnd.jupyter.widget-view+json": {
       "model_id": "b763d29df2b7405b9a0968ae30ebb8df",
       "version_major": 2,
       "version_minor": 0
      },
      "text/plain": [
       "HBox(children=(FloatProgress(value=0.0, max=30.0), HTML(value='')))"
      ]
     },
     "metadata": {},
     "output_type": "display_data"
    },
    {
     "name": "stdout",
     "output_type": "stream",
     "text": [
      "\n",
      "Iteracion:  20\n",
      "Fitting the area to scan...\n",
      "\n",
      " 22 Candels detected\n"
     ]
    },
    {
     "data": {
      "application/vnd.jupyter.widget-view+json": {
       "model_id": "9c6f925006244690b0a4011b342326ce",
       "version_major": 2,
       "version_minor": 0
      },
      "text/plain": [
       "HBox(children=(FloatProgress(value=0.0, max=22.0), HTML(value='')))"
      ]
     },
     "metadata": {},
     "output_type": "display_data"
    },
    {
     "name": "stdout",
     "output_type": "stream",
     "text": [
      "\n",
      "Iteracion:  21\n",
      "Space completed in  21 iterations\n",
      "Scrap function completed\n",
      "bat  Scrapped succesfully\n",
      "Opening browser...\n",
      "Maximizing window...\n",
      "Scrolling into graph...\n",
      "Scroller elements load successfully\n",
      "Fitting the area to scan...\n",
      "\n",
      " 3 Candels detected\n"
     ]
    },
    {
     "data": {
      "application/vnd.jupyter.widget-view+json": {
       "model_id": "49da65d65ee34dc482a860076aadcb99",
       "version_major": 2,
       "version_minor": 0
      },
      "text/plain": [
       "HBox(children=(FloatProgress(value=0.0, max=3.0), HTML(value='')))"
      ]
     },
     "metadata": {},
     "output_type": "display_data"
    },
    {
     "name": "stdout",
     "output_type": "stream",
     "text": [
      "\n",
      "Iteracion:  1\n",
      "Fitting the area to scan...\n",
      "\n",
      " 4 Candels detected\n"
     ]
    },
    {
     "data": {
      "application/vnd.jupyter.widget-view+json": {
       "model_id": "e77739a731e840288c7c280a789d5511",
       "version_major": 2,
       "version_minor": 0
      },
      "text/plain": [
       "HBox(children=(FloatProgress(value=0.0, max=4.0), HTML(value='')))"
      ]
     },
     "metadata": {},
     "output_type": "display_data"
    },
    {
     "name": "stdout",
     "output_type": "stream",
     "text": [
      "\n",
      "Iteracion:  2\n",
      "Fitting the area to scan...\n",
      "\n",
      " 4 Candels detected\n"
     ]
    },
    {
     "data": {
      "application/vnd.jupyter.widget-view+json": {
       "model_id": "17865d309f864498954694278b68ad14",
       "version_major": 2,
       "version_minor": 0
      },
      "text/plain": [
       "HBox(children=(FloatProgress(value=0.0, max=4.0), HTML(value='')))"
      ]
     },
     "metadata": {},
     "output_type": "display_data"
    },
    {
     "name": "stdout",
     "output_type": "stream",
     "text": [
      "\n",
      "Iteracion:  3\n",
      "Fitting the area to scan...\n",
      "\n",
      " 4 Candels detected\n"
     ]
    },
    {
     "data": {
      "application/vnd.jupyter.widget-view+json": {
       "model_id": "26d35045a7ea46c4bf93ca09e9729955",
       "version_major": 2,
       "version_minor": 0
      },
      "text/plain": [
       "HBox(children=(FloatProgress(value=0.0, max=4.0), HTML(value='')))"
      ]
     },
     "metadata": {},
     "output_type": "display_data"
    },
    {
     "name": "stdout",
     "output_type": "stream",
     "text": [
      "\n",
      "Iteracion:  4\n",
      "Fitting the area to scan...\n",
      "\n",
      " 4 Candels detected\n"
     ]
    },
    {
     "data": {
      "application/vnd.jupyter.widget-view+json": {
       "model_id": "e578e5e75edf49a987a320a736d5398d",
       "version_major": 2,
       "version_minor": 0
      },
      "text/plain": [
       "HBox(children=(FloatProgress(value=0.0, max=4.0), HTML(value='')))"
      ]
     },
     "metadata": {},
     "output_type": "display_data"
    },
    {
     "name": "stdout",
     "output_type": "stream",
     "text": [
      "\n",
      "Iteracion:  5\n",
      "Fitting the area to scan...\n",
      "\n",
      " 4 Candels detected\n"
     ]
    },
    {
     "data": {
      "application/vnd.jupyter.widget-view+json": {
       "model_id": "85a5785ab62c4c4fab63250b7c5b02bc",
       "version_major": 2,
       "version_minor": 0
      },
      "text/plain": [
       "HBox(children=(FloatProgress(value=0.0, max=4.0), HTML(value='')))"
      ]
     },
     "metadata": {},
     "output_type": "display_data"
    },
    {
     "name": "stdout",
     "output_type": "stream",
     "text": [
      "\n",
      "Iteracion:  6\n",
      "Fitting the area to scan...\n",
      "\n",
      " 4 Candels detected\n"
     ]
    },
    {
     "data": {
      "application/vnd.jupyter.widget-view+json": {
       "model_id": "8517e043abe546e08dbb108da91aacc5",
       "version_major": 2,
       "version_minor": 0
      },
      "text/plain": [
       "HBox(children=(FloatProgress(value=0.0, max=4.0), HTML(value='')))"
      ]
     },
     "metadata": {},
     "output_type": "display_data"
    },
    {
     "name": "stdout",
     "output_type": "stream",
     "text": [
      "\n",
      "Iteracion:  7\n",
      "Fitting the area to scan...\n",
      "\n",
      " 4 Candels detected\n"
     ]
    },
    {
     "data": {
      "application/vnd.jupyter.widget-view+json": {
       "model_id": "36ec8c192c854e278098ff2ac004286c",
       "version_major": 2,
       "version_minor": 0
      },
      "text/plain": [
       "HBox(children=(FloatProgress(value=0.0, max=4.0), HTML(value='')))"
      ]
     },
     "metadata": {},
     "output_type": "display_data"
    },
    {
     "name": "stdout",
     "output_type": "stream",
     "text": [
      "\n",
      "Iteracion:  8\n",
      "Fitting the area to scan...\n",
      "\n",
      " 3 Candels detected\n"
     ]
    },
    {
     "data": {
      "application/vnd.jupyter.widget-view+json": {
       "model_id": "c59f8fa92f3b425bb080a248d83385ef",
       "version_major": 2,
       "version_minor": 0
      },
      "text/plain": [
       "HBox(children=(FloatProgress(value=0.0, max=3.0), HTML(value='')))"
      ]
     },
     "metadata": {},
     "output_type": "display_data"
    },
    {
     "name": "stdout",
     "output_type": "stream",
     "text": [
      "\n",
      "Iteracion:  9\n",
      "Fitting the area to scan...\n",
      "\n",
      " 3 Candels detected\n"
     ]
    },
    {
     "data": {
      "application/vnd.jupyter.widget-view+json": {
       "model_id": "45fca1bd2d0348f8bb77fbf452984d36",
       "version_major": 2,
       "version_minor": 0
      },
      "text/plain": [
       "HBox(children=(FloatProgress(value=0.0, max=3.0), HTML(value='')))"
      ]
     },
     "metadata": {},
     "output_type": "display_data"
    },
    {
     "name": "stdout",
     "output_type": "stream",
     "text": [
      "\n",
      "Iteracion:  10\n",
      "Fitting the area to scan...\n",
      "\n",
      " 4 Candels detected\n"
     ]
    },
    {
     "data": {
      "application/vnd.jupyter.widget-view+json": {
       "model_id": "422068a90493458c90464213a70e6285",
       "version_major": 2,
       "version_minor": 0
      },
      "text/plain": [
       "HBox(children=(FloatProgress(value=0.0, max=4.0), HTML(value='')))"
      ]
     },
     "metadata": {},
     "output_type": "display_data"
    },
    {
     "name": "stdout",
     "output_type": "stream",
     "text": [
      "\n",
      "Iteracion:  11\n",
      "Fitting the area to scan...\n",
      "\n",
      " 4 Candels detected\n"
     ]
    },
    {
     "data": {
      "application/vnd.jupyter.widget-view+json": {
       "model_id": "456c75e1787648d69f92dd35302f76ab",
       "version_major": 2,
       "version_minor": 0
      },
      "text/plain": [
       "HBox(children=(FloatProgress(value=0.0, max=4.0), HTML(value='')))"
      ]
     },
     "metadata": {},
     "output_type": "display_data"
    },
    {
     "name": "stdout",
     "output_type": "stream",
     "text": [
      "\n",
      "Iteracion:  12\n",
      "Fitting the area to scan...\n",
      "\n",
      " 4 Candels detected\n"
     ]
    },
    {
     "data": {
      "application/vnd.jupyter.widget-view+json": {
       "model_id": "8741f3f44e454b939fdf99c88d2cddfe",
       "version_major": 2,
       "version_minor": 0
      },
      "text/plain": [
       "HBox(children=(FloatProgress(value=0.0, max=4.0), HTML(value='')))"
      ]
     },
     "metadata": {},
     "output_type": "display_data"
    },
    {
     "name": "stdout",
     "output_type": "stream",
     "text": [
      "\n",
      "Iteracion:  13\n",
      "Fitting the area to scan...\n",
      "\n",
      " 4 Candels detected\n"
     ]
    },
    {
     "data": {
      "application/vnd.jupyter.widget-view+json": {
       "model_id": "d211485d00d74b7fb7a1e697d9df3d4a",
       "version_major": 2,
       "version_minor": 0
      },
      "text/plain": [
       "HBox(children=(FloatProgress(value=0.0, max=4.0), HTML(value='')))"
      ]
     },
     "metadata": {},
     "output_type": "display_data"
    },
    {
     "name": "stdout",
     "output_type": "stream",
     "text": [
      "\n",
      "Iteracion:  14\n",
      "Fitting the area to scan...\n",
      "\n",
      " 4 Candels detected\n"
     ]
    },
    {
     "data": {
      "application/vnd.jupyter.widget-view+json": {
       "model_id": "3c9aa791888c4f6da565ef11ed1ac649",
       "version_major": 2,
       "version_minor": 0
      },
      "text/plain": [
       "HBox(children=(FloatProgress(value=0.0, max=4.0), HTML(value='')))"
      ]
     },
     "metadata": {},
     "output_type": "display_data"
    },
    {
     "name": "stdout",
     "output_type": "stream",
     "text": [
      "\n",
      "Iteracion:  15\n",
      "Fitting the area to scan...\n",
      "\n",
      " 4 Candels detected\n"
     ]
    },
    {
     "data": {
      "application/vnd.jupyter.widget-view+json": {
       "model_id": "76a16c5c87b3483ba7af35270a4c5c37",
       "version_major": 2,
       "version_minor": 0
      },
      "text/plain": [
       "HBox(children=(FloatProgress(value=0.0, max=4.0), HTML(value='')))"
      ]
     },
     "metadata": {},
     "output_type": "display_data"
    },
    {
     "name": "stdout",
     "output_type": "stream",
     "text": [
      "\n",
      "Iteracion:  16\n",
      "Fitting the area to scan...\n",
      "\n",
      " 4 Candels detected\n"
     ]
    },
    {
     "data": {
      "application/vnd.jupyter.widget-view+json": {
       "model_id": "69927aa92f774d998771dec74f1d943c",
       "version_major": 2,
       "version_minor": 0
      },
      "text/plain": [
       "HBox(children=(FloatProgress(value=0.0, max=4.0), HTML(value='')))"
      ]
     },
     "metadata": {},
     "output_type": "display_data"
    },
    {
     "name": "stdout",
     "output_type": "stream",
     "text": [
      "\n",
      "Iteracion:  17\n",
      "Fitting the area to scan...\n",
      "\n",
      " 4 Candels detected\n"
     ]
    },
    {
     "data": {
      "application/vnd.jupyter.widget-view+json": {
       "model_id": "8a09927dba4e477a8fcd016ce3aa5c3e",
       "version_major": 2,
       "version_minor": 0
      },
      "text/plain": [
       "HBox(children=(FloatProgress(value=0.0, max=4.0), HTML(value='')))"
      ]
     },
     "metadata": {},
     "output_type": "display_data"
    },
    {
     "name": "stdout",
     "output_type": "stream",
     "text": [
      "\n",
      "Iteracion:  18\n",
      "Fitting the area to scan...\n",
      "\n",
      " 3 Candels detected\n"
     ]
    },
    {
     "data": {
      "application/vnd.jupyter.widget-view+json": {
       "model_id": "83d4cc9111c94504ae9d552158201707",
       "version_major": 2,
       "version_minor": 0
      },
      "text/plain": [
       "HBox(children=(FloatProgress(value=0.0, max=3.0), HTML(value='')))"
      ]
     },
     "metadata": {},
     "output_type": "display_data"
    },
    {
     "name": "stdout",
     "output_type": "stream",
     "text": [
      "\n",
      "Iteracion:  19\n",
      "Fitting the area to scan...\n",
      "\n",
      " 3 Candels detected\n"
     ]
    },
    {
     "data": {
      "application/vnd.jupyter.widget-view+json": {
       "model_id": "338f29cdc32d476eb8b11f079f276d36",
       "version_major": 2,
       "version_minor": 0
      },
      "text/plain": [
       "HBox(children=(FloatProgress(value=0.0, max=3.0), HTML(value='')))"
      ]
     },
     "metadata": {},
     "output_type": "display_data"
    },
    {
     "name": "stdout",
     "output_type": "stream",
     "text": [
      "\n",
      "Iteracion:  20\n",
      "Fitting the area to scan...\n",
      "\n",
      " 3 Candels detected\n"
     ]
    },
    {
     "data": {
      "application/vnd.jupyter.widget-view+json": {
       "model_id": "c09a786cb99f49ffb2915f8b176aa391",
       "version_major": 2,
       "version_minor": 0
      },
      "text/plain": [
       "HBox(children=(FloatProgress(value=0.0, max=3.0), HTML(value='')))"
      ]
     },
     "metadata": {},
     "output_type": "display_data"
    },
    {
     "name": "stdout",
     "output_type": "stream",
     "text": [
      "\n",
      "Iteracion:  21\n",
      "Space completed in  21 iterations\n",
      "Scrap function completed\n",
      "dai  Scrapped succesfully\n"
     ]
    }
   ],
   "source": [
    "for i in coins:\n",
    "    database=[]\n",
    "    driver = loadWebpage(URLs[i])\n",
    "    scrollers = getScrollers()\n",
    "    scrap(driver=driver,database_rs=database)\n",
    "    save(i,database)\n",
    "    print(i, ' Scrapped succesfully')\n",
    "    driver.close()"
   ]
  },
  {
   "cell_type": "markdown",
   "metadata": {},
   "source": [
    "## Daily Scraper"
   ]
  },
  {
   "cell_type": "code",
   "execution_count": 77,
   "metadata": {},
   "outputs": [
    {
     "name": "stdout",
     "output_type": "stream",
     "text": [
      "Opening browser...\n",
      "Opening  https://bitso.com/trade/market/btc/mxn\n",
      "Maximizing window...\n",
      "Scrolling into graph...\n",
      "Loading scrollers...\n",
      "Scroller elements load successfully\n",
      "\n",
      " 92 Candels detected\n"
     ]
    },
    {
     "data": {
      "application/vnd.jupyter.widget-view+json": {
       "model_id": "a1295d56c5a94d83b5a92dfa7eea8c3d",
       "version_major": 2,
       "version_minor": 0
      },
      "text/plain": [
       "HBox(children=(FloatProgress(value=0.0, max=2.0), HTML(value='')))"
      ]
     },
     "metadata": {},
     "output_type": "display_data"
    },
    {
     "name": "stdout",
     "output_type": "stream",
     "text": [
      "\n",
      "Opening browser...\n",
      "Opening  https://bitso.com/trade/market/eth/mxn\n",
      "Maximizing window...\n",
      "Scrolling into graph...\n",
      "Scroller elements load successfully\n",
      "\n",
      " 92 Candels detected\n"
     ]
    },
    {
     "data": {
      "application/vnd.jupyter.widget-view+json": {
       "model_id": "5f19394826ee487692f0162ce8f5887f",
       "version_major": 2,
       "version_minor": 0
      },
      "text/plain": [
       "HBox(children=(FloatProgress(value=0.0, max=2.0), HTML(value='')))"
      ]
     },
     "metadata": {},
     "output_type": "display_data"
    },
    {
     "name": "stdout",
     "output_type": "stream",
     "text": [
      "\n",
      "Opening browser...\n",
      "Opening  https://bitso.com/trade/market/xrp/mxn\n",
      "Maximizing window...\n",
      "Scrolling into graph...\n",
      "Scroller elements load successfully\n",
      "\n",
      " 92 Candels detected\n"
     ]
    },
    {
     "data": {
      "application/vnd.jupyter.widget-view+json": {
       "model_id": "3a6f92f15b0b49f0bc8c1f67f83031ac",
       "version_major": 2,
       "version_minor": 0
      },
      "text/plain": [
       "HBox(children=(FloatProgress(value=0.0, max=2.0), HTML(value='')))"
      ]
     },
     "metadata": {},
     "output_type": "display_data"
    },
    {
     "name": "stdout",
     "output_type": "stream",
     "text": [
      "\n",
      "Opening browser...\n",
      "Opening  https://bitso.com/trade/market/ltc/mxn\n",
      "Maximizing window...\n",
      "Scrolling into graph...\n",
      "Scroller elements load successfully\n",
      "\n",
      " 92 Candels detected\n"
     ]
    },
    {
     "data": {
      "application/vnd.jupyter.widget-view+json": {
       "model_id": "59ea7ce3d4e1479784cbdf4e4607fc38",
       "version_major": 2,
       "version_minor": 0
      },
      "text/plain": [
       "HBox(children=(FloatProgress(value=0.0, max=2.0), HTML(value='')))"
      ]
     },
     "metadata": {},
     "output_type": "display_data"
    },
    {
     "name": "stdout",
     "output_type": "stream",
     "text": [
      "\n",
      "Opening browser...\n",
      "Opening  https://bitso.com/trade/market/bch/mxn\n",
      "Maximizing window...\n",
      "Scrolling into graph...\n",
      "Scroller elements load successfully\n",
      "\n",
      " 92 Candels detected\n"
     ]
    },
    {
     "data": {
      "application/vnd.jupyter.widget-view+json": {
       "model_id": "428be940b00d4c9690484735104ff864",
       "version_major": 2,
       "version_minor": 0
      },
      "text/plain": [
       "HBox(children=(FloatProgress(value=0.0, max=2.0), HTML(value='')))"
      ]
     },
     "metadata": {},
     "output_type": "display_data"
    },
    {
     "name": "stdout",
     "output_type": "stream",
     "text": [
      "\n",
      "Opening browser...\n",
      "Opening  https://bitso.com/trade/market/tusd/mxn\n",
      "Maximizing window...\n",
      "Scrolling into graph...\n",
      "Scroller elements load successfully\n",
      "\n",
      " 92 Candels detected\n"
     ]
    },
    {
     "data": {
      "application/vnd.jupyter.widget-view+json": {
       "model_id": "3013b2074c0b41db92a46dc48f179eb9",
       "version_major": 2,
       "version_minor": 0
      },
      "text/plain": [
       "HBox(children=(FloatProgress(value=0.0, max=2.0), HTML(value='')))"
      ]
     },
     "metadata": {},
     "output_type": "display_data"
    },
    {
     "name": "stdout",
     "output_type": "stream",
     "text": [
      "\n",
      "Opening browser...\n",
      "Opening  https://bitso.com/trade/market/mana/mxn\n",
      "Maximizing window...\n",
      "Scrolling into graph...\n",
      "Scroller elements load successfully\n",
      "\n",
      " 92 Candels detected\n"
     ]
    },
    {
     "data": {
      "application/vnd.jupyter.widget-view+json": {
       "model_id": "9663fd4e058242d58cbc2e9ffb46ab5b",
       "version_major": 2,
       "version_minor": 0
      },
      "text/plain": [
       "HBox(children=(FloatProgress(value=0.0, max=2.0), HTML(value='')))"
      ]
     },
     "metadata": {},
     "output_type": "display_data"
    },
    {
     "name": "stdout",
     "output_type": "stream",
     "text": [
      "\n",
      "Opening browser...\n",
      "Opening  https://bitso.com/trade/market/gnt/mxn\n",
      "Maximizing window...\n",
      "Scrolling into graph...\n",
      "Scroller elements load successfully\n",
      "\n",
      " 92 Candels detected\n"
     ]
    },
    {
     "data": {
      "application/vnd.jupyter.widget-view+json": {
       "model_id": "6498e1163bb240d6aed144fdce99502e",
       "version_major": 2,
       "version_minor": 0
      },
      "text/plain": [
       "HBox(children=(FloatProgress(value=0.0, max=2.0), HTML(value='')))"
      ]
     },
     "metadata": {},
     "output_type": "display_data"
    },
    {
     "name": "stdout",
     "output_type": "stream",
     "text": [
      "\n",
      "Opening browser...\n",
      "Opening  https://bitso.com/trade/market/bat/mxn\n",
      "Maximizing window...\n",
      "Scrolling into graph...\n",
      "Scroller elements load successfully\n",
      "\n",
      " 92 Candels detected\n"
     ]
    },
    {
     "data": {
      "application/vnd.jupyter.widget-view+json": {
       "model_id": "ed9387d59cbf473b80f2c32effb34ec4",
       "version_major": 2,
       "version_minor": 0
      },
      "text/plain": [
       "HBox(children=(FloatProgress(value=0.0, max=2.0), HTML(value='')))"
      ]
     },
     "metadata": {},
     "output_type": "display_data"
    },
    {
     "name": "stdout",
     "output_type": "stream",
     "text": [
      "\n",
      "Opening browser...\n",
      "Opening  https://bitso.com/trade/market/dai/mxn\n",
      "Maximizing window...\n",
      "Scrolling into graph...\n",
      "Scroller elements load successfully\n",
      "\n",
      " 60 Candels detected\n"
     ]
    },
    {
     "data": {
      "application/vnd.jupyter.widget-view+json": {
       "model_id": "de070cbdb6e541a091b4e82bbfaa3bbd",
       "version_major": 2,
       "version_minor": 0
      },
      "text/plain": [
       "HBox(children=(FloatProgress(value=0.0, max=2.0), HTML(value='')))"
      ]
     },
     "metadata": {},
     "output_type": "display_data"
    },
    {
     "name": "stdout",
     "output_type": "stream",
     "text": [
      "The Candel 0 Fails when was tried to read it\n",
      "\n"
     ]
    }
   ],
   "source": [
    "updates=[]\n",
    "for i in coins:\n",
    "    database=[]\n",
    "    driver = loadWebpage(URLs[i])\n",
    "    scrollers = getScrollers()\n",
    "    readscreen(database=database,order='des',limitedStop=True, stopLimit=2)\n",
    "    updates.append([i,database])\n",
    "    driver.close()"
   ]
  },
  {
   "cell_type": "code",
   "execution_count": null,
   "metadata": {},
   "outputs": [],
   "source": [
    "#Get Value\n",
    "#Open Historical\n",
    "#Add new values (Day after today)\n",
    "#"
   ]
  },
  {
   "cell_type": "code",
   "execution_count": 78,
   "metadata": {},
   "outputs": [
    {
     "data": {
      "text/plain": [
       "[['btc',\n",
       "  [[datetime.datetime(2020, 6, 1, 0, 0),\n",
       "    '210,861.46',\n",
       "    '208,753.02',\n",
       "    '214,499.99',\n",
       "    '213,830.52',\n",
       "    '146.34921297'],\n",
       "   [datetime.datetime(2020, 5, 31, 0, 0),\n",
       "    '211,847.01',\n",
       "    '208,550',\n",
       "    '213,445.25',\n",
       "    '210,249.7',\n",
       "    '84.02252169']]],\n",
       " ['eth',\n",
       "  [[datetime.datetime(2020, 6, 1, 0, 0),\n",
       "    '5,287.35',\n",
       "    '5,182.54',\n",
       "    '5,390',\n",
       "    '5,389.99',\n",
       "    '2,591.65311196'],\n",
       "   [datetime.datetime(2020, 5, 31, 0, 0),\n",
       "    '5,287.94',\n",
       "    '5,107.51',\n",
       "    '5,347.6',\n",
       "    '5,287.34',\n",
       "    '1,389.5444322']]],\n",
       " ['xrp',\n",
       "  [[datetime.datetime(2020, 6, 1, 0, 0),\n",
       "    '4.51',\n",
       "    '4.44',\n",
       "    '4.58',\n",
       "    '4.56',\n",
       "    '35,823,916.844972'],\n",
       "   [datetime.datetime(2020, 5, 31, 0, 0),\n",
       "    '4.52',\n",
       "    '4.46',\n",
       "    '4.72',\n",
       "    '4.52',\n",
       "    '7,579,455.6677262']]],\n",
       " ['ltc',\n",
       "  [[datetime.datetime(2020, 6, 1, 0, 0),\n",
       "    '1,017.48',\n",
       "    '1,005.79',\n",
       "    '1,048.69',\n",
       "    '1,044.12',\n",
       "    '852.77884462'],\n",
       "   [datetime.datetime(2020, 5, 31, 0, 0),\n",
       "    '1,030',\n",
       "    '1,002',\n",
       "    '1,052.99',\n",
       "    '1,022.14',\n",
       "    '1,407.85623053']]],\n",
       " ['bch',\n",
       "  [[datetime.datetime(2020, 6, 1, 0, 0),\n",
       "    '5,354',\n",
       "    '5,270.16',\n",
       "    '5,458.05',\n",
       "    '5,458.05',\n",
       "    '201.19849618'],\n",
       "   [datetime.datetime(2020, 5, 31, 0, 0),\n",
       "    '5,451.26',\n",
       "    '5,260.25',\n",
       "    '5,537.37',\n",
       "    '5,351.56',\n",
       "    '150.0214132']]],\n",
       " ['tusd',\n",
       "  [[datetime.datetime(2020, 6, 1, 0, 0),\n",
       "    '22.1',\n",
       "    '22',\n",
       "    '22.25',\n",
       "    '22.12',\n",
       "    '234,841.06263282'],\n",
       "   [datetime.datetime(2020, 5, 31, 0, 0),\n",
       "    '22.18',\n",
       "    '22.09',\n",
       "    '22.3',\n",
       "    '22.17',\n",
       "    '42,741.66877305']]],\n",
       " ['mana',\n",
       "  [[datetime.datetime(2020, 6, 1, 0, 0),\n",
       "    '0.89',\n",
       "    '0.88',\n",
       "    '0.9',\n",
       "    '0.9',\n",
       "    '300,497.46014855'],\n",
       "   [datetime.datetime(2020, 5, 31, 0, 0),\n",
       "    '0.89',\n",
       "    '0.88',\n",
       "    '0.92',\n",
       "    '0.89',\n",
       "    '1,176,567.2416964']]],\n",
       " ['gnt',\n",
       "  [[datetime.datetime(2020, 6, 1, 0, 0),\n",
       "    '1.11',\n",
       "    '1.11',\n",
       "    '1.15',\n",
       "    '1.15',\n",
       "    '77,979.92205226'],\n",
       "   [datetime.datetime(2020, 5, 31, 0, 0),\n",
       "    '1.14',\n",
       "    '1.11',\n",
       "    '1.16',\n",
       "    '1.11',\n",
       "    '360,579.07866429']]],\n",
       " ['bat',\n",
       "  [[datetime.datetime(2020, 6, 1, 0, 0),\n",
       "    '4.81',\n",
       "    '4.73',\n",
       "    '4.95',\n",
       "    '4.87',\n",
       "    '44,264.79980713'],\n",
       "   [datetime.datetime(2020, 5, 31, 0, 0),\n",
       "    '4.73',\n",
       "    '4.63',\n",
       "    '5.03',\n",
       "    '4.82',\n",
       "    '103,842.86543274']]],\n",
       " ['dai',\n",
       "  [[datetime.datetime(2020, 5, 31, 0, 0),\n",
       "    '22.2',\n",
       "    '22.15',\n",
       "    '22.38',\n",
       "    '22.15',\n",
       "    '4,391.6506575']]]]"
      ]
     },
     "execution_count": 78,
     "metadata": {},
     "output_type": "execute_result"
    }
   ],
   "source": [
    "updates"
   ]
  },
  {
   "cell_type": "code",
   "execution_count": 58,
   "metadata": {},
   "outputs": [],
   "source": [
    "driver.close()"
   ]
  },
  {
   "cell_type": "markdown",
   "metadata": {},
   "source": [
    "## Other Sources"
   ]
  },
  {
   "cell_type": "code",
   "execution_count": null,
   "metadata": {},
   "outputs": [],
   "source": [
    "import requests\n",
    "from datetime import date"
   ]
  },
  {
   "cell_type": "code",
   "execution_count": null,
   "metadata": {},
   "outputs": [],
   "source": [
    "books={'Bitcoin':'btc_mxn',\n",
    "       'Ethereum':'eth_mxn',\n",
    "       'Ripple':'xrp_mxn',\n",
    "       'LTC':'ltc_mxn',\n",
    "       'Bitcoin Cash':'bch_mxn',\n",
    "       'True Dollar':'tusd_mxn',\n",
    "       'Mana':'mana_mxn',\n",
    "       'Golem':'gnt_mxn',\n",
    "       'BAT':'bat_mxn',\n",
    "       'DAI':'dai_mxn'}\n",
    "\n",
    "coins=['bitcoin','ethereum','xrp','litecoin','bitcoin-cash','trueusd','decentraland','golem-network-tokens',\n",
    "       'basic-attention-token','multi-collateral-dai']\n",
    "start='20120428'\n",
    "\n",
    "end= date.today()\n",
    "end= end.strftime(\"%Y%m%d\")\n",
    "\n",
    "url=[]\n",
    "for coin in coins:\n",
    "    url.append('https://coinmarketcap.com/currencies/'+coin+'/historical-data/?start='+start+'&end='+end)"
   ]
  },
  {
   "cell_type": "code",
   "execution_count": null,
   "metadata": {},
   "outputs": [],
   "source": [
    "url[0]"
   ]
  }
 ],
 "metadata": {
  "kernelspec": {
   "display_name": "Python 3",
   "language": "python",
   "name": "python3"
  },
  "language_info": {
   "codemirror_mode": {
    "name": "ipython",
    "version": 3
   },
   "file_extension": ".py",
   "mimetype": "text/x-python",
   "name": "python",
   "nbconvert_exporter": "python",
   "pygments_lexer": "ipython3",
   "version": "3.7.7"
  }
 },
 "nbformat": 4,
 "nbformat_minor": 4
}
