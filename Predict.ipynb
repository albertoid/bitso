{
 "cells": [
  {
   "cell_type": "markdown",
   "metadata": {},
   "source": [
    "# Prediction Algorithms"
   ]
  },
  {
   "cell_type": "markdown",
   "metadata": {},
   "source": [
    "The main idea is to predict the next day low, upper, open and close to determine a strategy for the next day"
   ]
  },
  {
   "cell_type": "code",
   "execution_count": 1,
   "metadata": {},
   "outputs": [],
   "source": [
    "import pandas as pd\n",
    "from datetime import datetime\n",
    "from datetime import date \n",
    "import numpy as np\n",
    "\n",
    "from time import sleep\n",
    "from tqdm.notebook import tqdm, trange\n",
    "\n",
    "import seaborn as sns\n",
    "import matplotlib as plt\n",
    "import plotly.graph_objects as go\n",
    "\n",
    "from tqdm.notebook import tqdm\n",
    "import warnings\n",
    "warnings.filterwarnings(\"ignore\")\n",
    "\n",
    "from sklearn.model_selection import train_test_split as tts\n",
    "from xgboost import XGBRegressor as XGBR\n",
    "from sklearn.ensemble import RandomForestRegressor as RFR\n",
    "from sklearn.ensemble import GradientBoostingRegressor as GBR"
   ]
  },
  {
   "cell_type": "markdown",
   "metadata": {},
   "source": [
    "# Functions"
   ]
  },
  {
   "cell_type": "code",
   "execution_count": 2,
   "metadata": {},
   "outputs": [],
   "source": [
    "#Conversion from strings to numeric\n",
    "def strnum(x):\n",
    "    try:\n",
    "        x=x.replace(',','')\n",
    "        return float(x)\n",
    "    except:\n",
    "        return x\n",
    "\n",
    "#-----------movingAvg function-----------------\n",
    "#Calculates the Moving Average\n",
    "\n",
    "#df - list with the dataframes\n",
    "#x - index of the coin, e.g. 0- BTC, 1-ETH... of the databases' list who contains the collections of data\n",
    "#dname - name of the destination column of the moving average calculation (not creared yet)\n",
    "#oname - name of the origin column of the data to take the information for the moving avarege\n",
    "#msize - number of registers to calculate the moving average\n",
    "\n",
    "def movingAvg(df,x,dname,oname,msize):\n",
    "    df[x][dname] = 0.0\n",
    "    for i in range(len(df[x])):\n",
    "        temp=0.0\n",
    "        if i<msize:\n",
    "            pass\n",
    "        else:\n",
    "            for j in range(msize):\n",
    "                temp+= data[x][oname][i-msize+j]\n",
    "            df[x][dname][i]=temp/msize\n",
    "#-----------------oheDate--------------------\n",
    "#Makes one hot econfing to date depending day of the week, day of the month, week of year and month of year\n",
    "\n",
    "def oheDate(df,x):\n",
    "    df[x]['weekday']=df[x]['date']\n",
    "    df[x]['weekday']=df[x]['weekday'].apply(lambda z: str(z.weekday()))\n",
    "    \n",
    "    #df[x]['calendarweek']=df[x]['date']\n",
    "    #df[x]['calendarweek']=df[x]['date'].apply(lambda z: str(z.isocalendar()[1]))\n",
    "    \n",
    "    #df[x]['dayofmonth']=df[x]['date']\n",
    "    #df[x]['dayofmonth']=df[x]['date'].apply(lambda z: str(z.day))\n",
    "    \n",
    "    #df[x]['month']=df[x]['date']\n",
    "    #df[x]['month']=df[x]['date'].apply(lambda z: str(z.month))\n",
    "    \n",
    "    #Contanating dummies\n",
    "    ohe=pd.get_dummies(df[x][['weekday']])#,'calendarweek']])#,'dayofmonth','month']])\n",
    "    df[x]=pd.concat([df[x],ohe],axis=1)\n",
    "    #Eliminating categorical columns\n",
    "    df[x].drop(columns=['weekday'], inplace=True)\n",
    "    \n",
    "    \n",
    "#--------------------yesterday-----------------\n",
    "#Takes n \"days\" to the current day as new column (parameter) for the prediction\n",
    "def yesterday(df,x,days=1,closev=True,openv=True,highv=True,lowv=True,volumev=True):\n",
    "    \n",
    "    #Values selector from the function inputs\n",
    "    values_names=['close','open','high','low','volume']\n",
    "    values=[closev,openv,highv,lowv,volumev]\n",
    "    vals=[]\n",
    "    for i,e in enumerate(values):\n",
    "        if e==True:\n",
    "            vals.append(values_names[i])\n",
    "    yestvals=[]#List of added variables\n",
    "    \n",
    "    #Main set    \n",
    "    for day in range(days):\n",
    "        for val in vals:\n",
    "            y=val+'_'+str(day)\n",
    "            df[x]['yesterday_'+y]=0.0\n",
    "            yestvals.append('yesterday_'+y)\n",
    "            for i in range(len(df[x])-1):\n",
    "                df[x]['yesterday_'+y][i+1]=df[x][val][i]\n",
    "    \n",
    "    return yestvals"
   ]
  },
  {
   "cell_type": "markdown",
   "metadata": {},
   "source": [
    "# Load and Transform"
   ]
  },
  {
   "cell_type": "code",
   "execution_count": 58,
   "metadata": {},
   "outputs": [
    {
     "data": {
      "application/vnd.jupyter.widget-view+json": {
       "model_id": "adc3e30f98ab4fd5bf0d8df9616d596e",
       "version_major": 2,
       "version_minor": 0
      },
      "text/plain": [
       "HBox(children=(FloatProgress(value=0.0, max=10.0), HTML(value='')))"
      ]
     },
     "metadata": {},
     "output_type": "display_data"
    },
    {
     "name": "stdout",
     "output_type": "stream",
     "text": [
      "\n"
     ]
    }
   ],
   "source": [
    "#Global Variables\n",
    "coins=['btc','eth','xrp','ltc','bch','tusd','mana','gnt','bat','dai']\n",
    "\n",
    "#Opening All databases\n",
    "data=[]\n",
    "for i,e in enumerate(coins):\n",
    "    file=e+'-mxn.csv'\n",
    "    data.append(pd.read_csv(file))\n",
    "#Conversion of dates from strin to timestamps\n",
    "for i in range(len(coins)):\n",
    "    data[i].date=data[i].date.apply(lambda x: datetime.strptime(x,'%Y-%m-%d'))\n",
    "\n",
    "# Conversion to numeric \n",
    "for i in range(len(coins)):\n",
    "    data[i].open=data[i].open.apply(lambda x: strnum(x))\n",
    "    data[i].close=data[i].close.apply(lambda x: strnum(x))\n",
    "    data[i].low=data[i].low.apply(lambda x: strnum(x))\n",
    "    data[i].high=data[i].high.apply(lambda x: strnum(x))\n",
    "    data[i].volume=data[i].volume.apply(lambda x: strnum(x))\n",
    "\n",
    "#MACD Calculation\n",
    "metricas=['open','close','high','low','volume']\n",
    "\n",
    "for i in tqdm(range(len(coins))):\n",
    "    for m in metricas:#tqdm(metricas):\n",
    "        movingAvg(data,i,'PMEF'+ m,m,12)\n",
    "        movingAvg(data,i,'PMES'+m,m,26)\n",
    "        data[i]['MACD'+m]=data[i]['PMEF'+m]-data[i]['PMES'+m]\n",
    "        movingAvg(data,i,'MACD9'+m,'MACD'+m,9)\n",
    "        data[i]['diffMACD'+m]=data[i]['MACD'+m]-data[i]['MACD9'+m]\n",
    "    oheDate(data,i)\n",
    "    yv=yesterday(data,i,14)\n",
    "\n"
   ]
  },
  {
   "cell_type": "markdown",
   "metadata": {},
   "source": [
    "# Predictior Function"
   ]
  },
  {
   "cell_type": "code",
   "execution_count": 59,
   "metadata": {},
   "outputs": [],
   "source": [
    "def predictor(data=data,end=0):\n",
    "    #Create Dataframe for predictions\n",
    "    preds= pd.DataFrame(columns=metricas)\n",
    "    preds['coin'] =\"\"\n",
    "    cols=preds.columns.tolist()\n",
    "    cols=cols[-1:]+cols[:-1]\n",
    "    preds=preds[cols]\n",
    "    preds\n",
    "\n",
    "    for x in tqdm(range(len(coins))):\n",
    "        test=data[x][35:len(data[x])-1-end] #35 is 26 + 9 for all the number of samples who doesn't has Moving Avg  \n",
    "        dc=['date','open','close','low','high','volume']\n",
    "        timevars = [ 'weekday_'+ str(x) for x in range(7)]\n",
    "\n",
    "        #Adding new row for predictions\n",
    "        preds=preds.append([0], ignore_index=True).drop(0,axis=1)\n",
    "        preds=preds[cols]\n",
    "        preds['coin'][x]=coins[x]\n",
    "\n",
    "        for m in metricas:\n",
    "            #Predictions\n",
    "            X_train, X_test, y_train, y_test=tts(test[['PMEF'+m,'PMES'+m,'MACD'+m,'MACD9'+m]+timevars+yv],test[m], shuffle=True,random_state=100,test_size=.1)\n",
    "            modelo=XGBR()\n",
    "            modelo.fit(X_train, y_train)\n",
    "            preds[m][x]=modelo.predict(data[x][len(data[x])-1-end:len(data[x])-end][['PMEF'+m,'PMES'+m,'MACD'+m,'MACD9'+m]+timevars+yv])[0]\n",
    "            #train_score=modelo.score(X_train, y_train)\n",
    "            #test_score=modelo.score(X_test, y_test)\n",
    "            #print ('Score para', coins[x],m,train_score, test_score)\n",
    "\n",
    "    #Getting oppenings to make initial corrections\n",
    "\n",
    "    preds['ropen']=0.0\n",
    "    for i,e in enumerate(coins):\n",
    "        preds.ropen[i]=data[i]['open'][len(data[i])-1-end]\n",
    "\n",
    "    preds['corr']=preds.ropen - preds.open\n",
    "    preds['pcorr']= (1 - preds.open/preds.ropen)*100\n",
    "    preds['pcorr']= preds['pcorr'].apply(lambda x: str(x.round(1))+'%')\n",
    "\n",
    "\n",
    "    #Calculation of investment factors\n",
    "\n",
    "    preds['go']= preds.close - preds.open\n",
    "    preds['go']= preds['go'].apply(lambda x: 1 if x>0 else 0)\n",
    "    preds['buy']=preds.open - (preds.open-preds.low)/3 # 1/3 below the opening regarding the lowest point\n",
    "    preds['sell']=(preds.high-preds.close)/3+preds.close # 1/3 above the closure regarding the highes point\n",
    "    preds['rate']=(preds.sell/preds.buy-1)*100\n",
    "    preds.go=preds.go*preds.rate\n",
    "    preds.go=preds['go'].apply(lambda x: 1 if x>0 else 0)\n",
    "    preds.rate=preds.rate.apply(lambda x: x.round(1))\n",
    "\n",
    "    #Calculuation correction\n",
    "\n",
    "    preds['buya'] = preds['buy'] + preds['corr']\n",
    "    preds['sella'] = preds['sell'] # + preds['corr']\n",
    "    preds['rrate']= (preds['sella']/preds['buya'] - 1)*100\n",
    "    preds['stoploss'] = preds['low'] + preds['corr']\n",
    "    preds.rrate=preds.rrate.apply(lambda x: x.round(1))\n",
    "    preds['go']=preds['rrate']\n",
    "    preds['go']= preds['go'].apply(lambda x: 1 if x>2 else 0)\n",
    "    \n",
    "    return preds\n"
   ]
  },
  {
   "cell_type": "code",
   "execution_count": 60,
   "metadata": {},
   "outputs": [
    {
     "data": {
      "application/vnd.jupyter.widget-view+json": {
       "model_id": "a77098617b5a46dd83e512206304600c",
       "version_major": 2,
       "version_minor": 0
      },
      "text/plain": [
       "HBox(children=(FloatProgress(value=0.0, max=10.0), HTML(value='')))"
      ]
     },
     "metadata": {},
     "output_type": "display_data"
    },
    {
     "name": "stdout",
     "output_type": "stream",
     "text": [
      "\n"
     ]
    }
   ],
   "source": [
    "preds=predictor()"
   ]
  },
  {
   "cell_type": "markdown",
   "metadata": {},
   "source": [
    "# Display Predictions"
   ]
  },
  {
   "cell_type": "code",
   "execution_count": 61,
   "metadata": {},
   "outputs": [
    {
     "data": {
      "text/html": [
       "<div>\n",
       "<style scoped>\n",
       "    .dataframe tbody tr th:only-of-type {\n",
       "        vertical-align: middle;\n",
       "    }\n",
       "\n",
       "    .dataframe tbody tr th {\n",
       "        vertical-align: top;\n",
       "    }\n",
       "\n",
       "    .dataframe thead th {\n",
       "        text-align: right;\n",
       "    }\n",
       "</style>\n",
       "<table border=\"1\" class=\"dataframe\">\n",
       "  <thead>\n",
       "    <tr style=\"text-align: right;\">\n",
       "      <th></th>\n",
       "      <th>coin</th>\n",
       "      <th>buya</th>\n",
       "      <th>sella</th>\n",
       "      <th>stoploss</th>\n",
       "      <th>go</th>\n",
       "      <th>rrate</th>\n",
       "    </tr>\n",
       "  </thead>\n",
       "  <tbody>\n",
       "    <tr>\n",
       "      <th>0</th>\n",
       "      <td>btc</td>\n",
       "      <td>261994</td>\n",
       "      <td>260164</td>\n",
       "      <td>254906</td>\n",
       "      <td>0</td>\n",
       "      <td>-0.7</td>\n",
       "    </tr>\n",
       "    <tr>\n",
       "      <th>1</th>\n",
       "      <td>eth</td>\n",
       "      <td>8700.13</td>\n",
       "      <td>8921.91</td>\n",
       "      <td>8431.62</td>\n",
       "      <td>1</td>\n",
       "      <td>2.5</td>\n",
       "    </tr>\n",
       "    <tr>\n",
       "      <th>2</th>\n",
       "      <td>xrp</td>\n",
       "      <td>6.63197</td>\n",
       "      <td>6.78211</td>\n",
       "      <td>6.3159</td>\n",
       "      <td>1</td>\n",
       "      <td>2.3</td>\n",
       "    </tr>\n",
       "    <tr>\n",
       "      <th>3</th>\n",
       "      <td>ltc</td>\n",
       "      <td>1290.09</td>\n",
       "      <td>1280.64</td>\n",
       "      <td>1258.6</td>\n",
       "      <td>0</td>\n",
       "      <td>-0.7</td>\n",
       "    </tr>\n",
       "    <tr>\n",
       "      <th>4</th>\n",
       "      <td>bch</td>\n",
       "      <td>6620.1</td>\n",
       "      <td>6903.44</td>\n",
       "      <td>6370.7</td>\n",
       "      <td>1</td>\n",
       "      <td>4.3</td>\n",
       "    </tr>\n",
       "    <tr>\n",
       "      <th>5</th>\n",
       "      <td>tusd</td>\n",
       "      <td>22.3786</td>\n",
       "      <td>22.488</td>\n",
       "      <td>22.2758</td>\n",
       "      <td>0</td>\n",
       "      <td>0.5</td>\n",
       "    </tr>\n",
       "    <tr>\n",
       "      <th>6</th>\n",
       "      <td>mana</td>\n",
       "      <td>2.18849</td>\n",
       "      <td>2.29651</td>\n",
       "      <td>2.16548</td>\n",
       "      <td>1</td>\n",
       "      <td>4.9</td>\n",
       "    </tr>\n",
       "    <tr>\n",
       "      <th>7</th>\n",
       "      <td>gnt</td>\n",
       "      <td>1.68831</td>\n",
       "      <td>1.81428</td>\n",
       "      <td>1.56493</td>\n",
       "      <td>1</td>\n",
       "      <td>7.5</td>\n",
       "    </tr>\n",
       "    <tr>\n",
       "      <th>8</th>\n",
       "      <td>bat</td>\n",
       "      <td>6.20313</td>\n",
       "      <td>6.27263</td>\n",
       "      <td>6.02939</td>\n",
       "      <td>0</td>\n",
       "      <td>1.1</td>\n",
       "    </tr>\n",
       "    <tr>\n",
       "      <th>9</th>\n",
       "      <td>dai</td>\n",
       "      <td>22.6866</td>\n",
       "      <td>22.8127</td>\n",
       "      <td>22.4999</td>\n",
       "      <td>0</td>\n",
       "      <td>0.6</td>\n",
       "    </tr>\n",
       "  </tbody>\n",
       "</table>\n",
       "</div>"
      ],
      "text/plain": [
       "   coin     buya    sella stoploss  go  rrate\n",
       "0   btc   261994   260164   254906   0   -0.7\n",
       "1   eth  8700.13  8921.91  8431.62   1    2.5\n",
       "2   xrp  6.63197  6.78211   6.3159   1    2.3\n",
       "3   ltc  1290.09  1280.64   1258.6   0   -0.7\n",
       "4   bch   6620.1  6903.44   6370.7   1    4.3\n",
       "5  tusd  22.3786   22.488  22.2758   0    0.5\n",
       "6  mana  2.18849  2.29651  2.16548   1    4.9\n",
       "7   gnt  1.68831  1.81428  1.56493   1    7.5\n",
       "8   bat  6.20313  6.27263  6.02939   0    1.1\n",
       "9   dai  22.6866  22.8127  22.4999   0    0.6"
      ]
     },
     "execution_count": 61,
     "metadata": {},
     "output_type": "execute_result"
    }
   ],
   "source": [
    "sortedcols=['coin','buya','sella','stoploss','go','rrate']\n",
    "preds[sortedcols]"
   ]
  },
  {
   "cell_type": "code",
   "execution_count": 62,
   "metadata": {},
   "outputs": [
    {
     "data": {
      "text/html": [
       "<div>\n",
       "<style scoped>\n",
       "    .dataframe tbody tr th:only-of-type {\n",
       "        vertical-align: middle;\n",
       "    }\n",
       "\n",
       "    .dataframe tbody tr th {\n",
       "        vertical-align: top;\n",
       "    }\n",
       "\n",
       "    .dataframe thead th {\n",
       "        text-align: right;\n",
       "    }\n",
       "</style>\n",
       "<table border=\"1\" class=\"dataframe\">\n",
       "  <thead>\n",
       "    <tr style=\"text-align: right;\">\n",
       "      <th></th>\n",
       "      <th>coin</th>\n",
       "      <th>open</th>\n",
       "      <th>close</th>\n",
       "      <th>high</th>\n",
       "      <th>low</th>\n",
       "      <th>volume</th>\n",
       "      <th>ropen</th>\n",
       "      <th>corr</th>\n",
       "      <th>pcorr</th>\n",
       "      <th>go</th>\n",
       "      <th>buy</th>\n",
       "      <th>sell</th>\n",
       "      <th>rate</th>\n",
       "      <th>buya</th>\n",
       "      <th>sella</th>\n",
       "      <th>rrate</th>\n",
       "      <th>stoploss</th>\n",
       "    </tr>\n",
       "  </thead>\n",
       "  <tbody>\n",
       "    <tr>\n",
       "      <th>0</th>\n",
       "      <td>btc</td>\n",
       "      <td>267745</td>\n",
       "      <td>256015</td>\n",
       "      <td>268462</td>\n",
       "      <td>257113</td>\n",
       "      <td>165.616</td>\n",
       "      <td>265538.03</td>\n",
       "      <td>-2206.5</td>\n",
       "      <td>-0.8%</td>\n",
       "      <td>0</td>\n",
       "      <td>264201</td>\n",
       "      <td>260164</td>\n",
       "      <td>-1.5</td>\n",
       "      <td>261994</td>\n",
       "      <td>260164</td>\n",
       "      <td>-0.7</td>\n",
       "      <td>254906</td>\n",
       "    </tr>\n",
       "    <tr>\n",
       "      <th>1</th>\n",
       "      <td>eth</td>\n",
       "      <td>8858.15</td>\n",
       "      <td>8894.92</td>\n",
       "      <td>8975.87</td>\n",
       "      <td>8455.39</td>\n",
       "      <td>1281.64</td>\n",
       "      <td>8834.38</td>\n",
       "      <td>-23.7665</td>\n",
       "      <td>-0.3%</td>\n",
       "      <td>1</td>\n",
       "      <td>8723.89</td>\n",
       "      <td>8921.91</td>\n",
       "      <td>2.3</td>\n",
       "      <td>8700.13</td>\n",
       "      <td>8921.91</td>\n",
       "      <td>2.5</td>\n",
       "      <td>8431.62</td>\n",
       "    </tr>\n",
       "    <tr>\n",
       "      <th>2</th>\n",
       "      <td>xrp</td>\n",
       "      <td>6.81365</td>\n",
       "      <td>6.64777</td>\n",
       "      <td>7.05078</td>\n",
       "      <td>6.33955</td>\n",
       "      <td>1.08908e+07</td>\n",
       "      <td>6.79</td>\n",
       "      <td>-0.0236487</td>\n",
       "      <td>-0.3%</td>\n",
       "      <td>1</td>\n",
       "      <td>6.65562</td>\n",
       "      <td>6.78211</td>\n",
       "      <td>1.9</td>\n",
       "      <td>6.63197</td>\n",
       "      <td>6.78211</td>\n",
       "      <td>2.3</td>\n",
       "      <td>6.3159</td>\n",
       "    </tr>\n",
       "    <tr>\n",
       "      <th>3</th>\n",
       "      <td>ltc</td>\n",
       "      <td>1309.01</td>\n",
       "      <td>1253.27</td>\n",
       "      <td>1335.37</td>\n",
       "      <td>1261.78</td>\n",
       "      <td>2163.84</td>\n",
       "      <td>1305.83</td>\n",
       "      <td>-3.17793</td>\n",
       "      <td>-0.2%</td>\n",
       "      <td>0</td>\n",
       "      <td>1293.26</td>\n",
       "      <td>1280.64</td>\n",
       "      <td>-1.0</td>\n",
       "      <td>1290.09</td>\n",
       "      <td>1280.64</td>\n",
       "      <td>-0.7</td>\n",
       "      <td>1258.6</td>\n",
       "    </tr>\n",
       "    <tr>\n",
       "      <th>4</th>\n",
       "      <td>bch</td>\n",
       "      <td>6811.54</td>\n",
       "      <td>6964.94</td>\n",
       "      <td>6780.44</td>\n",
       "      <td>6437.44</td>\n",
       "      <td>634.518</td>\n",
       "      <td>6744.80</td>\n",
       "      <td>-66.7376</td>\n",
       "      <td>-1.0%</td>\n",
       "      <td>1</td>\n",
       "      <td>6686.84</td>\n",
       "      <td>6903.44</td>\n",
       "      <td>3.2</td>\n",
       "      <td>6620.1</td>\n",
       "      <td>6903.44</td>\n",
       "      <td>4.3</td>\n",
       "      <td>6370.7</td>\n",
       "    </tr>\n",
       "    <tr>\n",
       "      <th>5</th>\n",
       "      <td>tusd</td>\n",
       "      <td>22.3841</td>\n",
       "      <td>22.4127</td>\n",
       "      <td>22.6385</td>\n",
       "      <td>22.2299</td>\n",
       "      <td>91186.2</td>\n",
       "      <td>22.43</td>\n",
       "      <td>0.0459</td>\n",
       "      <td>0.2%</td>\n",
       "      <td>0</td>\n",
       "      <td>22.3327</td>\n",
       "      <td>22.488</td>\n",
       "      <td>0.7</td>\n",
       "      <td>22.3786</td>\n",
       "      <td>22.488</td>\n",
       "      <td>0.5</td>\n",
       "      <td>22.2758</td>\n",
       "    </tr>\n",
       "    <tr>\n",
       "      <th>6</th>\n",
       "      <td>mana</td>\n",
       "      <td>2.182</td>\n",
       "      <td>2.20961</td>\n",
       "      <td>2.47031</td>\n",
       "      <td>2.14748</td>\n",
       "      <td>1.17579e+07</td>\n",
       "      <td>2.20</td>\n",
       "      <td>0.0180003</td>\n",
       "      <td>0.8%</td>\n",
       "      <td>1</td>\n",
       "      <td>2.17049</td>\n",
       "      <td>2.29651</td>\n",
       "      <td>5.8</td>\n",
       "      <td>2.18849</td>\n",
       "      <td>2.29651</td>\n",
       "      <td>4.9</td>\n",
       "      <td>2.16548</td>\n",
       "    </tr>\n",
       "    <tr>\n",
       "      <th>7</th>\n",
       "      <td>gnt</td>\n",
       "      <td>1.80088</td>\n",
       "      <td>1.79674</td>\n",
       "      <td>1.84935</td>\n",
       "      <td>1.61581</td>\n",
       "      <td>1.17709e+06</td>\n",
       "      <td>1.75</td>\n",
       "      <td>-0.0508804</td>\n",
       "      <td>-2.9%</td>\n",
       "      <td>1</td>\n",
       "      <td>1.73919</td>\n",
       "      <td>1.81428</td>\n",
       "      <td>4.3</td>\n",
       "      <td>1.68831</td>\n",
       "      <td>1.81428</td>\n",
       "      <td>7.5</td>\n",
       "      <td>1.56493</td>\n",
       "    </tr>\n",
       "    <tr>\n",
       "      <th>8</th>\n",
       "      <td>bat</td>\n",
       "      <td>6.25585</td>\n",
       "      <td>6.16445</td>\n",
       "      <td>6.48899</td>\n",
       "      <td>5.99524</td>\n",
       "      <td>258930</td>\n",
       "      <td>6.29</td>\n",
       "      <td>0.0341516</td>\n",
       "      <td>0.5%</td>\n",
       "      <td>0</td>\n",
       "      <td>6.16898</td>\n",
       "      <td>6.27263</td>\n",
       "      <td>1.7</td>\n",
       "      <td>6.20313</td>\n",
       "      <td>6.27263</td>\n",
       "      <td>1.1</td>\n",
       "      <td>6.02939</td>\n",
       "    </tr>\n",
       "    <tr>\n",
       "      <th>9</th>\n",
       "      <td>dai</td>\n",
       "      <td>22.9062</td>\n",
       "      <td>22.7389</td>\n",
       "      <td>22.9605</td>\n",
       "      <td>22.6262</td>\n",
       "      <td>20223.5</td>\n",
       "      <td>22.78</td>\n",
       "      <td>-0.126239</td>\n",
       "      <td>-0.6%</td>\n",
       "      <td>0</td>\n",
       "      <td>22.8129</td>\n",
       "      <td>22.8127</td>\n",
       "      <td>-0.0</td>\n",
       "      <td>22.6866</td>\n",
       "      <td>22.8127</td>\n",
       "      <td>0.6</td>\n",
       "      <td>22.4999</td>\n",
       "    </tr>\n",
       "  </tbody>\n",
       "</table>\n",
       "</div>"
      ],
      "text/plain": [
       "   coin     open    close     high      low       volume      ropen  \\\n",
       "0   btc   267745   256015   268462   257113      165.616  265538.03   \n",
       "1   eth  8858.15  8894.92  8975.87  8455.39      1281.64    8834.38   \n",
       "2   xrp  6.81365  6.64777  7.05078  6.33955  1.08908e+07       6.79   \n",
       "3   ltc  1309.01  1253.27  1335.37  1261.78      2163.84    1305.83   \n",
       "4   bch  6811.54  6964.94  6780.44  6437.44      634.518    6744.80   \n",
       "5  tusd  22.3841  22.4127  22.6385  22.2299      91186.2      22.43   \n",
       "6  mana    2.182  2.20961  2.47031  2.14748  1.17579e+07       2.20   \n",
       "7   gnt  1.80088  1.79674  1.84935  1.61581  1.17709e+06       1.75   \n",
       "8   bat  6.25585  6.16445  6.48899  5.99524       258930       6.29   \n",
       "9   dai  22.9062  22.7389  22.9605  22.6262      20223.5      22.78   \n",
       "\n",
       "        corr  pcorr  go      buy     sell  rate     buya    sella  rrate  \\\n",
       "0    -2206.5  -0.8%   0   264201   260164  -1.5   261994   260164   -0.7   \n",
       "1   -23.7665  -0.3%   1  8723.89  8921.91   2.3  8700.13  8921.91    2.5   \n",
       "2 -0.0236487  -0.3%   1  6.65562  6.78211   1.9  6.63197  6.78211    2.3   \n",
       "3   -3.17793  -0.2%   0  1293.26  1280.64  -1.0  1290.09  1280.64   -0.7   \n",
       "4   -66.7376  -1.0%   1  6686.84  6903.44   3.2   6620.1  6903.44    4.3   \n",
       "5     0.0459   0.2%   0  22.3327   22.488   0.7  22.3786   22.488    0.5   \n",
       "6  0.0180003   0.8%   1  2.17049  2.29651   5.8  2.18849  2.29651    4.9   \n",
       "7 -0.0508804  -2.9%   1  1.73919  1.81428   4.3  1.68831  1.81428    7.5   \n",
       "8  0.0341516   0.5%   0  6.16898  6.27263   1.7  6.20313  6.27263    1.1   \n",
       "9  -0.126239  -0.6%   0  22.8129  22.8127  -0.0  22.6866  22.8127    0.6   \n",
       "\n",
       "  stoploss  \n",
       "0   254906  \n",
       "1  8431.62  \n",
       "2   6.3159  \n",
       "3   1258.6  \n",
       "4   6370.7  \n",
       "5  22.2758  \n",
       "6  2.16548  \n",
       "7  1.56493  \n",
       "8  6.02939  \n",
       "9  22.4999  "
      ]
     },
     "execution_count": 62,
     "metadata": {},
     "output_type": "execute_result"
    }
   ],
   "source": [
    "preds"
   ]
  },
  {
   "cell_type": "markdown",
   "metadata": {},
   "source": [
    "# Testing to find parameter to buy and sell"
   ]
  },
  {
   "cell_type": "code",
   "execution_count": 18,
   "metadata": {},
   "outputs": [],
   "source": [
    "def check(n=1):\n",
    "    \n",
    "    metricas=['open','close','high','low','volume']\n",
    "    diffs=[]\n",
    "    \n",
    "    for i in tqdm(range(n)):\n",
    "        preds=predictor(data,i) #Getting the preductions of day i\n",
    "        \n",
    "        for c in range(10):\n",
    "            for m in metricas:\n",
    "                real=data[c][len(data[c])-i-1:len(data[c])-i].iloc[0][m]\n",
    "                pred=(preds.iloc[c][m]).round(2)\n",
    "                error=1-pred/real\n",
    "                diffs.append([c,m,error.round(2),real,pred])\n",
    "    return pd.DataFrame(diffs)"
   ]
  },
  {
   "cell_type": "code",
   "execution_count": 19,
   "metadata": {},
   "outputs": [
    {
     "data": {
      "application/vnd.jupyter.widget-view+json": {
       "model_id": "c2f2a8a858be43efb5e6b0bdd3beca92",
       "version_major": 2,
       "version_minor": 0
      },
      "text/plain": [
       "HBox(children=(FloatProgress(value=0.0, max=62.0), HTML(value='')))"
      ]
     },
     "metadata": {},
     "output_type": "display_data"
    },
    {
     "data": {
      "application/vnd.jupyter.widget-view+json": {
       "model_id": "4b7c9df4ee9b469f8eb2ab3009a1fa9f",
       "version_major": 2,
       "version_minor": 0
      },
      "text/plain": [
       "HBox(children=(FloatProgress(value=0.0, max=10.0), HTML(value='')))"
      ]
     },
     "metadata": {},
     "output_type": "display_data"
    },
    {
     "name": "stdout",
     "output_type": "stream",
     "text": [
      "\n"
     ]
    },
    {
     "data": {
      "application/vnd.jupyter.widget-view+json": {
       "model_id": "e13fbbdcd18745e2924760aae7497337",
       "version_major": 2,
       "version_minor": 0
      },
      "text/plain": [
       "HBox(children=(FloatProgress(value=0.0, max=10.0), HTML(value='')))"
      ]
     },
     "metadata": {},
     "output_type": "display_data"
    },
    {
     "name": "stdout",
     "output_type": "stream",
     "text": [
      "\n"
     ]
    },
    {
     "data": {
      "application/vnd.jupyter.widget-view+json": {
       "model_id": "7dfa5a38a5c643378611e43ad866e944",
       "version_major": 2,
       "version_minor": 0
      },
      "text/plain": [
       "HBox(children=(FloatProgress(value=0.0, max=10.0), HTML(value='')))"
      ]
     },
     "metadata": {},
     "output_type": "display_data"
    },
    {
     "name": "stdout",
     "output_type": "stream",
     "text": [
      "\n"
     ]
    },
    {
     "data": {
      "application/vnd.jupyter.widget-view+json": {
       "model_id": "a75205991bf04470804b82d3a1641576",
       "version_major": 2,
       "version_minor": 0
      },
      "text/plain": [
       "HBox(children=(FloatProgress(value=0.0, max=10.0), HTML(value='')))"
      ]
     },
     "metadata": {},
     "output_type": "display_data"
    },
    {
     "name": "stdout",
     "output_type": "stream",
     "text": [
      "\n"
     ]
    },
    {
     "data": {
      "application/vnd.jupyter.widget-view+json": {
       "model_id": "2ed4d96fcfc845d1bebc6d1e1ee82a22",
       "version_major": 2,
       "version_minor": 0
      },
      "text/plain": [
       "HBox(children=(FloatProgress(value=0.0, max=10.0), HTML(value='')))"
      ]
     },
     "metadata": {},
     "output_type": "display_data"
    },
    {
     "name": "stdout",
     "output_type": "stream",
     "text": [
      "\n"
     ]
    },
    {
     "data": {
      "application/vnd.jupyter.widget-view+json": {
       "model_id": "0b2db2890114442ca8bde01c80bac405",
       "version_major": 2,
       "version_minor": 0
      },
      "text/plain": [
       "HBox(children=(FloatProgress(value=0.0, max=10.0), HTML(value='')))"
      ]
     },
     "metadata": {},
     "output_type": "display_data"
    },
    {
     "name": "stdout",
     "output_type": "stream",
     "text": [
      "\n"
     ]
    },
    {
     "data": {
      "application/vnd.jupyter.widget-view+json": {
       "model_id": "99e3bd8382af484fa6fd7c22c70559dc",
       "version_major": 2,
       "version_minor": 0
      },
      "text/plain": [
       "HBox(children=(FloatProgress(value=0.0, max=10.0), HTML(value='')))"
      ]
     },
     "metadata": {},
     "output_type": "display_data"
    },
    {
     "name": "stdout",
     "output_type": "stream",
     "text": [
      "\n"
     ]
    },
    {
     "data": {
      "application/vnd.jupyter.widget-view+json": {
       "model_id": "113b7bd9303e4a89b9dd149ecd81464e",
       "version_major": 2,
       "version_minor": 0
      },
      "text/plain": [
       "HBox(children=(FloatProgress(value=0.0, max=10.0), HTML(value='')))"
      ]
     },
     "metadata": {},
     "output_type": "display_data"
    },
    {
     "name": "stdout",
     "output_type": "stream",
     "text": [
      "\n"
     ]
    },
    {
     "data": {
      "application/vnd.jupyter.widget-view+json": {
       "model_id": "24ac65c97a2d4de0a8f8b40a8b54cc61",
       "version_major": 2,
       "version_minor": 0
      },
      "text/plain": [
       "HBox(children=(FloatProgress(value=0.0, max=10.0), HTML(value='')))"
      ]
     },
     "metadata": {},
     "output_type": "display_data"
    },
    {
     "name": "stdout",
     "output_type": "stream",
     "text": [
      "\n"
     ]
    },
    {
     "data": {
      "application/vnd.jupyter.widget-view+json": {
       "model_id": "02f7e2ee4e8349179698b203c4f8b625",
       "version_major": 2,
       "version_minor": 0
      },
      "text/plain": [
       "HBox(children=(FloatProgress(value=0.0, max=10.0), HTML(value='')))"
      ]
     },
     "metadata": {},
     "output_type": "display_data"
    },
    {
     "name": "stdout",
     "output_type": "stream",
     "text": [
      "\n"
     ]
    },
    {
     "data": {
      "application/vnd.jupyter.widget-view+json": {
       "model_id": "b5037c13d91d45e89a50d3dc601af306",
       "version_major": 2,
       "version_minor": 0
      },
      "text/plain": [
       "HBox(children=(FloatProgress(value=0.0, max=10.0), HTML(value='')))"
      ]
     },
     "metadata": {},
     "output_type": "display_data"
    },
    {
     "name": "stdout",
     "output_type": "stream",
     "text": [
      "\n"
     ]
    },
    {
     "data": {
      "application/vnd.jupyter.widget-view+json": {
       "model_id": "059ffaa49d2b439daad6fd3ee55ed2cb",
       "version_major": 2,
       "version_minor": 0
      },
      "text/plain": [
       "HBox(children=(FloatProgress(value=0.0, max=10.0), HTML(value='')))"
      ]
     },
     "metadata": {},
     "output_type": "display_data"
    },
    {
     "name": "stdout",
     "output_type": "stream",
     "text": [
      "\n"
     ]
    },
    {
     "data": {
      "application/vnd.jupyter.widget-view+json": {
       "model_id": "ffb835380d034d9d858341e3aced71de",
       "version_major": 2,
       "version_minor": 0
      },
      "text/plain": [
       "HBox(children=(FloatProgress(value=0.0, max=10.0), HTML(value='')))"
      ]
     },
     "metadata": {},
     "output_type": "display_data"
    },
    {
     "name": "stdout",
     "output_type": "stream",
     "text": [
      "\n"
     ]
    },
    {
     "data": {
      "application/vnd.jupyter.widget-view+json": {
       "model_id": "bc63f309649347a496c75191ca99832e",
       "version_major": 2,
       "version_minor": 0
      },
      "text/plain": [
       "HBox(children=(FloatProgress(value=0.0, max=10.0), HTML(value='')))"
      ]
     },
     "metadata": {},
     "output_type": "display_data"
    },
    {
     "name": "stdout",
     "output_type": "stream",
     "text": [
      "\n"
     ]
    },
    {
     "data": {
      "application/vnd.jupyter.widget-view+json": {
       "model_id": "653517b84b4f4b78953763b8b7a915ac",
       "version_major": 2,
       "version_minor": 0
      },
      "text/plain": [
       "HBox(children=(FloatProgress(value=0.0, max=10.0), HTML(value='')))"
      ]
     },
     "metadata": {},
     "output_type": "display_data"
    },
    {
     "name": "stdout",
     "output_type": "stream",
     "text": [
      "\n"
     ]
    },
    {
     "data": {
      "application/vnd.jupyter.widget-view+json": {
       "model_id": "80c400f56c134da7bfdfc8f3d926b3df",
       "version_major": 2,
       "version_minor": 0
      },
      "text/plain": [
       "HBox(children=(FloatProgress(value=0.0, max=10.0), HTML(value='')))"
      ]
     },
     "metadata": {},
     "output_type": "display_data"
    },
    {
     "name": "stdout",
     "output_type": "stream",
     "text": [
      "\n"
     ]
    },
    {
     "data": {
      "application/vnd.jupyter.widget-view+json": {
       "model_id": "a8b56b1536b74e39847b8ed2229296db",
       "version_major": 2,
       "version_minor": 0
      },
      "text/plain": [
       "HBox(children=(FloatProgress(value=0.0, max=10.0), HTML(value='')))"
      ]
     },
     "metadata": {},
     "output_type": "display_data"
    },
    {
     "name": "stdout",
     "output_type": "stream",
     "text": [
      "\n"
     ]
    },
    {
     "data": {
      "application/vnd.jupyter.widget-view+json": {
       "model_id": "09b07065f588472f876553af0e709380",
       "version_major": 2,
       "version_minor": 0
      },
      "text/plain": [
       "HBox(children=(FloatProgress(value=0.0, max=10.0), HTML(value='')))"
      ]
     },
     "metadata": {},
     "output_type": "display_data"
    },
    {
     "name": "stdout",
     "output_type": "stream",
     "text": [
      "\n"
     ]
    },
    {
     "data": {
      "application/vnd.jupyter.widget-view+json": {
       "model_id": "e05abee77d6549eb942e53f48c811306",
       "version_major": 2,
       "version_minor": 0
      },
      "text/plain": [
       "HBox(children=(FloatProgress(value=0.0, max=10.0), HTML(value='')))"
      ]
     },
     "metadata": {},
     "output_type": "display_data"
    },
    {
     "name": "stdout",
     "output_type": "stream",
     "text": [
      "\n"
     ]
    },
    {
     "data": {
      "application/vnd.jupyter.widget-view+json": {
       "model_id": "3ca6cef489564868844263c75ed7ea7b",
       "version_major": 2,
       "version_minor": 0
      },
      "text/plain": [
       "HBox(children=(FloatProgress(value=0.0, max=10.0), HTML(value='')))"
      ]
     },
     "metadata": {},
     "output_type": "display_data"
    },
    {
     "name": "stdout",
     "output_type": "stream",
     "text": [
      "\n"
     ]
    },
    {
     "data": {
      "application/vnd.jupyter.widget-view+json": {
       "model_id": "4bcd8ef52fd64e989eef1982b28551fb",
       "version_major": 2,
       "version_minor": 0
      },
      "text/plain": [
       "HBox(children=(FloatProgress(value=0.0, max=10.0), HTML(value='')))"
      ]
     },
     "metadata": {},
     "output_type": "display_data"
    },
    {
     "name": "stdout",
     "output_type": "stream",
     "text": [
      "\n"
     ]
    },
    {
     "data": {
      "application/vnd.jupyter.widget-view+json": {
       "model_id": "0a2d13c7124c44d792004d99e67affd8",
       "version_major": 2,
       "version_minor": 0
      },
      "text/plain": [
       "HBox(children=(FloatProgress(value=0.0, max=10.0), HTML(value='')))"
      ]
     },
     "metadata": {},
     "output_type": "display_data"
    },
    {
     "name": "stdout",
     "output_type": "stream",
     "text": [
      "\n"
     ]
    },
    {
     "data": {
      "application/vnd.jupyter.widget-view+json": {
       "model_id": "d4398291c5494c45a9ec13e82c8e2776",
       "version_major": 2,
       "version_minor": 0
      },
      "text/plain": [
       "HBox(children=(FloatProgress(value=0.0, max=10.0), HTML(value='')))"
      ]
     },
     "metadata": {},
     "output_type": "display_data"
    },
    {
     "name": "stdout",
     "output_type": "stream",
     "text": [
      "\n"
     ]
    },
    {
     "data": {
      "application/vnd.jupyter.widget-view+json": {
       "model_id": "68ea9f7d0445414f9bae485272d5364d",
       "version_major": 2,
       "version_minor": 0
      },
      "text/plain": [
       "HBox(children=(FloatProgress(value=0.0, max=10.0), HTML(value='')))"
      ]
     },
     "metadata": {},
     "output_type": "display_data"
    },
    {
     "name": "stdout",
     "output_type": "stream",
     "text": [
      "\n"
     ]
    },
    {
     "data": {
      "application/vnd.jupyter.widget-view+json": {
       "model_id": "0d9e50c556974d028ae5f411b0286dca",
       "version_major": 2,
       "version_minor": 0
      },
      "text/plain": [
       "HBox(children=(FloatProgress(value=0.0, max=10.0), HTML(value='')))"
      ]
     },
     "metadata": {},
     "output_type": "display_data"
    },
    {
     "name": "stdout",
     "output_type": "stream",
     "text": [
      "\n"
     ]
    },
    {
     "data": {
      "application/vnd.jupyter.widget-view+json": {
       "model_id": "318e33fd24c941c9b58d0fb5dbf4b9fd",
       "version_major": 2,
       "version_minor": 0
      },
      "text/plain": [
       "HBox(children=(FloatProgress(value=0.0, max=10.0), HTML(value='')))"
      ]
     },
     "metadata": {},
     "output_type": "display_data"
    },
    {
     "name": "stdout",
     "output_type": "stream",
     "text": [
      "\n"
     ]
    },
    {
     "data": {
      "application/vnd.jupyter.widget-view+json": {
       "model_id": "e7e701dc2e9d47ee8417cc3baf44ee53",
       "version_major": 2,
       "version_minor": 0
      },
      "text/plain": [
       "HBox(children=(FloatProgress(value=0.0, max=10.0), HTML(value='')))"
      ]
     },
     "metadata": {},
     "output_type": "display_data"
    },
    {
     "name": "stdout",
     "output_type": "stream",
     "text": [
      "\n"
     ]
    },
    {
     "data": {
      "application/vnd.jupyter.widget-view+json": {
       "model_id": "da619b24e925487997e2709897903509",
       "version_major": 2,
       "version_minor": 0
      },
      "text/plain": [
       "HBox(children=(FloatProgress(value=0.0, max=10.0), HTML(value='')))"
      ]
     },
     "metadata": {},
     "output_type": "display_data"
    },
    {
     "name": "stdout",
     "output_type": "stream",
     "text": [
      "\n"
     ]
    },
    {
     "data": {
      "application/vnd.jupyter.widget-view+json": {
       "model_id": "7af255bc7ba04c4d9732e71ebbca3df9",
       "version_major": 2,
       "version_minor": 0
      },
      "text/plain": [
       "HBox(children=(FloatProgress(value=0.0, max=10.0), HTML(value='')))"
      ]
     },
     "metadata": {},
     "output_type": "display_data"
    },
    {
     "name": "stdout",
     "output_type": "stream",
     "text": [
      "\n"
     ]
    },
    {
     "data": {
      "application/vnd.jupyter.widget-view+json": {
       "model_id": "1308de4b254048f0af0aec5ab09ee3c3",
       "version_major": 2,
       "version_minor": 0
      },
      "text/plain": [
       "HBox(children=(FloatProgress(value=0.0, max=10.0), HTML(value='')))"
      ]
     },
     "metadata": {},
     "output_type": "display_data"
    },
    {
     "name": "stdout",
     "output_type": "stream",
     "text": [
      "\n"
     ]
    },
    {
     "data": {
      "application/vnd.jupyter.widget-view+json": {
       "model_id": "4a5ead8e2fe849d8949df5458173ea6c",
       "version_major": 2,
       "version_minor": 0
      },
      "text/plain": [
       "HBox(children=(FloatProgress(value=0.0, max=10.0), HTML(value='')))"
      ]
     },
     "metadata": {},
     "output_type": "display_data"
    },
    {
     "name": "stdout",
     "output_type": "stream",
     "text": [
      "\n"
     ]
    },
    {
     "data": {
      "application/vnd.jupyter.widget-view+json": {
       "model_id": "4204777a13ee4514b769d738d9d5a7c7",
       "version_major": 2,
       "version_minor": 0
      },
      "text/plain": [
       "HBox(children=(FloatProgress(value=0.0, max=10.0), HTML(value='')))"
      ]
     },
     "metadata": {},
     "output_type": "display_data"
    },
    {
     "name": "stdout",
     "output_type": "stream",
     "text": [
      "\n"
     ]
    },
    {
     "data": {
      "application/vnd.jupyter.widget-view+json": {
       "model_id": "ca3e4c615c6548cd9fcfebd6e71a56c6",
       "version_major": 2,
       "version_minor": 0
      },
      "text/plain": [
       "HBox(children=(FloatProgress(value=0.0, max=10.0), HTML(value='')))"
      ]
     },
     "metadata": {},
     "output_type": "display_data"
    },
    {
     "name": "stdout",
     "output_type": "stream",
     "text": [
      "\n"
     ]
    },
    {
     "data": {
      "application/vnd.jupyter.widget-view+json": {
       "model_id": "b4ded59f27ef4a93acdfd7591785c986",
       "version_major": 2,
       "version_minor": 0
      },
      "text/plain": [
       "HBox(children=(FloatProgress(value=0.0, max=10.0), HTML(value='')))"
      ]
     },
     "metadata": {},
     "output_type": "display_data"
    },
    {
     "name": "stdout",
     "output_type": "stream",
     "text": [
      "\n"
     ]
    },
    {
     "data": {
      "application/vnd.jupyter.widget-view+json": {
       "model_id": "e728cb9353384b0abaa511cd5352917c",
       "version_major": 2,
       "version_minor": 0
      },
      "text/plain": [
       "HBox(children=(FloatProgress(value=0.0, max=10.0), HTML(value='')))"
      ]
     },
     "metadata": {},
     "output_type": "display_data"
    },
    {
     "name": "stdout",
     "output_type": "stream",
     "text": [
      "\n"
     ]
    },
    {
     "data": {
      "application/vnd.jupyter.widget-view+json": {
       "model_id": "23f5d671f19a4f6f9b8949e296cc3d6b",
       "version_major": 2,
       "version_minor": 0
      },
      "text/plain": [
       "HBox(children=(FloatProgress(value=0.0, max=10.0), HTML(value='')))"
      ]
     },
     "metadata": {},
     "output_type": "display_data"
    },
    {
     "name": "stdout",
     "output_type": "stream",
     "text": [
      "\n"
     ]
    },
    {
     "data": {
      "application/vnd.jupyter.widget-view+json": {
       "model_id": "dbfa4023d5654afe87199c1c9fe5d1f8",
       "version_major": 2,
       "version_minor": 0
      },
      "text/plain": [
       "HBox(children=(FloatProgress(value=0.0, max=10.0), HTML(value='')))"
      ]
     },
     "metadata": {},
     "output_type": "display_data"
    },
    {
     "name": "stdout",
     "output_type": "stream",
     "text": [
      "\n"
     ]
    },
    {
     "data": {
      "application/vnd.jupyter.widget-view+json": {
       "model_id": "67fda236556a4f1e8a039b297d1af05b",
       "version_major": 2,
       "version_minor": 0
      },
      "text/plain": [
       "HBox(children=(FloatProgress(value=0.0, max=10.0), HTML(value='')))"
      ]
     },
     "metadata": {},
     "output_type": "display_data"
    },
    {
     "name": "stdout",
     "output_type": "stream",
     "text": [
      "\n"
     ]
    },
    {
     "data": {
      "application/vnd.jupyter.widget-view+json": {
       "model_id": "4fe51cf94521498f923b21df31793c92",
       "version_major": 2,
       "version_minor": 0
      },
      "text/plain": [
       "HBox(children=(FloatProgress(value=0.0, max=10.0), HTML(value='')))"
      ]
     },
     "metadata": {},
     "output_type": "display_data"
    },
    {
     "name": "stdout",
     "output_type": "stream",
     "text": [
      "\n"
     ]
    },
    {
     "data": {
      "application/vnd.jupyter.widget-view+json": {
       "model_id": "d327fb523a7b4fecbc81902509a49059",
       "version_major": 2,
       "version_minor": 0
      },
      "text/plain": [
       "HBox(children=(FloatProgress(value=0.0, max=10.0), HTML(value='')))"
      ]
     },
     "metadata": {},
     "output_type": "display_data"
    },
    {
     "name": "stdout",
     "output_type": "stream",
     "text": [
      "\n"
     ]
    },
    {
     "data": {
      "application/vnd.jupyter.widget-view+json": {
       "model_id": "8b371c2f348746aeb0b4d1beeef43c65",
       "version_major": 2,
       "version_minor": 0
      },
      "text/plain": [
       "HBox(children=(FloatProgress(value=0.0, max=10.0), HTML(value='')))"
      ]
     },
     "metadata": {},
     "output_type": "display_data"
    },
    {
     "name": "stdout",
     "output_type": "stream",
     "text": [
      "\n"
     ]
    },
    {
     "data": {
      "application/vnd.jupyter.widget-view+json": {
       "model_id": "1349d264dd754fccb3fc8003230ee252",
       "version_major": 2,
       "version_minor": 0
      },
      "text/plain": [
       "HBox(children=(FloatProgress(value=0.0, max=10.0), HTML(value='')))"
      ]
     },
     "metadata": {},
     "output_type": "display_data"
    },
    {
     "name": "stdout",
     "output_type": "stream",
     "text": [
      "\n"
     ]
    },
    {
     "data": {
      "application/vnd.jupyter.widget-view+json": {
       "model_id": "f951b06a280442969befd9699bc2aeba",
       "version_major": 2,
       "version_minor": 0
      },
      "text/plain": [
       "HBox(children=(FloatProgress(value=0.0, max=10.0), HTML(value='')))"
      ]
     },
     "metadata": {},
     "output_type": "display_data"
    },
    {
     "name": "stdout",
     "output_type": "stream",
     "text": [
      "\n"
     ]
    },
    {
     "data": {
      "application/vnd.jupyter.widget-view+json": {
       "model_id": "42484ce8137d43359d0a66c32a79b5a0",
       "version_major": 2,
       "version_minor": 0
      },
      "text/plain": [
       "HBox(children=(FloatProgress(value=0.0, max=10.0), HTML(value='')))"
      ]
     },
     "metadata": {},
     "output_type": "display_data"
    },
    {
     "name": "stdout",
     "output_type": "stream",
     "text": [
      "\n"
     ]
    },
    {
     "data": {
      "application/vnd.jupyter.widget-view+json": {
       "model_id": "f11b454ef6434f88a63261662aa65de9",
       "version_major": 2,
       "version_minor": 0
      },
      "text/plain": [
       "HBox(children=(FloatProgress(value=0.0, max=10.0), HTML(value='')))"
      ]
     },
     "metadata": {},
     "output_type": "display_data"
    },
    {
     "name": "stdout",
     "output_type": "stream",
     "text": [
      "\n"
     ]
    },
    {
     "data": {
      "application/vnd.jupyter.widget-view+json": {
       "model_id": "8ddd6e07dcf04bf095c964c7139eb530",
       "version_major": 2,
       "version_minor": 0
      },
      "text/plain": [
       "HBox(children=(FloatProgress(value=0.0, max=10.0), HTML(value='')))"
      ]
     },
     "metadata": {},
     "output_type": "display_data"
    },
    {
     "name": "stdout",
     "output_type": "stream",
     "text": [
      "\n"
     ]
    },
    {
     "data": {
      "application/vnd.jupyter.widget-view+json": {
       "model_id": "94e9a68bebaf429994f04a92ba69dbd6",
       "version_major": 2,
       "version_minor": 0
      },
      "text/plain": [
       "HBox(children=(FloatProgress(value=0.0, max=10.0), HTML(value='')))"
      ]
     },
     "metadata": {},
     "output_type": "display_data"
    },
    {
     "name": "stdout",
     "output_type": "stream",
     "text": [
      "\n"
     ]
    },
    {
     "data": {
      "application/vnd.jupyter.widget-view+json": {
       "model_id": "3d75dd301f6a45449e8750abfed57396",
       "version_major": 2,
       "version_minor": 0
      },
      "text/plain": [
       "HBox(children=(FloatProgress(value=0.0, max=10.0), HTML(value='')))"
      ]
     },
     "metadata": {},
     "output_type": "display_data"
    },
    {
     "name": "stdout",
     "output_type": "stream",
     "text": [
      "\n"
     ]
    },
    {
     "data": {
      "application/vnd.jupyter.widget-view+json": {
       "model_id": "fe21855ed1dd46b2b4dc8f98cd9aa2a6",
       "version_major": 2,
       "version_minor": 0
      },
      "text/plain": [
       "HBox(children=(FloatProgress(value=0.0, max=10.0), HTML(value='')))"
      ]
     },
     "metadata": {},
     "output_type": "display_data"
    },
    {
     "name": "stdout",
     "output_type": "stream",
     "text": [
      "\n"
     ]
    },
    {
     "data": {
      "application/vnd.jupyter.widget-view+json": {
       "model_id": "3d5fd7c001f448989eb472eb63d7d245",
       "version_major": 2,
       "version_minor": 0
      },
      "text/plain": [
       "HBox(children=(FloatProgress(value=0.0, max=10.0), HTML(value='')))"
      ]
     },
     "metadata": {},
     "output_type": "display_data"
    },
    {
     "name": "stdout",
     "output_type": "stream",
     "text": [
      "\n"
     ]
    },
    {
     "data": {
      "application/vnd.jupyter.widget-view+json": {
       "model_id": "40ab0dfe1c4c4e489c42a946e6c11fcb",
       "version_major": 2,
       "version_minor": 0
      },
      "text/plain": [
       "HBox(children=(FloatProgress(value=0.0, max=10.0), HTML(value='')))"
      ]
     },
     "metadata": {},
     "output_type": "display_data"
    },
    {
     "name": "stdout",
     "output_type": "stream",
     "text": [
      "\n"
     ]
    },
    {
     "data": {
      "application/vnd.jupyter.widget-view+json": {
       "model_id": "650e0b3bb66946e4b041725784c9f264",
       "version_major": 2,
       "version_minor": 0
      },
      "text/plain": [
       "HBox(children=(FloatProgress(value=0.0, max=10.0), HTML(value='')))"
      ]
     },
     "metadata": {},
     "output_type": "display_data"
    },
    {
     "name": "stdout",
     "output_type": "stream",
     "text": [
      "\n"
     ]
    },
    {
     "data": {
      "application/vnd.jupyter.widget-view+json": {
       "model_id": "3170b9eeb69f4a32884e79fbf4084715",
       "version_major": 2,
       "version_minor": 0
      },
      "text/plain": [
       "HBox(children=(FloatProgress(value=0.0, max=10.0), HTML(value='')))"
      ]
     },
     "metadata": {},
     "output_type": "display_data"
    },
    {
     "name": "stdout",
     "output_type": "stream",
     "text": [
      "\n"
     ]
    },
    {
     "data": {
      "application/vnd.jupyter.widget-view+json": {
       "model_id": "3e9e9f5947634cf98b6229a3591dd92c",
       "version_major": 2,
       "version_minor": 0
      },
      "text/plain": [
       "HBox(children=(FloatProgress(value=0.0, max=10.0), HTML(value='')))"
      ]
     },
     "metadata": {},
     "output_type": "display_data"
    },
    {
     "name": "stdout",
     "output_type": "stream",
     "text": [
      "\n"
     ]
    },
    {
     "data": {
      "application/vnd.jupyter.widget-view+json": {
       "model_id": "33838213dd37466ca0d2e2a00bb3c967",
       "version_major": 2,
       "version_minor": 0
      },
      "text/plain": [
       "HBox(children=(FloatProgress(value=0.0, max=10.0), HTML(value='')))"
      ]
     },
     "metadata": {},
     "output_type": "display_data"
    },
    {
     "name": "stdout",
     "output_type": "stream",
     "text": [
      "\n"
     ]
    },
    {
     "data": {
      "application/vnd.jupyter.widget-view+json": {
       "model_id": "5a79f9e9570d4045b592d444020ebd94",
       "version_major": 2,
       "version_minor": 0
      },
      "text/plain": [
       "HBox(children=(FloatProgress(value=0.0, max=10.0), HTML(value='')))"
      ]
     },
     "metadata": {},
     "output_type": "display_data"
    },
    {
     "name": "stdout",
     "output_type": "stream",
     "text": [
      "\n"
     ]
    },
    {
     "data": {
      "application/vnd.jupyter.widget-view+json": {
       "model_id": "d4c7e179911a42f08982fd85f67d75b4",
       "version_major": 2,
       "version_minor": 0
      },
      "text/plain": [
       "HBox(children=(FloatProgress(value=0.0, max=10.0), HTML(value='')))"
      ]
     },
     "metadata": {},
     "output_type": "display_data"
    },
    {
     "name": "stdout",
     "output_type": "stream",
     "text": [
      "\n"
     ]
    },
    {
     "data": {
      "application/vnd.jupyter.widget-view+json": {
       "model_id": "4f184be8533f4ffc8ebba6c3b5d75fba",
       "version_major": 2,
       "version_minor": 0
      },
      "text/plain": [
       "HBox(children=(FloatProgress(value=0.0, max=10.0), HTML(value='')))"
      ]
     },
     "metadata": {},
     "output_type": "display_data"
    },
    {
     "name": "stdout",
     "output_type": "stream",
     "text": [
      "\n"
     ]
    },
    {
     "data": {
      "application/vnd.jupyter.widget-view+json": {
       "model_id": "12d0851afcb347b9baffe50716240b61",
       "version_major": 2,
       "version_minor": 0
      },
      "text/plain": [
       "HBox(children=(FloatProgress(value=0.0, max=10.0), HTML(value='')))"
      ]
     },
     "metadata": {},
     "output_type": "display_data"
    },
    {
     "name": "stdout",
     "output_type": "stream",
     "text": [
      "\n"
     ]
    },
    {
     "data": {
      "application/vnd.jupyter.widget-view+json": {
       "model_id": "86d67f1e979349ab95aef09e910cea44",
       "version_major": 2,
       "version_minor": 0
      },
      "text/plain": [
       "HBox(children=(FloatProgress(value=0.0, max=10.0), HTML(value='')))"
      ]
     },
     "metadata": {},
     "output_type": "display_data"
    },
    {
     "name": "stdout",
     "output_type": "stream",
     "text": [
      "\n"
     ]
    },
    {
     "data": {
      "application/vnd.jupyter.widget-view+json": {
       "model_id": "deebf2870d7741f398fa511bc3a567dc",
       "version_major": 2,
       "version_minor": 0
      },
      "text/plain": [
       "HBox(children=(FloatProgress(value=0.0, max=10.0), HTML(value='')))"
      ]
     },
     "metadata": {},
     "output_type": "display_data"
    },
    {
     "name": "stdout",
     "output_type": "stream",
     "text": [
      "\n"
     ]
    },
    {
     "data": {
      "application/vnd.jupyter.widget-view+json": {
       "model_id": "1dadbab20df04ea693b75af14aa6750b",
       "version_major": 2,
       "version_minor": 0
      },
      "text/plain": [
       "HBox(children=(FloatProgress(value=0.0, max=10.0), HTML(value='')))"
      ]
     },
     "metadata": {},
     "output_type": "display_data"
    },
    {
     "name": "stdout",
     "output_type": "stream",
     "text": [
      "\n",
      "\n"
     ]
    }
   ],
   "source": [
    "z=check(62)"
   ]
  },
  {
   "cell_type": "markdown",
   "metadata": {},
   "source": [
    "All but volume has less than 2% of error in the prediction. Error in volume is huge"
   ]
  },
  {
   "cell_type": "code",
   "execution_count": 29,
   "metadata": {},
   "outputs": [
    {
     "name": "stdout",
     "output_type": "stream",
     "text": [
      "btc in open\n",
      "min -5.0\n",
      "max 4.0\n",
      "mean -0.02\n",
      "stdev 1.05\n",
      "\n",
      "btc in close\n",
      "min -4.0\n",
      "max 8.0\n",
      "mean 0.98\n",
      "stdev 2.87\n",
      "\n",
      "btc in high\n",
      "min -11.0\n",
      "max 7.000000000000001\n",
      "mean -0.21\n",
      "stdev 2.78\n",
      "\n",
      "btc in low\n",
      "min -4.0\n",
      "max 9.0\n",
      "mean 1.06\n",
      "stdev 2.34\n",
      "\n",
      "btc in volume\n",
      "min -449.0\n",
      "max 72.0\n",
      "mean -30.0\n",
      "stdev 81.31\n",
      "\n",
      "---------------------------------\n",
      "eth in open\n",
      "min -2.0\n",
      "max 2.0\n",
      "mean 0.06\n",
      "stdev 0.9400000000000001\n",
      "\n",
      "eth in close\n",
      "min -8.0\n",
      "max 8.0\n",
      "mean 0.5599999999999999\n",
      "stdev 3.32\n",
      "\n",
      "eth in high\n",
      "min -7.000000000000001\n",
      "max 14.000000000000002\n",
      "mean -0.19\n",
      "stdev 3.3099999999999996\n",
      "\n",
      "eth in low\n",
      "min -4.0\n",
      "max 8.0\n",
      "mean 0.98\n",
      "stdev 2.6599999999999997\n",
      "\n",
      "eth in volume\n",
      "min -488.0\n",
      "max 78.0\n",
      "mean -44.84\n",
      "stdev 98.99\n",
      "\n",
      "---------------------------------\n",
      "xrp in open\n",
      "min -2.0\n",
      "max 2.0\n",
      "mean -0.05\n",
      "stdev 0.7100000000000001\n",
      "\n",
      "xrp in close\n",
      "min -12.0\n",
      "max 10.0\n",
      "mean 0.26\n",
      "stdev 3.58\n",
      "\n",
      "xrp in high\n",
      "min -12.0\n",
      "max 14.000000000000002\n",
      "mean -0.02\n",
      "stdev 3.75\n",
      "\n",
      "xrp in low\n",
      "min -5.0\n",
      "max 6.0\n",
      "mean 0.97\n",
      "stdev 2.1999999999999997\n",
      "\n",
      "xrp in volume\n",
      "min -247.00000000000003\n",
      "max 47.0\n",
      "mean -43.9\n",
      "stdev 79.12\n",
      "\n",
      "---------------------------------\n",
      "ltc in open\n",
      "min -3.0\n",
      "max 2.0\n",
      "mean -0.16\n",
      "stdev 1.0699999999999998\n",
      "\n",
      "ltc in close\n",
      "min -7.000000000000001\n",
      "max 8.0\n",
      "mean -0.22999999999999998\n",
      "stdev 2.76\n",
      "\n",
      "ltc in high\n",
      "min -7.000000000000001\n",
      "max 9.0\n",
      "mean -0.53\n",
      "stdev 2.5700000000000003\n",
      "\n",
      "ltc in low\n",
      "min -10.0\n",
      "max 8.0\n",
      "mean 0.33999999999999997\n",
      "stdev 2.78\n",
      "\n",
      "ltc in volume\n",
      "min -450.0\n",
      "max 84.0\n",
      "mean -33.08\n",
      "stdev 90.92\n",
      "\n",
      "---------------------------------\n",
      "bch in open\n",
      "min -9.0\n",
      "max 2.0\n",
      "mean -0.1\n",
      "stdev 1.43\n",
      "\n",
      "bch in close\n",
      "min -8.0\n",
      "max 8.0\n",
      "mean 0.06\n",
      "stdev 3.51\n",
      "\n",
      "bch in high\n",
      "min -9.0\n",
      "max 6.0\n",
      "mean -1.1900000000000002\n",
      "stdev 2.88\n",
      "\n",
      "bch in low\n",
      "min -17.0\n",
      "max 8.0\n",
      "mean 0.53\n",
      "stdev 3.6799999999999997\n",
      "\n",
      "bch in volume\n",
      "min -1583.0\n",
      "max 80.0\n",
      "mean -96.03\n",
      "stdev 252.44\n",
      "\n",
      "---------------------------------\n",
      "tusd in open\n",
      "min -3.0\n",
      "max 2.0\n",
      "mean -0.16\n",
      "stdev 0.9299999999999999\n",
      "\n",
      "tusd in close\n",
      "min -2.0\n",
      "max 2.0\n",
      "mean -0.06\n",
      "stdev 1.01\n",
      "\n",
      "tusd in high\n",
      "min -2.0\n",
      "max 4.0\n",
      "mean 0.06\n",
      "stdev 1.35\n",
      "\n",
      "tusd in low\n",
      "min -2.0\n",
      "max 6.0\n",
      "mean 0.18\n",
      "stdev 1.3\n",
      "\n",
      "tusd in volume\n",
      "min -365.0\n",
      "max 76.0\n",
      "mean -35.03\n",
      "stdev 93.62\n",
      "\n",
      "---------------------------------\n",
      "mana in open\n",
      "min -3.0\n",
      "max 3.0\n",
      "mean -0.02\n",
      "stdev 1.23\n",
      "\n",
      "mana in close\n",
      "min -16.0\n",
      "max 16.0\n",
      "mean -0.38999999999999996\n",
      "stdev 5.26\n",
      "\n",
      "mana in high\n",
      "min -11.0\n",
      "max 11.0\n",
      "mean -0.98\n",
      "stdev 3.9600000000000004\n",
      "\n",
      "mana in low\n",
      "min -6.0\n",
      "max 7.000000000000001\n",
      "mean 0.13\n",
      "stdev 2.55\n",
      "\n",
      "mana in volume\n",
      "min -933.0\n",
      "max 85.0\n",
      "mean -113.58\n",
      "stdev 237.95999999999998\n",
      "\n",
      "---------------------------------\n",
      "gnt in open\n",
      "min -2.0\n",
      "max 4.0\n",
      "mean 0.13\n",
      "stdev 1.29\n",
      "\n",
      "gnt in close\n",
      "min -9.0\n",
      "max 11.0\n",
      "mean 0.06\n",
      "stdev 4.62\n",
      "\n",
      "gnt in high\n",
      "min -28.000000000000004\n",
      "max 35.0\n",
      "mean -0.8500000000000001\n",
      "stdev 7.33\n",
      "\n",
      "gnt in low\n",
      "min -7.000000000000001\n",
      "max 9.0\n",
      "mean 0.66\n",
      "stdev 2.8000000000000003\n",
      "\n",
      "gnt in volume\n",
      "min -960.0\n",
      "max 78.0\n",
      "mean -89.34\n",
      "stdev 205.14000000000001\n",
      "\n",
      "---------------------------------\n",
      "bat in open\n",
      "min -4.0\n",
      "max 3.0\n",
      "mean -0.29\n",
      "stdev 1.31\n",
      "\n",
      "bat in close\n",
      "min -10.0\n",
      "max 9.0\n",
      "mean 0.1\n",
      "stdev 4.36\n",
      "\n",
      "bat in high\n",
      "min -9.0\n",
      "max 7.000000000000001\n",
      "mean -0.74\n",
      "stdev 3.2399999999999998\n",
      "\n",
      "bat in low\n",
      "min -10.0\n",
      "max 9.0\n",
      "mean 1.08\n",
      "stdev 3.35\n",
      "\n",
      "bat in volume\n",
      "min -356.0\n",
      "max 89.0\n",
      "mean -45.08\n",
      "stdev 94.17999999999999\n",
      "\n",
      "---------------------------------\n",
      "dai in open\n",
      "min -2.0\n",
      "max 3.0\n",
      "mean 0.06\n",
      "stdev 0.8500000000000001\n",
      "\n",
      "dai in close\n",
      "min -2.0\n",
      "max 4.0\n",
      "mean 0.27\n",
      "stdev 1.28\n",
      "\n",
      "dai in high\n",
      "min -4.0\n",
      "max 4.0\n",
      "mean 0.21\n",
      "stdev 1.31\n",
      "\n",
      "dai in low\n",
      "min -4.0\n",
      "max 2.0\n",
      "mean 0.19\n",
      "stdev 0.9900000000000001\n",
      "\n",
      "dai in volume\n",
      "min -575.0\n",
      "max 93.0\n",
      "mean -33.95\n",
      "stdev 119.34\n",
      "\n",
      "---------------------------------\n"
     ]
    }
   ],
   "source": [
    "coins=['btc','eth','xrp','ltc','bch','tusd','mana','gnt','bat','dai']\n",
    "metricas=['open','close','high','low','volume']\n",
    "for i,e in enumerate(coins):\n",
    "    for m in metricas:\n",
    "        print(e,'in',m)\n",
    "        print('min'   ,z[(z[0]==i) & (z[1]==m)][2].min().round(2)*100)\n",
    "        print('max'   ,z[(z[0]==i) & (z[1]==m)][2].max().round(2)*100)\n",
    "        print('mean'  ,z[(z[0]==i) & (z[1]==m)][2].mean().round(4)*100) \n",
    "        print('stdev' ,z[(z[0]==i) & (z[1]==m)][2].std().round(4)*100)\n",
    "        print('')\n",
    "    print ('---------------------------------')"
   ]
  },
  {
   "cell_type": "code",
   "execution_count": 30,
   "metadata": {},
   "outputs": [
    {
     "data": {
      "text/html": [
       "<div>\n",
       "<style scoped>\n",
       "    .dataframe tbody tr th:only-of-type {\n",
       "        vertical-align: middle;\n",
       "    }\n",
       "\n",
       "    .dataframe tbody tr th {\n",
       "        vertical-align: top;\n",
       "    }\n",
       "\n",
       "    .dataframe thead th {\n",
       "        text-align: right;\n",
       "    }\n",
       "</style>\n",
       "<table border=\"1\" class=\"dataframe\">\n",
       "  <thead>\n",
       "    <tr style=\"text-align: right;\">\n",
       "      <th></th>\n",
       "      <th>0</th>\n",
       "      <th>2</th>\n",
       "      <th>3</th>\n",
       "      <th>4</th>\n",
       "    </tr>\n",
       "  </thead>\n",
       "  <tbody>\n",
       "    <tr>\n",
       "      <th>count</th>\n",
       "      <td>62.0</td>\n",
       "      <td>62.000000</td>\n",
       "      <td>62.000000</td>\n",
       "      <td>62.000000</td>\n",
       "    </tr>\n",
       "    <tr>\n",
       "      <th>mean</th>\n",
       "      <td>0.0</td>\n",
       "      <td>-0.000161</td>\n",
       "      <td>215557.186129</td>\n",
       "      <td>215557.234375</td>\n",
       "    </tr>\n",
       "    <tr>\n",
       "      <th>std</th>\n",
       "      <td>0.0</td>\n",
       "      <td>0.010479</td>\n",
       "      <td>14144.647842</td>\n",
       "      <td>13949.180729</td>\n",
       "    </tr>\n",
       "    <tr>\n",
       "      <th>min</th>\n",
       "      <td>0.0</td>\n",
       "      <td>-0.050000</td>\n",
       "      <td>202965.320000</td>\n",
       "      <td>201987.453125</td>\n",
       "    </tr>\n",
       "    <tr>\n",
       "      <th>25%</th>\n",
       "      <td>0.0</td>\n",
       "      <td>0.000000</td>\n",
       "      <td>207951.382500</td>\n",
       "      <td>207850.871094</td>\n",
       "    </tr>\n",
       "    <tr>\n",
       "      <th>50%</th>\n",
       "      <td>0.0</td>\n",
       "      <td>0.000000</td>\n",
       "      <td>210461.690000</td>\n",
       "      <td>210745.054688</td>\n",
       "    </tr>\n",
       "    <tr>\n",
       "      <th>75%</th>\n",
       "      <td>0.0</td>\n",
       "      <td>0.000000</td>\n",
       "      <td>213330.062500</td>\n",
       "      <td>212662.707031</td>\n",
       "    </tr>\n",
       "    <tr>\n",
       "      <th>max</th>\n",
       "      <td>0.0</td>\n",
       "      <td>0.040000</td>\n",
       "      <td>257000.000000</td>\n",
       "      <td>256686.296875</td>\n",
       "    </tr>\n",
       "  </tbody>\n",
       "</table>\n",
       "</div>"
      ],
      "text/plain": [
       "          0          2              3              4\n",
       "count  62.0  62.000000      62.000000      62.000000\n",
       "mean    0.0  -0.000161  215557.186129  215557.234375\n",
       "std     0.0   0.010479   14144.647842   13949.180729\n",
       "min     0.0  -0.050000  202965.320000  201987.453125\n",
       "25%     0.0   0.000000  207951.382500  207850.871094\n",
       "50%     0.0   0.000000  210461.690000  210745.054688\n",
       "75%     0.0   0.000000  213330.062500  212662.707031\n",
       "max     0.0   0.040000  257000.000000  256686.296875"
      ]
     },
     "execution_count": 30,
     "metadata": {},
     "output_type": "execute_result"
    }
   ],
   "source": [
    "z[(z[0]==0) & (z[1]=='open')].describe()"
   ]
  },
  {
   "cell_type": "code",
   "execution_count": 31,
   "metadata": {},
   "outputs": [
    {
     "data": {
      "text/html": [
       "<div>\n",
       "<style scoped>\n",
       "    .dataframe tbody tr th:only-of-type {\n",
       "        vertical-align: middle;\n",
       "    }\n",
       "\n",
       "    .dataframe tbody tr th {\n",
       "        vertical-align: top;\n",
       "    }\n",
       "\n",
       "    .dataframe thead th {\n",
       "        text-align: right;\n",
       "    }\n",
       "</style>\n",
       "<table border=\"1\" class=\"dataframe\">\n",
       "  <thead>\n",
       "    <tr style=\"text-align: right;\">\n",
       "      <th></th>\n",
       "      <th>0</th>\n",
       "      <th>1</th>\n",
       "      <th>2</th>\n",
       "      <th>3</th>\n",
       "      <th>4</th>\n",
       "    </tr>\n",
       "  </thead>\n",
       "  <tbody>\n",
       "    <tr>\n",
       "      <th>0</th>\n",
       "      <td>0</td>\n",
       "      <td>open</td>\n",
       "      <td>-0.01</td>\n",
       "      <td>254154.970000</td>\n",
       "      <td>256686.296875</td>\n",
       "    </tr>\n",
       "    <tr>\n",
       "      <th>1</th>\n",
       "      <td>0</td>\n",
       "      <td>close</td>\n",
       "      <td>0.04</td>\n",
       "      <td>260362.650000</td>\n",
       "      <td>249308.921875</td>\n",
       "    </tr>\n",
       "    <tr>\n",
       "      <th>2</th>\n",
       "      <td>0</td>\n",
       "      <td>high</td>\n",
       "      <td>0.02</td>\n",
       "      <td>260960.170000</td>\n",
       "      <td>256135.218750</td>\n",
       "    </tr>\n",
       "    <tr>\n",
       "      <th>3</th>\n",
       "      <td>0</td>\n",
       "      <td>low</td>\n",
       "      <td>0.06</td>\n",
       "      <td>253167.080000</td>\n",
       "      <td>238844.703125</td>\n",
       "    </tr>\n",
       "    <tr>\n",
       "      <th>4</th>\n",
       "      <td>0</td>\n",
       "      <td>volume</td>\n",
       "      <td>-4.49</td>\n",
       "      <td>48.029895</td>\n",
       "      <td>263.850006</td>\n",
       "    </tr>\n",
       "    <tr>\n",
       "      <th>...</th>\n",
       "      <td>...</td>\n",
       "      <td>...</td>\n",
       "      <td>...</td>\n",
       "      <td>...</td>\n",
       "      <td>...</td>\n",
       "    </tr>\n",
       "    <tr>\n",
       "      <th>3095</th>\n",
       "      <td>9</td>\n",
       "      <td>open</td>\n",
       "      <td>0.00</td>\n",
       "      <td>21.990000</td>\n",
       "      <td>21.980000</td>\n",
       "    </tr>\n",
       "    <tr>\n",
       "      <th>3096</th>\n",
       "      <td>9</td>\n",
       "      <td>close</td>\n",
       "      <td>-0.02</td>\n",
       "      <td>21.670000</td>\n",
       "      <td>22.010000</td>\n",
       "    </tr>\n",
       "    <tr>\n",
       "      <th>3097</th>\n",
       "      <td>9</td>\n",
       "      <td>high</td>\n",
       "      <td>-0.03</td>\n",
       "      <td>22.220000</td>\n",
       "      <td>22.889999</td>\n",
       "    </tr>\n",
       "    <tr>\n",
       "      <th>3098</th>\n",
       "      <td>9</td>\n",
       "      <td>low</td>\n",
       "      <td>-0.00</td>\n",
       "      <td>21.650000</td>\n",
       "      <td>21.690001</td>\n",
       "    </tr>\n",
       "    <tr>\n",
       "      <th>3099</th>\n",
       "      <td>9</td>\n",
       "      <td>volume</td>\n",
       "      <td>-0.26</td>\n",
       "      <td>19041.742888</td>\n",
       "      <td>23930.820312</td>\n",
       "    </tr>\n",
       "  </tbody>\n",
       "</table>\n",
       "<p>3100 rows × 5 columns</p>\n",
       "</div>"
      ],
      "text/plain": [
       "      0       1     2              3              4\n",
       "0     0    open -0.01  254154.970000  256686.296875\n",
       "1     0   close  0.04  260362.650000  249308.921875\n",
       "2     0    high  0.02  260960.170000  256135.218750\n",
       "3     0     low  0.06  253167.080000  238844.703125\n",
       "4     0  volume -4.49      48.029895     263.850006\n",
       "...  ..     ...   ...            ...            ...\n",
       "3095  9    open  0.00      21.990000      21.980000\n",
       "3096  9   close -0.02      21.670000      22.010000\n",
       "3097  9    high -0.03      22.220000      22.889999\n",
       "3098  9     low -0.00      21.650000      21.690001\n",
       "3099  9  volume -0.26   19041.742888   23930.820312\n",
       "\n",
       "[3100 rows x 5 columns]"
      ]
     },
     "execution_count": 31,
     "metadata": {},
     "output_type": "execute_result"
    }
   ],
   "source": [
    "z"
   ]
  },
  {
   "cell_type": "code",
   "execution_count": 20,
   "metadata": {},
   "outputs": [
    {
     "name": "stdout",
     "output_type": "stream",
     "text": [
      "<class 'pandas.core.frame.DataFrame'>\n",
      "RangeIndex: 102 entries, 0 to 101\n",
      "Columns: 108 entries, date to yesterday_volume_13\n",
      "dtypes: datetime64[ns](1), float64(100), uint8(7)\n",
      "memory usage: 81.3 KB\n"
     ]
    }
   ],
   "source": []
  },
  {
   "cell_type": "markdown",
   "metadata": {},
   "source": [
    "# Algorthms Intraday Trading"
   ]
  },
  {
   "cell_type": "code",
   "execution_count": null,
   "metadata": {},
   "outputs": [],
   "source": []
  },
  {
   "cell_type": "code",
   "execution_count": null,
   "metadata": {},
   "outputs": [],
   "source": []
  },
  {
   "cell_type": "code",
   "execution_count": null,
   "metadata": {},
   "outputs": [],
   "source": []
  },
  {
   "cell_type": "markdown",
   "metadata": {},
   "source": [
    "# Graphic"
   ]
  },
  {
   "cell_type": "code",
   "execution_count": null,
   "metadata": {},
   "outputs": [],
   "source": [
    "#Graphic with Candle Sticks\n",
    "i=0\n",
    "fig=go.Figure(data=[go.Candlestick(x=data[i].date,\n",
    "                                   open=data[i].open,\n",
    "                                   high=data[i].high,\n",
    "                                   low=data[i].low,\n",
    "                                   close=data[i].close\n",
    "                                  )\n",
    "                   ]\n",
    "             )\n",
    "fig.show()"
   ]
  },
  {
   "cell_type": "code",
   "execution_count": null,
   "metadata": {},
   "outputs": [],
   "source": []
  },
  {
   "cell_type": "code",
   "execution_count": null,
   "metadata": {},
   "outputs": [],
   "source": []
  },
  {
   "cell_type": "markdown",
   "metadata": {},
   "source": [
    "## Ideas\n",
    "\n",
    "- Considerar acumulado de los volumenes para los pronósticos\n",
    "- Considerar un criterio para la clasificacion de dias de compra, venta y compraventa\n",
    "- Considadr pronosticos de más de un dia quizás de una semana para determinar puntos de compra venta dentro de la semana\n",
    "- Reducir variables poco significativas\n",
    "- Realizar visualizaciones para detectar correlaciones y variables poco significativas\n",
    "- Hace clasificación no supervisada de 2 a 5 clusters"
   ]
  },
  {
   "cell_type": "code",
   "execution_count": null,
   "metadata": {},
   "outputs": [],
   "source": []
  }
 ],
 "metadata": {
  "kernelspec": {
   "display_name": "Python 3",
   "language": "python",
   "name": "python3"
  },
  "language_info": {
   "codemirror_mode": {
    "name": "ipython",
    "version": 3
   },
   "file_extension": ".py",
   "mimetype": "text/x-python",
   "name": "python",
   "nbconvert_exporter": "python",
   "pygments_lexer": "ipython3",
   "version": "3.7.7"
  }
 },
 "nbformat": 4,
 "nbformat_minor": 4
}
