{
 "cells": [
  {
   "cell_type": "markdown",
   "metadata": {},
   "source": [
    "# Prediction Algorithms"
   ]
  },
  {
   "cell_type": "markdown",
   "metadata": {},
   "source": [
    "The main idea is to predict the next day low, upper, open and close to determine a strategy for the next day"
   ]
  },
  {
   "cell_type": "code",
   "execution_count": 1,
   "metadata": {},
   "outputs": [],
   "source": [
    "import pandas as pd\n",
    "from datetime import datetime\n",
    "from datetime import date \n",
    "import numpy as np\n",
    "\n",
    "from time import sleep\n",
    "from tqdm.notebook import tqdm, trange\n",
    "\n",
    "import seaborn as sns\n",
    "import matplotlib as plt\n",
    "import plotly.graph_objects as go\n",
    "\n",
    "from tqdm.notebook import tqdm\n",
    "import warnings\n",
    "warnings.filterwarnings(\"ignore\")\n",
    "\n",
    "from sklearn.model_selection import train_test_split as tts\n",
    "from xgboost import XGBRegressor as XGBR\n",
    "from sklearn.ensemble import RandomForestRegressor as RFR\n",
    "from sklearn.ensemble import GradientBoostingRegressor as GBR"
   ]
  },
  {
   "cell_type": "markdown",
   "metadata": {},
   "source": [
    "# Functions"
   ]
  },
  {
   "cell_type": "code",
   "execution_count": 2,
   "metadata": {},
   "outputs": [],
   "source": [
    "#Conversion from strings to numeric\n",
    "def strnum(x):\n",
    "    try:\n",
    "        x=x.replace(',','')\n",
    "        return float(x)\n",
    "    except:\n",
    "        return x\n",
    "\n",
    "#-----------movingAvg function-----------------\n",
    "#Calculates the Moving Average\n",
    "\n",
    "#df - list with the dataframes\n",
    "#x - index of the coin, e.g. 0- BTC, 1-ETH... of the databases' list who contains the collections of data\n",
    "#dname - name of the destination column of the moving average calculation (not creared yet)\n",
    "#oname - name of the origin column of the data to take the information for the moving avarege\n",
    "#msize - number of registers to calculate the moving average\n",
    "\n",
    "def movingAvg(df,x,dname,oname,msize):\n",
    "    df[x][dname] = 0.0\n",
    "    for i in range(len(df[x])):\n",
    "        temp=0.0\n",
    "        if i<msize:\n",
    "            pass\n",
    "        else:\n",
    "            for j in range(msize):\n",
    "                temp+= data[x][oname][i-msize+j]\n",
    "            df[x][dname][i]=temp/msize\n",
    "#-----------------oheDate--------------------\n",
    "#Makes one hot econfing to date depending day of the week, day of the month, week of year and month of year\n",
    "\n",
    "def oheDate(df,x):\n",
    "    df[x]['weekday']=df[x]['date']\n",
    "    df[x]['weekday']=df[x]['weekday'].apply(lambda z: str(z.weekday()))\n",
    "    \n",
    "    #df[x]['calendarweek']=df[x]['date']\n",
    "    #df[x]['calendarweek']=df[x]['date'].apply(lambda z: str(z.isocalendar()[1]))\n",
    "    \n",
    "    #df[x]['dayofmonth']=df[x]['date']\n",
    "    #df[x]['dayofmonth']=df[x]['date'].apply(lambda z: str(z.day))\n",
    "    \n",
    "    #df[x]['month']=df[x]['date']\n",
    "    #df[x]['month']=df[x]['date'].apply(lambda z: str(z.month))\n",
    "    \n",
    "    #Contanating dummies\n",
    "    ohe=pd.get_dummies(df[x][['weekday']])#,'calendarweek']])#,'dayofmonth','month']])\n",
    "    df[x]=pd.concat([df[x],ohe],axis=1)\n",
    "    #Eliminating categorical columns\n",
    "    df[x].drop(columns=['weekday'], inplace=True)\n",
    "    \n",
    "    \n",
    "#--------------------yesterday-----------------\n",
    "#Takes n \"days\" to the current day as new column (parameter) for the prediction\n",
    "def yesterday(df,x,days=1,closev=True,openv=True,highv=True,lowv=True,volumev=True):\n",
    "    \n",
    "    #Values selector from the function inputs\n",
    "    values_names=['close','open','high','low','volume']\n",
    "    values=[closev,openv,highv,lowv,volumev]\n",
    "    vals=[]\n",
    "    for i,e in enumerate(values):\n",
    "        if e==True:\n",
    "            vals.append(values_names[i])\n",
    "    yestvals=[]#List of added variables\n",
    "    \n",
    "    #Main set    \n",
    "    for day in range(days):\n",
    "        for val in vals:\n",
    "            y=val+'_'+str(day)\n",
    "            df[x]['yesterday_'+y]=0.0\n",
    "            yestvals.append('yesterday_'+y)\n",
    "            for i in range(len(df[x])-1):\n",
    "                df[x]['yesterday_'+y][i+1]=df[x][val][i]\n",
    "    \n",
    "    return yestvals"
   ]
  },
  {
   "cell_type": "markdown",
   "metadata": {},
   "source": [
    "# Load and Transform"
   ]
  },
  {
   "cell_type": "code",
   "execution_count": 3,
   "metadata": {},
   "outputs": [
    {
     "data": {
      "application/vnd.jupyter.widget-view+json": {
       "model_id": "254b73c3ecc34e0e9c87af56f8e927b1",
       "version_major": 2,
       "version_minor": 0
      },
      "text/plain": [
       "HBox(children=(FloatProgress(value=0.0, max=10.0), HTML(value='')))"
      ]
     },
     "metadata": {},
     "output_type": "display_data"
    },
    {
     "name": "stdout",
     "output_type": "stream",
     "text": [
      "\n"
     ]
    }
   ],
   "source": [
    "#Global Variables\n",
    "coins=['btc','eth','xrp','ltc','bch','tusd','mana','gnt','bat','dai']\n",
    "\n",
    "#Opening All databases\n",
    "data=[]\n",
    "for i,e in enumerate(coins):\n",
    "    file=e+'-mxn.csv'\n",
    "    data.append(pd.read_csv(file))\n",
    "#Conversion of dates from strin to timestamps\n",
    "for i in range(len(coins)):\n",
    "    data[i].date=data[i].date.apply(lambda x: datetime.strptime(x,'%Y-%m-%d'))\n",
    "\n",
    "# Conversion to numeric \n",
    "for i in range(len(coins)):\n",
    "    data[i].open=data[i].open.apply(lambda x: strnum(x))\n",
    "    data[i].close=data[i].close.apply(lambda x: strnum(x))\n",
    "    data[i].low=data[i].low.apply(lambda x: strnum(x))\n",
    "    data[i].high=data[i].high.apply(lambda x: strnum(x))\n",
    "    data[i].volume=data[i].volume.apply(lambda x: strnum(x))\n",
    "\n",
    "#MACD Calculation\n",
    "metricas=['open','close','high','low','volume']\n",
    "\n",
    "for i in tqdm(range(len(coins))):\n",
    "    for m in metricas:#tqdm(metricas):\n",
    "        movingAvg(data,i,'PMEF'+ m,m,12)\n",
    "        movingAvg(data,i,'PMES'+m,m,26)\n",
    "        data[i]['MACD'+m]=data[i]['PMEF'+m]-data[i]['PMES'+m]\n",
    "        movingAvg(data,i,'MACD9'+m,'MACD'+m,9)\n",
    "        data[i]['diffMACD'+m]=data[i]['MACD'+m]-data[i]['MACD9'+m]\n",
    "    oheDate(data,i)\n",
    "    yv=yesterday(data,i,14)\n",
    "\n"
   ]
  },
  {
   "cell_type": "markdown",
   "metadata": {},
   "source": [
    "# Predictior Function"
   ]
  },
  {
   "cell_type": "code",
   "execution_count": 4,
   "metadata": {},
   "outputs": [],
   "source": [
    "def predictor(data=data,end=0):\n",
    "    #Create Dataframe for predictions\n",
    "    preds= pd.DataFrame(columns=metricas)\n",
    "    preds['coin'] =\"\"\n",
    "    cols=preds.columns.tolist()\n",
    "    cols=cols[-1:]+cols[:-1]\n",
    "    preds=preds[cols]\n",
    "    preds\n",
    "\n",
    "    for x in tqdm(range(len(coins))):\n",
    "        test=data[x][35:len(data[x])-1-end] #35 is 26 + 9 for all the number of samples who doesn't has Moving Avg  \n",
    "        dc=['date','open','close','low','high','volume']\n",
    "        timevars = [ 'weekday_'+ str(x) for x in range(7)]\n",
    "\n",
    "        #Adding new row for predictions\n",
    "        preds=preds.append([0], ignore_index=True).drop(0,axis=1)\n",
    "        preds=preds[cols]\n",
    "        preds['coin'][x]=coins[x]\n",
    "\n",
    "        for m in metricas:\n",
    "            #Predictions\n",
    "            X_train, X_test, y_train, y_test=tts(test[['PMEF'+m,'PMES'+m,'MACD'+m,'MACD9'+m]+timevars+yv],test[m], shuffle=True,random_state=100,test_size=.1)\n",
    "            modelo=XGBR()\n",
    "            modelo.fit(X_train, y_train)\n",
    "            preds[m][x]=modelo.predict(data[x][len(data[x])-1-end:len(data[x])-end][['PMEF'+m,'PMES'+m,'MACD'+m,'MACD9'+m]+timevars+yv])[0]\n",
    "            #train_score=modelo.score(X_train, y_train)\n",
    "            #test_score=modelo.score(X_test, y_test)\n",
    "            #print ('Score para', coins[x],m,train_score, test_score)\n",
    "\n",
    "    #Getting oppenings to make initial corrections\n",
    "\n",
    "    preds['ropen']=0.0\n",
    "    for i,e in enumerate(coins):\n",
    "        preds.ropen[i]=data[i]['open'][len(data[i])-1-end]\n",
    "\n",
    "    preds['corr']=preds.ropen - preds.open\n",
    "    preds['pcorr']= (preds.open/preds.ropen - 1)*100\n",
    "    preds['pcorr']= preds['pcorr'].apply(lambda x: str(x.round(1))+'%')\n",
    "\n",
    "\n",
    "    #Calculation of investment factors\n",
    "\n",
    "    preds['go']= preds.close - preds.open\n",
    "    preds['go']= preds['go'].apply(lambda x: 1 if x>0 else 0)\n",
    "    preds['buy']=preds.open - (preds.open-preds.low)/3 # 1/3 below the opening regarding the lowest point\n",
    "    preds['sell']=(preds.high-preds.close)/3+preds.close # 1/3 above the closure regarding the highes point\n",
    "    preds['rate']=(preds.sell/preds.buy-1)*100\n",
    "    preds.go=preds.go*preds.rate\n",
    "    preds.go=preds['go'].apply(lambda x: 1 if x>0 else 0)\n",
    "    preds.rate=preds.rate.apply(lambda x: x.round(1))\n",
    "\n",
    "    #Calculuation correction\n",
    "\n",
    "    preds['buya'] = preds['buy'] + preds['corr']\n",
    "    preds['sella'] = preds['sell'] # + preds['corr']\n",
    "    preds['rrate']= (preds['sella']/preds['buya'] - 1)*100\n",
    "    preds['stoploss'] = preds['low'] + preds['corr']\n",
    "    preds.rrate=preds.rrate.apply(lambda x: x.round(1))\n",
    "    preds['go']=preds['rrate']\n",
    "    preds['go']= preds['go'].apply(lambda x: 1 if x>2 else 0)\n",
    "    \n",
    "    return preds\n"
   ]
  },
  {
   "cell_type": "code",
   "execution_count": 5,
   "metadata": {},
   "outputs": [
    {
     "data": {
      "application/vnd.jupyter.widget-view+json": {
       "model_id": "f26b69e7748f46fb843d75d36ef53158",
       "version_major": 2,
       "version_minor": 0
      },
      "text/plain": [
       "HBox(children=(FloatProgress(value=0.0, max=10.0), HTML(value='')))"
      ]
     },
     "metadata": {},
     "output_type": "display_data"
    },
    {
     "name": "stdout",
     "output_type": "stream",
     "text": [
      "\n"
     ]
    }
   ],
   "source": [
    "preds=predictor()"
   ]
  },
  {
   "cell_type": "markdown",
   "metadata": {},
   "source": [
    "# Display Predictions"
   ]
  },
  {
   "cell_type": "code",
   "execution_count": 6,
   "metadata": {},
   "outputs": [
    {
     "data": {
      "text/html": [
       "<div>\n",
       "<style scoped>\n",
       "    .dataframe tbody tr th:only-of-type {\n",
       "        vertical-align: middle;\n",
       "    }\n",
       "\n",
       "    .dataframe tbody tr th {\n",
       "        vertical-align: top;\n",
       "    }\n",
       "\n",
       "    .dataframe thead th {\n",
       "        text-align: right;\n",
       "    }\n",
       "</style>\n",
       "<table border=\"1\" class=\"dataframe\">\n",
       "  <thead>\n",
       "    <tr style=\"text-align: right;\">\n",
       "      <th></th>\n",
       "      <th>coin</th>\n",
       "      <th>buya</th>\n",
       "      <th>sella</th>\n",
       "      <th>stoploss</th>\n",
       "      <th>go</th>\n",
       "      <th>rrate</th>\n",
       "    </tr>\n",
       "  </thead>\n",
       "  <tbody>\n",
       "    <tr>\n",
       "      <th>0</th>\n",
       "      <td>btc</td>\n",
       "      <td>207920</td>\n",
       "      <td>213841</td>\n",
       "      <td>207741</td>\n",
       "      <td>1</td>\n",
       "      <td>2.8</td>\n",
       "    </tr>\n",
       "    <tr>\n",
       "      <th>1</th>\n",
       "      <td>eth</td>\n",
       "      <td>5330.22</td>\n",
       "      <td>5457.18</td>\n",
       "      <td>5114.67</td>\n",
       "      <td>1</td>\n",
       "      <td>2.4</td>\n",
       "    </tr>\n",
       "    <tr>\n",
       "      <th>2</th>\n",
       "      <td>xrp</td>\n",
       "      <td>4.44316</td>\n",
       "      <td>4.55894</td>\n",
       "      <td>4.36949</td>\n",
       "      <td>1</td>\n",
       "      <td>2.6</td>\n",
       "    </tr>\n",
       "    <tr>\n",
       "      <th>3</th>\n",
       "      <td>ltc</td>\n",
       "      <td>997.776</td>\n",
       "      <td>993.036</td>\n",
       "      <td>989.788</td>\n",
       "      <td>0</td>\n",
       "      <td>-0.5</td>\n",
       "    </tr>\n",
       "    <tr>\n",
       "      <th>4</th>\n",
       "      <td>bch</td>\n",
       "      <td>5204.53</td>\n",
       "      <td>5292.05</td>\n",
       "      <td>4991.9</td>\n",
       "      <td>0</td>\n",
       "      <td>1.7</td>\n",
       "    </tr>\n",
       "    <tr>\n",
       "      <th>5</th>\n",
       "      <td>tusd</td>\n",
       "      <td>22.3407</td>\n",
       "      <td>22.5597</td>\n",
       "      <td>22.122</td>\n",
       "      <td>0</td>\n",
       "      <td>1.0</td>\n",
       "    </tr>\n",
       "    <tr>\n",
       "      <th>6</th>\n",
       "      <td>mana</td>\n",
       "      <td>0.92826</td>\n",
       "      <td>0.927613</td>\n",
       "      <td>0.924781</td>\n",
       "      <td>0</td>\n",
       "      <td>-0.1</td>\n",
       "    </tr>\n",
       "    <tr>\n",
       "      <th>7</th>\n",
       "      <td>gnt</td>\n",
       "      <td>1.24045</td>\n",
       "      <td>1.22593</td>\n",
       "      <td>1.20136</td>\n",
       "      <td>0</td>\n",
       "      <td>-1.2</td>\n",
       "    </tr>\n",
       "    <tr>\n",
       "      <th>8</th>\n",
       "      <td>bat</td>\n",
       "      <td>5.82977</td>\n",
       "      <td>6.19366</td>\n",
       "      <td>5.6293</td>\n",
       "      <td>1</td>\n",
       "      <td>6.2</td>\n",
       "    </tr>\n",
       "    <tr>\n",
       "      <th>9</th>\n",
       "      <td>dai</td>\n",
       "      <td>22.8403</td>\n",
       "      <td>22.7807</td>\n",
       "      <td>22.821</td>\n",
       "      <td>0</td>\n",
       "      <td>-0.3</td>\n",
       "    </tr>\n",
       "  </tbody>\n",
       "</table>\n",
       "</div>"
      ],
      "text/plain": [
       "   coin     buya     sella  stoploss  go  rrate\n",
       "0   btc   207920    213841    207741   1    2.8\n",
       "1   eth  5330.22   5457.18   5114.67   1    2.4\n",
       "2   xrp  4.44316   4.55894   4.36949   1    2.6\n",
       "3   ltc  997.776   993.036   989.788   0   -0.5\n",
       "4   bch  5204.53   5292.05    4991.9   0    1.7\n",
       "5  tusd  22.3407   22.5597    22.122   0    1.0\n",
       "6  mana  0.92826  0.927613  0.924781   0   -0.1\n",
       "7   gnt  1.24045   1.22593   1.20136   0   -1.2\n",
       "8   bat  5.82977   6.19366    5.6293   1    6.2\n",
       "9   dai  22.8403   22.7807    22.821   0   -0.3"
      ]
     },
     "execution_count": 6,
     "metadata": {},
     "output_type": "execute_result"
    }
   ],
   "source": [
    "sortedcols=['coin','buya','sella','stoploss','go','rrate']\n",
    "preds[sortedcols]"
   ]
  },
  {
   "cell_type": "code",
   "execution_count": 7,
   "metadata": {},
   "outputs": [
    {
     "data": {
      "text/html": [
       "<div>\n",
       "<style scoped>\n",
       "    .dataframe tbody tr th:only-of-type {\n",
       "        vertical-align: middle;\n",
       "    }\n",
       "\n",
       "    .dataframe tbody tr th {\n",
       "        vertical-align: top;\n",
       "    }\n",
       "\n",
       "    .dataframe thead th {\n",
       "        text-align: right;\n",
       "    }\n",
       "</style>\n",
       "<table border=\"1\" class=\"dataframe\">\n",
       "  <thead>\n",
       "    <tr style=\"text-align: right;\">\n",
       "      <th></th>\n",
       "      <th>coin</th>\n",
       "      <th>open</th>\n",
       "      <th>close</th>\n",
       "      <th>high</th>\n",
       "      <th>low</th>\n",
       "      <th>volume</th>\n",
       "      <th>ropen</th>\n",
       "      <th>corr</th>\n",
       "      <th>pcorr</th>\n",
       "      <th>go</th>\n",
       "      <th>buy</th>\n",
       "      <th>sell</th>\n",
       "      <th>rate</th>\n",
       "      <th>buya</th>\n",
       "      <th>sella</th>\n",
       "      <th>rrate</th>\n",
       "      <th>stoploss</th>\n",
       "    </tr>\n",
       "  </thead>\n",
       "  <tbody>\n",
       "    <tr>\n",
       "      <th>0</th>\n",
       "      <td>btc</td>\n",
       "      <td>208060</td>\n",
       "      <td>213622</td>\n",
       "      <td>214277</td>\n",
       "      <td>207792</td>\n",
       "      <td>146.169</td>\n",
       "      <td>208010.01</td>\n",
       "      <td>-50.4744</td>\n",
       "      <td>0.0%</td>\n",
       "      <td>1</td>\n",
       "      <td>207971</td>\n",
       "      <td>213841</td>\n",
       "      <td>2.8</td>\n",
       "      <td>207920</td>\n",
       "      <td>213841</td>\n",
       "      <td>2.8</td>\n",
       "      <td>207741</td>\n",
       "    </tr>\n",
       "    <tr>\n",
       "      <th>1</th>\n",
       "      <td>eth</td>\n",
       "      <td>5444.4</td>\n",
       "      <td>5430.57</td>\n",
       "      <td>5510.4</td>\n",
       "      <td>5121.07</td>\n",
       "      <td>878.634</td>\n",
       "      <td>5438.00</td>\n",
       "      <td>-6.39746</td>\n",
       "      <td>0.1%</td>\n",
       "      <td>1</td>\n",
       "      <td>5336.62</td>\n",
       "      <td>5457.18</td>\n",
       "      <td>2.3</td>\n",
       "      <td>5330.22</td>\n",
       "      <td>5457.18</td>\n",
       "      <td>2.4</td>\n",
       "      <td>5114.67</td>\n",
       "    </tr>\n",
       "    <tr>\n",
       "      <th>2</th>\n",
       "      <td>xrp</td>\n",
       "      <td>4.49029</td>\n",
       "      <td>4.53983</td>\n",
       "      <td>4.59716</td>\n",
       "      <td>4.37979</td>\n",
       "      <td>8.10558e+06</td>\n",
       "      <td>4.48</td>\n",
       "      <td>-0.0102916</td>\n",
       "      <td>0.2%</td>\n",
       "      <td>1</td>\n",
       "      <td>4.45346</td>\n",
       "      <td>4.55894</td>\n",
       "      <td>2.4</td>\n",
       "      <td>4.44316</td>\n",
       "      <td>4.55894</td>\n",
       "      <td>2.6</td>\n",
       "      <td>4.36949</td>\n",
       "    </tr>\n",
       "    <tr>\n",
       "      <th>3</th>\n",
       "      <td>ltc</td>\n",
       "      <td>1005.62</td>\n",
       "      <td>982.555</td>\n",
       "      <td>1014</td>\n",
       "      <td>993.641</td>\n",
       "      <td>1262.75</td>\n",
       "      <td>1001.77</td>\n",
       "      <td>-3.8528</td>\n",
       "      <td>0.4%</td>\n",
       "      <td>0</td>\n",
       "      <td>1001.63</td>\n",
       "      <td>993.036</td>\n",
       "      <td>-0.9</td>\n",
       "      <td>997.776</td>\n",
       "      <td>993.036</td>\n",
       "      <td>-0.5</td>\n",
       "      <td>989.788</td>\n",
       "    </tr>\n",
       "    <tr>\n",
       "      <th>4</th>\n",
       "      <td>bch</td>\n",
       "      <td>5316.74</td>\n",
       "      <td>5284.79</td>\n",
       "      <td>5306.57</td>\n",
       "      <td>4997.8</td>\n",
       "      <td>165.625</td>\n",
       "      <td>5310.84</td>\n",
       "      <td>-5.90365</td>\n",
       "      <td>0.1%</td>\n",
       "      <td>0</td>\n",
       "      <td>5210.43</td>\n",
       "      <td>5292.05</td>\n",
       "      <td>1.6</td>\n",
       "      <td>5204.53</td>\n",
       "      <td>5292.05</td>\n",
       "      <td>1.7</td>\n",
       "      <td>4991.9</td>\n",
       "    </tr>\n",
       "    <tr>\n",
       "      <th>5</th>\n",
       "      <td>tusd</td>\n",
       "      <td>22.545</td>\n",
       "      <td>22.6653</td>\n",
       "      <td>22.3486</td>\n",
       "      <td>22.217</td>\n",
       "      <td>16343.7</td>\n",
       "      <td>22.45</td>\n",
       "      <td>-0.0950497</td>\n",
       "      <td>0.4%</td>\n",
       "      <td>0</td>\n",
       "      <td>22.4357</td>\n",
       "      <td>22.5597</td>\n",
       "      <td>0.6</td>\n",
       "      <td>22.3407</td>\n",
       "      <td>22.5597</td>\n",
       "      <td>1.0</td>\n",
       "      <td>22.122</td>\n",
       "    </tr>\n",
       "    <tr>\n",
       "      <th>6</th>\n",
       "      <td>mana</td>\n",
       "      <td>0.919402</td>\n",
       "      <td>0.923988</td>\n",
       "      <td>0.934865</td>\n",
       "      <td>0.914183</td>\n",
       "      <td>662409</td>\n",
       "      <td>0.93</td>\n",
       "      <td>0.0105982</td>\n",
       "      <td>-1.1%</td>\n",
       "      <td>0</td>\n",
       "      <td>0.917662</td>\n",
       "      <td>0.927613</td>\n",
       "      <td>1.1</td>\n",
       "      <td>0.92826</td>\n",
       "      <td>0.927613</td>\n",
       "      <td>-0.1</td>\n",
       "      <td>0.924781</td>\n",
       "    </tr>\n",
       "    <tr>\n",
       "      <th>7</th>\n",
       "      <td>gnt</td>\n",
       "      <td>1.26584</td>\n",
       "      <td>1.22252</td>\n",
       "      <td>1.23277</td>\n",
       "      <td>1.20719</td>\n",
       "      <td>206593</td>\n",
       "      <td>1.26</td>\n",
       "      <td>-0.00583767</td>\n",
       "      <td>0.5%</td>\n",
       "      <td>0</td>\n",
       "      <td>1.24629</td>\n",
       "      <td>1.22593</td>\n",
       "      <td>-1.6</td>\n",
       "      <td>1.24045</td>\n",
       "      <td>1.22593</td>\n",
       "      <td>-1.2</td>\n",
       "      <td>1.20136</td>\n",
       "    </tr>\n",
       "    <tr>\n",
       "      <th>8</th>\n",
       "      <td>bat</td>\n",
       "      <td>5.99917</td>\n",
       "      <td>6.1076</td>\n",
       "      <td>6.36577</td>\n",
       "      <td>5.69847</td>\n",
       "      <td>116584</td>\n",
       "      <td>5.93</td>\n",
       "      <td>-0.0691732</td>\n",
       "      <td>1.2%</td>\n",
       "      <td>1</td>\n",
       "      <td>5.89894</td>\n",
       "      <td>6.19366</td>\n",
       "      <td>5.0</td>\n",
       "      <td>5.82977</td>\n",
       "      <td>6.19366</td>\n",
       "      <td>6.2</td>\n",
       "      <td>5.6293</td>\n",
       "    </tr>\n",
       "    <tr>\n",
       "      <th>9</th>\n",
       "      <td>dai</td>\n",
       "      <td>22.7953</td>\n",
       "      <td>22.7402</td>\n",
       "      <td>22.8618</td>\n",
       "      <td>22.7664</td>\n",
       "      <td>8601.91</td>\n",
       "      <td>22.85</td>\n",
       "      <td>0.0546604</td>\n",
       "      <td>-0.2%</td>\n",
       "      <td>0</td>\n",
       "      <td>22.7857</td>\n",
       "      <td>22.7807</td>\n",
       "      <td>-0.0</td>\n",
       "      <td>22.8403</td>\n",
       "      <td>22.7807</td>\n",
       "      <td>-0.3</td>\n",
       "      <td>22.821</td>\n",
       "    </tr>\n",
       "  </tbody>\n",
       "</table>\n",
       "</div>"
      ],
      "text/plain": [
       "   coin      open     close      high       low       volume      ropen  \\\n",
       "0   btc    208060    213622    214277    207792      146.169  208010.01   \n",
       "1   eth    5444.4   5430.57    5510.4   5121.07      878.634    5438.00   \n",
       "2   xrp   4.49029   4.53983   4.59716   4.37979  8.10558e+06       4.48   \n",
       "3   ltc   1005.62   982.555      1014   993.641      1262.75    1001.77   \n",
       "4   bch   5316.74   5284.79   5306.57    4997.8      165.625    5310.84   \n",
       "5  tusd    22.545   22.6653   22.3486    22.217      16343.7      22.45   \n",
       "6  mana  0.919402  0.923988  0.934865  0.914183       662409       0.93   \n",
       "7   gnt   1.26584   1.22252   1.23277   1.20719       206593       1.26   \n",
       "8   bat   5.99917    6.1076   6.36577   5.69847       116584       5.93   \n",
       "9   dai   22.7953   22.7402   22.8618   22.7664      8601.91      22.85   \n",
       "\n",
       "         corr  pcorr  go       buy      sell  rate     buya     sella  rrate  \\\n",
       "0    -50.4744   0.0%   1    207971    213841   2.8   207920    213841    2.8   \n",
       "1    -6.39746   0.1%   1   5336.62   5457.18   2.3  5330.22   5457.18    2.4   \n",
       "2  -0.0102916   0.2%   1   4.45346   4.55894   2.4  4.44316   4.55894    2.6   \n",
       "3     -3.8528   0.4%   0   1001.63   993.036  -0.9  997.776   993.036   -0.5   \n",
       "4    -5.90365   0.1%   0   5210.43   5292.05   1.6  5204.53   5292.05    1.7   \n",
       "5  -0.0950497   0.4%   0   22.4357   22.5597   0.6  22.3407   22.5597    1.0   \n",
       "6   0.0105982  -1.1%   0  0.917662  0.927613   1.1  0.92826  0.927613   -0.1   \n",
       "7 -0.00583767   0.5%   0   1.24629   1.22593  -1.6  1.24045   1.22593   -1.2   \n",
       "8  -0.0691732   1.2%   1   5.89894   6.19366   5.0  5.82977   6.19366    6.2   \n",
       "9   0.0546604  -0.2%   0   22.7857   22.7807  -0.0  22.8403   22.7807   -0.3   \n",
       "\n",
       "   stoploss  \n",
       "0    207741  \n",
       "1   5114.67  \n",
       "2   4.36949  \n",
       "3   989.788  \n",
       "4    4991.9  \n",
       "5    22.122  \n",
       "6  0.924781  \n",
       "7   1.20136  \n",
       "8    5.6293  \n",
       "9    22.821  "
      ]
     },
     "execution_count": 7,
     "metadata": {},
     "output_type": "execute_result"
    }
   ],
   "source": [
    "preds"
   ]
  },
  {
   "cell_type": "markdown",
   "metadata": {},
   "source": [
    "# Testing to find parameter to buy and sell"
   ]
  },
  {
   "cell_type": "code",
   "execution_count": 8,
   "metadata": {},
   "outputs": [],
   "source": [
    "def check(n=1):\n",
    "    \n",
    "    metricas=['open','close','high','low','volume']\n",
    "    diffs=[]\n",
    "    \n",
    "    for i in tqdm(range(n)):\n",
    "        preds=predictor(data,i) #Getting the preductions of day i\n",
    "        \n",
    "        for c in range(8):\n",
    "            for m in metricas:\n",
    "                real=data[c][len(data[c])-i-1:len(data[c])-i].iloc[0][m]\n",
    "                pred=(preds.iloc[c][m]).round(2)\n",
    "                error=1-pred/real\n",
    "                diffs.append([c,m,error.round(2),real,pred])\n",
    "    return pd.DataFrame(diffs)"
   ]
  },
  {
   "cell_type": "code",
   "execution_count": 9,
   "metadata": {},
   "outputs": [
    {
     "data": {
      "application/vnd.jupyter.widget-view+json": {
       "model_id": "d3992e3b348642e0ae09a6c21a746c5d",
       "version_major": 2,
       "version_minor": 0
      },
      "text/plain": [
       "HBox(children=(FloatProgress(value=0.0, max=62.0), HTML(value='')))"
      ]
     },
     "metadata": {},
     "output_type": "display_data"
    },
    {
     "data": {
      "application/vnd.jupyter.widget-view+json": {
       "model_id": "70ee9f34b1c149b698dab1aeb04f4291",
       "version_major": 2,
       "version_minor": 0
      },
      "text/plain": [
       "HBox(children=(FloatProgress(value=0.0, max=10.0), HTML(value='')))"
      ]
     },
     "metadata": {},
     "output_type": "display_data"
    },
    {
     "name": "stdout",
     "output_type": "stream",
     "text": [
      "\n"
     ]
    },
    {
     "data": {
      "application/vnd.jupyter.widget-view+json": {
       "model_id": "f93922ed49634c6bb06ad1b32e53c52f",
       "version_major": 2,
       "version_minor": 0
      },
      "text/plain": [
       "HBox(children=(FloatProgress(value=0.0, max=10.0), HTML(value='')))"
      ]
     },
     "metadata": {},
     "output_type": "display_data"
    },
    {
     "name": "stdout",
     "output_type": "stream",
     "text": [
      "\n"
     ]
    },
    {
     "data": {
      "application/vnd.jupyter.widget-view+json": {
       "model_id": "a48c192ca43542abb5dd0b541a816158",
       "version_major": 2,
       "version_minor": 0
      },
      "text/plain": [
       "HBox(children=(FloatProgress(value=0.0, max=10.0), HTML(value='')))"
      ]
     },
     "metadata": {},
     "output_type": "display_data"
    },
    {
     "name": "stdout",
     "output_type": "stream",
     "text": [
      "\n"
     ]
    },
    {
     "data": {
      "application/vnd.jupyter.widget-view+json": {
       "model_id": "8a2b82b5f1484c1c88b59a0ccfd247c2",
       "version_major": 2,
       "version_minor": 0
      },
      "text/plain": [
       "HBox(children=(FloatProgress(value=0.0, max=10.0), HTML(value='')))"
      ]
     },
     "metadata": {},
     "output_type": "display_data"
    },
    {
     "name": "stdout",
     "output_type": "stream",
     "text": [
      "\n"
     ]
    },
    {
     "data": {
      "application/vnd.jupyter.widget-view+json": {
       "model_id": "147c370d97ad4d8389bb1c17a9ab92c3",
       "version_major": 2,
       "version_minor": 0
      },
      "text/plain": [
       "HBox(children=(FloatProgress(value=0.0, max=10.0), HTML(value='')))"
      ]
     },
     "metadata": {},
     "output_type": "display_data"
    },
    {
     "name": "stdout",
     "output_type": "stream",
     "text": [
      "\n"
     ]
    },
    {
     "data": {
      "application/vnd.jupyter.widget-view+json": {
       "model_id": "60250f76ab3841e1baaa93fadc92ca67",
       "version_major": 2,
       "version_minor": 0
      },
      "text/plain": [
       "HBox(children=(FloatProgress(value=0.0, max=10.0), HTML(value='')))"
      ]
     },
     "metadata": {},
     "output_type": "display_data"
    },
    {
     "name": "stdout",
     "output_type": "stream",
     "text": [
      "\n"
     ]
    },
    {
     "data": {
      "application/vnd.jupyter.widget-view+json": {
       "model_id": "c797b24c7926401292fceaed2b9a6aad",
       "version_major": 2,
       "version_minor": 0
      },
      "text/plain": [
       "HBox(children=(FloatProgress(value=0.0, max=10.0), HTML(value='')))"
      ]
     },
     "metadata": {},
     "output_type": "display_data"
    },
    {
     "name": "stdout",
     "output_type": "stream",
     "text": [
      "\n"
     ]
    },
    {
     "data": {
      "application/vnd.jupyter.widget-view+json": {
       "model_id": "9602e218c3b24aaf8e4482f1169ba51f",
       "version_major": 2,
       "version_minor": 0
      },
      "text/plain": [
       "HBox(children=(FloatProgress(value=0.0, max=10.0), HTML(value='')))"
      ]
     },
     "metadata": {},
     "output_type": "display_data"
    },
    {
     "name": "stdout",
     "output_type": "stream",
     "text": [
      "\n"
     ]
    },
    {
     "data": {
      "application/vnd.jupyter.widget-view+json": {
       "model_id": "d19a7f897782486db623ff8d1677de4c",
       "version_major": 2,
       "version_minor": 0
      },
      "text/plain": [
       "HBox(children=(FloatProgress(value=0.0, max=10.0), HTML(value='')))"
      ]
     },
     "metadata": {},
     "output_type": "display_data"
    },
    {
     "name": "stdout",
     "output_type": "stream",
     "text": [
      "\n"
     ]
    },
    {
     "data": {
      "application/vnd.jupyter.widget-view+json": {
       "model_id": "2e7bbb303c704d6680ae5848e78271de",
       "version_major": 2,
       "version_minor": 0
      },
      "text/plain": [
       "HBox(children=(FloatProgress(value=0.0, max=10.0), HTML(value='')))"
      ]
     },
     "metadata": {},
     "output_type": "display_data"
    },
    {
     "name": "stdout",
     "output_type": "stream",
     "text": [
      "\n"
     ]
    },
    {
     "data": {
      "application/vnd.jupyter.widget-view+json": {
       "model_id": "045059d5917a4852b34cfe1d065b0bc9",
       "version_major": 2,
       "version_minor": 0
      },
      "text/plain": [
       "HBox(children=(FloatProgress(value=0.0, max=10.0), HTML(value='')))"
      ]
     },
     "metadata": {},
     "output_type": "display_data"
    },
    {
     "name": "stdout",
     "output_type": "stream",
     "text": [
      "\n"
     ]
    },
    {
     "data": {
      "application/vnd.jupyter.widget-view+json": {
       "model_id": "35e1497e3e364da0b2788420d33b967d",
       "version_major": 2,
       "version_minor": 0
      },
      "text/plain": [
       "HBox(children=(FloatProgress(value=0.0, max=10.0), HTML(value='')))"
      ]
     },
     "metadata": {},
     "output_type": "display_data"
    },
    {
     "name": "stdout",
     "output_type": "stream",
     "text": [
      "\n"
     ]
    },
    {
     "data": {
      "application/vnd.jupyter.widget-view+json": {
       "model_id": "4a8d593a30014a9e9cd2fdcf784e5134",
       "version_major": 2,
       "version_minor": 0
      },
      "text/plain": [
       "HBox(children=(FloatProgress(value=0.0, max=10.0), HTML(value='')))"
      ]
     },
     "metadata": {},
     "output_type": "display_data"
    },
    {
     "name": "stdout",
     "output_type": "stream",
     "text": [
      "\n"
     ]
    },
    {
     "data": {
      "application/vnd.jupyter.widget-view+json": {
       "model_id": "18764521c1f44a248f22ec69e27711aa",
       "version_major": 2,
       "version_minor": 0
      },
      "text/plain": [
       "HBox(children=(FloatProgress(value=0.0, max=10.0), HTML(value='')))"
      ]
     },
     "metadata": {},
     "output_type": "display_data"
    },
    {
     "name": "stdout",
     "output_type": "stream",
     "text": [
      "\n"
     ]
    },
    {
     "data": {
      "application/vnd.jupyter.widget-view+json": {
       "model_id": "d4921340e293402ea326e5219613a292",
       "version_major": 2,
       "version_minor": 0
      },
      "text/plain": [
       "HBox(children=(FloatProgress(value=0.0, max=10.0), HTML(value='')))"
      ]
     },
     "metadata": {},
     "output_type": "display_data"
    },
    {
     "name": "stdout",
     "output_type": "stream",
     "text": [
      "\n"
     ]
    },
    {
     "data": {
      "application/vnd.jupyter.widget-view+json": {
       "model_id": "becef2d52c1141d082701d1387e8ffbe",
       "version_major": 2,
       "version_minor": 0
      },
      "text/plain": [
       "HBox(children=(FloatProgress(value=0.0, max=10.0), HTML(value='')))"
      ]
     },
     "metadata": {},
     "output_type": "display_data"
    },
    {
     "name": "stdout",
     "output_type": "stream",
     "text": [
      "\n"
     ]
    },
    {
     "data": {
      "application/vnd.jupyter.widget-view+json": {
       "model_id": "f15722ba1ac44a6a9001dbef05786ecf",
       "version_major": 2,
       "version_minor": 0
      },
      "text/plain": [
       "HBox(children=(FloatProgress(value=0.0, max=10.0), HTML(value='')))"
      ]
     },
     "metadata": {},
     "output_type": "display_data"
    },
    {
     "name": "stdout",
     "output_type": "stream",
     "text": [
      "\n"
     ]
    },
    {
     "data": {
      "application/vnd.jupyter.widget-view+json": {
       "model_id": "08410ae871084e1bb167e5cf4434fcd7",
       "version_major": 2,
       "version_minor": 0
      },
      "text/plain": [
       "HBox(children=(FloatProgress(value=0.0, max=10.0), HTML(value='')))"
      ]
     },
     "metadata": {},
     "output_type": "display_data"
    },
    {
     "name": "stdout",
     "output_type": "stream",
     "text": [
      "\n"
     ]
    },
    {
     "data": {
      "application/vnd.jupyter.widget-view+json": {
       "model_id": "c3eaac2e2ac94ec186ae67efa6679937",
       "version_major": 2,
       "version_minor": 0
      },
      "text/plain": [
       "HBox(children=(FloatProgress(value=0.0, max=10.0), HTML(value='')))"
      ]
     },
     "metadata": {},
     "output_type": "display_data"
    },
    {
     "name": "stdout",
     "output_type": "stream",
     "text": [
      "\n"
     ]
    },
    {
     "data": {
      "application/vnd.jupyter.widget-view+json": {
       "model_id": "46837cdd8de74f7cafa1a04aca615469",
       "version_major": 2,
       "version_minor": 0
      },
      "text/plain": [
       "HBox(children=(FloatProgress(value=0.0, max=10.0), HTML(value='')))"
      ]
     },
     "metadata": {},
     "output_type": "display_data"
    },
    {
     "name": "stdout",
     "output_type": "stream",
     "text": [
      "\n"
     ]
    },
    {
     "data": {
      "application/vnd.jupyter.widget-view+json": {
       "model_id": "988b1d2fb35d4d04a5de31d6428fcfc4",
       "version_major": 2,
       "version_minor": 0
      },
      "text/plain": [
       "HBox(children=(FloatProgress(value=0.0, max=10.0), HTML(value='')))"
      ]
     },
     "metadata": {},
     "output_type": "display_data"
    },
    {
     "name": "stdout",
     "output_type": "stream",
     "text": [
      "\n"
     ]
    },
    {
     "data": {
      "application/vnd.jupyter.widget-view+json": {
       "model_id": "2cd0f766490749918e0ac963525dd191",
       "version_major": 2,
       "version_minor": 0
      },
      "text/plain": [
       "HBox(children=(FloatProgress(value=0.0, max=10.0), HTML(value='')))"
      ]
     },
     "metadata": {},
     "output_type": "display_data"
    },
    {
     "name": "stdout",
     "output_type": "stream",
     "text": [
      "\n"
     ]
    },
    {
     "data": {
      "application/vnd.jupyter.widget-view+json": {
       "model_id": "71ed85b18a0c4b85a892dde4bf87e7d8",
       "version_major": 2,
       "version_minor": 0
      },
      "text/plain": [
       "HBox(children=(FloatProgress(value=0.0, max=10.0), HTML(value='')))"
      ]
     },
     "metadata": {},
     "output_type": "display_data"
    },
    {
     "name": "stdout",
     "output_type": "stream",
     "text": [
      "\n"
     ]
    },
    {
     "data": {
      "application/vnd.jupyter.widget-view+json": {
       "model_id": "035487a073fe4e2785487a15c44f879d",
       "version_major": 2,
       "version_minor": 0
      },
      "text/plain": [
       "HBox(children=(FloatProgress(value=0.0, max=10.0), HTML(value='')))"
      ]
     },
     "metadata": {},
     "output_type": "display_data"
    },
    {
     "name": "stdout",
     "output_type": "stream",
     "text": [
      "\n"
     ]
    },
    {
     "data": {
      "application/vnd.jupyter.widget-view+json": {
       "model_id": "97e011ed71624e2a9a2e06f88874c7f9",
       "version_major": 2,
       "version_minor": 0
      },
      "text/plain": [
       "HBox(children=(FloatProgress(value=0.0, max=10.0), HTML(value='')))"
      ]
     },
     "metadata": {},
     "output_type": "display_data"
    },
    {
     "name": "stdout",
     "output_type": "stream",
     "text": [
      "\n"
     ]
    },
    {
     "data": {
      "application/vnd.jupyter.widget-view+json": {
       "model_id": "cb072160df8647dd8d4d4a31277c8f0c",
       "version_major": 2,
       "version_minor": 0
      },
      "text/plain": [
       "HBox(children=(FloatProgress(value=0.0, max=10.0), HTML(value='')))"
      ]
     },
     "metadata": {},
     "output_type": "display_data"
    },
    {
     "name": "stdout",
     "output_type": "stream",
     "text": [
      "\n"
     ]
    },
    {
     "data": {
      "application/vnd.jupyter.widget-view+json": {
       "model_id": "f7275151ddf8417b88886a7ba107dd52",
       "version_major": 2,
       "version_minor": 0
      },
      "text/plain": [
       "HBox(children=(FloatProgress(value=0.0, max=10.0), HTML(value='')))"
      ]
     },
     "metadata": {},
     "output_type": "display_data"
    },
    {
     "name": "stdout",
     "output_type": "stream",
     "text": [
      "\n"
     ]
    },
    {
     "data": {
      "application/vnd.jupyter.widget-view+json": {
       "model_id": "9b8796307eee43858f6752ca5f4a5a1f",
       "version_major": 2,
       "version_minor": 0
      },
      "text/plain": [
       "HBox(children=(FloatProgress(value=0.0, max=10.0), HTML(value='')))"
      ]
     },
     "metadata": {},
     "output_type": "display_data"
    },
    {
     "name": "stdout",
     "output_type": "stream",
     "text": [
      "\n"
     ]
    },
    {
     "data": {
      "application/vnd.jupyter.widget-view+json": {
       "model_id": "5bab5d275cd643ffb3d268944c40e983",
       "version_major": 2,
       "version_minor": 0
      },
      "text/plain": [
       "HBox(children=(FloatProgress(value=0.0, max=10.0), HTML(value='')))"
      ]
     },
     "metadata": {},
     "output_type": "display_data"
    },
    {
     "name": "stdout",
     "output_type": "stream",
     "text": [
      "\n"
     ]
    },
    {
     "data": {
      "application/vnd.jupyter.widget-view+json": {
       "model_id": "589f633efa1c48b28b6bdce4fb61a703",
       "version_major": 2,
       "version_minor": 0
      },
      "text/plain": [
       "HBox(children=(FloatProgress(value=0.0, max=10.0), HTML(value='')))"
      ]
     },
     "metadata": {},
     "output_type": "display_data"
    },
    {
     "name": "stdout",
     "output_type": "stream",
     "text": [
      "\n"
     ]
    },
    {
     "data": {
      "application/vnd.jupyter.widget-view+json": {
       "model_id": "14057b5aa07f4d00b1f6432777b9196d",
       "version_major": 2,
       "version_minor": 0
      },
      "text/plain": [
       "HBox(children=(FloatProgress(value=0.0, max=10.0), HTML(value='')))"
      ]
     },
     "metadata": {},
     "output_type": "display_data"
    },
    {
     "name": "stdout",
     "output_type": "stream",
     "text": [
      "\n"
     ]
    },
    {
     "data": {
      "application/vnd.jupyter.widget-view+json": {
       "model_id": "2d5c5333be6244fa854b12b7e7ffb07f",
       "version_major": 2,
       "version_minor": 0
      },
      "text/plain": [
       "HBox(children=(FloatProgress(value=0.0, max=10.0), HTML(value='')))"
      ]
     },
     "metadata": {},
     "output_type": "display_data"
    },
    {
     "name": "stdout",
     "output_type": "stream",
     "text": [
      "\n"
     ]
    },
    {
     "data": {
      "application/vnd.jupyter.widget-view+json": {
       "model_id": "bfc84b897aa5439c919b11ea4103ce52",
       "version_major": 2,
       "version_minor": 0
      },
      "text/plain": [
       "HBox(children=(FloatProgress(value=0.0, max=10.0), HTML(value='')))"
      ]
     },
     "metadata": {},
     "output_type": "display_data"
    },
    {
     "name": "stdout",
     "output_type": "stream",
     "text": [
      "\n"
     ]
    },
    {
     "data": {
      "application/vnd.jupyter.widget-view+json": {
       "model_id": "6edc7136dab14c0d9e653844ce1783e2",
       "version_major": 2,
       "version_minor": 0
      },
      "text/plain": [
       "HBox(children=(FloatProgress(value=0.0, max=10.0), HTML(value='')))"
      ]
     },
     "metadata": {},
     "output_type": "display_data"
    },
    {
     "name": "stdout",
     "output_type": "stream",
     "text": [
      "\n"
     ]
    },
    {
     "data": {
      "application/vnd.jupyter.widget-view+json": {
       "model_id": "ba3492e3088541c0988297aa7849f0c6",
       "version_major": 2,
       "version_minor": 0
      },
      "text/plain": [
       "HBox(children=(FloatProgress(value=0.0, max=10.0), HTML(value='')))"
      ]
     },
     "metadata": {},
     "output_type": "display_data"
    },
    {
     "name": "stdout",
     "output_type": "stream",
     "text": [
      "\n"
     ]
    },
    {
     "data": {
      "application/vnd.jupyter.widget-view+json": {
       "model_id": "68267f50b16e44408bb7f7ba0a64ae3c",
       "version_major": 2,
       "version_minor": 0
      },
      "text/plain": [
       "HBox(children=(FloatProgress(value=0.0, max=10.0), HTML(value='')))"
      ]
     },
     "metadata": {},
     "output_type": "display_data"
    },
    {
     "name": "stdout",
     "output_type": "stream",
     "text": [
      "\n"
     ]
    },
    {
     "data": {
      "application/vnd.jupyter.widget-view+json": {
       "model_id": "8079c87238d34b64811c0e37e6e1c67b",
       "version_major": 2,
       "version_minor": 0
      },
      "text/plain": [
       "HBox(children=(FloatProgress(value=0.0, max=10.0), HTML(value='')))"
      ]
     },
     "metadata": {},
     "output_type": "display_data"
    },
    {
     "name": "stdout",
     "output_type": "stream",
     "text": [
      "\n"
     ]
    },
    {
     "data": {
      "application/vnd.jupyter.widget-view+json": {
       "model_id": "e46bcadadaac45b19a26be27daab6611",
       "version_major": 2,
       "version_minor": 0
      },
      "text/plain": [
       "HBox(children=(FloatProgress(value=0.0, max=10.0), HTML(value='')))"
      ]
     },
     "metadata": {},
     "output_type": "display_data"
    },
    {
     "name": "stdout",
     "output_type": "stream",
     "text": [
      "\n"
     ]
    },
    {
     "data": {
      "application/vnd.jupyter.widget-view+json": {
       "model_id": "ffad8e7e8cf94d2896a6b09d5f5fe69e",
       "version_major": 2,
       "version_minor": 0
      },
      "text/plain": [
       "HBox(children=(FloatProgress(value=0.0, max=10.0), HTML(value='')))"
      ]
     },
     "metadata": {},
     "output_type": "display_data"
    },
    {
     "name": "stdout",
     "output_type": "stream",
     "text": [
      "\n"
     ]
    },
    {
     "data": {
      "application/vnd.jupyter.widget-view+json": {
       "model_id": "812cd6f30eb2493f9c6270348ffc8935",
       "version_major": 2,
       "version_minor": 0
      },
      "text/plain": [
       "HBox(children=(FloatProgress(value=0.0, max=10.0), HTML(value='')))"
      ]
     },
     "metadata": {},
     "output_type": "display_data"
    },
    {
     "name": "stdout",
     "output_type": "stream",
     "text": [
      "\n"
     ]
    },
    {
     "data": {
      "application/vnd.jupyter.widget-view+json": {
       "model_id": "e30395c1d3f14ad2972bb4c878055186",
       "version_major": 2,
       "version_minor": 0
      },
      "text/plain": [
       "HBox(children=(FloatProgress(value=0.0, max=10.0), HTML(value='')))"
      ]
     },
     "metadata": {},
     "output_type": "display_data"
    },
    {
     "name": "stdout",
     "output_type": "stream",
     "text": [
      "\n"
     ]
    },
    {
     "data": {
      "application/vnd.jupyter.widget-view+json": {
       "model_id": "362632841049407d80cd77f6c8ffe667",
       "version_major": 2,
       "version_minor": 0
      },
      "text/plain": [
       "HBox(children=(FloatProgress(value=0.0, max=10.0), HTML(value='')))"
      ]
     },
     "metadata": {},
     "output_type": "display_data"
    },
    {
     "name": "stdout",
     "output_type": "stream",
     "text": [
      "\n"
     ]
    },
    {
     "data": {
      "application/vnd.jupyter.widget-view+json": {
       "model_id": "19b3ae3856164514badc0fe6fcebeef9",
       "version_major": 2,
       "version_minor": 0
      },
      "text/plain": [
       "HBox(children=(FloatProgress(value=0.0, max=10.0), HTML(value='')))"
      ]
     },
     "metadata": {},
     "output_type": "display_data"
    },
    {
     "name": "stdout",
     "output_type": "stream",
     "text": [
      "\n"
     ]
    },
    {
     "data": {
      "application/vnd.jupyter.widget-view+json": {
       "model_id": "2d3c953aee97474dbce2b326bed071da",
       "version_major": 2,
       "version_minor": 0
      },
      "text/plain": [
       "HBox(children=(FloatProgress(value=0.0, max=10.0), HTML(value='')))"
      ]
     },
     "metadata": {},
     "output_type": "display_data"
    },
    {
     "name": "stdout",
     "output_type": "stream",
     "text": [
      "\n"
     ]
    },
    {
     "data": {
      "application/vnd.jupyter.widget-view+json": {
       "model_id": "78744f9d45154ecdbcddbff9435646f9",
       "version_major": 2,
       "version_minor": 0
      },
      "text/plain": [
       "HBox(children=(FloatProgress(value=0.0, max=10.0), HTML(value='')))"
      ]
     },
     "metadata": {},
     "output_type": "display_data"
    },
    {
     "name": "stdout",
     "output_type": "stream",
     "text": [
      "\n"
     ]
    },
    {
     "data": {
      "application/vnd.jupyter.widget-view+json": {
       "model_id": "78b94911483b4c4daf1aaf9c291adb0c",
       "version_major": 2,
       "version_minor": 0
      },
      "text/plain": [
       "HBox(children=(FloatProgress(value=0.0, max=10.0), HTML(value='')))"
      ]
     },
     "metadata": {},
     "output_type": "display_data"
    },
    {
     "name": "stdout",
     "output_type": "stream",
     "text": [
      "\n"
     ]
    },
    {
     "data": {
      "application/vnd.jupyter.widget-view+json": {
       "model_id": "c2473108ab7546eba20b09d4b5cee47d",
       "version_major": 2,
       "version_minor": 0
      },
      "text/plain": [
       "HBox(children=(FloatProgress(value=0.0, max=10.0), HTML(value='')))"
      ]
     },
     "metadata": {},
     "output_type": "display_data"
    },
    {
     "name": "stdout",
     "output_type": "stream",
     "text": [
      "\n"
     ]
    },
    {
     "data": {
      "application/vnd.jupyter.widget-view+json": {
       "model_id": "ab65d68170ed424a8ac97959b6475340",
       "version_major": 2,
       "version_minor": 0
      },
      "text/plain": [
       "HBox(children=(FloatProgress(value=0.0, max=10.0), HTML(value='')))"
      ]
     },
     "metadata": {},
     "output_type": "display_data"
    },
    {
     "name": "stdout",
     "output_type": "stream",
     "text": [
      "\n"
     ]
    },
    {
     "data": {
      "application/vnd.jupyter.widget-view+json": {
       "model_id": "b1b1032428dc4b4095dd3bab6c0e6292",
       "version_major": 2,
       "version_minor": 0
      },
      "text/plain": [
       "HBox(children=(FloatProgress(value=0.0, max=10.0), HTML(value='')))"
      ]
     },
     "metadata": {},
     "output_type": "display_data"
    },
    {
     "name": "stdout",
     "output_type": "stream",
     "text": [
      "\n"
     ]
    },
    {
     "data": {
      "application/vnd.jupyter.widget-view+json": {
       "model_id": "3554560904f74763994b98ea4900a02e",
       "version_major": 2,
       "version_minor": 0
      },
      "text/plain": [
       "HBox(children=(FloatProgress(value=0.0, max=10.0), HTML(value='')))"
      ]
     },
     "metadata": {},
     "output_type": "display_data"
    },
    {
     "name": "stdout",
     "output_type": "stream",
     "text": [
      "\n"
     ]
    },
    {
     "data": {
      "application/vnd.jupyter.widget-view+json": {
       "model_id": "a45cc5fd8be54c2a8a41beeee3239b67",
       "version_major": 2,
       "version_minor": 0
      },
      "text/plain": [
       "HBox(children=(FloatProgress(value=0.0, max=10.0), HTML(value='')))"
      ]
     },
     "metadata": {},
     "output_type": "display_data"
    },
    {
     "name": "stdout",
     "output_type": "stream",
     "text": [
      "\n"
     ]
    },
    {
     "data": {
      "application/vnd.jupyter.widget-view+json": {
       "model_id": "032acabeccf945c38c84e4b4137d568d",
       "version_major": 2,
       "version_minor": 0
      },
      "text/plain": [
       "HBox(children=(FloatProgress(value=0.0, max=10.0), HTML(value='')))"
      ]
     },
     "metadata": {},
     "output_type": "display_data"
    },
    {
     "name": "stdout",
     "output_type": "stream",
     "text": [
      "\n"
     ]
    },
    {
     "data": {
      "application/vnd.jupyter.widget-view+json": {
       "model_id": "3a7896024fb045398dcf8fd842af6e84",
       "version_major": 2,
       "version_minor": 0
      },
      "text/plain": [
       "HBox(children=(FloatProgress(value=0.0, max=10.0), HTML(value='')))"
      ]
     },
     "metadata": {},
     "output_type": "display_data"
    },
    {
     "name": "stdout",
     "output_type": "stream",
     "text": [
      "\n"
     ]
    },
    {
     "data": {
      "application/vnd.jupyter.widget-view+json": {
       "model_id": "053ee2bce93e4d03a847dd769001ea2e",
       "version_major": 2,
       "version_minor": 0
      },
      "text/plain": [
       "HBox(children=(FloatProgress(value=0.0, max=10.0), HTML(value='')))"
      ]
     },
     "metadata": {},
     "output_type": "display_data"
    },
    {
     "name": "stdout",
     "output_type": "stream",
     "text": [
      "\n"
     ]
    },
    {
     "data": {
      "application/vnd.jupyter.widget-view+json": {
       "model_id": "453f35e278a745f7903f7ff94f867462",
       "version_major": 2,
       "version_minor": 0
      },
      "text/plain": [
       "HBox(children=(FloatProgress(value=0.0, max=10.0), HTML(value='')))"
      ]
     },
     "metadata": {},
     "output_type": "display_data"
    },
    {
     "name": "stdout",
     "output_type": "stream",
     "text": [
      "\n"
     ]
    },
    {
     "data": {
      "application/vnd.jupyter.widget-view+json": {
       "model_id": "59035e76dea040bf8df941eb02cd3b8d",
       "version_major": 2,
       "version_minor": 0
      },
      "text/plain": [
       "HBox(children=(FloatProgress(value=0.0, max=10.0), HTML(value='')))"
      ]
     },
     "metadata": {},
     "output_type": "display_data"
    },
    {
     "name": "stdout",
     "output_type": "stream",
     "text": [
      "\n"
     ]
    },
    {
     "data": {
      "application/vnd.jupyter.widget-view+json": {
       "model_id": "087f8025b0fa4b8ebead0614fab2073e",
       "version_major": 2,
       "version_minor": 0
      },
      "text/plain": [
       "HBox(children=(FloatProgress(value=0.0, max=10.0), HTML(value='')))"
      ]
     },
     "metadata": {},
     "output_type": "display_data"
    },
    {
     "name": "stdout",
     "output_type": "stream",
     "text": [
      "\n"
     ]
    },
    {
     "data": {
      "application/vnd.jupyter.widget-view+json": {
       "model_id": "6a20ed73a4384b13a45a8c5cc81a08f3",
       "version_major": 2,
       "version_minor": 0
      },
      "text/plain": [
       "HBox(children=(FloatProgress(value=0.0, max=10.0), HTML(value='')))"
      ]
     },
     "metadata": {},
     "output_type": "display_data"
    },
    {
     "name": "stdout",
     "output_type": "stream",
     "text": [
      "\n"
     ]
    },
    {
     "data": {
      "application/vnd.jupyter.widget-view+json": {
       "model_id": "4810ac96aa964c4d8282d08a28ada0fb",
       "version_major": 2,
       "version_minor": 0
      },
      "text/plain": [
       "HBox(children=(FloatProgress(value=0.0, max=10.0), HTML(value='')))"
      ]
     },
     "metadata": {},
     "output_type": "display_data"
    },
    {
     "name": "stdout",
     "output_type": "stream",
     "text": [
      "\n"
     ]
    },
    {
     "data": {
      "application/vnd.jupyter.widget-view+json": {
       "model_id": "cb8b388ab8284a629c5f596df8daf1a8",
       "version_major": 2,
       "version_minor": 0
      },
      "text/plain": [
       "HBox(children=(FloatProgress(value=0.0, max=10.0), HTML(value='')))"
      ]
     },
     "metadata": {},
     "output_type": "display_data"
    },
    {
     "name": "stdout",
     "output_type": "stream",
     "text": [
      "\n"
     ]
    },
    {
     "data": {
      "application/vnd.jupyter.widget-view+json": {
       "model_id": "6df8f28853324d3a958f4fb2697f6b40",
       "version_major": 2,
       "version_minor": 0
      },
      "text/plain": [
       "HBox(children=(FloatProgress(value=0.0, max=10.0), HTML(value='')))"
      ]
     },
     "metadata": {},
     "output_type": "display_data"
    },
    {
     "name": "stdout",
     "output_type": "stream",
     "text": [
      "\n"
     ]
    },
    {
     "data": {
      "application/vnd.jupyter.widget-view+json": {
       "model_id": "9f39d04fc0364f67906d7add057ddad4",
       "version_major": 2,
       "version_minor": 0
      },
      "text/plain": [
       "HBox(children=(FloatProgress(value=0.0, max=10.0), HTML(value='')))"
      ]
     },
     "metadata": {},
     "output_type": "display_data"
    },
    {
     "name": "stdout",
     "output_type": "stream",
     "text": [
      "\n",
      "\n"
     ]
    }
   ],
   "source": [
    "z=check(62)"
   ]
  },
  {
   "cell_type": "markdown",
   "metadata": {},
   "source": [
    "All but volume has less than 2% of error in the prediction. Error in volume is huge"
   ]
  },
  {
   "cell_type": "code",
   "execution_count": 12,
   "metadata": {},
   "outputs": [
    {
     "name": "stdout",
     "output_type": "stream",
     "text": [
      "btc in open -2.0\n",
      "btc in close -6.0\n",
      "btc in high -4.0\n",
      "btc in low -5.0\n",
      "btc in volume -866.0\n",
      "eth in open -2.0\n",
      "eth in close -9.0\n",
      "eth in high -4.0\n",
      "eth in low -7.000000000000001\n",
      "eth in volume -1023.0\n",
      "xrp in open -2.0\n",
      "xrp in close -8.0\n",
      "xrp in high -6.0\n",
      "xrp in low -7.000000000000001\n",
      "xrp in volume -756.0\n",
      "ltc in open -2.0\n",
      "ltc in close -10.0\n",
      "ltc in high -6.0\n",
      "ltc in low -11.0\n",
      "ltc in volume -236.0\n",
      "bch in open -2.0\n",
      "bch in close -10.0\n",
      "bch in high -9.0\n",
      "bch in low -13.0\n",
      "bch in volume -4753.0\n",
      "tusd in open -3.0\n",
      "tusd in close -3.0\n",
      "tusd in high -4.0\n",
      "tusd in low -2.0\n",
      "tusd in volume -365.0\n",
      "mana in open -4.0\n",
      "mana in close -10.0\n",
      "mana in high -11.0\n",
      "mana in low -6.0\n",
      "mana in volume -933.0\n",
      "gnt in open -3.0\n",
      "gnt in close -9.0\n",
      "gnt in high -28.000000000000004\n",
      "gnt in low -8.0\n",
      "gnt in volume -960.0\n"
     ]
    },
    {
     "ename": "AttributeError",
     "evalue": "'float' object has no attribute 'round'",
     "output_type": "error",
     "traceback": [
      "\u001b[0;31m---------------------------------------------------------------------------\u001b[0m",
      "\u001b[0;31mAttributeError\u001b[0m                            Traceback (most recent call last)",
      "\u001b[0;32m<ipython-input-12-07fa150743e4>\u001b[0m in \u001b[0;36m<module>\u001b[0;34m\u001b[0m\n\u001b[1;32m      3\u001b[0m \u001b[0;32mfor\u001b[0m \u001b[0mi\u001b[0m\u001b[0;34m,\u001b[0m\u001b[0me\u001b[0m \u001b[0;32min\u001b[0m \u001b[0menumerate\u001b[0m\u001b[0;34m(\u001b[0m\u001b[0mcoins\u001b[0m\u001b[0;34m)\u001b[0m\u001b[0;34m:\u001b[0m\u001b[0;34m\u001b[0m\u001b[0;34m\u001b[0m\u001b[0m\n\u001b[1;32m      4\u001b[0m     \u001b[0;32mfor\u001b[0m \u001b[0mm\u001b[0m \u001b[0;32min\u001b[0m \u001b[0mmetricas\u001b[0m\u001b[0;34m:\u001b[0m\u001b[0;34m\u001b[0m\u001b[0;34m\u001b[0m\u001b[0m\n\u001b[0;32m----> 5\u001b[0;31m         \u001b[0mprint\u001b[0m\u001b[0;34m(\u001b[0m\u001b[0me\u001b[0m\u001b[0;34m,\u001b[0m\u001b[0;34m'in'\u001b[0m\u001b[0;34m,\u001b[0m\u001b[0mm\u001b[0m \u001b[0;34m,\u001b[0m\u001b[0mz\u001b[0m\u001b[0;34m[\u001b[0m\u001b[0;34m(\u001b[0m\u001b[0mz\u001b[0m\u001b[0;34m[\u001b[0m\u001b[0;36m0\u001b[0m\u001b[0;34m]\u001b[0m\u001b[0;34m==\u001b[0m\u001b[0mi\u001b[0m\u001b[0;34m)\u001b[0m \u001b[0;34m&\u001b[0m \u001b[0;34m(\u001b[0m\u001b[0mz\u001b[0m\u001b[0;34m[\u001b[0m\u001b[0;36m1\u001b[0m\u001b[0;34m]\u001b[0m\u001b[0;34m==\u001b[0m\u001b[0mm\u001b[0m\u001b[0;34m)\u001b[0m\u001b[0;34m]\u001b[0m\u001b[0;34m[\u001b[0m\u001b[0;36m2\u001b[0m\u001b[0;34m]\u001b[0m\u001b[0;34m.\u001b[0m\u001b[0mmin\u001b[0m\u001b[0;34m(\u001b[0m\u001b[0;34m)\u001b[0m\u001b[0;34m.\u001b[0m\u001b[0mround\u001b[0m\u001b[0;34m(\u001b[0m\u001b[0;36m2\u001b[0m\u001b[0;34m)\u001b[0m\u001b[0;34m*\u001b[0m\u001b[0;36m100\u001b[0m\u001b[0;34m)\u001b[0m\u001b[0;34m\u001b[0m\u001b[0;34m\u001b[0m\u001b[0m\n\u001b[0m",
      "\u001b[0;31mAttributeError\u001b[0m: 'float' object has no attribute 'round'"
     ]
    }
   ],
   "source": [
    "coins=['btc','eth','xrp','ltc','bch','tusd','mana','gnt','bat','dai']\n",
    "metricas=['open','close','high','low','volume']\n",
    "for i,e in enumerate(coins):\n",
    "    for m in metricas:\n",
    "        print(e,'in',m ,z[(z[0]==i) & (z[1]==m)][2].min().round(2)*100)"
   ]
  },
  {
   "cell_type": "code",
   "execution_count": null,
   "metadata": {},
   "outputs": [],
   "source": [
    "z[(z[0]==7) & (z[1]=='open')]"
   ]
  },
  {
   "cell_type": "code",
   "execution_count": null,
   "metadata": {},
   "outputs": [],
   "source": [
    "z"
   ]
  },
  {
   "cell_type": "code",
   "execution_count": null,
   "metadata": {},
   "outputs": [],
   "source": []
  },
  {
   "cell_type": "markdown",
   "metadata": {},
   "source": [
    "# Algorthms Intraday Trading"
   ]
  },
  {
   "cell_type": "code",
   "execution_count": null,
   "metadata": {},
   "outputs": [],
   "source": []
  },
  {
   "cell_type": "code",
   "execution_count": null,
   "metadata": {},
   "outputs": [],
   "source": []
  },
  {
   "cell_type": "code",
   "execution_count": null,
   "metadata": {},
   "outputs": [],
   "source": []
  },
  {
   "cell_type": "markdown",
   "metadata": {},
   "source": [
    "# Graphic"
   ]
  },
  {
   "cell_type": "code",
   "execution_count": null,
   "metadata": {},
   "outputs": [],
   "source": [
    "#Graphic with Candle Sticks\n",
    "i=0\n",
    "fig=go.Figure(data=[go.Candlestick(x=data[i].date,\n",
    "                                   open=data[i].open,\n",
    "                                   high=data[i].high,\n",
    "                                   low=data[i].low,\n",
    "                                   close=data[i].close\n",
    "                                  )\n",
    "                   ]\n",
    "             )\n",
    "fig.show()"
   ]
  },
  {
   "cell_type": "code",
   "execution_count": null,
   "metadata": {},
   "outputs": [],
   "source": []
  }
 ],
 "metadata": {
  "kernelspec": {
   "display_name": "Python 3",
   "language": "python",
   "name": "python3"
  },
  "language_info": {
   "codemirror_mode": {
    "name": "ipython",
    "version": 3
   },
   "file_extension": ".py",
   "mimetype": "text/x-python",
   "name": "python",
   "nbconvert_exporter": "python",
   "pygments_lexer": "ipython3",
   "version": "3.7.7"
  }
 },
 "nbformat": 4,
 "nbformat_minor": 4
}
