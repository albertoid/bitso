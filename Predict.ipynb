{
 "cells": [
  {
   "cell_type": "markdown",
   "metadata": {},
   "source": [
    "# Prediction Algorithms"
   ]
  },
  {
   "cell_type": "markdown",
   "metadata": {},
   "source": [
    "The main idea is to predict the next day low, upper, open and close to determine a strategy for the next day"
   ]
  },
  {
   "cell_type": "code",
   "execution_count": 1,
   "metadata": {},
   "outputs": [],
   "source": [
    "import pandas as pd\n",
    "from datetime import datetime\n",
    "from datetime import date \n",
    "import numpy as np\n",
    "\n",
    "from time import sleep\n",
    "from tqdm.notebook import tqdm, trange\n",
    "\n",
    "import seaborn as sns\n",
    "import matplotlib as plt\n",
    "import plotly.graph_objects as go\n",
    "\n",
    "from tqdm.notebook import tqdm\n",
    "import warnings\n",
    "warnings.filterwarnings(\"ignore\")\n",
    "\n",
    "from sklearn.model_selection import train_test_split as tts\n",
    "from xgboost import XGBRegressor as XGBR\n",
    "from sklearn.ensemble import RandomForestRegressor as RFR\n",
    "from sklearn.ensemble import GradientBoostingRegressor as GBR"
   ]
  },
  {
   "cell_type": "markdown",
   "metadata": {},
   "source": [
    "# Functions"
   ]
  },
  {
   "cell_type": "code",
   "execution_count": 2,
   "metadata": {},
   "outputs": [],
   "source": [
    "#Conversion from strings to numeric\n",
    "def strnum(x):\n",
    "    try:\n",
    "        x=x.replace(',','')\n",
    "        return float(x)\n",
    "    except:\n",
    "        return x\n",
    "\n",
    "#-----------movingAvg function-----------------\n",
    "#Calculates the Moving Average\n",
    "\n",
    "#df - list with the dataframes\n",
    "#x - index of the coin, e.g. 0- BTC, 1-ETH... of the databases' list who contains the collections of data\n",
    "#dname - name of the destination column of the moving average calculation (not creared yet)\n",
    "#oname - name of the origin column of the data to take the information for the moving avarege\n",
    "#msize - number of registers to calculate the moving average\n",
    "\n",
    "def movingAvg(df,x,dname,oname,msize):\n",
    "    df[x][dname] = 0.0\n",
    "    for i in range(len(df[x])):\n",
    "        temp=0.0\n",
    "        if i<msize:\n",
    "            pass\n",
    "        else:\n",
    "            for j in range(msize):\n",
    "                temp+= data[x][oname][i-msize+j]\n",
    "            df[x][dname][i]=temp/msize\n",
    "#-----------------oheDate--------------------\n",
    "#Makes one hot econfing to date depending day of the week, day of the month, week of year and month of year\n",
    "\n",
    "def oheDate(df,x):\n",
    "    df[x]['weekday']=df[x]['date']\n",
    "    df[x]['weekday']=df[x]['weekday'].apply(lambda z: str(z.weekday()))\n",
    "    \n",
    "    #df[x]['calendarweek']=df[x]['date']\n",
    "    #df[x]['calendarweek']=df[x]['date'].apply(lambda z: str(z.isocalendar()[1]))\n",
    "    \n",
    "    #df[x]['dayofmonth']=df[x]['date']\n",
    "    #df[x]['dayofmonth']=df[x]['date'].apply(lambda z: str(z.day))\n",
    "    \n",
    "    #df[x]['month']=df[x]['date']\n",
    "    #df[x]['month']=df[x]['date'].apply(lambda z: str(z.month))\n",
    "    \n",
    "    #Contanating dummies\n",
    "    ohe=pd.get_dummies(df[x][['weekday']])#,'calendarweek']])#,'dayofmonth','month']])\n",
    "    df[x]=pd.concat([df[x],ohe],axis=1)\n",
    "    #Eliminating categorical columns\n",
    "    df[x].drop(columns=['weekday'], inplace=True)\n",
    "    \n",
    "    \n",
    "#--------------------yesterday-----------------\n",
    "#Takes n \"days\" to the current day as new column (parameter) for the prediction\n",
    "def yesterday(df,x,days=1,closev=True,openv=True,highv=True,lowv=True,volumev=True):\n",
    "    \n",
    "    #Values selector from the function inputs\n",
    "    values_names=['close','open','high','low','volume']\n",
    "    values=[closev,openv,highv,lowv,volumev]\n",
    "    vals=[]\n",
    "    for i,e in enumerate(values):\n",
    "        if e==True:\n",
    "            vals.append(values_names[i])\n",
    "    yestvals=[]#List of added variables\n",
    "    \n",
    "    #Main set    \n",
    "    for day in range(days):\n",
    "        for val in vals:\n",
    "            y=val+'_'+str(day)\n",
    "            df[x]['yesterday_'+y]=0.0\n",
    "            yestvals.append('yesterday_'+y)\n",
    "            for i in range(len(df[x])-1):\n",
    "                df[x]['yesterday_'+y][i+1]=df[x][val][i]\n",
    "    \n",
    "    return yestvals"
   ]
  },
  {
   "cell_type": "markdown",
   "metadata": {},
   "source": [
    "# Load and Transform"
   ]
  },
  {
   "cell_type": "code",
   "execution_count": 3,
   "metadata": {},
   "outputs": [
    {
     "data": {
      "application/vnd.jupyter.widget-view+json": {
       "model_id": "2df6b715211842c1a5994a4098bae629",
       "version_major": 2,
       "version_minor": 0
      },
      "text/plain": [
       "HBox(children=(FloatProgress(value=0.0, max=10.0), HTML(value='')))"
      ]
     },
     "metadata": {},
     "output_type": "display_data"
    },
    {
     "name": "stdout",
     "output_type": "stream",
     "text": [
      "\n"
     ]
    }
   ],
   "source": [
    "#Global Variables\n",
    "coins=['btc','eth','xrp','ltc','bch','tusd','mana','gnt','bat','dai']\n",
    "\n",
    "#Opening All databases\n",
    "data=[]\n",
    "for i,e in enumerate(coins):\n",
    "    file=e+'-mxn.csv'\n",
    "    data.append(pd.read_csv(file))\n",
    "#Conversion of dates from strin to timestamps\n",
    "for i in range(len(coins)):\n",
    "    data[i].date=data[i].date.apply(lambda x: datetime.strptime(x,'%Y-%m-%d'))\n",
    "\n",
    "# Conversion to numeric \n",
    "for i in range(len(coins)):\n",
    "    data[i].open=data[i].open.apply(lambda x: strnum(x))\n",
    "    data[i].close=data[i].close.apply(lambda x: strnum(x))\n",
    "    data[i].low=data[i].low.apply(lambda x: strnum(x))\n",
    "    data[i].high=data[i].high.apply(lambda x: strnum(x))\n",
    "    data[i].volume=data[i].volume.apply(lambda x: strnum(x))\n",
    "\n",
    "#MACD Calculation\n",
    "metricas=['open','close','high','low','volume']\n",
    "\n",
    "for i in tqdm(range(len(coins))):\n",
    "    for m in metricas:#tqdm(metricas):\n",
    "        movingAvg(data,i,'PMEF'+ m,m,12)\n",
    "        movingAvg(data,i,'PMES'+m,m,26)\n",
    "        data[i]['MACD'+m]=data[i]['PMEF'+m]-data[i]['PMES'+m]\n",
    "        movingAvg(data,i,'MACD9'+m,'MACD'+m,9)\n",
    "        data[i]['diffMACD'+m]=data[i]['MACD'+m]-data[i]['MACD9'+m]\n",
    "    oheDate(data,i)\n",
    "    yv=yesterday(data,i,14)\n",
    "\n"
   ]
  },
  {
   "cell_type": "markdown",
   "metadata": {},
   "source": [
    "# Predictior Function"
   ]
  },
  {
   "cell_type": "code",
   "execution_count": 4,
   "metadata": {},
   "outputs": [],
   "source": [
    "def predictor(data=data,end=0):\n",
    "    #Create Dataframe for predictions\n",
    "    preds= pd.DataFrame(columns=metricas)\n",
    "    preds['coin'] =\"\"\n",
    "    cols=preds.columns.tolist()\n",
    "    cols=cols[-1:]+cols[:-1]\n",
    "    preds=preds[cols]\n",
    "    preds\n",
    "\n",
    "    for x in tqdm(range(len(coins))):\n",
    "        test=data[x][35:len(data[x])-1-end] #35 is 26 + 9 for all the number of samples who doesn't has Moving Avg  \n",
    "        dc=['date','open','close','low','high','volume']\n",
    "        timevars = [ 'weekday_'+ str(x) for x in range(7)]\n",
    "\n",
    "        #Adding new row for predictions\n",
    "        preds=preds.append([0], ignore_index=True).drop(0,axis=1)\n",
    "        preds=preds[cols]\n",
    "        preds['coin'][x]=coins[x]\n",
    "\n",
    "        for m in metricas:\n",
    "            #Predictions\n",
    "            X_train, X_test, y_train, y_test=tts(test[['PMEF'+m,'PMES'+m,'MACD'+m,'MACD9'+m]+timevars+yv],test[m], shuffle=True,random_state=100,test_size=.1)\n",
    "            modelo=XGBR()\n",
    "            modelo.fit(X_train, y_train)\n",
    "            preds[m][x]=modelo.predict(data[x][len(data[x])-1-end:len(data[x])-end][['PMEF'+m,'PMES'+m,'MACD'+m,'MACD9'+m]+timevars+yv])[0]\n",
    "            #train_score=modelo.score(X_train, y_train)\n",
    "            #test_score=modelo.score(X_test, y_test)\n",
    "            #print ('Score para', coins[x],m,train_score, test_score)\n",
    "\n",
    "    #Getting oppenings to make initial corrections\n",
    "\n",
    "    preds['ropen']=0.0\n",
    "    for i,e in enumerate(coins):\n",
    "        preds.ropen[i]=data[i]['open'][len(data[i])-1-end]\n",
    "\n",
    "    preds['corr']=preds.ropen - preds.open\n",
    "    preds['pcorr']= (1 - preds.open/preds.ropen)*100\n",
    "    preds['pcorr']= preds['pcorr'].apply(lambda x: str(x.round(1))+'%')\n",
    "\n",
    "\n",
    "    #Calculation of investment factors\n",
    "\n",
    "    preds['go']= preds.close - preds.open\n",
    "    preds['go']= preds['go'].apply(lambda x: 1 if x>0 else 0)\n",
    "    preds['buy']=preds.open - (preds.open-preds.low)/3 # 1/3 below the opening regarding the lowest point\n",
    "    preds['sell']=(preds.high-preds.close)/3+preds.close # 1/3 above the closure regarding the highes point\n",
    "    preds['rate']=(preds.sell/preds.buy-1)*100\n",
    "    preds.go=preds.go*preds.rate\n",
    "    preds.go=preds['go'].apply(lambda x: 1 if x>0 else 0)\n",
    "    preds.rate=preds.rate.apply(lambda x: x.round(1))\n",
    "\n",
    "    #Calculuation correction\n",
    "\n",
    "    preds['buya'] = preds['buy'] + preds['corr']\n",
    "    preds['sella'] = preds['sell'] # + preds['corr']\n",
    "    preds['rrate']= (preds['sella']/preds['buya'] - 1)*100\n",
    "    preds['stoploss'] = preds['low'] + preds['corr']\n",
    "    preds.rrate=preds.rrate.apply(lambda x: x.round(1))\n",
    "    preds['go']=preds['rrate']\n",
    "    preds['go']= preds['go'].apply(lambda x: 1 if x>2 else 0)\n",
    "    \n",
    "    return preds\n"
   ]
  },
  {
   "cell_type": "code",
   "execution_count": 5,
   "metadata": {},
   "outputs": [
    {
     "data": {
      "application/vnd.jupyter.widget-view+json": {
       "model_id": "e66b38f9301846dda35f139f07a662df",
       "version_major": 2,
       "version_minor": 0
      },
      "text/plain": [
       "HBox(children=(FloatProgress(value=0.0, max=10.0), HTML(value='')))"
      ]
     },
     "metadata": {},
     "output_type": "display_data"
    },
    {
     "name": "stdout",
     "output_type": "stream",
     "text": [
      "\n"
     ]
    }
   ],
   "source": [
    "preds=predictor()"
   ]
  },
  {
   "cell_type": "markdown",
   "metadata": {},
   "source": [
    "# Display Predictions"
   ]
  },
  {
   "cell_type": "code",
   "execution_count": 6,
   "metadata": {},
   "outputs": [
    {
     "data": {
      "text/html": [
       "<div>\n",
       "<style scoped>\n",
       "    .dataframe tbody tr th:only-of-type {\n",
       "        vertical-align: middle;\n",
       "    }\n",
       "\n",
       "    .dataframe tbody tr th {\n",
       "        vertical-align: top;\n",
       "    }\n",
       "\n",
       "    .dataframe thead th {\n",
       "        text-align: right;\n",
       "    }\n",
       "</style>\n",
       "<table border=\"1\" class=\"dataframe\">\n",
       "  <thead>\n",
       "    <tr style=\"text-align: right;\">\n",
       "      <th></th>\n",
       "      <th>coin</th>\n",
       "      <th>buya</th>\n",
       "      <th>sella</th>\n",
       "      <th>stoploss</th>\n",
       "      <th>go</th>\n",
       "      <th>rrate</th>\n",
       "    </tr>\n",
       "  </thead>\n",
       "  <tbody>\n",
       "    <tr>\n",
       "      <th>0</th>\n",
       "      <td>btc</td>\n",
       "      <td>245612</td>\n",
       "      <td>245365</td>\n",
       "      <td>238239</td>\n",
       "      <td>0</td>\n",
       "      <td>-0.1</td>\n",
       "    </tr>\n",
       "    <tr>\n",
       "      <th>1</th>\n",
       "      <td>eth</td>\n",
       "      <td>8496.33</td>\n",
       "      <td>8734.86</td>\n",
       "      <td>8464.87</td>\n",
       "      <td>1</td>\n",
       "      <td>2.8</td>\n",
       "    </tr>\n",
       "    <tr>\n",
       "      <th>2</th>\n",
       "      <td>xrp</td>\n",
       "      <td>6.48484</td>\n",
       "      <td>7.35951</td>\n",
       "      <td>6.33451</td>\n",
       "      <td>1</td>\n",
       "      <td>13.5</td>\n",
       "    </tr>\n",
       "    <tr>\n",
       "      <th>3</th>\n",
       "      <td>ltc</td>\n",
       "      <td>1271.82</td>\n",
       "      <td>1321.95</td>\n",
       "      <td>1253.3</td>\n",
       "      <td>1</td>\n",
       "      <td>3.9</td>\n",
       "    </tr>\n",
       "    <tr>\n",
       "      <th>4</th>\n",
       "      <td>bch</td>\n",
       "      <td>6315.82</td>\n",
       "      <td>6650.85</td>\n",
       "      <td>6081.31</td>\n",
       "      <td>1</td>\n",
       "      <td>5.3</td>\n",
       "    </tr>\n",
       "    <tr>\n",
       "      <th>5</th>\n",
       "      <td>tusd</td>\n",
       "      <td>22.2652</td>\n",
       "      <td>22.5331</td>\n",
       "      <td>22.2557</td>\n",
       "      <td>0</td>\n",
       "      <td>1.2</td>\n",
       "    </tr>\n",
       "    <tr>\n",
       "      <th>6</th>\n",
       "      <td>mana</td>\n",
       "      <td>1.01014</td>\n",
       "      <td>1.05487</td>\n",
       "      <td>0.990407</td>\n",
       "      <td>1</td>\n",
       "      <td>4.4</td>\n",
       "    </tr>\n",
       "    <tr>\n",
       "      <th>7</th>\n",
       "      <td>gnt</td>\n",
       "      <td>1.29222</td>\n",
       "      <td>1.35196</td>\n",
       "      <td>1.27665</td>\n",
       "      <td>1</td>\n",
       "      <td>4.6</td>\n",
       "    </tr>\n",
       "    <tr>\n",
       "      <th>8</th>\n",
       "      <td>bat</td>\n",
       "      <td>5.43114</td>\n",
       "      <td>5.4632</td>\n",
       "      <td>5.25342</td>\n",
       "      <td>0</td>\n",
       "      <td>0.6</td>\n",
       "    </tr>\n",
       "    <tr>\n",
       "      <th>9</th>\n",
       "      <td>dai</td>\n",
       "      <td>22.5785</td>\n",
       "      <td>22.6158</td>\n",
       "      <td>22.3756</td>\n",
       "      <td>0</td>\n",
       "      <td>0.2</td>\n",
       "    </tr>\n",
       "  </tbody>\n",
       "</table>\n",
       "</div>"
      ],
      "text/plain": [
       "   coin     buya    sella  stoploss  go  rrate\n",
       "0   btc   245612   245365    238239   0   -0.1\n",
       "1   eth  8496.33  8734.86   8464.87   1    2.8\n",
       "2   xrp  6.48484  7.35951   6.33451   1   13.5\n",
       "3   ltc  1271.82  1321.95    1253.3   1    3.9\n",
       "4   bch  6315.82  6650.85   6081.31   1    5.3\n",
       "5  tusd  22.2652  22.5331   22.2557   0    1.2\n",
       "6  mana  1.01014  1.05487  0.990407   1    4.4\n",
       "7   gnt  1.29222  1.35196   1.27665   1    4.6\n",
       "8   bat  5.43114   5.4632   5.25342   0    0.6\n",
       "9   dai  22.5785  22.6158   22.3756   0    0.2"
      ]
     },
     "execution_count": 6,
     "metadata": {},
     "output_type": "execute_result"
    }
   ],
   "source": [
    "sortedcols=['coin','buya','sella','stoploss','go','rrate']\n",
    "preds[sortedcols]"
   ]
  },
  {
   "cell_type": "code",
   "execution_count": 7,
   "metadata": {},
   "outputs": [
    {
     "data": {
      "text/html": [
       "<div>\n",
       "<style scoped>\n",
       "    .dataframe tbody tr th:only-of-type {\n",
       "        vertical-align: middle;\n",
       "    }\n",
       "\n",
       "    .dataframe tbody tr th {\n",
       "        vertical-align: top;\n",
       "    }\n",
       "\n",
       "    .dataframe thead th {\n",
       "        text-align: right;\n",
       "    }\n",
       "</style>\n",
       "<table border=\"1\" class=\"dataframe\">\n",
       "  <thead>\n",
       "    <tr style=\"text-align: right;\">\n",
       "      <th></th>\n",
       "      <th>coin</th>\n",
       "      <th>open</th>\n",
       "      <th>close</th>\n",
       "      <th>high</th>\n",
       "      <th>low</th>\n",
       "      <th>volume</th>\n",
       "      <th>ropen</th>\n",
       "      <th>corr</th>\n",
       "      <th>pcorr</th>\n",
       "      <th>go</th>\n",
       "      <th>buy</th>\n",
       "      <th>sell</th>\n",
       "      <th>rate</th>\n",
       "      <th>buya</th>\n",
       "      <th>sella</th>\n",
       "      <th>rrate</th>\n",
       "      <th>stoploss</th>\n",
       "    </tr>\n",
       "  </thead>\n",
       "  <tbody>\n",
       "    <tr>\n",
       "      <th>0</th>\n",
       "      <td>btc</td>\n",
       "      <td>251435</td>\n",
       "      <td>244714</td>\n",
       "      <td>246667</td>\n",
       "      <td>240375</td>\n",
       "      <td>323.816</td>\n",
       "      <td>249298.31</td>\n",
       "      <td>-2136.21</td>\n",
       "      <td>-0.9%</td>\n",
       "      <td>0</td>\n",
       "      <td>247748</td>\n",
       "      <td>245365</td>\n",
       "      <td>-1.0</td>\n",
       "      <td>245612</td>\n",
       "      <td>245365</td>\n",
       "      <td>-0.1</td>\n",
       "      <td>238239</td>\n",
       "    </tr>\n",
       "    <tr>\n",
       "      <th>1</th>\n",
       "      <td>eth</td>\n",
       "      <td>8460.53</td>\n",
       "      <td>8693.55</td>\n",
       "      <td>8817.49</td>\n",
       "      <td>8413.34</td>\n",
       "      <td>13147.6</td>\n",
       "      <td>8512.06</td>\n",
       "      <td>51.5297</td>\n",
       "      <td>0.6%</td>\n",
       "      <td>1</td>\n",
       "      <td>8444.8</td>\n",
       "      <td>8734.86</td>\n",
       "      <td>3.4</td>\n",
       "      <td>8496.33</td>\n",
       "      <td>8734.86</td>\n",
       "      <td>2.8</td>\n",
       "      <td>8464.87</td>\n",
       "    </tr>\n",
       "    <tr>\n",
       "      <th>2</th>\n",
       "      <td>xrp</td>\n",
       "      <td>6.52695</td>\n",
       "      <td>7.41166</td>\n",
       "      <td>7.25523</td>\n",
       "      <td>6.30146</td>\n",
       "      <td>1.60836e+07</td>\n",
       "      <td>6.56</td>\n",
       "      <td>0.0330482</td>\n",
       "      <td>0.5%</td>\n",
       "      <td>1</td>\n",
       "      <td>6.45179</td>\n",
       "      <td>7.35951</td>\n",
       "      <td>14.1</td>\n",
       "      <td>6.48484</td>\n",
       "      <td>7.35951</td>\n",
       "      <td>13.5</td>\n",
       "      <td>6.33451</td>\n",
       "    </tr>\n",
       "    <tr>\n",
       "      <th>3</th>\n",
       "      <td>ltc</td>\n",
       "      <td>1260.41</td>\n",
       "      <td>1298.42</td>\n",
       "      <td>1369.02</td>\n",
       "      <td>1232.63</td>\n",
       "      <td>5986.12</td>\n",
       "      <td>1281.08</td>\n",
       "      <td>20.6686</td>\n",
       "      <td>1.6%</td>\n",
       "      <td>1</td>\n",
       "      <td>1251.15</td>\n",
       "      <td>1321.95</td>\n",
       "      <td>5.7</td>\n",
       "      <td>1271.82</td>\n",
       "      <td>1321.95</td>\n",
       "      <td>3.9</td>\n",
       "      <td>1253.3</td>\n",
       "    </tr>\n",
       "    <tr>\n",
       "      <th>4</th>\n",
       "      <td>bch</td>\n",
       "      <td>6375.4</td>\n",
       "      <td>6553.44</td>\n",
       "      <td>6845.68</td>\n",
       "      <td>6023.64</td>\n",
       "      <td>437.159</td>\n",
       "      <td>6433.07</td>\n",
       "      <td>57.6716</td>\n",
       "      <td>0.9%</td>\n",
       "      <td>1</td>\n",
       "      <td>6258.15</td>\n",
       "      <td>6650.85</td>\n",
       "      <td>6.3</td>\n",
       "      <td>6315.82</td>\n",
       "      <td>6650.85</td>\n",
       "      <td>5.3</td>\n",
       "      <td>6081.31</td>\n",
       "    </tr>\n",
       "    <tr>\n",
       "      <th>5</th>\n",
       "      <td>tusd</td>\n",
       "      <td>22.1879</td>\n",
       "      <td>22.4759</td>\n",
       "      <td>22.6474</td>\n",
       "      <td>22.1737</td>\n",
       "      <td>134283</td>\n",
       "      <td>22.27</td>\n",
       "      <td>0.0820823</td>\n",
       "      <td>0.4%</td>\n",
       "      <td>0</td>\n",
       "      <td>22.1832</td>\n",
       "      <td>22.5331</td>\n",
       "      <td>1.6</td>\n",
       "      <td>22.2652</td>\n",
       "      <td>22.5331</td>\n",
       "      <td>1.2</td>\n",
       "      <td>22.2557</td>\n",
       "    </tr>\n",
       "    <tr>\n",
       "      <th>6</th>\n",
       "      <td>mana</td>\n",
       "      <td>1.02322</td>\n",
       "      <td>1.04785</td>\n",
       "      <td>1.0689</td>\n",
       "      <td>0.993623</td>\n",
       "      <td>3.98252e+06</td>\n",
       "      <td>1.02</td>\n",
       "      <td>-0.00321541</td>\n",
       "      <td>-0.3%</td>\n",
       "      <td>1</td>\n",
       "      <td>1.01335</td>\n",
       "      <td>1.05487</td>\n",
       "      <td>4.1</td>\n",
       "      <td>1.01014</td>\n",
       "      <td>1.05487</td>\n",
       "      <td>4.4</td>\n",
       "      <td>0.990407</td>\n",
       "    </tr>\n",
       "    <tr>\n",
       "      <th>7</th>\n",
       "      <td>gnt</td>\n",
       "      <td>1.29724</td>\n",
       "      <td>1.33888</td>\n",
       "      <td>1.3781</td>\n",
       "      <td>1.27389</td>\n",
       "      <td>1.01016e+06</td>\n",
       "      <td>1.30</td>\n",
       "      <td>0.00275772</td>\n",
       "      <td>0.2%</td>\n",
       "      <td>1</td>\n",
       "      <td>1.28946</td>\n",
       "      <td>1.35196</td>\n",
       "      <td>4.8</td>\n",
       "      <td>1.29222</td>\n",
       "      <td>1.35196</td>\n",
       "      <td>4.6</td>\n",
       "      <td>1.27665</td>\n",
       "    </tr>\n",
       "    <tr>\n",
       "      <th>8</th>\n",
       "      <td>bat</td>\n",
       "      <td>5.51257</td>\n",
       "      <td>5.35847</td>\n",
       "      <td>5.67267</td>\n",
       "      <td>5.24599</td>\n",
       "      <td>200883</td>\n",
       "      <td>5.52</td>\n",
       "      <td>0.00743153</td>\n",
       "      <td>0.1%</td>\n",
       "      <td>0</td>\n",
       "      <td>5.42371</td>\n",
       "      <td>5.4632</td>\n",
       "      <td>0.7</td>\n",
       "      <td>5.43114</td>\n",
       "      <td>5.4632</td>\n",
       "      <td>0.6</td>\n",
       "      <td>5.25342</td>\n",
       "    </tr>\n",
       "    <tr>\n",
       "      <th>9</th>\n",
       "      <td>dai</td>\n",
       "      <td>22.7979</td>\n",
       "      <td>22.5101</td>\n",
       "      <td>22.8272</td>\n",
       "      <td>22.4935</td>\n",
       "      <td>15475.1</td>\n",
       "      <td>22.68</td>\n",
       "      <td>-0.11789</td>\n",
       "      <td>-0.5%</td>\n",
       "      <td>0</td>\n",
       "      <td>22.6964</td>\n",
       "      <td>22.6158</td>\n",
       "      <td>-0.4</td>\n",
       "      <td>22.5785</td>\n",
       "      <td>22.6158</td>\n",
       "      <td>0.2</td>\n",
       "      <td>22.3756</td>\n",
       "    </tr>\n",
       "  </tbody>\n",
       "</table>\n",
       "</div>"
      ],
      "text/plain": [
       "   coin     open    close     high       low       volume      ropen  \\\n",
       "0   btc   251435   244714   246667    240375      323.816  249298.31   \n",
       "1   eth  8460.53  8693.55  8817.49   8413.34      13147.6    8512.06   \n",
       "2   xrp  6.52695  7.41166  7.25523   6.30146  1.60836e+07       6.56   \n",
       "3   ltc  1260.41  1298.42  1369.02   1232.63      5986.12    1281.08   \n",
       "4   bch   6375.4  6553.44  6845.68   6023.64      437.159    6433.07   \n",
       "5  tusd  22.1879  22.4759  22.6474   22.1737       134283      22.27   \n",
       "6  mana  1.02322  1.04785   1.0689  0.993623  3.98252e+06       1.02   \n",
       "7   gnt  1.29724  1.33888   1.3781   1.27389  1.01016e+06       1.30   \n",
       "8   bat  5.51257  5.35847  5.67267   5.24599       200883       5.52   \n",
       "9   dai  22.7979  22.5101  22.8272   22.4935      15475.1      22.68   \n",
       "\n",
       "         corr  pcorr  go      buy     sell  rate     buya    sella  rrate  \\\n",
       "0    -2136.21  -0.9%   0   247748   245365  -1.0   245612   245365   -0.1   \n",
       "1     51.5297   0.6%   1   8444.8  8734.86   3.4  8496.33  8734.86    2.8   \n",
       "2   0.0330482   0.5%   1  6.45179  7.35951  14.1  6.48484  7.35951   13.5   \n",
       "3     20.6686   1.6%   1  1251.15  1321.95   5.7  1271.82  1321.95    3.9   \n",
       "4     57.6716   0.9%   1  6258.15  6650.85   6.3  6315.82  6650.85    5.3   \n",
       "5   0.0820823   0.4%   0  22.1832  22.5331   1.6  22.2652  22.5331    1.2   \n",
       "6 -0.00321541  -0.3%   1  1.01335  1.05487   4.1  1.01014  1.05487    4.4   \n",
       "7  0.00275772   0.2%   1  1.28946  1.35196   4.8  1.29222  1.35196    4.6   \n",
       "8  0.00743153   0.1%   0  5.42371   5.4632   0.7  5.43114   5.4632    0.6   \n",
       "9    -0.11789  -0.5%   0  22.6964  22.6158  -0.4  22.5785  22.6158    0.2   \n",
       "\n",
       "   stoploss  \n",
       "0    238239  \n",
       "1   8464.87  \n",
       "2   6.33451  \n",
       "3    1253.3  \n",
       "4   6081.31  \n",
       "5   22.2557  \n",
       "6  0.990407  \n",
       "7   1.27665  \n",
       "8   5.25342  \n",
       "9   22.3756  "
      ]
     },
     "execution_count": 7,
     "metadata": {},
     "output_type": "execute_result"
    }
   ],
   "source": [
    "preds"
   ]
  },
  {
   "cell_type": "markdown",
   "metadata": {},
   "source": [
    "# Testing to find parameter to buy and sell"
   ]
  },
  {
   "cell_type": "code",
   "execution_count": 25,
   "metadata": {},
   "outputs": [],
   "source": [
    "def check(n=1):\n",
    "    \n",
    "    metricas=['open','close','high','low','volume']\n",
    "    diffs=[]\n",
    "    \n",
    "    for i in tqdm(range(n)):\n",
    "        preds=predictor(data,i) #Getting the preductions of day i\n",
    "        \n",
    "        for c in range(10):\n",
    "            for m in metricas:\n",
    "                real=data[c][len(data[c])-i-1:len(data[c])-i].iloc[0][m]\n",
    "                pred=(preds.iloc[c][m]).round(2)\n",
    "                error=1-pred/real\n",
    "                diffs.append([c,m,error.round(2),real,pred])\n",
    "    return pd.DataFrame(diffs)"
   ]
  },
  {
   "cell_type": "code",
   "execution_count": 26,
   "metadata": {},
   "outputs": [
    {
     "data": {
      "application/vnd.jupyter.widget-view+json": {
       "model_id": "efc6797e72ec428f817b5cb990c08711",
       "version_major": 2,
       "version_minor": 0
      },
      "text/plain": [
       "HBox(children=(FloatProgress(value=0.0, max=62.0), HTML(value='')))"
      ]
     },
     "metadata": {},
     "output_type": "display_data"
    },
    {
     "data": {
      "application/vnd.jupyter.widget-view+json": {
       "model_id": "4b1e974d03064bf2a33b8e74086c5f21",
       "version_major": 2,
       "version_minor": 0
      },
      "text/plain": [
       "HBox(children=(FloatProgress(value=0.0, max=10.0), HTML(value='')))"
      ]
     },
     "metadata": {},
     "output_type": "display_data"
    },
    {
     "name": "stdout",
     "output_type": "stream",
     "text": [
      "\n"
     ]
    },
    {
     "data": {
      "application/vnd.jupyter.widget-view+json": {
       "model_id": "c44afe1ffca84d77bb3fee1a316684bb",
       "version_major": 2,
       "version_minor": 0
      },
      "text/plain": [
       "HBox(children=(FloatProgress(value=0.0, max=10.0), HTML(value='')))"
      ]
     },
     "metadata": {},
     "output_type": "display_data"
    },
    {
     "name": "stdout",
     "output_type": "stream",
     "text": [
      "\n"
     ]
    },
    {
     "data": {
      "application/vnd.jupyter.widget-view+json": {
       "model_id": "56e187b191174184a4591c331f5a6eb8",
       "version_major": 2,
       "version_minor": 0
      },
      "text/plain": [
       "HBox(children=(FloatProgress(value=0.0, max=10.0), HTML(value='')))"
      ]
     },
     "metadata": {},
     "output_type": "display_data"
    },
    {
     "name": "stdout",
     "output_type": "stream",
     "text": [
      "\n"
     ]
    },
    {
     "data": {
      "application/vnd.jupyter.widget-view+json": {
       "model_id": "47c8a1c95fd842ae8c4b7100a9f655b8",
       "version_major": 2,
       "version_minor": 0
      },
      "text/plain": [
       "HBox(children=(FloatProgress(value=0.0, max=10.0), HTML(value='')))"
      ]
     },
     "metadata": {},
     "output_type": "display_data"
    },
    {
     "name": "stdout",
     "output_type": "stream",
     "text": [
      "\n"
     ]
    },
    {
     "data": {
      "application/vnd.jupyter.widget-view+json": {
       "model_id": "aecbb223642246d38802fc99b3af6d96",
       "version_major": 2,
       "version_minor": 0
      },
      "text/plain": [
       "HBox(children=(FloatProgress(value=0.0, max=10.0), HTML(value='')))"
      ]
     },
     "metadata": {},
     "output_type": "display_data"
    },
    {
     "name": "stdout",
     "output_type": "stream",
     "text": [
      "\n"
     ]
    },
    {
     "data": {
      "application/vnd.jupyter.widget-view+json": {
       "model_id": "460e59d286334943b2746dfd1e0fded6",
       "version_major": 2,
       "version_minor": 0
      },
      "text/plain": [
       "HBox(children=(FloatProgress(value=0.0, max=10.0), HTML(value='')))"
      ]
     },
     "metadata": {},
     "output_type": "display_data"
    },
    {
     "name": "stdout",
     "output_type": "stream",
     "text": [
      "\n"
     ]
    },
    {
     "data": {
      "application/vnd.jupyter.widget-view+json": {
       "model_id": "3e8a92fe291c4c60bf41f62cfb59f59d",
       "version_major": 2,
       "version_minor": 0
      },
      "text/plain": [
       "HBox(children=(FloatProgress(value=0.0, max=10.0), HTML(value='')))"
      ]
     },
     "metadata": {},
     "output_type": "display_data"
    },
    {
     "name": "stdout",
     "output_type": "stream",
     "text": [
      "\n"
     ]
    },
    {
     "data": {
      "application/vnd.jupyter.widget-view+json": {
       "model_id": "a6b64c872e484f67bf6c993ea375e807",
       "version_major": 2,
       "version_minor": 0
      },
      "text/plain": [
       "HBox(children=(FloatProgress(value=0.0, max=10.0), HTML(value='')))"
      ]
     },
     "metadata": {},
     "output_type": "display_data"
    },
    {
     "name": "stdout",
     "output_type": "stream",
     "text": [
      "\n"
     ]
    },
    {
     "data": {
      "application/vnd.jupyter.widget-view+json": {
       "model_id": "e97e31f544d34b27a52034cd72939c24",
       "version_major": 2,
       "version_minor": 0
      },
      "text/plain": [
       "HBox(children=(FloatProgress(value=0.0, max=10.0), HTML(value='')))"
      ]
     },
     "metadata": {},
     "output_type": "display_data"
    },
    {
     "name": "stdout",
     "output_type": "stream",
     "text": [
      "\n"
     ]
    },
    {
     "data": {
      "application/vnd.jupyter.widget-view+json": {
       "model_id": "dc20f87adaa84af9830bd08609cf56dd",
       "version_major": 2,
       "version_minor": 0
      },
      "text/plain": [
       "HBox(children=(FloatProgress(value=0.0, max=10.0), HTML(value='')))"
      ]
     },
     "metadata": {},
     "output_type": "display_data"
    },
    {
     "name": "stdout",
     "output_type": "stream",
     "text": [
      "\n"
     ]
    },
    {
     "data": {
      "application/vnd.jupyter.widget-view+json": {
       "model_id": "e3aa32d3e6ba4ec3ac90d149590ba8d0",
       "version_major": 2,
       "version_minor": 0
      },
      "text/plain": [
       "HBox(children=(FloatProgress(value=0.0, max=10.0), HTML(value='')))"
      ]
     },
     "metadata": {},
     "output_type": "display_data"
    },
    {
     "name": "stdout",
     "output_type": "stream",
     "text": [
      "\n"
     ]
    },
    {
     "data": {
      "application/vnd.jupyter.widget-view+json": {
       "model_id": "145e14bd569b42c3a34dec086ff9914b",
       "version_major": 2,
       "version_minor": 0
      },
      "text/plain": [
       "HBox(children=(FloatProgress(value=0.0, max=10.0), HTML(value='')))"
      ]
     },
     "metadata": {},
     "output_type": "display_data"
    },
    {
     "name": "stdout",
     "output_type": "stream",
     "text": [
      "\n"
     ]
    },
    {
     "data": {
      "application/vnd.jupyter.widget-view+json": {
       "model_id": "0d60e5bf868c4643a3f58dde360a2f78",
       "version_major": 2,
       "version_minor": 0
      },
      "text/plain": [
       "HBox(children=(FloatProgress(value=0.0, max=10.0), HTML(value='')))"
      ]
     },
     "metadata": {},
     "output_type": "display_data"
    },
    {
     "name": "stdout",
     "output_type": "stream",
     "text": [
      "\n"
     ]
    },
    {
     "data": {
      "application/vnd.jupyter.widget-view+json": {
       "model_id": "958db84afd2f4d9aadc4dbd1c62168ef",
       "version_major": 2,
       "version_minor": 0
      },
      "text/plain": [
       "HBox(children=(FloatProgress(value=0.0, max=10.0), HTML(value='')))"
      ]
     },
     "metadata": {},
     "output_type": "display_data"
    },
    {
     "name": "stdout",
     "output_type": "stream",
     "text": [
      "\n"
     ]
    },
    {
     "data": {
      "application/vnd.jupyter.widget-view+json": {
       "model_id": "24fdc123a1d747bdbf676ad8d1a0dda8",
       "version_major": 2,
       "version_minor": 0
      },
      "text/plain": [
       "HBox(children=(FloatProgress(value=0.0, max=10.0), HTML(value='')))"
      ]
     },
     "metadata": {},
     "output_type": "display_data"
    },
    {
     "name": "stdout",
     "output_type": "stream",
     "text": [
      "\n"
     ]
    },
    {
     "data": {
      "application/vnd.jupyter.widget-view+json": {
       "model_id": "bcfdc4bf89524c9c87f88064db462e5d",
       "version_major": 2,
       "version_minor": 0
      },
      "text/plain": [
       "HBox(children=(FloatProgress(value=0.0, max=10.0), HTML(value='')))"
      ]
     },
     "metadata": {},
     "output_type": "display_data"
    },
    {
     "name": "stdout",
     "output_type": "stream",
     "text": [
      "\n"
     ]
    },
    {
     "data": {
      "application/vnd.jupyter.widget-view+json": {
       "model_id": "d5b89be54aa04807a3e9dada21f49ebc",
       "version_major": 2,
       "version_minor": 0
      },
      "text/plain": [
       "HBox(children=(FloatProgress(value=0.0, max=10.0), HTML(value='')))"
      ]
     },
     "metadata": {},
     "output_type": "display_data"
    },
    {
     "name": "stdout",
     "output_type": "stream",
     "text": [
      "\n"
     ]
    },
    {
     "data": {
      "application/vnd.jupyter.widget-view+json": {
       "model_id": "1e5436c245c14265ad647072f13865c8",
       "version_major": 2,
       "version_minor": 0
      },
      "text/plain": [
       "HBox(children=(FloatProgress(value=0.0, max=10.0), HTML(value='')))"
      ]
     },
     "metadata": {},
     "output_type": "display_data"
    },
    {
     "name": "stdout",
     "output_type": "stream",
     "text": [
      "\n"
     ]
    },
    {
     "data": {
      "application/vnd.jupyter.widget-view+json": {
       "model_id": "d000a296f89c4051b7ec4e12c9dcb968",
       "version_major": 2,
       "version_minor": 0
      },
      "text/plain": [
       "HBox(children=(FloatProgress(value=0.0, max=10.0), HTML(value='')))"
      ]
     },
     "metadata": {},
     "output_type": "display_data"
    },
    {
     "name": "stdout",
     "output_type": "stream",
     "text": [
      "\n"
     ]
    },
    {
     "data": {
      "application/vnd.jupyter.widget-view+json": {
       "model_id": "a47d029a43e7401693c69b42e526e3e2",
       "version_major": 2,
       "version_minor": 0
      },
      "text/plain": [
       "HBox(children=(FloatProgress(value=0.0, max=10.0), HTML(value='')))"
      ]
     },
     "metadata": {},
     "output_type": "display_data"
    },
    {
     "name": "stdout",
     "output_type": "stream",
     "text": [
      "\n"
     ]
    },
    {
     "data": {
      "application/vnd.jupyter.widget-view+json": {
       "model_id": "f1c2dc0a48d6442283f7a5199c5d44fa",
       "version_major": 2,
       "version_minor": 0
      },
      "text/plain": [
       "HBox(children=(FloatProgress(value=0.0, max=10.0), HTML(value='')))"
      ]
     },
     "metadata": {},
     "output_type": "display_data"
    },
    {
     "name": "stdout",
     "output_type": "stream",
     "text": [
      "\n"
     ]
    },
    {
     "data": {
      "application/vnd.jupyter.widget-view+json": {
       "model_id": "b39e5df99b3b43148f2e7a175e917c4a",
       "version_major": 2,
       "version_minor": 0
      },
      "text/plain": [
       "HBox(children=(FloatProgress(value=0.0, max=10.0), HTML(value='')))"
      ]
     },
     "metadata": {},
     "output_type": "display_data"
    },
    {
     "name": "stdout",
     "output_type": "stream",
     "text": [
      "\n"
     ]
    },
    {
     "data": {
      "application/vnd.jupyter.widget-view+json": {
       "model_id": "97bb01e87f2d42beb5aff25a2f8e02da",
       "version_major": 2,
       "version_minor": 0
      },
      "text/plain": [
       "HBox(children=(FloatProgress(value=0.0, max=10.0), HTML(value='')))"
      ]
     },
     "metadata": {},
     "output_type": "display_data"
    },
    {
     "name": "stdout",
     "output_type": "stream",
     "text": [
      "\n"
     ]
    },
    {
     "data": {
      "application/vnd.jupyter.widget-view+json": {
       "model_id": "be724bf616c94830aeeedbc5a05e0afb",
       "version_major": 2,
       "version_minor": 0
      },
      "text/plain": [
       "HBox(children=(FloatProgress(value=0.0, max=10.0), HTML(value='')))"
      ]
     },
     "metadata": {},
     "output_type": "display_data"
    },
    {
     "name": "stdout",
     "output_type": "stream",
     "text": [
      "\n"
     ]
    },
    {
     "data": {
      "application/vnd.jupyter.widget-view+json": {
       "model_id": "03ef1a3b184b425ea087c540e0568d3a",
       "version_major": 2,
       "version_minor": 0
      },
      "text/plain": [
       "HBox(children=(FloatProgress(value=0.0, max=10.0), HTML(value='')))"
      ]
     },
     "metadata": {},
     "output_type": "display_data"
    },
    {
     "name": "stdout",
     "output_type": "stream",
     "text": [
      "\n"
     ]
    },
    {
     "data": {
      "application/vnd.jupyter.widget-view+json": {
       "model_id": "d09f020bdd3e43c2a317cfddc071b43d",
       "version_major": 2,
       "version_minor": 0
      },
      "text/plain": [
       "HBox(children=(FloatProgress(value=0.0, max=10.0), HTML(value='')))"
      ]
     },
     "metadata": {},
     "output_type": "display_data"
    },
    {
     "name": "stdout",
     "output_type": "stream",
     "text": [
      "\n"
     ]
    },
    {
     "data": {
      "application/vnd.jupyter.widget-view+json": {
       "model_id": "e202c64c83f344b8b6d7f19a7647ac15",
       "version_major": 2,
       "version_minor": 0
      },
      "text/plain": [
       "HBox(children=(FloatProgress(value=0.0, max=10.0), HTML(value='')))"
      ]
     },
     "metadata": {},
     "output_type": "display_data"
    },
    {
     "name": "stdout",
     "output_type": "stream",
     "text": [
      "\n"
     ]
    },
    {
     "data": {
      "application/vnd.jupyter.widget-view+json": {
       "model_id": "938c22e13aad479cba883e00b7d2ce75",
       "version_major": 2,
       "version_minor": 0
      },
      "text/plain": [
       "HBox(children=(FloatProgress(value=0.0, max=10.0), HTML(value='')))"
      ]
     },
     "metadata": {},
     "output_type": "display_data"
    },
    {
     "name": "stdout",
     "output_type": "stream",
     "text": [
      "\n"
     ]
    },
    {
     "data": {
      "application/vnd.jupyter.widget-view+json": {
       "model_id": "28edc26d01cb44c8aee3812971e1d1d6",
       "version_major": 2,
       "version_minor": 0
      },
      "text/plain": [
       "HBox(children=(FloatProgress(value=0.0, max=10.0), HTML(value='')))"
      ]
     },
     "metadata": {},
     "output_type": "display_data"
    },
    {
     "name": "stdout",
     "output_type": "stream",
     "text": [
      "\n"
     ]
    },
    {
     "data": {
      "application/vnd.jupyter.widget-view+json": {
       "model_id": "c045e3b1ecd94efab2628daabdecfd12",
       "version_major": 2,
       "version_minor": 0
      },
      "text/plain": [
       "HBox(children=(FloatProgress(value=0.0, max=10.0), HTML(value='')))"
      ]
     },
     "metadata": {},
     "output_type": "display_data"
    },
    {
     "name": "stdout",
     "output_type": "stream",
     "text": [
      "\n"
     ]
    },
    {
     "data": {
      "application/vnd.jupyter.widget-view+json": {
       "model_id": "e50c026fa99e4e5ebd008be0b3d1e6ed",
       "version_major": 2,
       "version_minor": 0
      },
      "text/plain": [
       "HBox(children=(FloatProgress(value=0.0, max=10.0), HTML(value='')))"
      ]
     },
     "metadata": {},
     "output_type": "display_data"
    },
    {
     "name": "stdout",
     "output_type": "stream",
     "text": [
      "\n"
     ]
    },
    {
     "data": {
      "application/vnd.jupyter.widget-view+json": {
       "model_id": "14668f20d2904c96a38f815e6c36b6ce",
       "version_major": 2,
       "version_minor": 0
      },
      "text/plain": [
       "HBox(children=(FloatProgress(value=0.0, max=10.0), HTML(value='')))"
      ]
     },
     "metadata": {},
     "output_type": "display_data"
    },
    {
     "name": "stdout",
     "output_type": "stream",
     "text": [
      "\n"
     ]
    },
    {
     "data": {
      "application/vnd.jupyter.widget-view+json": {
       "model_id": "4081b6bc0a54470db60d2225537c9f56",
       "version_major": 2,
       "version_minor": 0
      },
      "text/plain": [
       "HBox(children=(FloatProgress(value=0.0, max=10.0), HTML(value='')))"
      ]
     },
     "metadata": {},
     "output_type": "display_data"
    },
    {
     "name": "stdout",
     "output_type": "stream",
     "text": [
      "\n"
     ]
    },
    {
     "data": {
      "application/vnd.jupyter.widget-view+json": {
       "model_id": "6fe28b46d2154f74a6857f65f712792f",
       "version_major": 2,
       "version_minor": 0
      },
      "text/plain": [
       "HBox(children=(FloatProgress(value=0.0, max=10.0), HTML(value='')))"
      ]
     },
     "metadata": {},
     "output_type": "display_data"
    },
    {
     "name": "stdout",
     "output_type": "stream",
     "text": [
      "\n"
     ]
    },
    {
     "data": {
      "application/vnd.jupyter.widget-view+json": {
       "model_id": "3e1ef05f5e3542af998bd8215f038712",
       "version_major": 2,
       "version_minor": 0
      },
      "text/plain": [
       "HBox(children=(FloatProgress(value=0.0, max=10.0), HTML(value='')))"
      ]
     },
     "metadata": {},
     "output_type": "display_data"
    },
    {
     "name": "stdout",
     "output_type": "stream",
     "text": [
      "\n"
     ]
    },
    {
     "data": {
      "application/vnd.jupyter.widget-view+json": {
       "model_id": "9125efd51c504b5db1d67ad1d372f80f",
       "version_major": 2,
       "version_minor": 0
      },
      "text/plain": [
       "HBox(children=(FloatProgress(value=0.0, max=10.0), HTML(value='')))"
      ]
     },
     "metadata": {},
     "output_type": "display_data"
    },
    {
     "name": "stdout",
     "output_type": "stream",
     "text": [
      "\n"
     ]
    },
    {
     "data": {
      "application/vnd.jupyter.widget-view+json": {
       "model_id": "45d648ba6d344633b5a13461954975fe",
       "version_major": 2,
       "version_minor": 0
      },
      "text/plain": [
       "HBox(children=(FloatProgress(value=0.0, max=10.0), HTML(value='')))"
      ]
     },
     "metadata": {},
     "output_type": "display_data"
    },
    {
     "name": "stdout",
     "output_type": "stream",
     "text": [
      "\n"
     ]
    },
    {
     "data": {
      "application/vnd.jupyter.widget-view+json": {
       "model_id": "d2f3b45ec9fd487183fc185c1cf8733b",
       "version_major": 2,
       "version_minor": 0
      },
      "text/plain": [
       "HBox(children=(FloatProgress(value=0.0, max=10.0), HTML(value='')))"
      ]
     },
     "metadata": {},
     "output_type": "display_data"
    },
    {
     "name": "stdout",
     "output_type": "stream",
     "text": [
      "\n"
     ]
    },
    {
     "data": {
      "application/vnd.jupyter.widget-view+json": {
       "model_id": "ab949fb54f8a4e3fa7593706a2fd8bd8",
       "version_major": 2,
       "version_minor": 0
      },
      "text/plain": [
       "HBox(children=(FloatProgress(value=0.0, max=10.0), HTML(value='')))"
      ]
     },
     "metadata": {},
     "output_type": "display_data"
    },
    {
     "name": "stdout",
     "output_type": "stream",
     "text": [
      "\n"
     ]
    },
    {
     "data": {
      "application/vnd.jupyter.widget-view+json": {
       "model_id": "e9c0f3118c1a4ead94a5d954e3227357",
       "version_major": 2,
       "version_minor": 0
      },
      "text/plain": [
       "HBox(children=(FloatProgress(value=0.0, max=10.0), HTML(value='')))"
      ]
     },
     "metadata": {},
     "output_type": "display_data"
    },
    {
     "name": "stdout",
     "output_type": "stream",
     "text": [
      "\n"
     ]
    },
    {
     "data": {
      "application/vnd.jupyter.widget-view+json": {
       "model_id": "6b76f6d196314e1b94335ecf7cd6284e",
       "version_major": 2,
       "version_minor": 0
      },
      "text/plain": [
       "HBox(children=(FloatProgress(value=0.0, max=10.0), HTML(value='')))"
      ]
     },
     "metadata": {},
     "output_type": "display_data"
    },
    {
     "name": "stdout",
     "output_type": "stream",
     "text": [
      "\n"
     ]
    },
    {
     "data": {
      "application/vnd.jupyter.widget-view+json": {
       "model_id": "bafdb0f5b72b4e7a9b8056f3eadf626b",
       "version_major": 2,
       "version_minor": 0
      },
      "text/plain": [
       "HBox(children=(FloatProgress(value=0.0, max=10.0), HTML(value='')))"
      ]
     },
     "metadata": {},
     "output_type": "display_data"
    },
    {
     "name": "stdout",
     "output_type": "stream",
     "text": [
      "\n"
     ]
    },
    {
     "data": {
      "application/vnd.jupyter.widget-view+json": {
       "model_id": "e3848a0abe7a48409cbb44588bd12932",
       "version_major": 2,
       "version_minor": 0
      },
      "text/plain": [
       "HBox(children=(FloatProgress(value=0.0, max=10.0), HTML(value='')))"
      ]
     },
     "metadata": {},
     "output_type": "display_data"
    },
    {
     "name": "stdout",
     "output_type": "stream",
     "text": [
      "\n"
     ]
    },
    {
     "data": {
      "application/vnd.jupyter.widget-view+json": {
       "model_id": "88aea1083cca4aa48f8336238fc94408",
       "version_major": 2,
       "version_minor": 0
      },
      "text/plain": [
       "HBox(children=(FloatProgress(value=0.0, max=10.0), HTML(value='')))"
      ]
     },
     "metadata": {},
     "output_type": "display_data"
    },
    {
     "name": "stdout",
     "output_type": "stream",
     "text": [
      "\n"
     ]
    },
    {
     "data": {
      "application/vnd.jupyter.widget-view+json": {
       "model_id": "16638eff32534f9fb5a94ffac7a2c03d",
       "version_major": 2,
       "version_minor": 0
      },
      "text/plain": [
       "HBox(children=(FloatProgress(value=0.0, max=10.0), HTML(value='')))"
      ]
     },
     "metadata": {},
     "output_type": "display_data"
    },
    {
     "name": "stdout",
     "output_type": "stream",
     "text": [
      "\n"
     ]
    },
    {
     "data": {
      "application/vnd.jupyter.widget-view+json": {
       "model_id": "6780abf2c65a42d3a890109ae330e523",
       "version_major": 2,
       "version_minor": 0
      },
      "text/plain": [
       "HBox(children=(FloatProgress(value=0.0, max=10.0), HTML(value='')))"
      ]
     },
     "metadata": {},
     "output_type": "display_data"
    },
    {
     "name": "stdout",
     "output_type": "stream",
     "text": [
      "\n"
     ]
    },
    {
     "data": {
      "application/vnd.jupyter.widget-view+json": {
       "model_id": "5f0d01f5ae7d48bf9a7687435d7e7ad6",
       "version_major": 2,
       "version_minor": 0
      },
      "text/plain": [
       "HBox(children=(FloatProgress(value=0.0, max=10.0), HTML(value='')))"
      ]
     },
     "metadata": {},
     "output_type": "display_data"
    },
    {
     "name": "stdout",
     "output_type": "stream",
     "text": [
      "\n"
     ]
    },
    {
     "data": {
      "application/vnd.jupyter.widget-view+json": {
       "model_id": "fe8526a412e343b0bc8150f4ef75a552",
       "version_major": 2,
       "version_minor": 0
      },
      "text/plain": [
       "HBox(children=(FloatProgress(value=0.0, max=10.0), HTML(value='')))"
      ]
     },
     "metadata": {},
     "output_type": "display_data"
    },
    {
     "name": "stdout",
     "output_type": "stream",
     "text": [
      "\n"
     ]
    },
    {
     "data": {
      "application/vnd.jupyter.widget-view+json": {
       "model_id": "3b99a72957cb4df9a28be60a54131306",
       "version_major": 2,
       "version_minor": 0
      },
      "text/plain": [
       "HBox(children=(FloatProgress(value=0.0, max=10.0), HTML(value='')))"
      ]
     },
     "metadata": {},
     "output_type": "display_data"
    },
    {
     "name": "stdout",
     "output_type": "stream",
     "text": [
      "\n"
     ]
    },
    {
     "data": {
      "application/vnd.jupyter.widget-view+json": {
       "model_id": "19a2eefb27ef48d6a9ebb01de4829089",
       "version_major": 2,
       "version_minor": 0
      },
      "text/plain": [
       "HBox(children=(FloatProgress(value=0.0, max=10.0), HTML(value='')))"
      ]
     },
     "metadata": {},
     "output_type": "display_data"
    },
    {
     "name": "stdout",
     "output_type": "stream",
     "text": [
      "\n"
     ]
    },
    {
     "data": {
      "application/vnd.jupyter.widget-view+json": {
       "model_id": "092a3183622f4849889b924afb464df3",
       "version_major": 2,
       "version_minor": 0
      },
      "text/plain": [
       "HBox(children=(FloatProgress(value=0.0, max=10.0), HTML(value='')))"
      ]
     },
     "metadata": {},
     "output_type": "display_data"
    },
    {
     "name": "stdout",
     "output_type": "stream",
     "text": [
      "\n"
     ]
    },
    {
     "data": {
      "application/vnd.jupyter.widget-view+json": {
       "model_id": "8f1deeae1e894ba0a65e3a16eb67a33c",
       "version_major": 2,
       "version_minor": 0
      },
      "text/plain": [
       "HBox(children=(FloatProgress(value=0.0, max=10.0), HTML(value='')))"
      ]
     },
     "metadata": {},
     "output_type": "display_data"
    },
    {
     "name": "stdout",
     "output_type": "stream",
     "text": [
      "\n"
     ]
    },
    {
     "data": {
      "application/vnd.jupyter.widget-view+json": {
       "model_id": "3cf3107ecc5d403f9b6e639956870aad",
       "version_major": 2,
       "version_minor": 0
      },
      "text/plain": [
       "HBox(children=(FloatProgress(value=0.0, max=10.0), HTML(value='')))"
      ]
     },
     "metadata": {},
     "output_type": "display_data"
    },
    {
     "name": "stdout",
     "output_type": "stream",
     "text": [
      "\n"
     ]
    },
    {
     "data": {
      "application/vnd.jupyter.widget-view+json": {
       "model_id": "d80f62d2bdce4cabbbd03558643d0078",
       "version_major": 2,
       "version_minor": 0
      },
      "text/plain": [
       "HBox(children=(FloatProgress(value=0.0, max=10.0), HTML(value='')))"
      ]
     },
     "metadata": {},
     "output_type": "display_data"
    },
    {
     "name": "stdout",
     "output_type": "stream",
     "text": [
      "\n"
     ]
    },
    {
     "data": {
      "application/vnd.jupyter.widget-view+json": {
       "model_id": "0c5d6cb9efe142a2898f1a5e37b33571",
       "version_major": 2,
       "version_minor": 0
      },
      "text/plain": [
       "HBox(children=(FloatProgress(value=0.0, max=10.0), HTML(value='')))"
      ]
     },
     "metadata": {},
     "output_type": "display_data"
    },
    {
     "name": "stdout",
     "output_type": "stream",
     "text": [
      "\n"
     ]
    },
    {
     "data": {
      "application/vnd.jupyter.widget-view+json": {
       "model_id": "1d24e735b73548f5a8207bd9200ccefa",
       "version_major": 2,
       "version_minor": 0
      },
      "text/plain": [
       "HBox(children=(FloatProgress(value=0.0, max=10.0), HTML(value='')))"
      ]
     },
     "metadata": {},
     "output_type": "display_data"
    },
    {
     "name": "stdout",
     "output_type": "stream",
     "text": [
      "\n"
     ]
    },
    {
     "data": {
      "application/vnd.jupyter.widget-view+json": {
       "model_id": "a1ba3712cd564a74803f457c26c3a676",
       "version_major": 2,
       "version_minor": 0
      },
      "text/plain": [
       "HBox(children=(FloatProgress(value=0.0, max=10.0), HTML(value='')))"
      ]
     },
     "metadata": {},
     "output_type": "display_data"
    },
    {
     "name": "stdout",
     "output_type": "stream",
     "text": [
      "\n"
     ]
    },
    {
     "data": {
      "application/vnd.jupyter.widget-view+json": {
       "model_id": "173a368073d24769bbba92fa7b7315ac",
       "version_major": 2,
       "version_minor": 0
      },
      "text/plain": [
       "HBox(children=(FloatProgress(value=0.0, max=10.0), HTML(value='')))"
      ]
     },
     "metadata": {},
     "output_type": "display_data"
    },
    {
     "name": "stdout",
     "output_type": "stream",
     "text": [
      "\n"
     ]
    },
    {
     "data": {
      "application/vnd.jupyter.widget-view+json": {
       "model_id": "c974142f45a9449ab02b31992c909aa2",
       "version_major": 2,
       "version_minor": 0
      },
      "text/plain": [
       "HBox(children=(FloatProgress(value=0.0, max=10.0), HTML(value='')))"
      ]
     },
     "metadata": {},
     "output_type": "display_data"
    },
    {
     "name": "stdout",
     "output_type": "stream",
     "text": [
      "\n"
     ]
    },
    {
     "data": {
      "application/vnd.jupyter.widget-view+json": {
       "model_id": "eedd953864f54e6b80e77b6322f43500",
       "version_major": 2,
       "version_minor": 0
      },
      "text/plain": [
       "HBox(children=(FloatProgress(value=0.0, max=10.0), HTML(value='')))"
      ]
     },
     "metadata": {},
     "output_type": "display_data"
    },
    {
     "name": "stdout",
     "output_type": "stream",
     "text": [
      "\n"
     ]
    },
    {
     "data": {
      "application/vnd.jupyter.widget-view+json": {
       "model_id": "83ab13947d40497e92c7221e6075e762",
       "version_major": 2,
       "version_minor": 0
      },
      "text/plain": [
       "HBox(children=(FloatProgress(value=0.0, max=10.0), HTML(value='')))"
      ]
     },
     "metadata": {},
     "output_type": "display_data"
    },
    {
     "name": "stdout",
     "output_type": "stream",
     "text": [
      "\n"
     ]
    },
    {
     "data": {
      "application/vnd.jupyter.widget-view+json": {
       "model_id": "98b23ab83e4a4502913e1c2f1bd6e7d7",
       "version_major": 2,
       "version_minor": 0
      },
      "text/plain": [
       "HBox(children=(FloatProgress(value=0.0, max=10.0), HTML(value='')))"
      ]
     },
     "metadata": {},
     "output_type": "display_data"
    },
    {
     "name": "stdout",
     "output_type": "stream",
     "text": [
      "\n",
      "\n"
     ]
    }
   ],
   "source": [
    "z=check(62)"
   ]
  },
  {
   "cell_type": "markdown",
   "metadata": {},
   "source": [
    "All but volume has less than 2% of error in the prediction. Error in volume is huge"
   ]
  },
  {
   "cell_type": "code",
   "execution_count": 12,
   "metadata": {},
   "outputs": [
    {
     "name": "stdout",
     "output_type": "stream",
     "text": [
      "btc in open -2.0\n",
      "btc in close -6.0\n",
      "btc in high -4.0\n",
      "btc in low -5.0\n",
      "btc in volume -866.0\n",
      "eth in open -2.0\n",
      "eth in close -9.0\n",
      "eth in high -4.0\n",
      "eth in low -7.000000000000001\n",
      "eth in volume -1023.0\n",
      "xrp in open -2.0\n",
      "xrp in close -8.0\n",
      "xrp in high -6.0\n",
      "xrp in low -7.000000000000001\n",
      "xrp in volume -756.0\n",
      "ltc in open -2.0\n",
      "ltc in close -10.0\n",
      "ltc in high -6.0\n",
      "ltc in low -11.0\n",
      "ltc in volume -236.0\n",
      "bch in open -2.0\n",
      "bch in close -10.0\n",
      "bch in high -9.0\n",
      "bch in low -13.0\n",
      "bch in volume -4753.0\n",
      "tusd in open -3.0\n",
      "tusd in close -3.0\n",
      "tusd in high -4.0\n",
      "tusd in low -2.0\n",
      "tusd in volume -365.0\n",
      "mana in open -4.0\n",
      "mana in close -10.0\n",
      "mana in high -11.0\n",
      "mana in low -6.0\n",
      "mana in volume -933.0\n",
      "gnt in open -3.0\n",
      "gnt in close -9.0\n",
      "gnt in high -28.000000000000004\n",
      "gnt in low -8.0\n",
      "gnt in volume -960.0\n"
     ]
    },
    {
     "ename": "AttributeError",
     "evalue": "'float' object has no attribute 'round'",
     "output_type": "error",
     "traceback": [
      "\u001b[0;31m---------------------------------------------------------------------------\u001b[0m",
      "\u001b[0;31mAttributeError\u001b[0m                            Traceback (most recent call last)",
      "\u001b[0;32m<ipython-input-12-07fa150743e4>\u001b[0m in \u001b[0;36m<module>\u001b[0;34m\u001b[0m\n\u001b[1;32m      3\u001b[0m \u001b[0;32mfor\u001b[0m \u001b[0mi\u001b[0m\u001b[0;34m,\u001b[0m\u001b[0me\u001b[0m \u001b[0;32min\u001b[0m \u001b[0menumerate\u001b[0m\u001b[0;34m(\u001b[0m\u001b[0mcoins\u001b[0m\u001b[0;34m)\u001b[0m\u001b[0;34m:\u001b[0m\u001b[0;34m\u001b[0m\u001b[0;34m\u001b[0m\u001b[0m\n\u001b[1;32m      4\u001b[0m     \u001b[0;32mfor\u001b[0m \u001b[0mm\u001b[0m \u001b[0;32min\u001b[0m \u001b[0mmetricas\u001b[0m\u001b[0;34m:\u001b[0m\u001b[0;34m\u001b[0m\u001b[0;34m\u001b[0m\u001b[0m\n\u001b[0;32m----> 5\u001b[0;31m         \u001b[0mprint\u001b[0m\u001b[0;34m(\u001b[0m\u001b[0me\u001b[0m\u001b[0;34m,\u001b[0m\u001b[0;34m'in'\u001b[0m\u001b[0;34m,\u001b[0m\u001b[0mm\u001b[0m \u001b[0;34m,\u001b[0m\u001b[0mz\u001b[0m\u001b[0;34m[\u001b[0m\u001b[0;34m(\u001b[0m\u001b[0mz\u001b[0m\u001b[0;34m[\u001b[0m\u001b[0;36m0\u001b[0m\u001b[0;34m]\u001b[0m\u001b[0;34m==\u001b[0m\u001b[0mi\u001b[0m\u001b[0;34m)\u001b[0m \u001b[0;34m&\u001b[0m \u001b[0;34m(\u001b[0m\u001b[0mz\u001b[0m\u001b[0;34m[\u001b[0m\u001b[0;36m1\u001b[0m\u001b[0;34m]\u001b[0m\u001b[0;34m==\u001b[0m\u001b[0mm\u001b[0m\u001b[0;34m)\u001b[0m\u001b[0;34m]\u001b[0m\u001b[0;34m[\u001b[0m\u001b[0;36m2\u001b[0m\u001b[0;34m]\u001b[0m\u001b[0;34m.\u001b[0m\u001b[0mmin\u001b[0m\u001b[0;34m(\u001b[0m\u001b[0;34m)\u001b[0m\u001b[0;34m.\u001b[0m\u001b[0mround\u001b[0m\u001b[0;34m(\u001b[0m\u001b[0;36m2\u001b[0m\u001b[0;34m)\u001b[0m\u001b[0;34m*\u001b[0m\u001b[0;36m100\u001b[0m\u001b[0;34m)\u001b[0m\u001b[0;34m\u001b[0m\u001b[0;34m\u001b[0m\u001b[0m\n\u001b[0m",
      "\u001b[0;31mAttributeError\u001b[0m: 'float' object has no attribute 'round'"
     ]
    }
   ],
   "source": [
    "coins=['btc','eth','xrp','ltc','bch','tusd','mana','gnt','bat','dai']\n",
    "metricas=['open','close','high','low','volume']\n",
    "for i,e in enumerate(coins):\n",
    "    for m in metricas:\n",
    "        print(e,'in',m ,z[(z[0]==i) & (z[1]==m)][2].min().round(2)*100)"
   ]
  },
  {
   "cell_type": "code",
   "execution_count": 24,
   "metadata": {},
   "outputs": [
    {
     "data": {
      "text/html": [
       "<div>\n",
       "<style scoped>\n",
       "    .dataframe tbody tr th:only-of-type {\n",
       "        vertical-align: middle;\n",
       "    }\n",
       "\n",
       "    .dataframe tbody tr th {\n",
       "        vertical-align: top;\n",
       "    }\n",
       "\n",
       "    .dataframe thead th {\n",
       "        text-align: right;\n",
       "    }\n",
       "</style>\n",
       "<table border=\"1\" class=\"dataframe\">\n",
       "  <thead>\n",
       "    <tr style=\"text-align: right;\">\n",
       "      <th></th>\n",
       "      <th>0</th>\n",
       "      <th>1</th>\n",
       "      <th>2</th>\n",
       "      <th>3</th>\n",
       "      <th>4</th>\n",
       "    </tr>\n",
       "  </thead>\n",
       "  <tbody>\n",
       "  </tbody>\n",
       "</table>\n",
       "</div>"
      ],
      "text/plain": [
       "Empty DataFrame\n",
       "Columns: [0, 1, 2, 3, 4]\n",
       "Index: []"
      ]
     },
     "execution_count": 24,
     "metadata": {},
     "output_type": "execute_result"
    }
   ],
   "source": [
    "z[(z[0]==9) & (z[1]=='open')]"
   ]
  },
  {
   "cell_type": "code",
   "execution_count": null,
   "metadata": {},
   "outputs": [],
   "source": [
    "z"
   ]
  },
  {
   "cell_type": "code",
   "execution_count": 20,
   "metadata": {},
   "outputs": [
    {
     "name": "stdout",
     "output_type": "stream",
     "text": [
      "<class 'pandas.core.frame.DataFrame'>\n",
      "RangeIndex: 102 entries, 0 to 101\n",
      "Columns: 108 entries, date to yesterday_volume_13\n",
      "dtypes: datetime64[ns](1), float64(100), uint8(7)\n",
      "memory usage: 81.3 KB\n"
     ]
    }
   ],
   "source": [
    "data[9].info()"
   ]
  },
  {
   "cell_type": "markdown",
   "metadata": {},
   "source": [
    "# Algorthms Intraday Trading"
   ]
  },
  {
   "cell_type": "code",
   "execution_count": null,
   "metadata": {},
   "outputs": [],
   "source": []
  },
  {
   "cell_type": "code",
   "execution_count": null,
   "metadata": {},
   "outputs": [],
   "source": []
  },
  {
   "cell_type": "code",
   "execution_count": null,
   "metadata": {},
   "outputs": [],
   "source": []
  },
  {
   "cell_type": "markdown",
   "metadata": {},
   "source": [
    "# Graphic"
   ]
  },
  {
   "cell_type": "code",
   "execution_count": null,
   "metadata": {},
   "outputs": [],
   "source": [
    "#Graphic with Candle Sticks\n",
    "i=0\n",
    "fig=go.Figure(data=[go.Candlestick(x=data[i].date,\n",
    "                                   open=data[i].open,\n",
    "                                   high=data[i].high,\n",
    "                                   low=data[i].low,\n",
    "                                   close=data[i].close\n",
    "                                  )\n",
    "                   ]\n",
    "             )\n",
    "fig.show()"
   ]
  },
  {
   "cell_type": "code",
   "execution_count": null,
   "metadata": {},
   "outputs": [],
   "source": []
  }
 ],
 "metadata": {
  "kernelspec": {
   "display_name": "Python 3",
   "language": "python",
   "name": "python3"
  },
  "language_info": {
   "codemirror_mode": {
    "name": "ipython",
    "version": 3
   },
   "file_extension": ".py",
   "mimetype": "text/x-python",
   "name": "python",
   "nbconvert_exporter": "python",
   "pygments_lexer": "ipython3",
   "version": "3.7.7"
  }
 },
 "nbformat": 4,
 "nbformat_minor": 4
}
